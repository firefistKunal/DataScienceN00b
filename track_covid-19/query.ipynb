{
 "nbformat": 4,
 "nbformat_minor": 2,
 "metadata": {
  "language_info": {
   "name": "python",
   "codemirror_mode": {
    "name": "ipython",
    "version": 3
   },
   "version": "3.7.6-final"
  },
  "orig_nbformat": 2,
  "file_extension": ".py",
  "mimetype": "text/x-python",
  "name": "python",
  "npconvert_exporter": "python",
  "pygments_lexer": "ipython3",
  "version": 3,
  "kernelspec": {
   "name": "python37664bitbaseconda928cd0fec5bc4944a88236afe26b1a8c",
   "display_name": "Python 3.7.6 64-bit ('base': conda)"
  }
 },
 "cells": [
  {
   "cell_type": "code",
   "execution_count": 2,
   "metadata": {},
   "outputs": [],
   "source": [
    "import pandas as pd\n",
    "import numpy as np"
   ]
  },
  {
   "cell_type": "code",
   "execution_count": 15,
   "metadata": {},
   "outputs": [
    {
     "data": {
      "text/html": "<div>\n<style scoped>\n    .dataframe tbody tr th:only-of-type {\n        vertical-align: middle;\n    }\n\n    .dataframe tbody tr th {\n        vertical-align: top;\n    }\n\n    .dataframe thead th {\n        text-align: right;\n    }\n</style>\n<table border=\"1\" class=\"dataframe\">\n  <thead>\n    <tr style=\"text-align: right;\">\n      <th></th>\n      <th>State</th>\n      <th>Place</th>\n      <th>Date</th>\n      <th>Time</th>\n      <th>Infected</th>\n      <th>Total_Infected</th>\n    </tr>\n  </thead>\n  <tbody>\n    <tr>\n      <th>0</th>\n      <td>Kerela</td>\n      <td>Thrissur</td>\n      <td>03-02-2020</td>\n      <td>Morning</td>\n      <td>1</td>\n      <td>1</td>\n    </tr>\n    <tr>\n      <th>1</th>\n      <td>Kerela</td>\n      <td>Alappuzha</td>\n      <td>03-02-2020</td>\n      <td>Morning</td>\n      <td>1</td>\n      <td>2</td>\n    </tr>\n    <tr>\n      <th>2</th>\n      <td>Kerela</td>\n      <td>Kasargod</td>\n      <td>03-02-2020</td>\n      <td>Morning</td>\n      <td>1</td>\n      <td>3</td>\n    </tr>\n    <tr>\n      <th>3</th>\n      <td>Delhi</td>\n      <td>Delhi</td>\n      <td>02-03-2020</td>\n      <td>Morning</td>\n      <td>1</td>\n      <td>4</td>\n    </tr>\n    <tr>\n      <th>4</th>\n      <td>Telangana</td>\n      <td>Hyderabad</td>\n      <td>02-03-2020</td>\n      <td>Morning</td>\n      <td>1</td>\n      <td>5</td>\n    </tr>\n    <tr>\n      <th>5</th>\n      <td>Rajasthan</td>\n      <td>Jaipur</td>\n      <td>03-03-2020</td>\n      <td>Morning</td>\n      <td>2</td>\n      <td>7</td>\n    </tr>\n    <tr>\n      <th>6</th>\n      <td>Haryana</td>\n      <td>Foreign</td>\n      <td>04-03-2020</td>\n      <td>Morning</td>\n      <td>14</td>\n      <td>21</td>\n    </tr>\n    <tr>\n      <th>7</th>\n      <td>Uttar Pradesh</td>\n      <td>Agra</td>\n      <td>04-03-2020</td>\n      <td>Morning</td>\n      <td>6</td>\n      <td>27</td>\n    </tr>\n    <tr>\n      <th>8</th>\n      <td>Delhi</td>\n      <td>Gurugram</td>\n      <td>05-03-2020</td>\n      <td>Morning</td>\n      <td>1</td>\n      <td>28</td>\n    </tr>\n    <tr>\n      <th>9</th>\n      <td>Delhi</td>\n      <td>Ghaziabad</td>\n      <td>06-03-2020</td>\n      <td>Morning</td>\n      <td>1</td>\n      <td>29</td>\n    </tr>\n    <tr>\n      <th>10</th>\n      <td>Delhi</td>\n      <td>Delhi</td>\n      <td>06-03-2020</td>\n      <td>Morning</td>\n      <td>1</td>\n      <td>30</td>\n    </tr>\n    <tr>\n      <th>11</th>\n      <td>Ladakh</td>\n      <td>Ladakh</td>\n      <td>07-03-2020</td>\n      <td>Morning</td>\n      <td>2</td>\n      <td>32</td>\n    </tr>\n    <tr>\n      <th>12</th>\n      <td>Tamil Nadu</td>\n      <td>Chennai</td>\n      <td>07-03-2020</td>\n      <td>Morning</td>\n      <td>1</td>\n      <td>33</td>\n    </tr>\n    <tr>\n      <th>13</th>\n      <td>Kerela</td>\n      <td>Pathnamthitta</td>\n      <td>08-03-2020</td>\n      <td>Morning</td>\n      <td>5</td>\n      <td>38</td>\n    </tr>\n    <tr>\n      <th>14</th>\n      <td>Kerela</td>\n      <td>Ernakulum</td>\n      <td>09-03-2020</td>\n      <td>Morning</td>\n      <td>1</td>\n      <td>39</td>\n    </tr>\n    <tr>\n      <th>15</th>\n      <td>Uttar Pradesh</td>\n      <td>Agra</td>\n      <td>09-03-2020</td>\n      <td>Morning</td>\n      <td>3</td>\n      <td>42</td>\n    </tr>\n    <tr>\n      <th>16</th>\n      <td>Jammu And Kashmir</td>\n      <td>Jammu</td>\n      <td>09-03-2020</td>\n      <td>Morning</td>\n      <td>1</td>\n      <td>43</td>\n    </tr>\n    <tr>\n      <th>17</th>\n      <td>Punjab</td>\n      <td>Hoshiyarpur</td>\n      <td>09-03-2020</td>\n      <td>Evening</td>\n      <td>1</td>\n      <td>44</td>\n    </tr>\n    <tr>\n      <th>18</th>\n      <td>Karnataka</td>\n      <td>Bengaluru</td>\n      <td>09-03-2020</td>\n      <td>Evening</td>\n      <td>1</td>\n      <td>45</td>\n    </tr>\n    <tr>\n      <th>19</th>\n      <td>Karnataka</td>\n      <td>Bengaluru</td>\n      <td>10-03-2020</td>\n      <td>Evening</td>\n      <td>3</td>\n      <td>48</td>\n    </tr>\n    <tr>\n      <th>20</th>\n      <td>Maharashtra</td>\n      <td>Pune</td>\n      <td>10-03-2020</td>\n      <td>Evening</td>\n      <td>2</td>\n      <td>50</td>\n    </tr>\n    <tr>\n      <th>21</th>\n      <td>Kerela</td>\n      <td>Pathanamthitta</td>\n      <td>10-03-2020</td>\n      <td>Evening</td>\n      <td>6</td>\n      <td>56</td>\n    </tr>\n    <tr>\n      <th>22</th>\n      <td>Maharashtra</td>\n      <td>Pune</td>\n      <td>11-03-2020</td>\n      <td>Morning</td>\n      <td>3</td>\n      <td>59</td>\n    </tr>\n    <tr>\n      <th>23</th>\n      <td>Kerela</td>\n      <td>Ernakulum</td>\n      <td>11-03-2020</td>\n      <td>Morning</td>\n      <td>2</td>\n      <td>61</td>\n    </tr>\n  </tbody>\n</table>\n</div>",
      "text/plain": "                State           Place        Date     Time  Infected  \\\n0              Kerela        Thrissur  03-02-2020  Morning         1   \n1              Kerela       Alappuzha  03-02-2020  Morning         1   \n2              Kerela        Kasargod  03-02-2020  Morning         1   \n3               Delhi           Delhi  02-03-2020  Morning         1   \n4           Telangana       Hyderabad  02-03-2020  Morning         1   \n5           Rajasthan          Jaipur  03-03-2020  Morning         2   \n6             Haryana         Foreign  04-03-2020  Morning        14   \n7       Uttar Pradesh            Agra  04-03-2020  Morning         6   \n8               Delhi        Gurugram  05-03-2020  Morning         1   \n9               Delhi       Ghaziabad  06-03-2020  Morning         1   \n10              Delhi           Delhi  06-03-2020  Morning         1   \n11             Ladakh          Ladakh  07-03-2020  Morning         2   \n12         Tamil Nadu         Chennai  07-03-2020  Morning         1   \n13             Kerela   Pathnamthitta  08-03-2020  Morning         5   \n14             Kerela       Ernakulum  09-03-2020  Morning         1   \n15      Uttar Pradesh            Agra  09-03-2020  Morning         3   \n16  Jammu And Kashmir           Jammu  09-03-2020  Morning         1   \n17             Punjab     Hoshiyarpur  09-03-2020  Evening         1   \n18          Karnataka       Bengaluru  09-03-2020  Evening         1   \n19          Karnataka       Bengaluru  10-03-2020  Evening         3   \n20        Maharashtra            Pune  10-03-2020  Evening         2   \n21             Kerela  Pathanamthitta  10-03-2020  Evening         6   \n22        Maharashtra            Pune  11-03-2020  Morning         3   \n23             Kerela       Ernakulum  11-03-2020  Morning         2   \n\n    Total_Infected  \n0                1  \n1                2  \n2                3  \n3                4  \n4                5  \n5                7  \n6               21  \n7               27  \n8               28  \n9               29  \n10              30  \n11              32  \n12              33  \n13              38  \n14              39  \n15              42  \n16              43  \n17              44  \n18              45  \n19              48  \n20              50  \n21              56  \n22              59  \n23              61  "
     },
     "execution_count": 15,
     "metadata": {},
     "output_type": "execute_result"
    }
   ],
   "source": [
    "df=pd.read_csv('covid-19(india).csv')\n",
    "df"
   ]
  },
  {
   "cell_type": "code",
   "execution_count": 13,
   "metadata": {},
   "outputs": [
    {
     "data": {
      "text/plain": "State\nDelhi                 4\nHaryana              14\nJammu And Kashmir     1\nKarnataka             4\nKerela               17\nLadakh                2\nMaharashtra           5\nPunjab                1\nRajasthan             2\nTamil Nadu            1\nTelangana             1\nUttar Pradesh         9\nName: Infected, dtype: int64"
     },
     "execution_count": 13,
     "metadata": {},
     "output_type": "execute_result"
    }
   ],
   "source": [
    "df.groupby('State')['Infected'].agg(np.sum)"
   ]
  },
  {
   "cell_type": "code",
   "execution_count": 11,
   "metadata": {},
   "outputs": [
    {
     "ename": "TypeError",
     "evalue": "sort_values() got an unexpected keyword argument 'by'",
     "output_type": "error",
     "traceback": [
      "\u001b[1;31m---------------------------------------------------------------------------\u001b[0m",
      "\u001b[1;31mTypeError\u001b[0m                                 Traceback (most recent call last)",
      "\u001b[1;32m<ipython-input-11-1af961f549db>\u001b[0m in \u001b[0;36m<module>\u001b[1;34m\u001b[0m\n\u001b[1;32m----> 1\u001b[1;33m \u001b[0mgrouped\u001b[0m\u001b[1;33m.\u001b[0m\u001b[0msort_values\u001b[0m\u001b[1;33m(\u001b[0m\u001b[0mby\u001b[0m\u001b[1;33m=\u001b[0m\u001b[1;33m[\u001b[0m\u001b[1;34m'State'\u001b[0m\u001b[1;33m]\u001b[0m\u001b[1;33m)\u001b[0m\u001b[1;33m\u001b[0m\u001b[1;33m\u001b[0m\u001b[0m\n\u001b[0m",
      "\u001b[1;31mTypeError\u001b[0m: sort_values() got an unexpected keyword argument 'by'"
     ]
    }
   ],
   "source": [
    "grouped.sort_values(by=['State'])"
   ]
  },
  {
   "cell_type": "code",
   "execution_count": null,
   "metadata": {},
   "outputs": [],
   "source": []
  }
 ]
}