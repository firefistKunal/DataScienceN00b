{
 "cells": [
  {
   "cell_type": "code",
   "execution_count": 41,
   "metadata": {},
   "outputs": [],
   "source": [
    "import pandas as pd\n",
    "import numpy as np \n",
    "import matplotlib.pyplot as plt\n",
    "%matplotlib inline\n",
    "import seaborn as sns\n",
    "import plotly.express as px"
   ]
  },
  {
   "cell_type": "code",
   "execution_count": 5,
   "metadata": {},
   "outputs": [
    {
     "output_type": "execute_result",
     "data": {
      "text/plain": "(2263, 19)"
     },
     "metadata": {},
     "execution_count": 5
    }
   ],
   "source": [
    "df=pd.read_csv('LS_2.0.csv')\n",
    "df.shape"
   ]
  },
  {
   "cell_type": "code",
   "execution_count": 6,
   "metadata": {},
   "outputs": [
    {
     "output_type": "stream",
     "name": "stdout",
     "text": "<class 'pandas.core.frame.DataFrame'>\nRangeIndex: 2263 entries, 0 to 2262\nData columns (total 19 columns):\n #   Column                                    Non-Null Count  Dtype  \n---  ------                                    --------------  -----  \n 0   STATE                                     2263 non-null   object \n 1   CONSTITUENCY                              2263 non-null   object \n 2   NAME                                      2263 non-null   object \n 3   WINNER                                    2263 non-null   int64  \n 4   PARTY                                     2263 non-null   object \n 5   SYMBOL                                    2018 non-null   object \n 6   GENDER                                    2018 non-null   object \n 7   CRIMINAL\nCASES                            2018 non-null   object \n 8   AGE                                       2018 non-null   float64\n 9   CATEGORY                                  2018 non-null   object \n 10  EDUCATION                                 2018 non-null   object \n 11  ASSETS                                    2018 non-null   object \n 12  LIABILITIES                               2018 non-null   object \n 13  GENERAL\nVOTES                             2263 non-null   int64  \n 14  POSTAL\nVOTES                              2263 non-null   int64  \n 15  TOTAL\nVOTES                               2263 non-null   int64  \n 16  OVER TOTAL ELECTORS \nIN CONSTITUENCY      2263 non-null   float64\n 17  OVER TOTAL VOTES POLLED \nIN CONSTITUENCY  2263 non-null   float64\n 18  TOTAL ELECTORS                            2263 non-null   int64  \ndtypes: float64(3), int64(5), object(11)\nmemory usage: 336.0+ KB\n"
    }
   ],
   "source": [
    "df.info()"
   ]
  },
  {
   "cell_type": "code",
   "execution_count": 7,
   "metadata": {},
   "outputs": [
    {
     "output_type": "execute_result",
     "data": {
      "text/plain": "           STATE CONSTITUENCY                   NAME  WINNER PARTY SYMBOL  \\\n0      Telangana     ADILABAD         SOYAM BAPU RAO       1   BJP  Lotus   \n1      Telangana     ADILABAD           Godam Nagesh       0   TRS    Car   \n2      Telangana     ADILABAD          RATHOD RAMESH       0   INC   Hand   \n3      Telangana     ADILABAD                   NOTA       0  NOTA    NaN   \n4  Uttar Pradesh         AGRA  Satyapal Singh Baghel       1   BJP  Lotus   \n\n  GENDER CRIMINAL\\nCASES   AGE CATEGORY      EDUCATION  \\\n0   MALE              52  52.0       ST      12th Pass   \n1   MALE               0  54.0       ST  Post Graduate   \n2   MALE               3  52.0       ST      12th Pass   \n3    NaN             NaN   NaN      NaN            NaN   \n4   MALE               5  58.0       SC      Doctorate   \n\n                        ASSETS                  LIABILITIES  GENERAL\\nVOTES  \\\n0    Rs 30,99,414\\n ~ 30 Lacs+      Rs 2,31,450\\n ~ 2 Lacs+          376892   \n1  Rs 1,84,77,888\\n ~ 1 Crore+      Rs 8,47,000\\n ~ 8 Lacs+          318665   \n2  Rs 3,64,91,000\\n ~ 3 Crore+  Rs 1,53,00,000\\n ~ 1 Crore+          314057   \n3                          NaN                          NaN           13030   \n4  Rs 7,42,74,036\\n ~ 7 Crore+    Rs 86,06,522\\n ~ 86 Lacs+          644459   \n\n   POSTAL\\nVOTES  TOTAL\\nVOTES  OVER TOTAL ELECTORS \\nIN CONSTITUENCY  \\\n0            482        377374                              25.330684   \n1            149        318814                              21.399929   \n2            181        314238                              21.092771   \n3              6         13036                               0.875023   \n4           2416        646875                              33.383823   \n\n   OVER TOTAL VOTES POLLED \\nIN CONSTITUENCY  TOTAL ELECTORS  \n0                                  35.468248         1489790  \n1                                  29.964370         1489790  \n2                                  29.534285         1489790  \n3                                   1.225214         1489790  \n4                                  56.464615         1937690  ",
      "text/html": "<div>\n<style scoped>\n    .dataframe tbody tr th:only-of-type {\n        vertical-align: middle;\n    }\n\n    .dataframe tbody tr th {\n        vertical-align: top;\n    }\n\n    .dataframe thead th {\n        text-align: right;\n    }\n</style>\n<table border=\"1\" class=\"dataframe\">\n  <thead>\n    <tr style=\"text-align: right;\">\n      <th></th>\n      <th>STATE</th>\n      <th>CONSTITUENCY</th>\n      <th>NAME</th>\n      <th>WINNER</th>\n      <th>PARTY</th>\n      <th>SYMBOL</th>\n      <th>GENDER</th>\n      <th>CRIMINAL\\nCASES</th>\n      <th>AGE</th>\n      <th>CATEGORY</th>\n      <th>EDUCATION</th>\n      <th>ASSETS</th>\n      <th>LIABILITIES</th>\n      <th>GENERAL\\nVOTES</th>\n      <th>POSTAL\\nVOTES</th>\n      <th>TOTAL\\nVOTES</th>\n      <th>OVER TOTAL ELECTORS \\nIN CONSTITUENCY</th>\n      <th>OVER TOTAL VOTES POLLED \\nIN CONSTITUENCY</th>\n      <th>TOTAL ELECTORS</th>\n    </tr>\n  </thead>\n  <tbody>\n    <tr>\n      <th>0</th>\n      <td>Telangana</td>\n      <td>ADILABAD</td>\n      <td>SOYAM BAPU RAO</td>\n      <td>1</td>\n      <td>BJP</td>\n      <td>Lotus</td>\n      <td>MALE</td>\n      <td>52</td>\n      <td>52.0</td>\n      <td>ST</td>\n      <td>12th Pass</td>\n      <td>Rs 30,99,414\\n ~ 30 Lacs+</td>\n      <td>Rs 2,31,450\\n ~ 2 Lacs+</td>\n      <td>376892</td>\n      <td>482</td>\n      <td>377374</td>\n      <td>25.330684</td>\n      <td>35.468248</td>\n      <td>1489790</td>\n    </tr>\n    <tr>\n      <th>1</th>\n      <td>Telangana</td>\n      <td>ADILABAD</td>\n      <td>Godam Nagesh</td>\n      <td>0</td>\n      <td>TRS</td>\n      <td>Car</td>\n      <td>MALE</td>\n      <td>0</td>\n      <td>54.0</td>\n      <td>ST</td>\n      <td>Post Graduate</td>\n      <td>Rs 1,84,77,888\\n ~ 1 Crore+</td>\n      <td>Rs 8,47,000\\n ~ 8 Lacs+</td>\n      <td>318665</td>\n      <td>149</td>\n      <td>318814</td>\n      <td>21.399929</td>\n      <td>29.964370</td>\n      <td>1489790</td>\n    </tr>\n    <tr>\n      <th>2</th>\n      <td>Telangana</td>\n      <td>ADILABAD</td>\n      <td>RATHOD RAMESH</td>\n      <td>0</td>\n      <td>INC</td>\n      <td>Hand</td>\n      <td>MALE</td>\n      <td>3</td>\n      <td>52.0</td>\n      <td>ST</td>\n      <td>12th Pass</td>\n      <td>Rs 3,64,91,000\\n ~ 3 Crore+</td>\n      <td>Rs 1,53,00,000\\n ~ 1 Crore+</td>\n      <td>314057</td>\n      <td>181</td>\n      <td>314238</td>\n      <td>21.092771</td>\n      <td>29.534285</td>\n      <td>1489790</td>\n    </tr>\n    <tr>\n      <th>3</th>\n      <td>Telangana</td>\n      <td>ADILABAD</td>\n      <td>NOTA</td>\n      <td>0</td>\n      <td>NOTA</td>\n      <td>NaN</td>\n      <td>NaN</td>\n      <td>NaN</td>\n      <td>NaN</td>\n      <td>NaN</td>\n      <td>NaN</td>\n      <td>NaN</td>\n      <td>NaN</td>\n      <td>13030</td>\n      <td>6</td>\n      <td>13036</td>\n      <td>0.875023</td>\n      <td>1.225214</td>\n      <td>1489790</td>\n    </tr>\n    <tr>\n      <th>4</th>\n      <td>Uttar Pradesh</td>\n      <td>AGRA</td>\n      <td>Satyapal Singh Baghel</td>\n      <td>1</td>\n      <td>BJP</td>\n      <td>Lotus</td>\n      <td>MALE</td>\n      <td>5</td>\n      <td>58.0</td>\n      <td>SC</td>\n      <td>Doctorate</td>\n      <td>Rs 7,42,74,036\\n ~ 7 Crore+</td>\n      <td>Rs 86,06,522\\n ~ 86 Lacs+</td>\n      <td>644459</td>\n      <td>2416</td>\n      <td>646875</td>\n      <td>33.383823</td>\n      <td>56.464615</td>\n      <td>1937690</td>\n    </tr>\n  </tbody>\n</table>\n</div>"
     },
     "metadata": {},
     "execution_count": 7
    }
   ],
   "source": [
    "df.head()"
   ]
  },
  {
   "cell_type": "code",
   "execution_count": 8,
   "metadata": {},
   "outputs": [
    {
     "output_type": "execute_result",
     "data": {
      "text/plain": "CATEGORY                                     245\nGENDER                                       245\nLIABILITIES                                  245\nASSETS                                       245\nEDUCATION                                    245\nSYMBOL                                       245\nAGE                                          245\nCRIMINAL\\nCASES                              245\nCONSTITUENCY                                   0\nNAME                                           0\nWINNER                                         0\nPARTY                                          0\nTOTAL ELECTORS                                 0\nOVER TOTAL VOTES POLLED \\nIN CONSTITUENCY      0\nGENERAL\\nVOTES                                 0\nPOSTAL\\nVOTES                                  0\nTOTAL\\nVOTES                                   0\nOVER TOTAL ELECTORS \\nIN CONSTITUENCY          0\nSTATE                                          0\ndtype: int64"
     },
     "metadata": {},
     "execution_count": 8
    }
   ],
   "source": [
    "df.isnull().sum().sort_values(ascending=False)"
   ]
  },
  {
   "cell_type": "code",
   "execution_count": 9,
   "metadata": {},
   "outputs": [
    {
     "output_type": "execute_result",
     "data": {
      "text/plain": "(245, 19)"
     },
     "metadata": {},
     "execution_count": 9
    }
   ],
   "source": [
    "df[df['NAME']=='NOTA'].shape"
   ]
  },
  {
   "cell_type": "code",
   "execution_count": 10,
   "metadata": {},
   "outputs": [],
   "source": [
    "df = df.fillna({'CATEGORY':'NOT APPLICABLE',              \n",
    "                'GENDER':'NOT APPLICABLE',               \n",
    "                'LIABILITIES':'Rs 0',                \n",
    "                'ASSETS':'Rs 0',\n",
    "                'EDUCATION':'NOT APPLICABLE',\n",
    "                'SYMBOL':'NO SYMBOL',\n",
    "                'AGE':0.0,\n",
    "                'CRIMINAL\\nCASES':0,})"
   ]
  },
  {
   "cell_type": "code",
   "execution_count": 11,
   "metadata": {},
   "outputs": [
    {
     "output_type": "execute_result",
     "data": {
      "text/plain": "TOTAL ELECTORS                               0\nAGE                                          0\nCONSTITUENCY                                 0\nNAME                                         0\nWINNER                                       0\nPARTY                                        0\nSYMBOL                                       0\nGENDER                                       0\nCRIMINAL\\nCASES                              0\nCATEGORY                                     0\nOVER TOTAL VOTES POLLED \\nIN CONSTITUENCY    0\nEDUCATION                                    0\nASSETS                                       0\nLIABILITIES                                  0\nGENERAL\\nVOTES                               0\nPOSTAL\\nVOTES                                0\nTOTAL\\nVOTES                                 0\nOVER TOTAL ELECTORS \\nIN CONSTITUENCY        0\nSTATE                                        0\ndtype: int64"
     },
     "metadata": {},
     "execution_count": 11
    }
   ],
   "source": [
    "df.isnull().sum().sort_values(ascending=False)"
   ]
  },
  {
   "cell_type": "markdown",
   "metadata": {},
   "source": [
    "# Visualising the Data"
   ]
  },
  {
   "cell_type": "markdown",
   "metadata": {},
   "source": [
    "## Winners and their Eduacation qualifications"
   ]
  },
  {
   "cell_type": "code",
   "execution_count": 12,
   "metadata": {},
   "outputs": [
    {
     "output_type": "execute_result",
     "data": {
      "text/plain": "<matplotlib.axes._subplots.AxesSubplot at 0x1e5bc97ea88>"
     },
     "metadata": {},
     "execution_count": 12
    },
    {
     "output_type": "display_data",
     "data": {
      "text/plain": "<Figure size 720x576 with 1 Axes>",
      "image/svg+xml": "<?xml version=\"1.0\" encoding=\"utf-8\" standalone=\"no\"?>\r\n<!DOCTYPE svg PUBLIC \"-//W3C//DTD SVG 1.1//EN\"\r\n  \"http://www.w3.org/Graphics/SVG/1.1/DTD/svg11.dtd\">\r\n<!-- Created with matplotlib (https://matplotlib.org/) -->\r\n<svg height=\"479.63625pt\" version=\"1.1\" viewBox=\"0 0 703.61875 479.63625\" width=\"703.61875pt\" xmlns=\"http://www.w3.org/2000/svg\" xmlns:xlink=\"http://www.w3.org/1999/xlink\">\r\n <defs>\r\n  <style type=\"text/css\">\r\n*{stroke-linecap:butt;stroke-linejoin:round;}\r\n  </style>\r\n </defs>\r\n <g id=\"figure_1\">\r\n  <g id=\"patch_1\">\r\n   <path d=\"M 0 479.63625 \r\nL 703.61875 479.63625 \r\nL 703.61875 0 \r\nL 0 0 \r\nz\r\n\" style=\"fill:none;\"/>\r\n  </g>\r\n  <g id=\"axes_1\">\r\n   <g id=\"patch_2\">\r\n    <path d=\"M 138.41875 442.08 \r\nL 696.41875 442.08 \r\nL 696.41875 7.2 \r\nL 138.41875 7.2 \r\nz\r\n\" style=\"fill:#ffffff;\"/>\r\n   </g>\r\n   <g id=\"patch_3\">\r\n    <path clip-path=\"url(#pd13d2e87a9)\" d=\"M 138.41875 10.306286 \r\nL 408.465334 10.306286 \r\nL 408.465334 22.731429 \r\nL 138.41875 22.731429 \r\nz\r\n\" style=\"fill:#b1d8cf;\"/>\r\n   </g>\r\n   <g id=\"patch_4\">\r\n    <path clip-path=\"url(#pd13d2e87a9)\" d=\"M 138.41875 41.369143 \r\nL 669.847321 41.369143 \r\nL 669.847321 53.794286 \r\nL 138.41875 53.794286 \r\nz\r\n\" style=\"fill:#b1d8cf;\"/>\r\n   </g>\r\n   <g id=\"patch_5\">\r\n    <path clip-path=\"url(#pd13d2e87a9)\" d=\"M 138.41875 72.432 \r\nL 492.223098 72.432 \r\nL 492.223098 84.857143 \r\nL 138.41875 84.857143 \r\nz\r\n\" style=\"fill:#b1d8cf;\"/>\r\n   </g>\r\n   <g id=\"patch_6\">\r\n    <path clip-path=\"url(#pd13d2e87a9)\" d=\"M 138.41875 103.494857 \r\nL 210.623719 103.494857 \r\nL 210.623719 115.92 \r\nL 138.41875 115.92 \r\nz\r\n\" style=\"fill:#b1d8cf;\"/>\r\n   </g>\r\n   <g id=\"patch_7\">\r\n    <path clip-path=\"url(#pd13d2e87a9)\" d=\"M 138.41875 134.557714 \r\nL 584.645458 134.557714 \r\nL 584.645458 146.982857 \r\nL 138.41875 146.982857 \r\nz\r\n\" style=\"fill:#b1d8cf;\"/>\r\n   </g>\r\n   <g id=\"patch_8\">\r\n    <path clip-path=\"url(#pd13d2e87a9)\" d=\"M 138.41875 165.620571 \r\nL 186.07403 165.620571 \r\nL 186.07403 178.045714 \r\nL 138.41875 178.045714 \r\nz\r\n\" style=\"fill:#b1d8cf;\"/>\r\n   </g>\r\n   <g id=\"patch_9\">\r\n    <path clip-path=\"url(#pd13d2e87a9)\" d=\"M 138.41875 196.683429 \r\nL 356.477756 196.683429 \r\nL 356.477756 209.108571 \r\nL 138.41875 209.108571 \r\nz\r\n\" style=\"fill:#b1d8cf;\"/>\r\n   </g>\r\n   <g id=\"patch_10\">\r\n    <path clip-path=\"url(#pd13d2e87a9)\" d=\"M 138.41875 227.746286 \r\nL 233.729309 227.746286 \r\nL 233.729309 240.171429 \r\nL 138.41875 240.171429 \r\nz\r\n\" style=\"fill:#b1d8cf;\"/>\r\n   </g>\r\n   <g id=\"patch_11\">\r\n    <path clip-path=\"url(#pd13d2e87a9)\" d=\"M 138.41875 258.809143 \r\nL 480.670303 258.809143 \r\nL 480.670303 271.234286 \r\nL 138.41875 271.234286 \r\nz\r\n\" style=\"fill:#b1d8cf;\"/>\r\n   </g>\r\n   <g id=\"patch_12\">\r\n    <path clip-path=\"url(#pd13d2e87a9)\" d=\"M 138.41875 289.872 \r\nL 178.853533 289.872 \r\nL 178.853533 302.297143 \r\nL 138.41875 302.297143 \r\nz\r\n\" style=\"fill:#b1d8cf;\"/>\r\n   </g>\r\n   <g id=\"patch_13\">\r\n    <path clip-path=\"url(#pd13d2e87a9)\" d=\"M 138.41875 320.934857 \r\nL 144.195148 320.934857 \r\nL 144.195148 333.36 \r\nL 138.41875 333.36 \r\nz\r\n\" style=\"fill:#b1d8cf;\"/>\r\n   </g>\r\n   <g id=\"patch_14\">\r\n    <path clip-path=\"url(#pd13d2e87a9)\" d=\"M 138.41875 351.997714 \r\nL 173.077135 351.997714 \r\nL 173.077135 364.422857 \r\nL 138.41875 364.422857 \r\nz\r\n\" style=\"fill:#b1d8cf;\"/>\r\n   </g>\r\n   <g id=\"patch_15\">\r\n    <path clip-path=\"url(#pd13d2e87a9)\" d=\"M 138.41875 383.060571 \r\nL 170.188936 383.060571 \r\nL 170.188936 395.485714 \r\nL 138.41875 395.485714 \r\nz\r\n\" style=\"fill:#b1d8cf;\"/>\r\n   </g>\r\n   <g id=\"patch_16\">\r\n    <path clip-path=\"url(#pd13d2e87a9)\" d=\"z\r\n\" style=\"fill:#b1d8cf;\"/>\r\n   </g>\r\n   <g id=\"patch_17\">\r\n    <path clip-path=\"url(#pd13d2e87a9)\" d=\"M 138.41875 22.731429 \r\nL 238.061607 22.731429 \r\nL 238.061607 35.156571 \r\nL 138.41875 35.156571 \r\nz\r\n\" style=\"fill:#449567;\"/>\r\n   </g>\r\n   <g id=\"patch_18\">\r\n    <path clip-path=\"url(#pd13d2e87a9)\" d=\"M 138.41875 53.794286 \r\nL 331.928067 53.794286 \r\nL 331.928067 66.219429 \r\nL 138.41875 66.219429 \r\nz\r\n\" style=\"fill:#449567;\"/>\r\n   </g>\r\n   <g id=\"patch_19\">\r\n    <path clip-path=\"url(#pd13d2e87a9)\" d=\"z\r\n\" style=\"fill:#449567;\"/>\r\n   </g>\r\n   <g id=\"patch_20\">\r\n    <path clip-path=\"url(#pd13d2e87a9)\" d=\"M 138.41875 115.92 \r\nL 171.633036 115.92 \r\nL 171.633036 128.345143 \r\nL 138.41875 128.345143 \r\nz\r\n\" style=\"fill:#449567;\"/>\r\n   </g>\r\n   <g id=\"patch_21\">\r\n    <path clip-path=\"url(#pd13d2e87a9)\" d=\"M 138.41875 146.982857 \r\nL 329.039868 146.982857 \r\nL 329.039868 159.408 \r\nL 138.41875 159.408 \r\nz\r\n\" style=\"fill:#449567;\"/>\r\n   </g>\r\n   <g id=\"patch_22\">\r\n    <path clip-path=\"url(#pd13d2e87a9)\" d=\"M 138.41875 178.045714 \r\nL 162.968439 178.045714 \r\nL 162.968439 190.470857 \r\nL 138.41875 190.470857 \r\nz\r\n\" style=\"fill:#449567;\"/>\r\n   </g>\r\n   <g id=\"patch_23\">\r\n    <path clip-path=\"url(#pd13d2e87a9)\" d=\"M 138.41875 209.108571 \r\nL 203.403222 209.108571 \r\nL 203.403222 221.533714 \r\nL 138.41875 221.533714 \r\nz\r\n\" style=\"fill:#449567;\"/>\r\n   </g>\r\n   <g id=\"patch_24\">\r\n    <path clip-path=\"url(#pd13d2e87a9)\" d=\"M 138.41875 240.171429 \r\nL 155.747943 240.171429 \r\nL 155.747943 252.596571 \r\nL 138.41875 252.596571 \r\nz\r\n\" style=\"fill:#449567;\"/>\r\n   </g>\r\n   <g id=\"patch_25\">\r\n    <path clip-path=\"url(#pd13d2e87a9)\" d=\"M 138.41875 271.234286 \r\nL 281.384589 271.234286 \r\nL 281.384589 283.659429 \r\nL 138.41875 283.659429 \r\nz\r\n\" style=\"fill:#449567;\"/>\r\n   </g>\r\n   <g id=\"patch_26\">\r\n    <path clip-path=\"url(#pd13d2e87a9)\" d=\"M 138.41875 302.297143 \r\nL 141.306949 302.297143 \r\nL 141.306949 314.722286 \r\nL 138.41875 314.722286 \r\nz\r\n\" style=\"fill:#449567;\"/>\r\n   </g>\r\n   <g id=\"patch_27\">\r\n    <path clip-path=\"url(#pd13d2e87a9)\" d=\"M 138.41875 333.36 \r\nL 139.862849 333.36 \r\nL 139.862849 345.785143 \r\nL 138.41875 345.785143 \r\nz\r\n\" style=\"fill:#449567;\"/>\r\n   </g>\r\n   <g id=\"patch_28\">\r\n    <path clip-path=\"url(#pd13d2e87a9)\" d=\"M 138.41875 364.422857 \r\nL 144.195148 364.422857 \r\nL 144.195148 376.848 \r\nL 138.41875 376.848 \r\nz\r\n\" style=\"fill:#449567;\"/>\r\n   </g>\r\n   <g id=\"patch_29\">\r\n    <path clip-path=\"url(#pd13d2e87a9)\" d=\"z\r\n\" style=\"fill:#449567;\"/>\r\n   </g>\r\n   <g id=\"patch_30\">\r\n    <path clip-path=\"url(#pd13d2e87a9)\" d=\"M 138.41875 426.548571 \r\nL 139.862849 426.548571 \r\nL 139.862849 438.973714 \r\nL 138.41875 438.973714 \r\nz\r\n\" style=\"fill:#449567;\"/>\r\n   </g>\r\n   <g id=\"matplotlib.axis_1\">\r\n    <g id=\"xtick_1\">\r\n     <g id=\"line2d_1\">\r\n      <defs>\r\n       <path d=\"M 0 0 \r\nL 0 3.5 \r\n\" id=\"m91b8508bba\" style=\"stroke:#000000;stroke-width:0.8;\"/>\r\n      </defs>\r\n      <g>\r\n       <use style=\"stroke:#000000;stroke-width:0.8;\" x=\"138.41875\" xlink:href=\"#m91b8508bba\" y=\"442.08\"/>\r\n      </g>\r\n     </g>\r\n     <g id=\"text_1\">\r\n      <!-- 0 -->\r\n      <defs>\r\n       <path d=\"M 31.78125 66.40625 \r\nQ 24.171875 66.40625 20.328125 58.90625 \r\nQ 16.5 51.421875 16.5 36.375 \r\nQ 16.5 21.390625 20.328125 13.890625 \r\nQ 24.171875 6.390625 31.78125 6.390625 \r\nQ 39.453125 6.390625 43.28125 13.890625 \r\nQ 47.125 21.390625 47.125 36.375 \r\nQ 47.125 51.421875 43.28125 58.90625 \r\nQ 39.453125 66.40625 31.78125 66.40625 \r\nz\r\nM 31.78125 74.21875 \r\nQ 44.046875 74.21875 50.515625 64.515625 \r\nQ 56.984375 54.828125 56.984375 36.375 \r\nQ 56.984375 17.96875 50.515625 8.265625 \r\nQ 44.046875 -1.421875 31.78125 -1.421875 \r\nQ 19.53125 -1.421875 13.0625 8.265625 \r\nQ 6.59375 17.96875 6.59375 36.375 \r\nQ 6.59375 54.828125 13.0625 64.515625 \r\nQ 19.53125 74.21875 31.78125 74.21875 \r\nz\r\n\" id=\"DejaVuSans-48\"/>\r\n      </defs>\r\n      <g transform=\"translate(135.2375 456.678437)scale(0.1 -0.1)\">\r\n       <use xlink:href=\"#DejaVuSans-48\"/>\r\n      </g>\r\n     </g>\r\n    </g>\r\n    <g id=\"xtick_2\">\r\n     <g id=\"line2d_2\">\r\n      <g>\r\n       <use style=\"stroke:#000000;stroke-width:0.8;\" x=\"210.623719\" xlink:href=\"#m91b8508bba\" y=\"442.08\"/>\r\n      </g>\r\n     </g>\r\n     <g id=\"text_2\">\r\n      <!-- 50 -->\r\n      <defs>\r\n       <path d=\"M 10.796875 72.90625 \r\nL 49.515625 72.90625 \r\nL 49.515625 64.59375 \r\nL 19.828125 64.59375 \r\nL 19.828125 46.734375 \r\nQ 21.96875 47.46875 24.109375 47.828125 \r\nQ 26.265625 48.1875 28.421875 48.1875 \r\nQ 40.625 48.1875 47.75 41.5 \r\nQ 54.890625 34.8125 54.890625 23.390625 \r\nQ 54.890625 11.625 47.5625 5.09375 \r\nQ 40.234375 -1.421875 26.90625 -1.421875 \r\nQ 22.3125 -1.421875 17.546875 -0.640625 \r\nQ 12.796875 0.140625 7.71875 1.703125 \r\nL 7.71875 11.625 \r\nQ 12.109375 9.234375 16.796875 8.0625 \r\nQ 21.484375 6.890625 26.703125 6.890625 \r\nQ 35.15625 6.890625 40.078125 11.328125 \r\nQ 45.015625 15.765625 45.015625 23.390625 \r\nQ 45.015625 31 40.078125 35.4375 \r\nQ 35.15625 39.890625 26.703125 39.890625 \r\nQ 22.75 39.890625 18.8125 39.015625 \r\nQ 14.890625 38.140625 10.796875 36.28125 \r\nz\r\n\" id=\"DejaVuSans-53\"/>\r\n      </defs>\r\n      <g transform=\"translate(204.261219 456.678437)scale(0.1 -0.1)\">\r\n       <use xlink:href=\"#DejaVuSans-53\"/>\r\n       <use x=\"63.623047\" xlink:href=\"#DejaVuSans-48\"/>\r\n      </g>\r\n     </g>\r\n    </g>\r\n    <g id=\"xtick_3\">\r\n     <g id=\"line2d_3\">\r\n      <g>\r\n       <use style=\"stroke:#000000;stroke-width:0.8;\" x=\"282.828688\" xlink:href=\"#m91b8508bba\" y=\"442.08\"/>\r\n      </g>\r\n     </g>\r\n     <g id=\"text_3\">\r\n      <!-- 100 -->\r\n      <defs>\r\n       <path d=\"M 12.40625 8.296875 \r\nL 28.515625 8.296875 \r\nL 28.515625 63.921875 \r\nL 10.984375 60.40625 \r\nL 10.984375 69.390625 \r\nL 28.421875 72.90625 \r\nL 38.28125 72.90625 \r\nL 38.28125 8.296875 \r\nL 54.390625 8.296875 \r\nL 54.390625 0 \r\nL 12.40625 0 \r\nz\r\n\" id=\"DejaVuSans-49\"/>\r\n      </defs>\r\n      <g transform=\"translate(273.284938 456.678437)scale(0.1 -0.1)\">\r\n       <use xlink:href=\"#DejaVuSans-49\"/>\r\n       <use x=\"63.623047\" xlink:href=\"#DejaVuSans-48\"/>\r\n       <use x=\"127.246094\" xlink:href=\"#DejaVuSans-48\"/>\r\n      </g>\r\n     </g>\r\n    </g>\r\n    <g id=\"xtick_4\">\r\n     <g id=\"line2d_4\">\r\n      <g>\r\n       <use style=\"stroke:#000000;stroke-width:0.8;\" x=\"355.033657\" xlink:href=\"#m91b8508bba\" y=\"442.08\"/>\r\n      </g>\r\n     </g>\r\n     <g id=\"text_4\">\r\n      <!-- 150 -->\r\n      <g transform=\"translate(345.489907 456.678437)scale(0.1 -0.1)\">\r\n       <use xlink:href=\"#DejaVuSans-49\"/>\r\n       <use x=\"63.623047\" xlink:href=\"#DejaVuSans-53\"/>\r\n       <use x=\"127.246094\" xlink:href=\"#DejaVuSans-48\"/>\r\n      </g>\r\n     </g>\r\n    </g>\r\n    <g id=\"xtick_5\">\r\n     <g id=\"line2d_5\">\r\n      <g>\r\n       <use style=\"stroke:#000000;stroke-width:0.8;\" x=\"427.238626\" xlink:href=\"#m91b8508bba\" y=\"442.08\"/>\r\n      </g>\r\n     </g>\r\n     <g id=\"text_5\">\r\n      <!-- 200 -->\r\n      <defs>\r\n       <path d=\"M 19.1875 8.296875 \r\nL 53.609375 8.296875 \r\nL 53.609375 0 \r\nL 7.328125 0 \r\nL 7.328125 8.296875 \r\nQ 12.9375 14.109375 22.625 23.890625 \r\nQ 32.328125 33.6875 34.8125 36.53125 \r\nQ 39.546875 41.84375 41.421875 45.53125 \r\nQ 43.3125 49.21875 43.3125 52.78125 \r\nQ 43.3125 58.59375 39.234375 62.25 \r\nQ 35.15625 65.921875 28.609375 65.921875 \r\nQ 23.96875 65.921875 18.8125 64.3125 \r\nQ 13.671875 62.703125 7.8125 59.421875 \r\nL 7.8125 69.390625 \r\nQ 13.765625 71.78125 18.9375 73 \r\nQ 24.125 74.21875 28.421875 74.21875 \r\nQ 39.75 74.21875 46.484375 68.546875 \r\nQ 53.21875 62.890625 53.21875 53.421875 \r\nQ 53.21875 48.921875 51.53125 44.890625 \r\nQ 49.859375 40.875 45.40625 35.40625 \r\nQ 44.1875 33.984375 37.640625 27.21875 \r\nQ 31.109375 20.453125 19.1875 8.296875 \r\nz\r\n\" id=\"DejaVuSans-50\"/>\r\n      </defs>\r\n      <g transform=\"translate(417.694876 456.678437)scale(0.1 -0.1)\">\r\n       <use xlink:href=\"#DejaVuSans-50\"/>\r\n       <use x=\"63.623047\" xlink:href=\"#DejaVuSans-48\"/>\r\n       <use x=\"127.246094\" xlink:href=\"#DejaVuSans-48\"/>\r\n      </g>\r\n     </g>\r\n    </g>\r\n    <g id=\"xtick_6\">\r\n     <g id=\"line2d_6\">\r\n      <g>\r\n       <use style=\"stroke:#000000;stroke-width:0.8;\" x=\"499.443595\" xlink:href=\"#m91b8508bba\" y=\"442.08\"/>\r\n      </g>\r\n     </g>\r\n     <g id=\"text_6\">\r\n      <!-- 250 -->\r\n      <g transform=\"translate(489.899845 456.678437)scale(0.1 -0.1)\">\r\n       <use xlink:href=\"#DejaVuSans-50\"/>\r\n       <use x=\"63.623047\" xlink:href=\"#DejaVuSans-53\"/>\r\n       <use x=\"127.246094\" xlink:href=\"#DejaVuSans-48\"/>\r\n      </g>\r\n     </g>\r\n    </g>\r\n    <g id=\"xtick_7\">\r\n     <g id=\"line2d_7\">\r\n      <g>\r\n       <use style=\"stroke:#000000;stroke-width:0.8;\" x=\"571.648564\" xlink:href=\"#m91b8508bba\" y=\"442.08\"/>\r\n      </g>\r\n     </g>\r\n     <g id=\"text_7\">\r\n      <!-- 300 -->\r\n      <defs>\r\n       <path d=\"M 40.578125 39.3125 \r\nQ 47.65625 37.796875 51.625 33 \r\nQ 55.609375 28.21875 55.609375 21.1875 \r\nQ 55.609375 10.40625 48.1875 4.484375 \r\nQ 40.765625 -1.421875 27.09375 -1.421875 \r\nQ 22.515625 -1.421875 17.65625 -0.515625 \r\nQ 12.796875 0.390625 7.625 2.203125 \r\nL 7.625 11.71875 \r\nQ 11.71875 9.328125 16.59375 8.109375 \r\nQ 21.484375 6.890625 26.8125 6.890625 \r\nQ 36.078125 6.890625 40.9375 10.546875 \r\nQ 45.796875 14.203125 45.796875 21.1875 \r\nQ 45.796875 27.640625 41.28125 31.265625 \r\nQ 36.765625 34.90625 28.71875 34.90625 \r\nL 20.21875 34.90625 \r\nL 20.21875 43.015625 \r\nL 29.109375 43.015625 \r\nQ 36.375 43.015625 40.234375 45.921875 \r\nQ 44.09375 48.828125 44.09375 54.296875 \r\nQ 44.09375 59.90625 40.109375 62.90625 \r\nQ 36.140625 65.921875 28.71875 65.921875 \r\nQ 24.65625 65.921875 20.015625 65.03125 \r\nQ 15.375 64.15625 9.8125 62.3125 \r\nL 9.8125 71.09375 \r\nQ 15.4375 72.65625 20.34375 73.4375 \r\nQ 25.25 74.21875 29.59375 74.21875 \r\nQ 40.828125 74.21875 47.359375 69.109375 \r\nQ 53.90625 64.015625 53.90625 55.328125 \r\nQ 53.90625 49.265625 50.4375 45.09375 \r\nQ 46.96875 40.921875 40.578125 39.3125 \r\nz\r\n\" id=\"DejaVuSans-51\"/>\r\n      </defs>\r\n      <g transform=\"translate(562.104814 456.678437)scale(0.1 -0.1)\">\r\n       <use xlink:href=\"#DejaVuSans-51\"/>\r\n       <use x=\"63.623047\" xlink:href=\"#DejaVuSans-48\"/>\r\n       <use x=\"127.246094\" xlink:href=\"#DejaVuSans-48\"/>\r\n      </g>\r\n     </g>\r\n    </g>\r\n    <g id=\"xtick_8\">\r\n     <g id=\"line2d_8\">\r\n      <g>\r\n       <use style=\"stroke:#000000;stroke-width:0.8;\" x=\"643.853533\" xlink:href=\"#m91b8508bba\" y=\"442.08\"/>\r\n      </g>\r\n     </g>\r\n     <g id=\"text_8\">\r\n      <!-- 350 -->\r\n      <g transform=\"translate(634.309783 456.678437)scale(0.1 -0.1)\">\r\n       <use xlink:href=\"#DejaVuSans-51\"/>\r\n       <use x=\"63.623047\" xlink:href=\"#DejaVuSans-53\"/>\r\n       <use x=\"127.246094\" xlink:href=\"#DejaVuSans-48\"/>\r\n      </g>\r\n     </g>\r\n    </g>\r\n    <g id=\"text_9\">\r\n     <!-- count -->\r\n     <defs>\r\n      <path d=\"M 48.78125 52.59375 \r\nL 48.78125 44.1875 \r\nQ 44.96875 46.296875 41.140625 47.34375 \r\nQ 37.3125 48.390625 33.40625 48.390625 \r\nQ 24.65625 48.390625 19.8125 42.84375 \r\nQ 14.984375 37.3125 14.984375 27.296875 \r\nQ 14.984375 17.28125 19.8125 11.734375 \r\nQ 24.65625 6.203125 33.40625 6.203125 \r\nQ 37.3125 6.203125 41.140625 7.25 \r\nQ 44.96875 8.296875 48.78125 10.40625 \r\nL 48.78125 2.09375 \r\nQ 45.015625 0.34375 40.984375 -0.53125 \r\nQ 36.96875 -1.421875 32.421875 -1.421875 \r\nQ 20.0625 -1.421875 12.78125 6.34375 \r\nQ 5.515625 14.109375 5.515625 27.296875 \r\nQ 5.515625 40.671875 12.859375 48.328125 \r\nQ 20.21875 56 33.015625 56 \r\nQ 37.15625 56 41.109375 55.140625 \r\nQ 45.0625 54.296875 48.78125 52.59375 \r\nz\r\n\" id=\"DejaVuSans-99\"/>\r\n      <path d=\"M 30.609375 48.390625 \r\nQ 23.390625 48.390625 19.1875 42.75 \r\nQ 14.984375 37.109375 14.984375 27.296875 \r\nQ 14.984375 17.484375 19.15625 11.84375 \r\nQ 23.34375 6.203125 30.609375 6.203125 \r\nQ 37.796875 6.203125 41.984375 11.859375 \r\nQ 46.1875 17.53125 46.1875 27.296875 \r\nQ 46.1875 37.015625 41.984375 42.703125 \r\nQ 37.796875 48.390625 30.609375 48.390625 \r\nz\r\nM 30.609375 56 \r\nQ 42.328125 56 49.015625 48.375 \r\nQ 55.71875 40.765625 55.71875 27.296875 \r\nQ 55.71875 13.875 49.015625 6.21875 \r\nQ 42.328125 -1.421875 30.609375 -1.421875 \r\nQ 18.84375 -1.421875 12.171875 6.21875 \r\nQ 5.515625 13.875 5.515625 27.296875 \r\nQ 5.515625 40.765625 12.171875 48.375 \r\nQ 18.84375 56 30.609375 56 \r\nz\r\n\" id=\"DejaVuSans-111\"/>\r\n      <path d=\"M 8.5 21.578125 \r\nL 8.5 54.6875 \r\nL 17.484375 54.6875 \r\nL 17.484375 21.921875 \r\nQ 17.484375 14.15625 20.5 10.265625 \r\nQ 23.53125 6.390625 29.59375 6.390625 \r\nQ 36.859375 6.390625 41.078125 11.03125 \r\nQ 45.3125 15.671875 45.3125 23.6875 \r\nL 45.3125 54.6875 \r\nL 54.296875 54.6875 \r\nL 54.296875 0 \r\nL 45.3125 0 \r\nL 45.3125 8.40625 \r\nQ 42.046875 3.421875 37.71875 1 \r\nQ 33.40625 -1.421875 27.6875 -1.421875 \r\nQ 18.265625 -1.421875 13.375 4.4375 \r\nQ 8.5 10.296875 8.5 21.578125 \r\nz\r\nM 31.109375 56 \r\nz\r\n\" id=\"DejaVuSans-117\"/>\r\n      <path d=\"M 54.890625 33.015625 \r\nL 54.890625 0 \r\nL 45.90625 0 \r\nL 45.90625 32.71875 \r\nQ 45.90625 40.484375 42.875 44.328125 \r\nQ 39.84375 48.1875 33.796875 48.1875 \r\nQ 26.515625 48.1875 22.3125 43.546875 \r\nQ 18.109375 38.921875 18.109375 30.90625 \r\nL 18.109375 0 \r\nL 9.078125 0 \r\nL 9.078125 54.6875 \r\nL 18.109375 54.6875 \r\nL 18.109375 46.1875 \r\nQ 21.34375 51.125 25.703125 53.5625 \r\nQ 30.078125 56 35.796875 56 \r\nQ 45.21875 56 50.046875 50.171875 \r\nQ 54.890625 44.34375 54.890625 33.015625 \r\nz\r\n\" id=\"DejaVuSans-110\"/>\r\n      <path d=\"M 18.3125 70.21875 \r\nL 18.3125 54.6875 \r\nL 36.8125 54.6875 \r\nL 36.8125 47.703125 \r\nL 18.3125 47.703125 \r\nL 18.3125 18.015625 \r\nQ 18.3125 11.328125 20.140625 9.421875 \r\nQ 21.96875 7.515625 27.59375 7.515625 \r\nL 36.8125 7.515625 \r\nL 36.8125 0 \r\nL 27.59375 0 \r\nQ 17.1875 0 13.234375 3.875 \r\nQ 9.28125 7.765625 9.28125 18.015625 \r\nL 9.28125 47.703125 \r\nL 2.6875 47.703125 \r\nL 2.6875 54.6875 \r\nL 9.28125 54.6875 \r\nL 9.28125 70.21875 \r\nz\r\n\" id=\"DejaVuSans-116\"/>\r\n     </defs>\r\n     <g transform=\"translate(403.3125 470.356562)scale(0.1 -0.1)\">\r\n      <use xlink:href=\"#DejaVuSans-99\"/>\r\n      <use x=\"54.980469\" xlink:href=\"#DejaVuSans-111\"/>\r\n      <use x=\"116.162109\" xlink:href=\"#DejaVuSans-117\"/>\r\n      <use x=\"179.541016\" xlink:href=\"#DejaVuSans-110\"/>\r\n      <use x=\"242.919922\" xlink:href=\"#DejaVuSans-116\"/>\r\n     </g>\r\n    </g>\r\n   </g>\r\n   <g id=\"matplotlib.axis_2\">\r\n    <g id=\"ytick_1\">\r\n     <g id=\"line2d_9\">\r\n      <defs>\r\n       <path d=\"M 0 0 \r\nL -3.5 0 \r\n\" id=\"m16e6ccb338\" style=\"stroke:#000000;stroke-width:0.8;\"/>\r\n      </defs>\r\n      <g>\r\n       <use style=\"stroke:#000000;stroke-width:0.8;\" x=\"138.41875\" xlink:href=\"#m16e6ccb338\" y=\"22.731429\"/>\r\n      </g>\r\n     </g>\r\n     <g id=\"text_10\">\r\n      <!-- 12th Pass -->\r\n      <defs>\r\n       <path d=\"M 54.890625 33.015625 \r\nL 54.890625 0 \r\nL 45.90625 0 \r\nL 45.90625 32.71875 \r\nQ 45.90625 40.484375 42.875 44.328125 \r\nQ 39.84375 48.1875 33.796875 48.1875 \r\nQ 26.515625 48.1875 22.3125 43.546875 \r\nQ 18.109375 38.921875 18.109375 30.90625 \r\nL 18.109375 0 \r\nL 9.078125 0 \r\nL 9.078125 75.984375 \r\nL 18.109375 75.984375 \r\nL 18.109375 46.1875 \r\nQ 21.34375 51.125 25.703125 53.5625 \r\nQ 30.078125 56 35.796875 56 \r\nQ 45.21875 56 50.046875 50.171875 \r\nQ 54.890625 44.34375 54.890625 33.015625 \r\nz\r\n\" id=\"DejaVuSans-104\"/>\r\n       <path id=\"DejaVuSans-32\"/>\r\n       <path d=\"M 19.671875 64.796875 \r\nL 19.671875 37.40625 \r\nL 32.078125 37.40625 \r\nQ 38.96875 37.40625 42.71875 40.96875 \r\nQ 46.484375 44.53125 46.484375 51.125 \r\nQ 46.484375 57.671875 42.71875 61.234375 \r\nQ 38.96875 64.796875 32.078125 64.796875 \r\nz\r\nM 9.8125 72.90625 \r\nL 32.078125 72.90625 \r\nQ 44.34375 72.90625 50.609375 67.359375 \r\nQ 56.890625 61.8125 56.890625 51.125 \r\nQ 56.890625 40.328125 50.609375 34.8125 \r\nQ 44.34375 29.296875 32.078125 29.296875 \r\nL 19.671875 29.296875 \r\nL 19.671875 0 \r\nL 9.8125 0 \r\nz\r\n\" id=\"DejaVuSans-80\"/>\r\n       <path d=\"M 34.28125 27.484375 \r\nQ 23.390625 27.484375 19.1875 25 \r\nQ 14.984375 22.515625 14.984375 16.5 \r\nQ 14.984375 11.71875 18.140625 8.90625 \r\nQ 21.296875 6.109375 26.703125 6.109375 \r\nQ 34.1875 6.109375 38.703125 11.40625 \r\nQ 43.21875 16.703125 43.21875 25.484375 \r\nL 43.21875 27.484375 \r\nz\r\nM 52.203125 31.203125 \r\nL 52.203125 0 \r\nL 43.21875 0 \r\nL 43.21875 8.296875 \r\nQ 40.140625 3.328125 35.546875 0.953125 \r\nQ 30.953125 -1.421875 24.3125 -1.421875 \r\nQ 15.921875 -1.421875 10.953125 3.296875 \r\nQ 6 8.015625 6 15.921875 \r\nQ 6 25.140625 12.171875 29.828125 \r\nQ 18.359375 34.515625 30.609375 34.515625 \r\nL 43.21875 34.515625 \r\nL 43.21875 35.40625 \r\nQ 43.21875 41.609375 39.140625 45 \r\nQ 35.0625 48.390625 27.6875 48.390625 \r\nQ 23 48.390625 18.546875 47.265625 \r\nQ 14.109375 46.140625 10.015625 43.890625 \r\nL 10.015625 52.203125 \r\nQ 14.9375 54.109375 19.578125 55.046875 \r\nQ 24.21875 56 28.609375 56 \r\nQ 40.484375 56 46.34375 49.84375 \r\nQ 52.203125 43.703125 52.203125 31.203125 \r\nz\r\n\" id=\"DejaVuSans-97\"/>\r\n       <path d=\"M 44.28125 53.078125 \r\nL 44.28125 44.578125 \r\nQ 40.484375 46.53125 36.375 47.5 \r\nQ 32.28125 48.484375 27.875 48.484375 \r\nQ 21.1875 48.484375 17.84375 46.4375 \r\nQ 14.5 44.390625 14.5 40.28125 \r\nQ 14.5 37.15625 16.890625 35.375 \r\nQ 19.28125 33.59375 26.515625 31.984375 \r\nL 29.59375 31.296875 \r\nQ 39.15625 29.25 43.1875 25.515625 \r\nQ 47.21875 21.78125 47.21875 15.09375 \r\nQ 47.21875 7.46875 41.1875 3.015625 \r\nQ 35.15625 -1.421875 24.609375 -1.421875 \r\nQ 20.21875 -1.421875 15.453125 -0.5625 \r\nQ 10.6875 0.296875 5.421875 2 \r\nL 5.421875 11.28125 \r\nQ 10.40625 8.6875 15.234375 7.390625 \r\nQ 20.0625 6.109375 24.8125 6.109375 \r\nQ 31.15625 6.109375 34.5625 8.28125 \r\nQ 37.984375 10.453125 37.984375 14.40625 \r\nQ 37.984375 18.0625 35.515625 20.015625 \r\nQ 33.0625 21.96875 24.703125 23.78125 \r\nL 21.578125 24.515625 \r\nQ 13.234375 26.265625 9.515625 29.90625 \r\nQ 5.8125 33.546875 5.8125 39.890625 \r\nQ 5.8125 47.609375 11.28125 51.796875 \r\nQ 16.75 56 26.8125 56 \r\nQ 31.78125 56 36.171875 55.265625 \r\nQ 40.578125 54.546875 44.28125 53.078125 \r\nz\r\n\" id=\"DejaVuSans-115\"/>\r\n      </defs>\r\n      <g transform=\"translate(82.6875 26.530647)scale(0.1 -0.1)\">\r\n       <use xlink:href=\"#DejaVuSans-49\"/>\r\n       <use x=\"63.623047\" xlink:href=\"#DejaVuSans-50\"/>\r\n       <use x=\"127.246094\" xlink:href=\"#DejaVuSans-116\"/>\r\n       <use x=\"166.455078\" xlink:href=\"#DejaVuSans-104\"/>\r\n       <use x=\"229.833984\" xlink:href=\"#DejaVuSans-32\"/>\r\n       <use x=\"261.621094\" xlink:href=\"#DejaVuSans-80\"/>\r\n       <use x=\"321.861328\" xlink:href=\"#DejaVuSans-97\"/>\r\n       <use x=\"383.140625\" xlink:href=\"#DejaVuSans-115\"/>\r\n       <use x=\"435.240234\" xlink:href=\"#DejaVuSans-115\"/>\r\n      </g>\r\n     </g>\r\n    </g>\r\n    <g id=\"ytick_2\">\r\n     <g id=\"line2d_10\">\r\n      <g>\r\n       <use style=\"stroke:#000000;stroke-width:0.8;\" x=\"138.41875\" xlink:href=\"#m16e6ccb338\" y=\"53.794286\"/>\r\n      </g>\r\n     </g>\r\n     <g id=\"text_11\">\r\n      <!-- Post Graduate -->\r\n      <defs>\r\n       <path d=\"M 59.515625 10.40625 \r\nL 59.515625 29.984375 \r\nL 43.40625 29.984375 \r\nL 43.40625 38.09375 \r\nL 69.28125 38.09375 \r\nL 69.28125 6.78125 \r\nQ 63.578125 2.734375 56.6875 0.65625 \r\nQ 49.8125 -1.421875 42 -1.421875 \r\nQ 24.90625 -1.421875 15.25 8.5625 \r\nQ 5.609375 18.5625 5.609375 36.375 \r\nQ 5.609375 54.25 15.25 64.234375 \r\nQ 24.90625 74.21875 42 74.21875 \r\nQ 49.125 74.21875 55.546875 72.453125 \r\nQ 61.96875 70.703125 67.390625 67.28125 \r\nL 67.390625 56.78125 \r\nQ 61.921875 61.421875 55.765625 63.765625 \r\nQ 49.609375 66.109375 42.828125 66.109375 \r\nQ 29.4375 66.109375 22.71875 58.640625 \r\nQ 16.015625 51.171875 16.015625 36.375 \r\nQ 16.015625 21.625 22.71875 14.15625 \r\nQ 29.4375 6.6875 42.828125 6.6875 \r\nQ 48.046875 6.6875 52.140625 7.59375 \r\nQ 56.25 8.5 59.515625 10.40625 \r\nz\r\n\" id=\"DejaVuSans-71\"/>\r\n       <path d=\"M 41.109375 46.296875 \r\nQ 39.59375 47.171875 37.8125 47.578125 \r\nQ 36.03125 48 33.890625 48 \r\nQ 26.265625 48 22.1875 43.046875 \r\nQ 18.109375 38.09375 18.109375 28.8125 \r\nL 18.109375 0 \r\nL 9.078125 0 \r\nL 9.078125 54.6875 \r\nL 18.109375 54.6875 \r\nL 18.109375 46.1875 \r\nQ 20.953125 51.171875 25.484375 53.578125 \r\nQ 30.03125 56 36.53125 56 \r\nQ 37.453125 56 38.578125 55.875 \r\nQ 39.703125 55.765625 41.0625 55.515625 \r\nz\r\n\" id=\"DejaVuSans-114\"/>\r\n       <path d=\"M 45.40625 46.390625 \r\nL 45.40625 75.984375 \r\nL 54.390625 75.984375 \r\nL 54.390625 0 \r\nL 45.40625 0 \r\nL 45.40625 8.203125 \r\nQ 42.578125 3.328125 38.25 0.953125 \r\nQ 33.9375 -1.421875 27.875 -1.421875 \r\nQ 17.96875 -1.421875 11.734375 6.484375 \r\nQ 5.515625 14.40625 5.515625 27.296875 \r\nQ 5.515625 40.1875 11.734375 48.09375 \r\nQ 17.96875 56 27.875 56 \r\nQ 33.9375 56 38.25 53.625 \r\nQ 42.578125 51.265625 45.40625 46.390625 \r\nz\r\nM 14.796875 27.296875 \r\nQ 14.796875 17.390625 18.875 11.75 \r\nQ 22.953125 6.109375 30.078125 6.109375 \r\nQ 37.203125 6.109375 41.296875 11.75 \r\nQ 45.40625 17.390625 45.40625 27.296875 \r\nQ 45.40625 37.203125 41.296875 42.84375 \r\nQ 37.203125 48.484375 30.078125 48.484375 \r\nQ 22.953125 48.484375 18.875 42.84375 \r\nQ 14.796875 37.203125 14.796875 27.296875 \r\nz\r\n\" id=\"DejaVuSans-100\"/>\r\n       <path d=\"M 56.203125 29.59375 \r\nL 56.203125 25.203125 \r\nL 14.890625 25.203125 \r\nQ 15.484375 15.921875 20.484375 11.0625 \r\nQ 25.484375 6.203125 34.421875 6.203125 \r\nQ 39.59375 6.203125 44.453125 7.46875 \r\nQ 49.3125 8.734375 54.109375 11.28125 \r\nL 54.109375 2.78125 \r\nQ 49.265625 0.734375 44.1875 -0.34375 \r\nQ 39.109375 -1.421875 33.890625 -1.421875 \r\nQ 20.796875 -1.421875 13.15625 6.1875 \r\nQ 5.515625 13.8125 5.515625 26.8125 \r\nQ 5.515625 40.234375 12.765625 48.109375 \r\nQ 20.015625 56 32.328125 56 \r\nQ 43.359375 56 49.78125 48.890625 \r\nQ 56.203125 41.796875 56.203125 29.59375 \r\nz\r\nM 47.21875 32.234375 \r\nQ 47.125 39.59375 43.09375 43.984375 \r\nQ 39.0625 48.390625 32.421875 48.390625 \r\nQ 24.90625 48.390625 20.390625 44.140625 \r\nQ 15.875 39.890625 15.1875 32.171875 \r\nz\r\n\" id=\"DejaVuSans-101\"/>\r\n      </defs>\r\n      <g transform=\"translate(60.092187 57.593504)scale(0.1 -0.1)\">\r\n       <use xlink:href=\"#DejaVuSans-80\"/>\r\n       <use x=\"60.255859\" xlink:href=\"#DejaVuSans-111\"/>\r\n       <use x=\"121.4375\" xlink:href=\"#DejaVuSans-115\"/>\r\n       <use x=\"173.537109\" xlink:href=\"#DejaVuSans-116\"/>\r\n       <use x=\"212.746094\" xlink:href=\"#DejaVuSans-32\"/>\r\n       <use x=\"244.533203\" xlink:href=\"#DejaVuSans-71\"/>\r\n       <use x=\"322.023438\" xlink:href=\"#DejaVuSans-114\"/>\r\n       <use x=\"363.136719\" xlink:href=\"#DejaVuSans-97\"/>\r\n       <use x=\"424.416016\" xlink:href=\"#DejaVuSans-100\"/>\r\n       <use x=\"487.892578\" xlink:href=\"#DejaVuSans-117\"/>\r\n       <use x=\"551.271484\" xlink:href=\"#DejaVuSans-97\"/>\r\n       <use x=\"612.550781\" xlink:href=\"#DejaVuSans-116\"/>\r\n       <use x=\"651.759766\" xlink:href=\"#DejaVuSans-101\"/>\r\n      </g>\r\n     </g>\r\n    </g>\r\n    <g id=\"ytick_3\">\r\n     <g id=\"line2d_11\">\r\n      <g>\r\n       <use style=\"stroke:#000000;stroke-width:0.8;\" x=\"138.41875\" xlink:href=\"#m16e6ccb338\" y=\"84.857143\"/>\r\n      </g>\r\n     </g>\r\n     <g id=\"text_12\">\r\n      <!-- NOT APPLICABLE -->\r\n      <defs>\r\n       <path d=\"M 9.8125 72.90625 \r\nL 23.09375 72.90625 \r\nL 55.421875 11.921875 \r\nL 55.421875 72.90625 \r\nL 64.984375 72.90625 \r\nL 64.984375 0 \r\nL 51.703125 0 \r\nL 19.390625 60.984375 \r\nL 19.390625 0 \r\nL 9.8125 0 \r\nz\r\n\" id=\"DejaVuSans-78\"/>\r\n       <path d=\"M 39.40625 66.21875 \r\nQ 28.65625 66.21875 22.328125 58.203125 \r\nQ 16.015625 50.203125 16.015625 36.375 \r\nQ 16.015625 22.609375 22.328125 14.59375 \r\nQ 28.65625 6.59375 39.40625 6.59375 \r\nQ 50.140625 6.59375 56.421875 14.59375 \r\nQ 62.703125 22.609375 62.703125 36.375 \r\nQ 62.703125 50.203125 56.421875 58.203125 \r\nQ 50.140625 66.21875 39.40625 66.21875 \r\nz\r\nM 39.40625 74.21875 \r\nQ 54.734375 74.21875 63.90625 63.9375 \r\nQ 73.09375 53.65625 73.09375 36.375 \r\nQ 73.09375 19.140625 63.90625 8.859375 \r\nQ 54.734375 -1.421875 39.40625 -1.421875 \r\nQ 24.03125 -1.421875 14.8125 8.828125 \r\nQ 5.609375 19.09375 5.609375 36.375 \r\nQ 5.609375 53.65625 14.8125 63.9375 \r\nQ 24.03125 74.21875 39.40625 74.21875 \r\nz\r\n\" id=\"DejaVuSans-79\"/>\r\n       <path d=\"M -0.296875 72.90625 \r\nL 61.375 72.90625 \r\nL 61.375 64.59375 \r\nL 35.5 64.59375 \r\nL 35.5 0 \r\nL 25.59375 0 \r\nL 25.59375 64.59375 \r\nL -0.296875 64.59375 \r\nz\r\n\" id=\"DejaVuSans-84\"/>\r\n       <path d=\"M 34.1875 63.1875 \r\nL 20.796875 26.90625 \r\nL 47.609375 26.90625 \r\nz\r\nM 28.609375 72.90625 \r\nL 39.796875 72.90625 \r\nL 67.578125 0 \r\nL 57.328125 0 \r\nL 50.6875 18.703125 \r\nL 17.828125 18.703125 \r\nL 11.1875 0 \r\nL 0.78125 0 \r\nz\r\n\" id=\"DejaVuSans-65\"/>\r\n       <path d=\"M 9.8125 72.90625 \r\nL 19.671875 72.90625 \r\nL 19.671875 8.296875 \r\nL 55.171875 8.296875 \r\nL 55.171875 0 \r\nL 9.8125 0 \r\nz\r\n\" id=\"DejaVuSans-76\"/>\r\n       <path d=\"M 9.8125 72.90625 \r\nL 19.671875 72.90625 \r\nL 19.671875 0 \r\nL 9.8125 0 \r\nz\r\n\" id=\"DejaVuSans-73\"/>\r\n       <path d=\"M 64.40625 67.28125 \r\nL 64.40625 56.890625 \r\nQ 59.421875 61.53125 53.78125 63.8125 \r\nQ 48.140625 66.109375 41.796875 66.109375 \r\nQ 29.296875 66.109375 22.65625 58.46875 \r\nQ 16.015625 50.828125 16.015625 36.375 \r\nQ 16.015625 21.96875 22.65625 14.328125 \r\nQ 29.296875 6.6875 41.796875 6.6875 \r\nQ 48.140625 6.6875 53.78125 8.984375 \r\nQ 59.421875 11.28125 64.40625 15.921875 \r\nL 64.40625 5.609375 \r\nQ 59.234375 2.09375 53.4375 0.328125 \r\nQ 47.65625 -1.421875 41.21875 -1.421875 \r\nQ 24.65625 -1.421875 15.125 8.703125 \r\nQ 5.609375 18.84375 5.609375 36.375 \r\nQ 5.609375 53.953125 15.125 64.078125 \r\nQ 24.65625 74.21875 41.21875 74.21875 \r\nQ 47.75 74.21875 53.53125 72.484375 \r\nQ 59.328125 70.75 64.40625 67.28125 \r\nz\r\n\" id=\"DejaVuSans-67\"/>\r\n       <path d=\"M 19.671875 34.8125 \r\nL 19.671875 8.109375 \r\nL 35.5 8.109375 \r\nQ 43.453125 8.109375 47.28125 11.40625 \r\nQ 51.125 14.703125 51.125 21.484375 \r\nQ 51.125 28.328125 47.28125 31.5625 \r\nQ 43.453125 34.8125 35.5 34.8125 \r\nz\r\nM 19.671875 64.796875 \r\nL 19.671875 42.828125 \r\nL 34.28125 42.828125 \r\nQ 41.5 42.828125 45.03125 45.53125 \r\nQ 48.578125 48.25 48.578125 53.8125 \r\nQ 48.578125 59.328125 45.03125 62.0625 \r\nQ 41.5 64.796875 34.28125 64.796875 \r\nz\r\nM 9.8125 72.90625 \r\nL 35.015625 72.90625 \r\nQ 46.296875 72.90625 52.390625 68.21875 \r\nQ 58.5 63.53125 58.5 54.890625 \r\nQ 58.5 48.1875 55.375 44.234375 \r\nQ 52.25 40.28125 46.1875 39.3125 \r\nQ 53.46875 37.75 57.5 32.78125 \r\nQ 61.53125 27.828125 61.53125 20.40625 \r\nQ 61.53125 10.640625 54.890625 5.3125 \r\nQ 48.25 0 35.984375 0 \r\nL 9.8125 0 \r\nz\r\n\" id=\"DejaVuSans-66\"/>\r\n       <path d=\"M 9.8125 72.90625 \r\nL 55.90625 72.90625 \r\nL 55.90625 64.59375 \r\nL 19.671875 64.59375 \r\nL 19.671875 43.015625 \r\nL 54.390625 43.015625 \r\nL 54.390625 34.71875 \r\nL 19.671875 34.71875 \r\nL 19.671875 8.296875 \r\nL 56.78125 8.296875 \r\nL 56.78125 0 \r\nL 9.8125 0 \r\nz\r\n\" id=\"DejaVuSans-69\"/>\r\n      </defs>\r\n      <g transform=\"translate(46.782812 88.656362)scale(0.1 -0.1)\">\r\n       <use xlink:href=\"#DejaVuSans-78\"/>\r\n       <use x=\"74.804688\" xlink:href=\"#DejaVuSans-79\"/>\r\n       <use x=\"153.515625\" xlink:href=\"#DejaVuSans-84\"/>\r\n       <use x=\"214.599609\" xlink:href=\"#DejaVuSans-32\"/>\r\n       <use x=\"246.386719\" xlink:href=\"#DejaVuSans-65\"/>\r\n       <use x=\"314.794922\" xlink:href=\"#DejaVuSans-80\"/>\r\n       <use x=\"375.097656\" xlink:href=\"#DejaVuSans-80\"/>\r\n       <use x=\"435.400391\" xlink:href=\"#DejaVuSans-76\"/>\r\n       <use x=\"491.113281\" xlink:href=\"#DejaVuSans-73\"/>\r\n       <use x=\"520.605469\" xlink:href=\"#DejaVuSans-67\"/>\r\n       <use x=\"590.429688\" xlink:href=\"#DejaVuSans-65\"/>\r\n       <use x=\"658.837891\" xlink:href=\"#DejaVuSans-66\"/>\r\n       <use x=\"727.441406\" xlink:href=\"#DejaVuSans-76\"/>\r\n       <use x=\"783.154297\" xlink:href=\"#DejaVuSans-69\"/>\r\n      </g>\r\n     </g>\r\n    </g>\r\n    <g id=\"ytick_4\">\r\n     <g id=\"line2d_12\">\r\n      <g>\r\n       <use style=\"stroke:#000000;stroke-width:0.8;\" x=\"138.41875\" xlink:href=\"#m16e6ccb338\" y=\"115.92\"/>\r\n      </g>\r\n     </g>\r\n     <g id=\"text_13\">\r\n      <!-- Doctorate -->\r\n      <defs>\r\n       <path d=\"M 19.671875 64.796875 \r\nL 19.671875 8.109375 \r\nL 31.59375 8.109375 \r\nQ 46.6875 8.109375 53.6875 14.9375 \r\nQ 60.6875 21.78125 60.6875 36.53125 \r\nQ 60.6875 51.171875 53.6875 57.984375 \r\nQ 46.6875 64.796875 31.59375 64.796875 \r\nz\r\nM 9.8125 72.90625 \r\nL 30.078125 72.90625 \r\nQ 51.265625 72.90625 61.171875 64.09375 \r\nQ 71.09375 55.28125 71.09375 36.53125 \r\nQ 71.09375 17.671875 61.125 8.828125 \r\nQ 51.171875 0 30.078125 0 \r\nL 9.8125 0 \r\nz\r\n\" id=\"DejaVuSans-68\"/>\r\n      </defs>\r\n      <g transform=\"translate(81.75 119.719219)scale(0.1 -0.1)\">\r\n       <use xlink:href=\"#DejaVuSans-68\"/>\r\n       <use x=\"77.001953\" xlink:href=\"#DejaVuSans-111\"/>\r\n       <use x=\"138.183594\" xlink:href=\"#DejaVuSans-99\"/>\r\n       <use x=\"193.164062\" xlink:href=\"#DejaVuSans-116\"/>\r\n       <use x=\"232.373047\" xlink:href=\"#DejaVuSans-111\"/>\r\n       <use x=\"293.554688\" xlink:href=\"#DejaVuSans-114\"/>\r\n       <use x=\"334.667969\" xlink:href=\"#DejaVuSans-97\"/>\r\n       <use x=\"395.947266\" xlink:href=\"#DejaVuSans-116\"/>\r\n       <use x=\"435.15625\" xlink:href=\"#DejaVuSans-101\"/>\r\n      </g>\r\n     </g>\r\n    </g>\r\n    <g id=\"ytick_5\">\r\n     <g id=\"line2d_13\">\r\n      <g>\r\n       <use style=\"stroke:#000000;stroke-width:0.8;\" x=\"138.41875\" xlink:href=\"#m16e6ccb338\" y=\"146.982857\"/>\r\n      </g>\r\n     </g>\r\n     <g id=\"text_14\">\r\n      <!-- Graduate -->\r\n      <g transform=\"translate(84.54375 150.782076)scale(0.1 -0.1)\">\r\n       <use xlink:href=\"#DejaVuSans-71\"/>\r\n       <use x=\"77.490234\" xlink:href=\"#DejaVuSans-114\"/>\r\n       <use x=\"118.603516\" xlink:href=\"#DejaVuSans-97\"/>\r\n       <use x=\"179.882812\" xlink:href=\"#DejaVuSans-100\"/>\r\n       <use x=\"243.359375\" xlink:href=\"#DejaVuSans-117\"/>\r\n       <use x=\"306.738281\" xlink:href=\"#DejaVuSans-97\"/>\r\n       <use x=\"368.017578\" xlink:href=\"#DejaVuSans-116\"/>\r\n       <use x=\"407.226562\" xlink:href=\"#DejaVuSans-101\"/>\r\n      </g>\r\n     </g>\r\n    </g>\r\n    <g id=\"ytick_6\">\r\n     <g id=\"line2d_14\">\r\n      <g>\r\n       <use style=\"stroke:#000000;stroke-width:0.8;\" x=\"138.41875\" xlink:href=\"#m16e6ccb338\" y=\"178.045714\"/>\r\n      </g>\r\n     </g>\r\n     <g id=\"text_15\">\r\n      <!-- Others -->\r\n      <g transform=\"translate(97.815625 181.844933)scale(0.1 -0.1)\">\r\n       <use xlink:href=\"#DejaVuSans-79\"/>\r\n       <use x=\"78.710938\" xlink:href=\"#DejaVuSans-116\"/>\r\n       <use x=\"117.919922\" xlink:href=\"#DejaVuSans-104\"/>\r\n       <use x=\"181.298828\" xlink:href=\"#DejaVuSans-101\"/>\r\n       <use x=\"242.822266\" xlink:href=\"#DejaVuSans-114\"/>\r\n       <use x=\"283.935547\" xlink:href=\"#DejaVuSans-115\"/>\r\n      </g>\r\n     </g>\r\n    </g>\r\n    <g id=\"ytick_7\">\r\n     <g id=\"line2d_15\">\r\n      <g>\r\n       <use style=\"stroke:#000000;stroke-width:0.8;\" x=\"138.41875\" xlink:href=\"#m16e6ccb338\" y=\"209.108571\"/>\r\n      </g>\r\n     </g>\r\n     <g id=\"text_16\">\r\n      <!-- 10th Pass -->\r\n      <g transform=\"translate(82.6875 212.90779)scale(0.1 -0.1)\">\r\n       <use xlink:href=\"#DejaVuSans-49\"/>\r\n       <use x=\"63.623047\" xlink:href=\"#DejaVuSans-48\"/>\r\n       <use x=\"127.246094\" xlink:href=\"#DejaVuSans-116\"/>\r\n       <use x=\"166.455078\" xlink:href=\"#DejaVuSans-104\"/>\r\n       <use x=\"229.833984\" xlink:href=\"#DejaVuSans-32\"/>\r\n       <use x=\"261.621094\" xlink:href=\"#DejaVuSans-80\"/>\r\n       <use x=\"321.861328\" xlink:href=\"#DejaVuSans-97\"/>\r\n       <use x=\"383.140625\" xlink:href=\"#DejaVuSans-115\"/>\r\n       <use x=\"435.240234\" xlink:href=\"#DejaVuSans-115\"/>\r\n      </g>\r\n     </g>\r\n    </g>\r\n    <g id=\"ytick_8\">\r\n     <g id=\"line2d_16\">\r\n      <g>\r\n       <use style=\"stroke:#000000;stroke-width:0.8;\" x=\"138.41875\" xlink:href=\"#m16e6ccb338\" y=\"240.171429\"/>\r\n      </g>\r\n     </g>\r\n     <g id=\"text_17\">\r\n      <!-- 8th Pass -->\r\n      <defs>\r\n       <path d=\"M 31.78125 34.625 \r\nQ 24.75 34.625 20.71875 30.859375 \r\nQ 16.703125 27.09375 16.703125 20.515625 \r\nQ 16.703125 13.921875 20.71875 10.15625 \r\nQ 24.75 6.390625 31.78125 6.390625 \r\nQ 38.8125 6.390625 42.859375 10.171875 \r\nQ 46.921875 13.96875 46.921875 20.515625 \r\nQ 46.921875 27.09375 42.890625 30.859375 \r\nQ 38.875 34.625 31.78125 34.625 \r\nz\r\nM 21.921875 38.8125 \r\nQ 15.578125 40.375 12.03125 44.71875 \r\nQ 8.5 49.078125 8.5 55.328125 \r\nQ 8.5 64.0625 14.71875 69.140625 \r\nQ 20.953125 74.21875 31.78125 74.21875 \r\nQ 42.671875 74.21875 48.875 69.140625 \r\nQ 55.078125 64.0625 55.078125 55.328125 \r\nQ 55.078125 49.078125 51.53125 44.71875 \r\nQ 48 40.375 41.703125 38.8125 \r\nQ 48.828125 37.15625 52.796875 32.3125 \r\nQ 56.78125 27.484375 56.78125 20.515625 \r\nQ 56.78125 9.90625 50.3125 4.234375 \r\nQ 43.84375 -1.421875 31.78125 -1.421875 \r\nQ 19.734375 -1.421875 13.25 4.234375 \r\nQ 6.78125 9.90625 6.78125 20.515625 \r\nQ 6.78125 27.484375 10.78125 32.3125 \r\nQ 14.796875 37.15625 21.921875 38.8125 \r\nz\r\nM 18.3125 54.390625 \r\nQ 18.3125 48.734375 21.84375 45.5625 \r\nQ 25.390625 42.390625 31.78125 42.390625 \r\nQ 38.140625 42.390625 41.71875 45.5625 \r\nQ 45.3125 48.734375 45.3125 54.390625 \r\nQ 45.3125 60.0625 41.71875 63.234375 \r\nQ 38.140625 66.40625 31.78125 66.40625 \r\nQ 25.390625 66.40625 21.84375 63.234375 \r\nQ 18.3125 60.0625 18.3125 54.390625 \r\nz\r\n\" id=\"DejaVuSans-56\"/>\r\n      </defs>\r\n      <g transform=\"translate(89.05 243.970647)scale(0.1 -0.1)\">\r\n       <use xlink:href=\"#DejaVuSans-56\"/>\r\n       <use x=\"63.623047\" xlink:href=\"#DejaVuSans-116\"/>\r\n       <use x=\"102.832031\" xlink:href=\"#DejaVuSans-104\"/>\r\n       <use x=\"166.210938\" xlink:href=\"#DejaVuSans-32\"/>\r\n       <use x=\"197.998047\" xlink:href=\"#DejaVuSans-80\"/>\r\n       <use x=\"258.238281\" xlink:href=\"#DejaVuSans-97\"/>\r\n       <use x=\"319.517578\" xlink:href=\"#DejaVuSans-115\"/>\r\n       <use x=\"371.617188\" xlink:href=\"#DejaVuSans-115\"/>\r\n      </g>\r\n     </g>\r\n    </g>\r\n    <g id=\"ytick_9\">\r\n     <g id=\"line2d_17\">\r\n      <g>\r\n       <use style=\"stroke:#000000;stroke-width:0.8;\" x=\"138.41875\" xlink:href=\"#m16e6ccb338\" y=\"271.234286\"/>\r\n      </g>\r\n     </g>\r\n     <g id=\"text_18\">\r\n      <!-- Graduate Professional -->\r\n      <defs>\r\n       <path d=\"M 37.109375 75.984375 \r\nL 37.109375 68.5 \r\nL 28.515625 68.5 \r\nQ 23.6875 68.5 21.796875 66.546875 \r\nQ 19.921875 64.59375 19.921875 59.515625 \r\nL 19.921875 54.6875 \r\nL 34.71875 54.6875 \r\nL 34.71875 47.703125 \r\nL 19.921875 47.703125 \r\nL 19.921875 0 \r\nL 10.890625 0 \r\nL 10.890625 47.703125 \r\nL 2.296875 47.703125 \r\nL 2.296875 54.6875 \r\nL 10.890625 54.6875 \r\nL 10.890625 58.5 \r\nQ 10.890625 67.625 15.140625 71.796875 \r\nQ 19.390625 75.984375 28.609375 75.984375 \r\nz\r\n\" id=\"DejaVuSans-102\"/>\r\n       <path d=\"M 9.421875 54.6875 \r\nL 18.40625 54.6875 \r\nL 18.40625 0 \r\nL 9.421875 0 \r\nz\r\nM 9.421875 75.984375 \r\nL 18.40625 75.984375 \r\nL 18.40625 64.59375 \r\nL 9.421875 64.59375 \r\nz\r\n\" id=\"DejaVuSans-105\"/>\r\n       <path d=\"M 9.421875 75.984375 \r\nL 18.40625 75.984375 \r\nL 18.40625 0 \r\nL 9.421875 0 \r\nz\r\n\" id=\"DejaVuSans-108\"/>\r\n      </defs>\r\n      <g transform=\"translate(20.878125 275.033504)scale(0.1 -0.1)\">\r\n       <use xlink:href=\"#DejaVuSans-71\"/>\r\n       <use x=\"77.490234\" xlink:href=\"#DejaVuSans-114\"/>\r\n       <use x=\"118.603516\" xlink:href=\"#DejaVuSans-97\"/>\r\n       <use x=\"179.882812\" xlink:href=\"#DejaVuSans-100\"/>\r\n       <use x=\"243.359375\" xlink:href=\"#DejaVuSans-117\"/>\r\n       <use x=\"306.738281\" xlink:href=\"#DejaVuSans-97\"/>\r\n       <use x=\"368.017578\" xlink:href=\"#DejaVuSans-116\"/>\r\n       <use x=\"407.226562\" xlink:href=\"#DejaVuSans-101\"/>\r\n       <use x=\"468.75\" xlink:href=\"#DejaVuSans-32\"/>\r\n       <use x=\"500.537109\" xlink:href=\"#DejaVuSans-80\"/>\r\n       <use x=\"560.824219\" xlink:href=\"#DejaVuSans-114\"/>\r\n       <use x=\"601.90625\" xlink:href=\"#DejaVuSans-111\"/>\r\n       <use x=\"663.087891\" xlink:href=\"#DejaVuSans-102\"/>\r\n       <use x=\"698.292969\" xlink:href=\"#DejaVuSans-101\"/>\r\n       <use x=\"759.816406\" xlink:href=\"#DejaVuSans-115\"/>\r\n       <use x=\"811.916016\" xlink:href=\"#DejaVuSans-115\"/>\r\n       <use x=\"864.015625\" xlink:href=\"#DejaVuSans-105\"/>\r\n       <use x=\"891.798828\" xlink:href=\"#DejaVuSans-111\"/>\r\n       <use x=\"952.980469\" xlink:href=\"#DejaVuSans-110\"/>\r\n       <use x=\"1016.359375\" xlink:href=\"#DejaVuSans-97\"/>\r\n       <use x=\"1077.638672\" xlink:href=\"#DejaVuSans-108\"/>\r\n      </g>\r\n     </g>\r\n    </g>\r\n    <g id=\"ytick_10\">\r\n     <g id=\"line2d_18\">\r\n      <g>\r\n       <use style=\"stroke:#000000;stroke-width:0.8;\" x=\"138.41875\" xlink:href=\"#m16e6ccb338\" y=\"302.297143\"/>\r\n      </g>\r\n     </g>\r\n     <g id=\"text_19\">\r\n      <!-- Literate -->\r\n      <g transform=\"translate(92.682812 306.096362)scale(0.1 -0.1)\">\r\n       <use xlink:href=\"#DejaVuSans-76\"/>\r\n       <use x=\"55.712891\" xlink:href=\"#DejaVuSans-105\"/>\r\n       <use x=\"83.496094\" xlink:href=\"#DejaVuSans-116\"/>\r\n       <use x=\"122.705078\" xlink:href=\"#DejaVuSans-101\"/>\r\n       <use x=\"184.228516\" xlink:href=\"#DejaVuSans-114\"/>\r\n       <use x=\"225.341797\" xlink:href=\"#DejaVuSans-97\"/>\r\n       <use x=\"286.621094\" xlink:href=\"#DejaVuSans-116\"/>\r\n       <use x=\"325.830078\" xlink:href=\"#DejaVuSans-101\"/>\r\n      </g>\r\n     </g>\r\n    </g>\r\n    <g id=\"ytick_11\">\r\n     <g id=\"line2d_19\">\r\n      <g>\r\n       <use style=\"stroke:#000000;stroke-width:0.8;\" x=\"138.41875\" xlink:href=\"#m16e6ccb338\" y=\"333.36\"/>\r\n      </g>\r\n     </g>\r\n     <g id=\"text_20\">\r\n      <!-- Illiterate -->\r\n      <g transform=\"translate(89.748437 337.159219)scale(0.1 -0.1)\">\r\n       <use xlink:href=\"#DejaVuSans-73\"/>\r\n       <use x=\"29.492188\" xlink:href=\"#DejaVuSans-108\"/>\r\n       <use x=\"57.275391\" xlink:href=\"#DejaVuSans-108\"/>\r\n       <use x=\"85.058594\" xlink:href=\"#DejaVuSans-105\"/>\r\n       <use x=\"112.841797\" xlink:href=\"#DejaVuSans-116\"/>\r\n       <use x=\"152.050781\" xlink:href=\"#DejaVuSans-101\"/>\r\n       <use x=\"213.574219\" xlink:href=\"#DejaVuSans-114\"/>\r\n       <use x=\"254.6875\" xlink:href=\"#DejaVuSans-97\"/>\r\n       <use x=\"315.966797\" xlink:href=\"#DejaVuSans-116\"/>\r\n       <use x=\"355.175781\" xlink:href=\"#DejaVuSans-101\"/>\r\n      </g>\r\n     </g>\r\n    </g>\r\n    <g id=\"ytick_12\">\r\n     <g id=\"line2d_20\">\r\n      <g>\r\n       <use style=\"stroke:#000000;stroke-width:0.8;\" x=\"138.41875\" xlink:href=\"#m16e6ccb338\" y=\"364.422857\"/>\r\n      </g>\r\n     </g>\r\n     <g id=\"text_21\">\r\n      <!-- 5th Pass -->\r\n      <g transform=\"translate(89.05 368.222076)scale(0.1 -0.1)\">\r\n       <use xlink:href=\"#DejaVuSans-53\"/>\r\n       <use x=\"63.623047\" xlink:href=\"#DejaVuSans-116\"/>\r\n       <use x=\"102.832031\" xlink:href=\"#DejaVuSans-104\"/>\r\n       <use x=\"166.210938\" xlink:href=\"#DejaVuSans-32\"/>\r\n       <use x=\"197.998047\" xlink:href=\"#DejaVuSans-80\"/>\r\n       <use x=\"258.238281\" xlink:href=\"#DejaVuSans-97\"/>\r\n       <use x=\"319.517578\" xlink:href=\"#DejaVuSans-115\"/>\r\n       <use x=\"371.617188\" xlink:href=\"#DejaVuSans-115\"/>\r\n      </g>\r\n     </g>\r\n    </g>\r\n    <g id=\"ytick_13\">\r\n     <g id=\"line2d_21\">\r\n      <g>\r\n       <use style=\"stroke:#000000;stroke-width:0.8;\" x=\"138.41875\" xlink:href=\"#m16e6ccb338\" y=\"395.485714\"/>\r\n      </g>\r\n     </g>\r\n     <g id=\"text_22\">\r\n      <!-- Not Available -->\r\n      <defs>\r\n       <path d=\"M 2.984375 54.6875 \r\nL 12.5 54.6875 \r\nL 29.59375 8.796875 \r\nL 46.6875 54.6875 \r\nL 56.203125 54.6875 \r\nL 35.6875 0 \r\nL 23.484375 0 \r\nz\r\n\" id=\"DejaVuSans-118\"/>\r\n       <path d=\"M 48.6875 27.296875 \r\nQ 48.6875 37.203125 44.609375 42.84375 \r\nQ 40.53125 48.484375 33.40625 48.484375 \r\nQ 26.265625 48.484375 22.1875 42.84375 \r\nQ 18.109375 37.203125 18.109375 27.296875 \r\nQ 18.109375 17.390625 22.1875 11.75 \r\nQ 26.265625 6.109375 33.40625 6.109375 \r\nQ 40.53125 6.109375 44.609375 11.75 \r\nQ 48.6875 17.390625 48.6875 27.296875 \r\nz\r\nM 18.109375 46.390625 \r\nQ 20.953125 51.265625 25.265625 53.625 \r\nQ 29.59375 56 35.59375 56 \r\nQ 45.5625 56 51.78125 48.09375 \r\nQ 58.015625 40.1875 58.015625 27.296875 \r\nQ 58.015625 14.40625 51.78125 6.484375 \r\nQ 45.5625 -1.421875 35.59375 -1.421875 \r\nQ 29.59375 -1.421875 25.265625 0.953125 \r\nQ 20.953125 3.328125 18.109375 8.203125 \r\nL 18.109375 0 \r\nL 9.078125 0 \r\nL 9.078125 75.984375 \r\nL 18.109375 75.984375 \r\nz\r\n\" id=\"DejaVuSans-98\"/>\r\n      </defs>\r\n      <g transform=\"translate(64.876562 399.284933)scale(0.1 -0.1)\">\r\n       <use xlink:href=\"#DejaVuSans-78\"/>\r\n       <use x=\"74.804688\" xlink:href=\"#DejaVuSans-111\"/>\r\n       <use x=\"135.986328\" xlink:href=\"#DejaVuSans-116\"/>\r\n       <use x=\"175.195312\" xlink:href=\"#DejaVuSans-32\"/>\r\n       <use x=\"206.982422\" xlink:href=\"#DejaVuSans-65\"/>\r\n       <use x=\"275.3125\" xlink:href=\"#DejaVuSans-118\"/>\r\n       <use x=\"334.492188\" xlink:href=\"#DejaVuSans-97\"/>\r\n       <use x=\"395.771484\" xlink:href=\"#DejaVuSans-105\"/>\r\n       <use x=\"423.554688\" xlink:href=\"#DejaVuSans-108\"/>\r\n       <use x=\"451.337891\" xlink:href=\"#DejaVuSans-97\"/>\r\n       <use x=\"512.617188\" xlink:href=\"#DejaVuSans-98\"/>\r\n       <use x=\"576.09375\" xlink:href=\"#DejaVuSans-108\"/>\r\n       <use x=\"603.876953\" xlink:href=\"#DejaVuSans-101\"/>\r\n      </g>\r\n     </g>\r\n    </g>\r\n    <g id=\"ytick_14\">\r\n     <g id=\"line2d_22\">\r\n      <g>\r\n       <use style=\"stroke:#000000;stroke-width:0.8;\" x=\"138.41875\" xlink:href=\"#m16e6ccb338\" y=\"426.548571\"/>\r\n      </g>\r\n     </g>\r\n     <g id=\"text_23\">\r\n      <!-- Post Graduate -->\r\n      <g transform=\"translate(60.092187 425.508728)scale(0.1 -0.1)\">\r\n       <use xlink:href=\"#DejaVuSans-80\"/>\r\n       <use x=\"60.255859\" xlink:href=\"#DejaVuSans-111\"/>\r\n       <use x=\"121.4375\" xlink:href=\"#DejaVuSans-115\"/>\r\n       <use x=\"173.537109\" xlink:href=\"#DejaVuSans-116\"/>\r\n       <use x=\"212.746094\" xlink:href=\"#DejaVuSans-32\"/>\r\n       <use x=\"244.533203\" xlink:href=\"#DejaVuSans-71\"/>\r\n       <use x=\"322.023438\" xlink:href=\"#DejaVuSans-114\"/>\r\n       <use x=\"363.136719\" xlink:href=\"#DejaVuSans-97\"/>\r\n       <use x=\"424.416016\" xlink:href=\"#DejaVuSans-100\"/>\r\n       <use x=\"487.892578\" xlink:href=\"#DejaVuSans-117\"/>\r\n       <use x=\"551.271484\" xlink:href=\"#DejaVuSans-97\"/>\r\n       <use x=\"612.550781\" xlink:href=\"#DejaVuSans-116\"/>\r\n       <use x=\"651.759766\" xlink:href=\"#DejaVuSans-101\"/>\r\n      </g>\r\n      <!--  -->\r\n      <g transform=\"translate(131.41875 436.70654)scale(0.1 -0.1)\"/>\r\n     </g>\r\n    </g>\r\n    <g id=\"text_24\">\r\n     <!-- EDUCATION -->\r\n     <defs>\r\n      <path d=\"M 8.6875 72.90625 \r\nL 18.609375 72.90625 \r\nL 18.609375 28.609375 \r\nQ 18.609375 16.890625 22.84375 11.734375 \r\nQ 27.09375 6.59375 36.625 6.59375 \r\nQ 46.09375 6.59375 50.34375 11.734375 \r\nQ 54.59375 16.890625 54.59375 28.609375 \r\nL 54.59375 72.90625 \r\nL 64.5 72.90625 \r\nL 64.5 27.390625 \r\nQ 64.5 13.140625 57.4375 5.859375 \r\nQ 50.390625 -1.421875 36.625 -1.421875 \r\nQ 22.796875 -1.421875 15.734375 5.859375 \r\nQ 8.6875 13.140625 8.6875 27.390625 \r\nz\r\n\" id=\"DejaVuSans-85\"/>\r\n     </defs>\r\n     <g transform=\"translate(14.798437 254.420469)rotate(-90)scale(0.1 -0.1)\">\r\n      <use xlink:href=\"#DejaVuSans-69\"/>\r\n      <use x=\"63.183594\" xlink:href=\"#DejaVuSans-68\"/>\r\n      <use x=\"140.185547\" xlink:href=\"#DejaVuSans-85\"/>\r\n      <use x=\"213.378906\" xlink:href=\"#DejaVuSans-67\"/>\r\n      <use x=\"283.203125\" xlink:href=\"#DejaVuSans-65\"/>\r\n      <use x=\"351.501953\" xlink:href=\"#DejaVuSans-84\"/>\r\n      <use x=\"412.585938\" xlink:href=\"#DejaVuSans-73\"/>\r\n      <use x=\"442.078125\" xlink:href=\"#DejaVuSans-79\"/>\r\n      <use x=\"520.789062\" xlink:href=\"#DejaVuSans-78\"/>\r\n     </g>\r\n    </g>\r\n   </g>\r\n   <g id=\"patch_31\">\r\n    <path d=\"M 138.41875 442.08 \r\nL 138.41875 7.2 \r\n\" style=\"fill:none;stroke:#000000;stroke-linecap:square;stroke-linejoin:miter;stroke-width:0.8;\"/>\r\n   </g>\r\n   <g id=\"patch_32\">\r\n    <path d=\"M 696.41875 442.08 \r\nL 696.41875 7.2 \r\n\" style=\"fill:none;stroke:#000000;stroke-linecap:square;stroke-linejoin:miter;stroke-width:0.8;\"/>\r\n   </g>\r\n   <g id=\"patch_33\">\r\n    <path d=\"M 138.41875 442.08 \r\nL 696.41875 442.08 \r\n\" style=\"fill:none;stroke:#000000;stroke-linecap:square;stroke-linejoin:miter;stroke-width:0.8;\"/>\r\n   </g>\r\n   <g id=\"patch_34\">\r\n    <path d=\"M 138.41875 7.2 \r\nL 696.41875 7.2 \r\n\" style=\"fill:none;stroke:#000000;stroke-linecap:square;stroke-linejoin:miter;stroke-width:0.8;\"/>\r\n   </g>\r\n   <g id=\"legend_1\">\r\n    <g id=\"patch_35\">\r\n     <path d=\"M 644.351562 248.157187 \r\nL 689.41875 248.157187 \r\nQ 691.41875 248.157187 691.41875 246.157187 \r\nL 691.41875 203.122812 \r\nQ 691.41875 201.122812 689.41875 201.122812 \r\nL 644.351562 201.122812 \r\nQ 642.351562 201.122812 642.351562 203.122812 \r\nL 642.351562 246.157187 \r\nQ 642.351562 248.157187 644.351562 248.157187 \r\nz\r\n\" style=\"fill:#ffffff;opacity:0.8;stroke:#cccccc;stroke-linejoin:miter;\"/>\r\n    </g>\r\n    <g id=\"text_25\">\r\n     <!-- WINNER -->\r\n     <defs>\r\n      <path d=\"M 3.328125 72.90625 \r\nL 13.28125 72.90625 \r\nL 28.609375 11.28125 \r\nL 43.890625 72.90625 \r\nL 54.984375 72.90625 \r\nL 70.3125 11.28125 \r\nL 85.59375 72.90625 \r\nL 95.609375 72.90625 \r\nL 77.296875 0 \r\nL 64.890625 0 \r\nL 49.515625 63.28125 \r\nL 33.984375 0 \r\nL 21.578125 0 \r\nz\r\n\" id=\"DejaVuSans-87\"/>\r\n      <path d=\"M 44.390625 34.1875 \r\nQ 47.5625 33.109375 50.5625 29.59375 \r\nQ 53.5625 26.078125 56.59375 19.921875 \r\nL 66.609375 0 \r\nL 56 0 \r\nL 46.6875 18.703125 \r\nQ 43.0625 26.03125 39.671875 28.421875 \r\nQ 36.28125 30.8125 30.421875 30.8125 \r\nL 19.671875 30.8125 \r\nL 19.671875 0 \r\nL 9.8125 0 \r\nL 9.8125 72.90625 \r\nL 32.078125 72.90625 \r\nQ 44.578125 72.90625 50.734375 67.671875 \r\nQ 56.890625 62.453125 56.890625 51.90625 \r\nQ 56.890625 45.015625 53.6875 40.46875 \r\nQ 50.484375 35.9375 44.390625 34.1875 \r\nz\r\nM 19.671875 64.796875 \r\nL 19.671875 38.921875 \r\nL 32.078125 38.921875 \r\nQ 39.203125 38.921875 42.84375 42.21875 \r\nQ 46.484375 45.515625 46.484375 51.90625 \r\nQ 46.484375 58.296875 42.84375 61.546875 \r\nQ 39.203125 64.796875 32.078125 64.796875 \r\nz\r\n\" id=\"DejaVuSans-82\"/>\r\n     </defs>\r\n     <g transform=\"translate(646.351562 212.72125)scale(0.1 -0.1)\">\r\n      <use xlink:href=\"#DejaVuSans-87\"/>\r\n      <use x=\"98.876953\" xlink:href=\"#DejaVuSans-73\"/>\r\n      <use x=\"128.369141\" xlink:href=\"#DejaVuSans-78\"/>\r\n      <use x=\"203.173828\" xlink:href=\"#DejaVuSans-78\"/>\r\n      <use x=\"277.978516\" xlink:href=\"#DejaVuSans-69\"/>\r\n      <use x=\"341.162109\" xlink:href=\"#DejaVuSans-82\"/>\r\n     </g>\r\n    </g>\r\n    <g id=\"patch_36\">\r\n     <path d=\"M 649.703906 227.399375 \r\nL 669.703906 227.399375 \r\nL 669.703906 220.399375 \r\nL 649.703906 220.399375 \r\nz\r\n\" style=\"fill:#b1d8cf;\"/>\r\n    </g>\r\n    <g id=\"text_26\">\r\n     <!-- 0 -->\r\n     <g transform=\"translate(677.703906 227.399375)scale(0.1 -0.1)\">\r\n      <use xlink:href=\"#DejaVuSans-48\"/>\r\n     </g>\r\n    </g>\r\n    <g id=\"patch_37\">\r\n     <path d=\"M 649.703906 242.0775 \r\nL 669.703906 242.0775 \r\nL 669.703906 235.0775 \r\nL 649.703906 235.0775 \r\nz\r\n\" style=\"fill:#449567;\"/>\r\n    </g>\r\n    <g id=\"text_27\">\r\n     <!-- 1 -->\r\n     <g transform=\"translate(677.703906 242.0775)scale(0.1 -0.1)\">\r\n      <use xlink:href=\"#DejaVuSans-49\"/>\r\n     </g>\r\n    </g>\r\n   </g>\r\n  </g>\r\n </g>\r\n <defs>\r\n  <clipPath id=\"pd13d2e87a9\">\r\n   <rect height=\"434.88\" width=\"558\" x=\"138.41875\" y=\"7.2\"/>\r\n  </clipPath>\r\n </defs>\r\n</svg>\r\n",
      "image/png": "[encoded data removed]"
     },
     "metadata": {
      "needs_background": "light"
     }
    }
   ],
   "source": [
    "plt.figure(figsize=(10,8))\n",
    "sns.countplot(y='EDUCATION',hue='WINNER',data=df,palette=\"BuGn\")"
   ]
  },
  {
   "cell_type": "markdown",
   "metadata": {},
   "source": [
    "## Most winners are Graduate or Post Graduate"
   ]
  },
  {
   "cell_type": "code",
   "execution_count": 13,
   "metadata": {},
   "outputs": [],
   "source": [
    "df['EDUCATION']=df['EDUCATION'].replace(to_replace =\"Post Graduate\\n\", value =\"Post Graduate\")"
   ]
  },
  {
   "cell_type": "code",
   "execution_count": 14,
   "metadata": {},
   "outputs": [],
   "source": [
    "df['CRIMINAL\\nCASES']=df['CRIMINAL\\nCASES'].replace(to_replace =\"Not Available\", \n",
    "                 value =\"0\")\n",
    "df['CRIMINAL\\nCASES'] = df['CRIMINAL\\nCASES'].astype(int)"
   ]
  },
  {
   "cell_type": "code",
   "execution_count": 15,
   "metadata": {},
   "outputs": [],
   "source": [
    "#Checking if the candidate is criminal/ncase or not\n",
    "for i in range(len(df)):\n",
    "    if df.iloc[i,7]>0:\n",
    "        df.iloc[i,7]='HAS CASE'\n",
    "    else:\n",
    "        df.iloc[i,7]='NO CASE'"
   ]
  },
  {
   "cell_type": "markdown",
   "metadata": {},
   "source": [
    "## Criminal cases among winners and others"
   ]
  },
  {
   "cell_type": "code",
   "execution_count": 16,
   "metadata": {},
   "outputs": [
    {
     "output_type": "execute_result",
     "data": {
      "text/plain": "<matplotlib.axes._subplots.AxesSubplot at 0x1e5bc877d08>"
     },
     "metadata": {},
     "execution_count": 16
    },
    {
     "output_type": "display_data",
     "data": {
      "text/plain": "<Figure size 576x288 with 1 Axes>",
      "image/svg+xml": "<?xml version=\"1.0\" encoding=\"utf-8\" standalone=\"no\"?>\r\n<!DOCTYPE svg PUBLIC \"-//W3C//DTD SVG 1.1//EN\"\r\n  \"http://www.w3.org/Graphics/SVG/1.1/DTD/svg11.dtd\">\r\n<!-- Created with matplotlib (https://matplotlib.org/) -->\r\n<svg height=\"262.19625pt\" version=\"1.1\" viewBox=\"0 0 506.928125 262.19625\" width=\"506.928125pt\" xmlns=\"http://www.w3.org/2000/svg\" xmlns:xlink=\"http://www.w3.org/1999/xlink\">\r\n <defs>\r\n  <style type=\"text/css\">\r\n*{stroke-linecap:butt;stroke-linejoin:round;}\r\n  </style>\r\n </defs>\r\n <g id=\"figure_1\">\r\n  <g id=\"patch_1\">\r\n   <path d=\"M 0 262.19625 \r\nL 506.928125 262.19625 \r\nL 506.928125 0 \r\nL 0 0 \r\nz\r\n\" style=\"fill:none;\"/>\r\n  </g>\r\n  <g id=\"axes_1\">\r\n   <g id=\"patch_2\">\r\n    <path d=\"M 53.328125 224.64 \r\nL 499.728125 224.64 \r\nL 499.728125 7.2 \r\nL 53.328125 7.2 \r\nz\r\n\" style=\"fill:#ffffff;\"/>\r\n   </g>\r\n   <g id=\"patch_3\">\r\n    <path clip-path=\"url(#p8e60d03cee)\" d=\"M 75.648125 224.64 \r\nL 164.928125 224.64 \r\nL 164.928125 134.954499 \r\nL 75.648125 134.954499 \r\nz\r\n\" style=\"fill:#3274a1;\"/>\r\n   </g>\r\n   <g id=\"patch_4\">\r\n    <path clip-path=\"url(#p8e60d03cee)\" d=\"M 298.848125 224.64 \r\nL 388.128125 224.64 \r\nL 388.128125 184.531129 \r\nL 298.848125 184.531129 \r\nz\r\n\" style=\"fill:#3274a1;\"/>\r\n   </g>\r\n   <g id=\"patch_5\">\r\n    <path clip-path=\"url(#p8e60d03cee)\" d=\"M 164.928125 224.64 \r\nL 254.208125 224.64 \r\nL 254.208125 17.554286 \r\nL 164.928125 17.554286 \r\nz\r\n\" style=\"fill:#e1812c;\"/>\r\n   </g>\r\n   <g id=\"patch_6\">\r\n    <path clip-path=\"url(#p8e60d03cee)\" d=\"M 388.128125 224.64 \r\nL 477.408125 224.64 \r\nL 477.408125 171.964831 \r\nL 388.128125 171.964831 \r\nz\r\n\" style=\"fill:#e1812c;\"/>\r\n   </g>\r\n   <g id=\"matplotlib.axis_1\">\r\n    <g id=\"xtick_1\">\r\n     <g id=\"line2d_1\">\r\n      <defs>\r\n       <path d=\"M 0 0 \r\nL 0 3.5 \r\n\" id=\"m5e2df43427\" style=\"stroke:#000000;stroke-width:0.8;\"/>\r\n      </defs>\r\n      <g>\r\n       <use style=\"stroke:#000000;stroke-width:0.8;\" x=\"164.928125\" xlink:href=\"#m5e2df43427\" y=\"224.64\"/>\r\n      </g>\r\n     </g>\r\n     <g id=\"text_1\">\r\n      <!-- 0 -->\r\n      <defs>\r\n       <path d=\"M 31.78125 66.40625 \r\nQ 24.171875 66.40625 20.328125 58.90625 \r\nQ 16.5 51.421875 16.5 36.375 \r\nQ 16.5 21.390625 20.328125 13.890625 \r\nQ 24.171875 6.390625 31.78125 6.390625 \r\nQ 39.453125 6.390625 43.28125 13.890625 \r\nQ 47.125 21.390625 47.125 36.375 \r\nQ 47.125 51.421875 43.28125 58.90625 \r\nQ 39.453125 66.40625 31.78125 66.40625 \r\nz\r\nM 31.78125 74.21875 \r\nQ 44.046875 74.21875 50.515625 64.515625 \r\nQ 56.984375 54.828125 56.984375 36.375 \r\nQ 56.984375 17.96875 50.515625 8.265625 \r\nQ 44.046875 -1.421875 31.78125 -1.421875 \r\nQ 19.53125 -1.421875 13.0625 8.265625 \r\nQ 6.59375 17.96875 6.59375 36.375 \r\nQ 6.59375 54.828125 13.0625 64.515625 \r\nQ 19.53125 74.21875 31.78125 74.21875 \r\nz\r\n\" id=\"DejaVuSans-48\"/>\r\n      </defs>\r\n      <g transform=\"translate(161.746875 239.238437)scale(0.1 -0.1)\">\r\n       <use xlink:href=\"#DejaVuSans-48\"/>\r\n      </g>\r\n     </g>\r\n    </g>\r\n    <g id=\"xtick_2\">\r\n     <g id=\"line2d_2\">\r\n      <g>\r\n       <use style=\"stroke:#000000;stroke-width:0.8;\" x=\"388.128125\" xlink:href=\"#m5e2df43427\" y=\"224.64\"/>\r\n      </g>\r\n     </g>\r\n     <g id=\"text_2\">\r\n      <!-- 1 -->\r\n      <defs>\r\n       <path d=\"M 12.40625 8.296875 \r\nL 28.515625 8.296875 \r\nL 28.515625 63.921875 \r\nL 10.984375 60.40625 \r\nL 10.984375 69.390625 \r\nL 28.421875 72.90625 \r\nL 38.28125 72.90625 \r\nL 38.28125 8.296875 \r\nL 54.390625 8.296875 \r\nL 54.390625 0 \r\nL 12.40625 0 \r\nz\r\n\" id=\"DejaVuSans-49\"/>\r\n      </defs>\r\n      <g transform=\"translate(384.946875 239.238437)scale(0.1 -0.1)\">\r\n       <use xlink:href=\"#DejaVuSans-49\"/>\r\n      </g>\r\n     </g>\r\n    </g>\r\n    <g id=\"text_3\">\r\n     <!-- WINNER -->\r\n     <defs>\r\n      <path d=\"M 3.328125 72.90625 \r\nL 13.28125 72.90625 \r\nL 28.609375 11.28125 \r\nL 43.890625 72.90625 \r\nL 54.984375 72.90625 \r\nL 70.3125 11.28125 \r\nL 85.59375 72.90625 \r\nL 95.609375 72.90625 \r\nL 77.296875 0 \r\nL 64.890625 0 \r\nL 49.515625 63.28125 \r\nL 33.984375 0 \r\nL 21.578125 0 \r\nz\r\n\" id=\"DejaVuSans-87\"/>\r\n      <path d=\"M 9.8125 72.90625 \r\nL 19.671875 72.90625 \r\nL 19.671875 0 \r\nL 9.8125 0 \r\nz\r\n\" id=\"DejaVuSans-73\"/>\r\n      <path d=\"M 9.8125 72.90625 \r\nL 23.09375 72.90625 \r\nL 55.421875 11.921875 \r\nL 55.421875 72.90625 \r\nL 64.984375 72.90625 \r\nL 64.984375 0 \r\nL 51.703125 0 \r\nL 19.390625 60.984375 \r\nL 19.390625 0 \r\nL 9.8125 0 \r\nz\r\n\" id=\"DejaVuSans-78\"/>\r\n      <path d=\"M 9.8125 72.90625 \r\nL 55.90625 72.90625 \r\nL 55.90625 64.59375 \r\nL 19.671875 64.59375 \r\nL 19.671875 43.015625 \r\nL 54.390625 43.015625 \r\nL 54.390625 34.71875 \r\nL 19.671875 34.71875 \r\nL 19.671875 8.296875 \r\nL 56.78125 8.296875 \r\nL 56.78125 0 \r\nL 9.8125 0 \r\nz\r\n\" id=\"DejaVuSans-69\"/>\r\n      <path d=\"M 44.390625 34.1875 \r\nQ 47.5625 33.109375 50.5625 29.59375 \r\nQ 53.5625 26.078125 56.59375 19.921875 \r\nL 66.609375 0 \r\nL 56 0 \r\nL 46.6875 18.703125 \r\nQ 43.0625 26.03125 39.671875 28.421875 \r\nQ 36.28125 30.8125 30.421875 30.8125 \r\nL 19.671875 30.8125 \r\nL 19.671875 0 \r\nL 9.8125 0 \r\nL 9.8125 72.90625 \r\nL 32.078125 72.90625 \r\nQ 44.578125 72.90625 50.734375 67.671875 \r\nQ 56.890625 62.453125 56.890625 51.90625 \r\nQ 56.890625 45.015625 53.6875 40.46875 \r\nQ 50.484375 35.9375 44.390625 34.1875 \r\nz\r\nM 19.671875 64.796875 \r\nL 19.671875 38.921875 \r\nL 32.078125 38.921875 \r\nQ 39.203125 38.921875 42.84375 42.21875 \r\nQ 46.484375 45.515625 46.484375 51.90625 \r\nQ 46.484375 58.296875 42.84375 61.546875 \r\nQ 39.203125 64.796875 32.078125 64.796875 \r\nz\r\n\" id=\"DejaVuSans-82\"/>\r\n     </defs>\r\n     <g transform=\"translate(255.994531 252.916562)scale(0.1 -0.1)\">\r\n      <use xlink:href=\"#DejaVuSans-87\"/>\r\n      <use x=\"98.876953\" xlink:href=\"#DejaVuSans-73\"/>\r\n      <use x=\"128.369141\" xlink:href=\"#DejaVuSans-78\"/>\r\n      <use x=\"203.173828\" xlink:href=\"#DejaVuSans-78\"/>\r\n      <use x=\"277.978516\" xlink:href=\"#DejaVuSans-69\"/>\r\n      <use x=\"341.162109\" xlink:href=\"#DejaVuSans-82\"/>\r\n     </g>\r\n    </g>\r\n   </g>\r\n   <g id=\"matplotlib.axis_2\">\r\n    <g id=\"ytick_1\">\r\n     <g id=\"line2d_3\">\r\n      <defs>\r\n       <path d=\"M 0 0 \r\nL -3.5 0 \r\n\" id=\"mfcb693eb35\" style=\"stroke:#000000;stroke-width:0.8;\"/>\r\n      </defs>\r\n      <g>\r\n       <use style=\"stroke:#000000;stroke-width:0.8;\" x=\"53.328125\" xlink:href=\"#mfcb693eb35\" y=\"224.64\"/>\r\n      </g>\r\n     </g>\r\n     <g id=\"text_4\">\r\n      <!-- 0 -->\r\n      <g transform=\"translate(39.965625 228.439219)scale(0.1 -0.1)\">\r\n       <use xlink:href=\"#DejaVuSans-48\"/>\r\n      </g>\r\n     </g>\r\n    </g>\r\n    <g id=\"ytick_2\">\r\n     <g id=\"line2d_4\">\r\n      <g>\r\n       <use style=\"stroke:#000000;stroke-width:0.8;\" x=\"53.328125\" xlink:href=\"#mfcb693eb35\" y=\"190.211785\"/>\r\n      </g>\r\n     </g>\r\n     <g id=\"text_5\">\r\n      <!-- 200 -->\r\n      <defs>\r\n       <path d=\"M 19.1875 8.296875 \r\nL 53.609375 8.296875 \r\nL 53.609375 0 \r\nL 7.328125 0 \r\nL 7.328125 8.296875 \r\nQ 12.9375 14.109375 22.625 23.890625 \r\nQ 32.328125 33.6875 34.8125 36.53125 \r\nQ 39.546875 41.84375 41.421875 45.53125 \r\nQ 43.3125 49.21875 43.3125 52.78125 \r\nQ 43.3125 58.59375 39.234375 62.25 \r\nQ 35.15625 65.921875 28.609375 65.921875 \r\nQ 23.96875 65.921875 18.8125 64.3125 \r\nQ 13.671875 62.703125 7.8125 59.421875 \r\nL 7.8125 69.390625 \r\nQ 13.765625 71.78125 18.9375 73 \r\nQ 24.125 74.21875 28.421875 74.21875 \r\nQ 39.75 74.21875 46.484375 68.546875 \r\nQ 53.21875 62.890625 53.21875 53.421875 \r\nQ 53.21875 48.921875 51.53125 44.890625 \r\nQ 49.859375 40.875 45.40625 35.40625 \r\nQ 44.1875 33.984375 37.640625 27.21875 \r\nQ 31.109375 20.453125 19.1875 8.296875 \r\nz\r\n\" id=\"DejaVuSans-50\"/>\r\n      </defs>\r\n      <g transform=\"translate(27.240625 194.011004)scale(0.1 -0.1)\">\r\n       <use xlink:href=\"#DejaVuSans-50\"/>\r\n       <use x=\"63.623047\" xlink:href=\"#DejaVuSans-48\"/>\r\n       <use x=\"127.246094\" xlink:href=\"#DejaVuSans-48\"/>\r\n      </g>\r\n     </g>\r\n    </g>\r\n    <g id=\"ytick_3\">\r\n     <g id=\"line2d_5\">\r\n      <g>\r\n       <use style=\"stroke:#000000;stroke-width:0.8;\" x=\"53.328125\" xlink:href=\"#mfcb693eb35\" y=\"155.78357\"/>\r\n      </g>\r\n     </g>\r\n     <g id=\"text_6\">\r\n      <!-- 400 -->\r\n      <defs>\r\n       <path d=\"M 37.796875 64.3125 \r\nL 12.890625 25.390625 \r\nL 37.796875 25.390625 \r\nz\r\nM 35.203125 72.90625 \r\nL 47.609375 72.90625 \r\nL 47.609375 25.390625 \r\nL 58.015625 25.390625 \r\nL 58.015625 17.1875 \r\nL 47.609375 17.1875 \r\nL 47.609375 0 \r\nL 37.796875 0 \r\nL 37.796875 17.1875 \r\nL 4.890625 17.1875 \r\nL 4.890625 26.703125 \r\nz\r\n\" id=\"DejaVuSans-52\"/>\r\n      </defs>\r\n      <g transform=\"translate(27.240625 159.582788)scale(0.1 -0.1)\">\r\n       <use xlink:href=\"#DejaVuSans-52\"/>\r\n       <use x=\"63.623047\" xlink:href=\"#DejaVuSans-48\"/>\r\n       <use x=\"127.246094\" xlink:href=\"#DejaVuSans-48\"/>\r\n      </g>\r\n     </g>\r\n    </g>\r\n    <g id=\"ytick_4\">\r\n     <g id=\"line2d_6\">\r\n      <g>\r\n       <use style=\"stroke:#000000;stroke-width:0.8;\" x=\"53.328125\" xlink:href=\"#mfcb693eb35\" y=\"121.355354\"/>\r\n      </g>\r\n     </g>\r\n     <g id=\"text_7\">\r\n      <!-- 600 -->\r\n      <defs>\r\n       <path d=\"M 33.015625 40.375 \r\nQ 26.375 40.375 22.484375 35.828125 \r\nQ 18.609375 31.296875 18.609375 23.390625 \r\nQ 18.609375 15.53125 22.484375 10.953125 \r\nQ 26.375 6.390625 33.015625 6.390625 \r\nQ 39.65625 6.390625 43.53125 10.953125 \r\nQ 47.40625 15.53125 47.40625 23.390625 \r\nQ 47.40625 31.296875 43.53125 35.828125 \r\nQ 39.65625 40.375 33.015625 40.375 \r\nz\r\nM 52.59375 71.296875 \r\nL 52.59375 62.3125 \r\nQ 48.875 64.0625 45.09375 64.984375 \r\nQ 41.3125 65.921875 37.59375 65.921875 \r\nQ 27.828125 65.921875 22.671875 59.328125 \r\nQ 17.53125 52.734375 16.796875 39.40625 \r\nQ 19.671875 43.65625 24.015625 45.921875 \r\nQ 28.375 48.1875 33.59375 48.1875 \r\nQ 44.578125 48.1875 50.953125 41.515625 \r\nQ 57.328125 34.859375 57.328125 23.390625 \r\nQ 57.328125 12.15625 50.6875 5.359375 \r\nQ 44.046875 -1.421875 33.015625 -1.421875 \r\nQ 20.359375 -1.421875 13.671875 8.265625 \r\nQ 6.984375 17.96875 6.984375 36.375 \r\nQ 6.984375 53.65625 15.1875 63.9375 \r\nQ 23.390625 74.21875 37.203125 74.21875 \r\nQ 40.921875 74.21875 44.703125 73.484375 \r\nQ 48.484375 72.75 52.59375 71.296875 \r\nz\r\n\" id=\"DejaVuSans-54\"/>\r\n      </defs>\r\n      <g transform=\"translate(27.240625 125.154573)scale(0.1 -0.1)\">\r\n       <use xlink:href=\"#DejaVuSans-54\"/>\r\n       <use x=\"63.623047\" xlink:href=\"#DejaVuSans-48\"/>\r\n       <use x=\"127.246094\" xlink:href=\"#DejaVuSans-48\"/>\r\n      </g>\r\n     </g>\r\n    </g>\r\n    <g id=\"ytick_5\">\r\n     <g id=\"line2d_7\">\r\n      <g>\r\n       <use style=\"stroke:#000000;stroke-width:0.8;\" x=\"53.328125\" xlink:href=\"#mfcb693eb35\" y=\"86.927139\"/>\r\n      </g>\r\n     </g>\r\n     <g id=\"text_8\">\r\n      <!-- 800 -->\r\n      <defs>\r\n       <path d=\"M 31.78125 34.625 \r\nQ 24.75 34.625 20.71875 30.859375 \r\nQ 16.703125 27.09375 16.703125 20.515625 \r\nQ 16.703125 13.921875 20.71875 10.15625 \r\nQ 24.75 6.390625 31.78125 6.390625 \r\nQ 38.8125 6.390625 42.859375 10.171875 \r\nQ 46.921875 13.96875 46.921875 20.515625 \r\nQ 46.921875 27.09375 42.890625 30.859375 \r\nQ 38.875 34.625 31.78125 34.625 \r\nz\r\nM 21.921875 38.8125 \r\nQ 15.578125 40.375 12.03125 44.71875 \r\nQ 8.5 49.078125 8.5 55.328125 \r\nQ 8.5 64.0625 14.71875 69.140625 \r\nQ 20.953125 74.21875 31.78125 74.21875 \r\nQ 42.671875 74.21875 48.875 69.140625 \r\nQ 55.078125 64.0625 55.078125 55.328125 \r\nQ 55.078125 49.078125 51.53125 44.71875 \r\nQ 48 40.375 41.703125 38.8125 \r\nQ 48.828125 37.15625 52.796875 32.3125 \r\nQ 56.78125 27.484375 56.78125 20.515625 \r\nQ 56.78125 9.90625 50.3125 4.234375 \r\nQ 43.84375 -1.421875 31.78125 -1.421875 \r\nQ 19.734375 -1.421875 13.25 4.234375 \r\nQ 6.78125 9.90625 6.78125 20.515625 \r\nQ 6.78125 27.484375 10.78125 32.3125 \r\nQ 14.796875 37.15625 21.921875 38.8125 \r\nz\r\nM 18.3125 54.390625 \r\nQ 18.3125 48.734375 21.84375 45.5625 \r\nQ 25.390625 42.390625 31.78125 42.390625 \r\nQ 38.140625 42.390625 41.71875 45.5625 \r\nQ 45.3125 48.734375 45.3125 54.390625 \r\nQ 45.3125 60.0625 41.71875 63.234375 \r\nQ 38.140625 66.40625 31.78125 66.40625 \r\nQ 25.390625 66.40625 21.84375 63.234375 \r\nQ 18.3125 60.0625 18.3125 54.390625 \r\nz\r\n\" id=\"DejaVuSans-56\"/>\r\n      </defs>\r\n      <g transform=\"translate(27.240625 90.726358)scale(0.1 -0.1)\">\r\n       <use xlink:href=\"#DejaVuSans-56\"/>\r\n       <use x=\"63.623047\" xlink:href=\"#DejaVuSans-48\"/>\r\n       <use x=\"127.246094\" xlink:href=\"#DejaVuSans-48\"/>\r\n      </g>\r\n     </g>\r\n    </g>\r\n    <g id=\"ytick_6\">\r\n     <g id=\"line2d_8\">\r\n      <g>\r\n       <use style=\"stroke:#000000;stroke-width:0.8;\" x=\"53.328125\" xlink:href=\"#mfcb693eb35\" y=\"52.498924\"/>\r\n      </g>\r\n     </g>\r\n     <g id=\"text_9\">\r\n      <!-- 1000 -->\r\n      <g transform=\"translate(20.878125 56.298143)scale(0.1 -0.1)\">\r\n       <use xlink:href=\"#DejaVuSans-49\"/>\r\n       <use x=\"63.623047\" xlink:href=\"#DejaVuSans-48\"/>\r\n       <use x=\"127.246094\" xlink:href=\"#DejaVuSans-48\"/>\r\n       <use x=\"190.869141\" xlink:href=\"#DejaVuSans-48\"/>\r\n      </g>\r\n     </g>\r\n    </g>\r\n    <g id=\"ytick_7\">\r\n     <g id=\"line2d_9\">\r\n      <g>\r\n       <use style=\"stroke:#000000;stroke-width:0.8;\" x=\"53.328125\" xlink:href=\"#mfcb693eb35\" y=\"18.070709\"/>\r\n      </g>\r\n     </g>\r\n     <g id=\"text_10\">\r\n      <!-- 1200 -->\r\n      <g transform=\"translate(20.878125 21.869928)scale(0.1 -0.1)\">\r\n       <use xlink:href=\"#DejaVuSans-49\"/>\r\n       <use x=\"63.623047\" xlink:href=\"#DejaVuSans-50\"/>\r\n       <use x=\"127.246094\" xlink:href=\"#DejaVuSans-48\"/>\r\n       <use x=\"190.869141\" xlink:href=\"#DejaVuSans-48\"/>\r\n      </g>\r\n     </g>\r\n    </g>\r\n    <g id=\"text_11\">\r\n     <!-- count -->\r\n     <defs>\r\n      <path d=\"M 48.78125 52.59375 \r\nL 48.78125 44.1875 \r\nQ 44.96875 46.296875 41.140625 47.34375 \r\nQ 37.3125 48.390625 33.40625 48.390625 \r\nQ 24.65625 48.390625 19.8125 42.84375 \r\nQ 14.984375 37.3125 14.984375 27.296875 \r\nQ 14.984375 17.28125 19.8125 11.734375 \r\nQ 24.65625 6.203125 33.40625 6.203125 \r\nQ 37.3125 6.203125 41.140625 7.25 \r\nQ 44.96875 8.296875 48.78125 10.40625 \r\nL 48.78125 2.09375 \r\nQ 45.015625 0.34375 40.984375 -0.53125 \r\nQ 36.96875 -1.421875 32.421875 -1.421875 \r\nQ 20.0625 -1.421875 12.78125 6.34375 \r\nQ 5.515625 14.109375 5.515625 27.296875 \r\nQ 5.515625 40.671875 12.859375 48.328125 \r\nQ 20.21875 56 33.015625 56 \r\nQ 37.15625 56 41.109375 55.140625 \r\nQ 45.0625 54.296875 48.78125 52.59375 \r\nz\r\n\" id=\"DejaVuSans-99\"/>\r\n      <path d=\"M 30.609375 48.390625 \r\nQ 23.390625 48.390625 19.1875 42.75 \r\nQ 14.984375 37.109375 14.984375 27.296875 \r\nQ 14.984375 17.484375 19.15625 11.84375 \r\nQ 23.34375 6.203125 30.609375 6.203125 \r\nQ 37.796875 6.203125 41.984375 11.859375 \r\nQ 46.1875 17.53125 46.1875 27.296875 \r\nQ 46.1875 37.015625 41.984375 42.703125 \r\nQ 37.796875 48.390625 30.609375 48.390625 \r\nz\r\nM 30.609375 56 \r\nQ 42.328125 56 49.015625 48.375 \r\nQ 55.71875 40.765625 55.71875 27.296875 \r\nQ 55.71875 13.875 49.015625 6.21875 \r\nQ 42.328125 -1.421875 30.609375 -1.421875 \r\nQ 18.84375 -1.421875 12.171875 6.21875 \r\nQ 5.515625 13.875 5.515625 27.296875 \r\nQ 5.515625 40.765625 12.171875 48.375 \r\nQ 18.84375 56 30.609375 56 \r\nz\r\n\" id=\"DejaVuSans-111\"/>\r\n      <path d=\"M 8.5 21.578125 \r\nL 8.5 54.6875 \r\nL 17.484375 54.6875 \r\nL 17.484375 21.921875 \r\nQ 17.484375 14.15625 20.5 10.265625 \r\nQ 23.53125 6.390625 29.59375 6.390625 \r\nQ 36.859375 6.390625 41.078125 11.03125 \r\nQ 45.3125 15.671875 45.3125 23.6875 \r\nL 45.3125 54.6875 \r\nL 54.296875 54.6875 \r\nL 54.296875 0 \r\nL 45.3125 0 \r\nL 45.3125 8.40625 \r\nQ 42.046875 3.421875 37.71875 1 \r\nQ 33.40625 -1.421875 27.6875 -1.421875 \r\nQ 18.265625 -1.421875 13.375 4.4375 \r\nQ 8.5 10.296875 8.5 21.578125 \r\nz\r\nM 31.109375 56 \r\nz\r\n\" id=\"DejaVuSans-117\"/>\r\n      <path d=\"M 54.890625 33.015625 \r\nL 54.890625 0 \r\nL 45.90625 0 \r\nL 45.90625 32.71875 \r\nQ 45.90625 40.484375 42.875 44.328125 \r\nQ 39.84375 48.1875 33.796875 48.1875 \r\nQ 26.515625 48.1875 22.3125 43.546875 \r\nQ 18.109375 38.921875 18.109375 30.90625 \r\nL 18.109375 0 \r\nL 9.078125 0 \r\nL 9.078125 54.6875 \r\nL 18.109375 54.6875 \r\nL 18.109375 46.1875 \r\nQ 21.34375 51.125 25.703125 53.5625 \r\nQ 30.078125 56 35.796875 56 \r\nQ 45.21875 56 50.046875 50.171875 \r\nQ 54.890625 44.34375 54.890625 33.015625 \r\nz\r\n\" id=\"DejaVuSans-110\"/>\r\n      <path d=\"M 18.3125 70.21875 \r\nL 18.3125 54.6875 \r\nL 36.8125 54.6875 \r\nL 36.8125 47.703125 \r\nL 18.3125 47.703125 \r\nL 18.3125 18.015625 \r\nQ 18.3125 11.328125 20.140625 9.421875 \r\nQ 21.96875 7.515625 27.59375 7.515625 \r\nL 36.8125 7.515625 \r\nL 36.8125 0 \r\nL 27.59375 0 \r\nQ 17.1875 0 13.234375 3.875 \r\nQ 9.28125 7.765625 9.28125 18.015625 \r\nL 9.28125 47.703125 \r\nL 2.6875 47.703125 \r\nL 2.6875 54.6875 \r\nL 9.28125 54.6875 \r\nL 9.28125 70.21875 \r\nz\r\n\" id=\"DejaVuSans-116\"/>\r\n     </defs>\r\n     <g transform=\"translate(14.798438 130.02625)rotate(-90)scale(0.1 -0.1)\">\r\n      <use xlink:href=\"#DejaVuSans-99\"/>\r\n      <use x=\"54.980469\" xlink:href=\"#DejaVuSans-111\"/>\r\n      <use x=\"116.162109\" xlink:href=\"#DejaVuSans-117\"/>\r\n      <use x=\"179.541016\" xlink:href=\"#DejaVuSans-110\"/>\r\n      <use x=\"242.919922\" xlink:href=\"#DejaVuSans-116\"/>\r\n     </g>\r\n    </g>\r\n   </g>\r\n   <g id=\"patch_7\">\r\n    <path d=\"M 53.328125 224.64 \r\nL 53.328125 7.2 \r\n\" style=\"fill:none;stroke:#000000;stroke-linecap:square;stroke-linejoin:miter;stroke-width:0.8;\"/>\r\n   </g>\r\n   <g id=\"patch_8\">\r\n    <path d=\"M 499.728125 224.64 \r\nL 499.728125 7.2 \r\n\" style=\"fill:none;stroke:#000000;stroke-linecap:square;stroke-linejoin:miter;stroke-width:0.8;\"/>\r\n   </g>\r\n   <g id=\"patch_9\">\r\n    <path d=\"M 53.328125 224.64 \r\nL 499.728125 224.64 \r\n\" style=\"fill:none;stroke:#000000;stroke-linecap:square;stroke-linejoin:miter;stroke-width:0.8;\"/>\r\n   </g>\r\n   <g id=\"patch_10\">\r\n    <path d=\"M 53.328125 7.2 \r\nL 499.728125 7.2 \r\n\" style=\"fill:none;stroke:#000000;stroke-linecap:square;stroke-linejoin:miter;stroke-width:0.8;\"/>\r\n   </g>\r\n   <g id=\"legend_1\">\r\n    <g id=\"patch_11\">\r\n     <path d=\"M 410.35 70.432187 \r\nL 492.728125 70.432187 \r\nQ 494.728125 70.432187 494.728125 68.432187 \r\nL 494.728125 14.2 \r\nQ 494.728125 12.2 492.728125 12.2 \r\nL 410.35 12.2 \r\nQ 408.35 12.2 408.35 14.2 \r\nL 408.35 68.432187 \r\nQ 408.35 70.432187 410.35 70.432187 \r\nz\r\n\" style=\"fill:#ffffff;opacity:0.8;stroke:#cccccc;stroke-linejoin:miter;\"/>\r\n    </g>\r\n    <g id=\"text_12\">\r\n     <!-- CRIMINAL -->\r\n     <defs>\r\n      <path d=\"M 64.40625 67.28125 \r\nL 64.40625 56.890625 \r\nQ 59.421875 61.53125 53.78125 63.8125 \r\nQ 48.140625 66.109375 41.796875 66.109375 \r\nQ 29.296875 66.109375 22.65625 58.46875 \r\nQ 16.015625 50.828125 16.015625 36.375 \r\nQ 16.015625 21.96875 22.65625 14.328125 \r\nQ 29.296875 6.6875 41.796875 6.6875 \r\nQ 48.140625 6.6875 53.78125 8.984375 \r\nQ 59.421875 11.28125 64.40625 15.921875 \r\nL 64.40625 5.609375 \r\nQ 59.234375 2.09375 53.4375 0.328125 \r\nQ 47.65625 -1.421875 41.21875 -1.421875 \r\nQ 24.65625 -1.421875 15.125 8.703125 \r\nQ 5.609375 18.84375 5.609375 36.375 \r\nQ 5.609375 53.953125 15.125 64.078125 \r\nQ 24.65625 74.21875 41.21875 74.21875 \r\nQ 47.75 74.21875 53.53125 72.484375 \r\nQ 59.328125 70.75 64.40625 67.28125 \r\nz\r\n\" id=\"DejaVuSans-67\"/>\r\n      <path d=\"M 9.8125 72.90625 \r\nL 24.515625 72.90625 \r\nL 43.109375 23.296875 \r\nL 61.8125 72.90625 \r\nL 76.515625 72.90625 \r\nL 76.515625 0 \r\nL 66.890625 0 \r\nL 66.890625 64.015625 \r\nL 48.09375 14.015625 \r\nL 38.1875 14.015625 \r\nL 19.390625 64.015625 \r\nL 19.390625 0 \r\nL 9.8125 0 \r\nz\r\n\" id=\"DejaVuSans-77\"/>\r\n      <path d=\"M 34.1875 63.1875 \r\nL 20.796875 26.90625 \r\nL 47.609375 26.90625 \r\nz\r\nM 28.609375 72.90625 \r\nL 39.796875 72.90625 \r\nL 67.578125 0 \r\nL 57.328125 0 \r\nL 50.6875 18.703125 \r\nL 17.828125 18.703125 \r\nL 11.1875 0 \r\nL 0.78125 0 \r\nz\r\n\" id=\"DejaVuSans-65\"/>\r\n      <path d=\"M 9.8125 72.90625 \r\nL 19.671875 72.90625 \r\nL 19.671875 8.296875 \r\nL 55.171875 8.296875 \r\nL 55.171875 0 \r\nL 9.8125 0 \r\nz\r\n\" id=\"DejaVuSans-76\"/>\r\n     </defs>\r\n     <g transform=\"translate(427.3625 23.798437)scale(0.1 -0.1)\">\r\n      <use xlink:href=\"#DejaVuSans-67\"/>\r\n      <use x=\"69.824219\" xlink:href=\"#DejaVuSans-82\"/>\r\n      <use x=\"139.306641\" xlink:href=\"#DejaVuSans-73\"/>\r\n      <use x=\"168.798828\" xlink:href=\"#DejaVuSans-77\"/>\r\n      <use x=\"255.078125\" xlink:href=\"#DejaVuSans-73\"/>\r\n      <use x=\"284.570312\" xlink:href=\"#DejaVuSans-78\"/>\r\n      <use x=\"359.375\" xlink:href=\"#DejaVuSans-65\"/>\r\n      <use x=\"427.783203\" xlink:href=\"#DejaVuSans-76\"/>\r\n     </g>\r\n     <!-- CASES -->\r\n     <defs>\r\n      <path d=\"M 53.515625 70.515625 \r\nL 53.515625 60.890625 \r\nQ 47.90625 63.578125 42.921875 64.890625 \r\nQ 37.9375 66.21875 33.296875 66.21875 \r\nQ 25.25 66.21875 20.875 63.09375 \r\nQ 16.5 59.96875 16.5 54.203125 \r\nQ 16.5 49.359375 19.40625 46.890625 \r\nQ 22.3125 44.4375 30.421875 42.921875 \r\nL 36.375 41.703125 \r\nQ 47.40625 39.59375 52.65625 34.296875 \r\nQ 57.90625 29 57.90625 20.125 \r\nQ 57.90625 9.515625 50.796875 4.046875 \r\nQ 43.703125 -1.421875 29.984375 -1.421875 \r\nQ 24.8125 -1.421875 18.96875 -0.25 \r\nQ 13.140625 0.921875 6.890625 3.21875 \r\nL 6.890625 13.375 \r\nQ 12.890625 10.015625 18.65625 8.296875 \r\nQ 24.421875 6.59375 29.984375 6.59375 \r\nQ 38.421875 6.59375 43.015625 9.90625 \r\nQ 47.609375 13.234375 47.609375 19.390625 \r\nQ 47.609375 24.75 44.3125 27.78125 \r\nQ 41.015625 30.8125 33.5 32.328125 \r\nL 27.484375 33.5 \r\nQ 16.453125 35.6875 11.515625 40.375 \r\nQ 6.59375 45.0625 6.59375 53.421875 \r\nQ 6.59375 63.09375 13.40625 68.65625 \r\nQ 20.21875 74.21875 32.171875 74.21875 \r\nQ 37.3125 74.21875 42.625 73.28125 \r\nQ 47.953125 72.359375 53.515625 70.515625 \r\nz\r\n\" id=\"DejaVuSans-83\"/>\r\n     </defs>\r\n     <g transform=\"translate(427.3625 34.99625)scale(0.1 -0.1)\">\r\n      <use xlink:href=\"#DejaVuSans-67\"/>\r\n      <use x=\"69.824219\" xlink:href=\"#DejaVuSans-65\"/>\r\n      <use x=\"138.232422\" xlink:href=\"#DejaVuSans-83\"/>\r\n      <use x=\"201.708984\" xlink:href=\"#DejaVuSans-69\"/>\r\n      <use x=\"264.892578\" xlink:href=\"#DejaVuSans-83\"/>\r\n     </g>\r\n    </g>\r\n    <g id=\"patch_12\">\r\n     <path d=\"M 412.35 49.674375 \r\nL 432.35 49.674375 \r\nL 432.35 42.674375 \r\nL 412.35 42.674375 \r\nz\r\n\" style=\"fill:#3274a1;\"/>\r\n    </g>\r\n    <g id=\"text_13\">\r\n     <!-- HAS CASE -->\r\n     <defs>\r\n      <path d=\"M 9.8125 72.90625 \r\nL 19.671875 72.90625 \r\nL 19.671875 43.015625 \r\nL 55.515625 43.015625 \r\nL 55.515625 72.90625 \r\nL 65.375 72.90625 \r\nL 65.375 0 \r\nL 55.515625 0 \r\nL 55.515625 34.71875 \r\nL 19.671875 34.71875 \r\nL 19.671875 0 \r\nL 9.8125 0 \r\nz\r\n\" id=\"DejaVuSans-72\"/>\r\n      <path id=\"DejaVuSans-32\"/>\r\n     </defs>\r\n     <g transform=\"translate(440.35 49.674375)scale(0.1 -0.1)\">\r\n      <use xlink:href=\"#DejaVuSans-72\"/>\r\n      <use x=\"75.195312\" xlink:href=\"#DejaVuSans-65\"/>\r\n      <use x=\"143.603516\" xlink:href=\"#DejaVuSans-83\"/>\r\n      <use x=\"207.080078\" xlink:href=\"#DejaVuSans-32\"/>\r\n      <use x=\"238.867188\" xlink:href=\"#DejaVuSans-67\"/>\r\n      <use x=\"308.691406\" xlink:href=\"#DejaVuSans-65\"/>\r\n      <use x=\"377.099609\" xlink:href=\"#DejaVuSans-83\"/>\r\n      <use x=\"440.576172\" xlink:href=\"#DejaVuSans-69\"/>\r\n     </g>\r\n    </g>\r\n    <g id=\"patch_13\">\r\n     <path d=\"M 412.35 64.3525 \r\nL 432.35 64.3525 \r\nL 432.35 57.3525 \r\nL 412.35 57.3525 \r\nz\r\n\" style=\"fill:#e1812c;\"/>\r\n    </g>\r\n    <g id=\"text_14\">\r\n     <!-- NO CASE -->\r\n     <defs>\r\n      <path d=\"M 39.40625 66.21875 \r\nQ 28.65625 66.21875 22.328125 58.203125 \r\nQ 16.015625 50.203125 16.015625 36.375 \r\nQ 16.015625 22.609375 22.328125 14.59375 \r\nQ 28.65625 6.59375 39.40625 6.59375 \r\nQ 50.140625 6.59375 56.421875 14.59375 \r\nQ 62.703125 22.609375 62.703125 36.375 \r\nQ 62.703125 50.203125 56.421875 58.203125 \r\nQ 50.140625 66.21875 39.40625 66.21875 \r\nz\r\nM 39.40625 74.21875 \r\nQ 54.734375 74.21875 63.90625 63.9375 \r\nQ 73.09375 53.65625 73.09375 36.375 \r\nQ 73.09375 19.140625 63.90625 8.859375 \r\nQ 54.734375 -1.421875 39.40625 -1.421875 \r\nQ 24.03125 -1.421875 14.8125 8.828125 \r\nQ 5.609375 19.09375 5.609375 36.375 \r\nQ 5.609375 53.65625 14.8125 63.9375 \r\nQ 24.03125 74.21875 39.40625 74.21875 \r\nz\r\n\" id=\"DejaVuSans-79\"/>\r\n     </defs>\r\n     <g transform=\"translate(440.35 64.3525)scale(0.1 -0.1)\">\r\n      <use xlink:href=\"#DejaVuSans-78\"/>\r\n      <use x=\"74.804688\" xlink:href=\"#DejaVuSans-79\"/>\r\n      <use x=\"153.515625\" xlink:href=\"#DejaVuSans-32\"/>\r\n      <use x=\"185.302734\" xlink:href=\"#DejaVuSans-67\"/>\r\n      <use x=\"255.126953\" xlink:href=\"#DejaVuSans-65\"/>\r\n      <use x=\"323.535156\" xlink:href=\"#DejaVuSans-83\"/>\r\n      <use x=\"387.011719\" xlink:href=\"#DejaVuSans-69\"/>\r\n     </g>\r\n    </g>\r\n   </g>\r\n  </g>\r\n </g>\r\n <defs>\r\n  <clipPath id=\"p8e60d03cee\">\r\n   <rect height=\"217.44\" width=\"446.4\" x=\"53.328125\" y=\"7.2\"/>\r\n  </clipPath>\r\n </defs>\r\n</svg>\r\n",
      "image/png": "[encoded data removed]"
     },
     "metadata": {
      "needs_background": "light"
     }
    }
   ],
   "source": [
    "plt.figure(figsize=(8,4))\n",
    "sns.countplot(x='WINNER',hue='CRIMINAL\\nCASES',data=df)"
   ]
  },
  {
   "cell_type": "markdown",
   "metadata": {},
   "source": [
    "## Genderwise criminal cases"
   ]
  },
  {
   "cell_type": "code",
   "execution_count": 17,
   "metadata": {},
   "outputs": [
    {
     "output_type": "execute_result",
     "data": {
      "text/plain": "<matplotlib.axes._subplots.AxesSubplot at 0x1e5bcd8f2c8>"
     },
     "metadata": {},
     "execution_count": 17
    },
    {
     "output_type": "display_data",
     "data": {
      "text/plain": "<Figure size 432x288 with 1 Axes>",
      "image/svg+xml": "<?xml version=\"1.0\" encoding=\"utf-8\" standalone=\"no\"?>\r\n<!DOCTYPE svg PUBLIC \"-//W3C//DTD SVG 1.1//EN\"\r\n  \"http://www.w3.org/Graphics/SVG/1.1/DTD/svg11.dtd\">\r\n<!-- Created with matplotlib (https://matplotlib.org/) -->\r\n<svg height=\"262.19625pt\" version=\"1.1\" viewBox=\"0 0 454.514062 262.19625\" width=\"454.514062pt\" xmlns=\"http://www.w3.org/2000/svg\" xmlns:xlink=\"http://www.w3.org/1999/xlink\">\r\n <defs>\r\n  <style type=\"text/css\">\r\n*{stroke-linecap:butt;stroke-linejoin:round;}\r\n  </style>\r\n </defs>\r\n <g id=\"figure_1\">\r\n  <g id=\"patch_1\">\r\n   <path d=\"M 0 262.19625 \r\nL 454.514062 262.19625 \r\nL 454.514062 0 \r\nL 0 0 \r\nz\r\n\" style=\"fill:none;\"/>\r\n  </g>\r\n  <g id=\"axes_1\">\r\n   <g id=\"patch_2\">\r\n    <path d=\"M 112.514063 224.64 \r\nL 447.314063 224.64 \r\nL 447.314063 7.2 \r\nL 112.514063 7.2 \r\nz\r\n\" style=\"fill:#ffffff;\"/>\r\n   </g>\r\n   <g id=\"patch_3\">\r\n    <path clip-path=\"url(#pa2776a1b8d)\" d=\"M 112.514063 14.448 \r\nL 313.757542 14.448 \r\nL 313.757542 43.44 \r\nL 112.514063 43.44 \r\nz\r\n\" style=\"fill:#cd1d1d;\"/>\r\n   </g>\r\n   <g id=\"patch_4\">\r\n    <path clip-path=\"url(#pa2776a1b8d)\" d=\"z\r\n\" style=\"fill:#cd1d1d;\"/>\r\n   </g>\r\n   <g id=\"patch_5\">\r\n    <path clip-path=\"url(#pa2776a1b8d)\" d=\"M 112.514063 159.408 \r\nL 134.086418 159.408 \r\nL 134.086418 188.4 \r\nL 112.514063 188.4 \r\nz\r\n\" style=\"fill:#cd1d1d;\"/>\r\n   </g>\r\n   <g id=\"patch_6\">\r\n    <path clip-path=\"url(#pa2776a1b8d)\" d=\"M 112.514063 43.44 \r\nL 431.371205 43.44 \r\nL 431.371205 72.432 \r\nL 112.514063 72.432 \r\nz\r\n\" style=\"fill:#dfb720;\"/>\r\n   </g>\r\n   <g id=\"patch_7\">\r\n    <path clip-path=\"url(#pa2776a1b8d)\" d=\"M 112.514063 115.92 \r\nL 184.914433 115.92 \r\nL 184.914433 144.912 \r\nL 112.514063 144.912 \r\nz\r\n\" style=\"fill:#dfb720;\"/>\r\n   </g>\r\n   <g id=\"patch_8\">\r\n    <path clip-path=\"url(#pa2776a1b8d)\" d=\"M 112.514063 188.4 \r\nL 167.18373 188.4 \r\nL 167.18373 217.392 \r\nL 112.514063 217.392 \r\nz\r\n\" style=\"fill:#dfb720;\"/>\r\n   </g>\r\n   <g id=\"matplotlib.axis_1\">\r\n    <g id=\"xtick_1\">\r\n     <g id=\"line2d_1\">\r\n      <defs>\r\n       <path d=\"M 0 0 \r\nL 0 3.5 \r\n\" id=\"mbb41d50e01\" style=\"stroke:#000000;stroke-width:0.8;\"/>\r\n      </defs>\r\n      <g>\r\n       <use style=\"stroke:#000000;stroke-width:0.8;\" x=\"112.514063\" xlink:href=\"#mbb41d50e01\" y=\"224.64\"/>\r\n      </g>\r\n     </g>\r\n     <g id=\"text_1\">\r\n      <!-- 0 -->\r\n      <defs>\r\n       <path d=\"M 31.78125 66.40625 \r\nQ 24.171875 66.40625 20.328125 58.90625 \r\nQ 16.5 51.421875 16.5 36.375 \r\nQ 16.5 21.390625 20.328125 13.890625 \r\nQ 24.171875 6.390625 31.78125 6.390625 \r\nQ 39.453125 6.390625 43.28125 13.890625 \r\nQ 47.125 21.390625 47.125 36.375 \r\nQ 47.125 51.421875 43.28125 58.90625 \r\nQ 39.453125 66.40625 31.78125 66.40625 \r\nz\r\nM 31.78125 74.21875 \r\nQ 44.046875 74.21875 50.515625 64.515625 \r\nQ 56.984375 54.828125 56.984375 36.375 \r\nQ 56.984375 17.96875 50.515625 8.265625 \r\nQ 44.046875 -1.421875 31.78125 -1.421875 \r\nQ 19.53125 -1.421875 13.0625 8.265625 \r\nQ 6.59375 17.96875 6.59375 36.375 \r\nQ 6.59375 54.828125 13.0625 64.515625 \r\nQ 19.53125 74.21875 31.78125 74.21875 \r\nz\r\n\" id=\"DejaVuSans-48\"/>\r\n      </defs>\r\n      <g transform=\"translate(109.332813 239.238437)scale(0.1 -0.1)\">\r\n       <use xlink:href=\"#DejaVuSans-48\"/>\r\n      </g>\r\n     </g>\r\n    </g>\r\n    <g id=\"xtick_2\">\r\n     <g id=\"line2d_2\">\r\n      <g>\r\n       <use style=\"stroke:#000000;stroke-width:0.8;\" x=\"171.616406\" xlink:href=\"#mbb41d50e01\" y=\"224.64\"/>\r\n      </g>\r\n     </g>\r\n     <g id=\"text_2\">\r\n      <!-- 200 -->\r\n      <defs>\r\n       <path d=\"M 19.1875 8.296875 \r\nL 53.609375 8.296875 \r\nL 53.609375 0 \r\nL 7.328125 0 \r\nL 7.328125 8.296875 \r\nQ 12.9375 14.109375 22.625 23.890625 \r\nQ 32.328125 33.6875 34.8125 36.53125 \r\nQ 39.546875 41.84375 41.421875 45.53125 \r\nQ 43.3125 49.21875 43.3125 52.78125 \r\nQ 43.3125 58.59375 39.234375 62.25 \r\nQ 35.15625 65.921875 28.609375 65.921875 \r\nQ 23.96875 65.921875 18.8125 64.3125 \r\nQ 13.671875 62.703125 7.8125 59.421875 \r\nL 7.8125 69.390625 \r\nQ 13.765625 71.78125 18.9375 73 \r\nQ 24.125 74.21875 28.421875 74.21875 \r\nQ 39.75 74.21875 46.484375 68.546875 \r\nQ 53.21875 62.890625 53.21875 53.421875 \r\nQ 53.21875 48.921875 51.53125 44.890625 \r\nQ 49.859375 40.875 45.40625 35.40625 \r\nQ 44.1875 33.984375 37.640625 27.21875 \r\nQ 31.109375 20.453125 19.1875 8.296875 \r\nz\r\n\" id=\"DejaVuSans-50\"/>\r\n      </defs>\r\n      <g transform=\"translate(162.072656 239.238437)scale(0.1 -0.1)\">\r\n       <use xlink:href=\"#DejaVuSans-50\"/>\r\n       <use x=\"63.623047\" xlink:href=\"#DejaVuSans-48\"/>\r\n       <use x=\"127.246094\" xlink:href=\"#DejaVuSans-48\"/>\r\n      </g>\r\n     </g>\r\n    </g>\r\n    <g id=\"xtick_3\">\r\n     <g id=\"line2d_3\">\r\n      <g>\r\n       <use style=\"stroke:#000000;stroke-width:0.8;\" x=\"230.718749\" xlink:href=\"#mbb41d50e01\" y=\"224.64\"/>\r\n      </g>\r\n     </g>\r\n     <g id=\"text_3\">\r\n      <!-- 400 -->\r\n      <defs>\r\n       <path d=\"M 37.796875 64.3125 \r\nL 12.890625 25.390625 \r\nL 37.796875 25.390625 \r\nz\r\nM 35.203125 72.90625 \r\nL 47.609375 72.90625 \r\nL 47.609375 25.390625 \r\nL 58.015625 25.390625 \r\nL 58.015625 17.1875 \r\nL 47.609375 17.1875 \r\nL 47.609375 0 \r\nL 37.796875 0 \r\nL 37.796875 17.1875 \r\nL 4.890625 17.1875 \r\nL 4.890625 26.703125 \r\nz\r\n\" id=\"DejaVuSans-52\"/>\r\n      </defs>\r\n      <g transform=\"translate(221.174999 239.238437)scale(0.1 -0.1)\">\r\n       <use xlink:href=\"#DejaVuSans-52\"/>\r\n       <use x=\"63.623047\" xlink:href=\"#DejaVuSans-48\"/>\r\n       <use x=\"127.246094\" xlink:href=\"#DejaVuSans-48\"/>\r\n      </g>\r\n     </g>\r\n    </g>\r\n    <g id=\"xtick_4\">\r\n     <g id=\"line2d_4\">\r\n      <g>\r\n       <use style=\"stroke:#000000;stroke-width:0.8;\" x=\"289.821093\" xlink:href=\"#mbb41d50e01\" y=\"224.64\"/>\r\n      </g>\r\n     </g>\r\n     <g id=\"text_4\">\r\n      <!-- 600 -->\r\n      <defs>\r\n       <path d=\"M 33.015625 40.375 \r\nQ 26.375 40.375 22.484375 35.828125 \r\nQ 18.609375 31.296875 18.609375 23.390625 \r\nQ 18.609375 15.53125 22.484375 10.953125 \r\nQ 26.375 6.390625 33.015625 6.390625 \r\nQ 39.65625 6.390625 43.53125 10.953125 \r\nQ 47.40625 15.53125 47.40625 23.390625 \r\nQ 47.40625 31.296875 43.53125 35.828125 \r\nQ 39.65625 40.375 33.015625 40.375 \r\nz\r\nM 52.59375 71.296875 \r\nL 52.59375 62.3125 \r\nQ 48.875 64.0625 45.09375 64.984375 \r\nQ 41.3125 65.921875 37.59375 65.921875 \r\nQ 27.828125 65.921875 22.671875 59.328125 \r\nQ 17.53125 52.734375 16.796875 39.40625 \r\nQ 19.671875 43.65625 24.015625 45.921875 \r\nQ 28.375 48.1875 33.59375 48.1875 \r\nQ 44.578125 48.1875 50.953125 41.515625 \r\nQ 57.328125 34.859375 57.328125 23.390625 \r\nQ 57.328125 12.15625 50.6875 5.359375 \r\nQ 44.046875 -1.421875 33.015625 -1.421875 \r\nQ 20.359375 -1.421875 13.671875 8.265625 \r\nQ 6.984375 17.96875 6.984375 36.375 \r\nQ 6.984375 53.65625 15.1875 63.9375 \r\nQ 23.390625 74.21875 37.203125 74.21875 \r\nQ 40.921875 74.21875 44.703125 73.484375 \r\nQ 48.484375 72.75 52.59375 71.296875 \r\nz\r\n\" id=\"DejaVuSans-54\"/>\r\n      </defs>\r\n      <g transform=\"translate(280.277343 239.238437)scale(0.1 -0.1)\">\r\n       <use xlink:href=\"#DejaVuSans-54\"/>\r\n       <use x=\"63.623047\" xlink:href=\"#DejaVuSans-48\"/>\r\n       <use x=\"127.246094\" xlink:href=\"#DejaVuSans-48\"/>\r\n      </g>\r\n     </g>\r\n    </g>\r\n    <g id=\"xtick_5\">\r\n     <g id=\"line2d_5\">\r\n      <g>\r\n       <use style=\"stroke:#000000;stroke-width:0.8;\" x=\"348.923436\" xlink:href=\"#mbb41d50e01\" y=\"224.64\"/>\r\n      </g>\r\n     </g>\r\n     <g id=\"text_5\">\r\n      <!-- 800 -->\r\n      <defs>\r\n       <path d=\"M 31.78125 34.625 \r\nQ 24.75 34.625 20.71875 30.859375 \r\nQ 16.703125 27.09375 16.703125 20.515625 \r\nQ 16.703125 13.921875 20.71875 10.15625 \r\nQ 24.75 6.390625 31.78125 6.390625 \r\nQ 38.8125 6.390625 42.859375 10.171875 \r\nQ 46.921875 13.96875 46.921875 20.515625 \r\nQ 46.921875 27.09375 42.890625 30.859375 \r\nQ 38.875 34.625 31.78125 34.625 \r\nz\r\nM 21.921875 38.8125 \r\nQ 15.578125 40.375 12.03125 44.71875 \r\nQ 8.5 49.078125 8.5 55.328125 \r\nQ 8.5 64.0625 14.71875 69.140625 \r\nQ 20.953125 74.21875 31.78125 74.21875 \r\nQ 42.671875 74.21875 48.875 69.140625 \r\nQ 55.078125 64.0625 55.078125 55.328125 \r\nQ 55.078125 49.078125 51.53125 44.71875 \r\nQ 48 40.375 41.703125 38.8125 \r\nQ 48.828125 37.15625 52.796875 32.3125 \r\nQ 56.78125 27.484375 56.78125 20.515625 \r\nQ 56.78125 9.90625 50.3125 4.234375 \r\nQ 43.84375 -1.421875 31.78125 -1.421875 \r\nQ 19.734375 -1.421875 13.25 4.234375 \r\nQ 6.78125 9.90625 6.78125 20.515625 \r\nQ 6.78125 27.484375 10.78125 32.3125 \r\nQ 14.796875 37.15625 21.921875 38.8125 \r\nz\r\nM 18.3125 54.390625 \r\nQ 18.3125 48.734375 21.84375 45.5625 \r\nQ 25.390625 42.390625 31.78125 42.390625 \r\nQ 38.140625 42.390625 41.71875 45.5625 \r\nQ 45.3125 48.734375 45.3125 54.390625 \r\nQ 45.3125 60.0625 41.71875 63.234375 \r\nQ 38.140625 66.40625 31.78125 66.40625 \r\nQ 25.390625 66.40625 21.84375 63.234375 \r\nQ 18.3125 60.0625 18.3125 54.390625 \r\nz\r\n\" id=\"DejaVuSans-56\"/>\r\n      </defs>\r\n      <g transform=\"translate(339.379686 239.238437)scale(0.1 -0.1)\">\r\n       <use xlink:href=\"#DejaVuSans-56\"/>\r\n       <use x=\"63.623047\" xlink:href=\"#DejaVuSans-48\"/>\r\n       <use x=\"127.246094\" xlink:href=\"#DejaVuSans-48\"/>\r\n      </g>\r\n     </g>\r\n    </g>\r\n    <g id=\"xtick_6\">\r\n     <g id=\"line2d_6\">\r\n      <g>\r\n       <use style=\"stroke:#000000;stroke-width:0.8;\" x=\"408.02578\" xlink:href=\"#mbb41d50e01\" y=\"224.64\"/>\r\n      </g>\r\n     </g>\r\n     <g id=\"text_6\">\r\n      <!-- 1000 -->\r\n      <defs>\r\n       <path d=\"M 12.40625 8.296875 \r\nL 28.515625 8.296875 \r\nL 28.515625 63.921875 \r\nL 10.984375 60.40625 \r\nL 10.984375 69.390625 \r\nL 28.421875 72.90625 \r\nL 38.28125 72.90625 \r\nL 38.28125 8.296875 \r\nL 54.390625 8.296875 \r\nL 54.390625 0 \r\nL 12.40625 0 \r\nz\r\n\" id=\"DejaVuSans-49\"/>\r\n      </defs>\r\n      <g transform=\"translate(395.30078 239.238437)scale(0.1 -0.1)\">\r\n       <use xlink:href=\"#DejaVuSans-49\"/>\r\n       <use x=\"63.623047\" xlink:href=\"#DejaVuSans-48\"/>\r\n       <use x=\"127.246094\" xlink:href=\"#DejaVuSans-48\"/>\r\n       <use x=\"190.869141\" xlink:href=\"#DejaVuSans-48\"/>\r\n      </g>\r\n     </g>\r\n    </g>\r\n    <g id=\"text_7\">\r\n     <!-- count -->\r\n     <defs>\r\n      <path d=\"M 48.78125 52.59375 \r\nL 48.78125 44.1875 \r\nQ 44.96875 46.296875 41.140625 47.34375 \r\nQ 37.3125 48.390625 33.40625 48.390625 \r\nQ 24.65625 48.390625 19.8125 42.84375 \r\nQ 14.984375 37.3125 14.984375 27.296875 \r\nQ 14.984375 17.28125 19.8125 11.734375 \r\nQ 24.65625 6.203125 33.40625 6.203125 \r\nQ 37.3125 6.203125 41.140625 7.25 \r\nQ 44.96875 8.296875 48.78125 10.40625 \r\nL 48.78125 2.09375 \r\nQ 45.015625 0.34375 40.984375 -0.53125 \r\nQ 36.96875 -1.421875 32.421875 -1.421875 \r\nQ 20.0625 -1.421875 12.78125 6.34375 \r\nQ 5.515625 14.109375 5.515625 27.296875 \r\nQ 5.515625 40.671875 12.859375 48.328125 \r\nQ 20.21875 56 33.015625 56 \r\nQ 37.15625 56 41.109375 55.140625 \r\nQ 45.0625 54.296875 48.78125 52.59375 \r\nz\r\n\" id=\"DejaVuSans-99\"/>\r\n      <path d=\"M 30.609375 48.390625 \r\nQ 23.390625 48.390625 19.1875 42.75 \r\nQ 14.984375 37.109375 14.984375 27.296875 \r\nQ 14.984375 17.484375 19.15625 11.84375 \r\nQ 23.34375 6.203125 30.609375 6.203125 \r\nQ 37.796875 6.203125 41.984375 11.859375 \r\nQ 46.1875 17.53125 46.1875 27.296875 \r\nQ 46.1875 37.015625 41.984375 42.703125 \r\nQ 37.796875 48.390625 30.609375 48.390625 \r\nz\r\nM 30.609375 56 \r\nQ 42.328125 56 49.015625 48.375 \r\nQ 55.71875 40.765625 55.71875 27.296875 \r\nQ 55.71875 13.875 49.015625 6.21875 \r\nQ 42.328125 -1.421875 30.609375 -1.421875 \r\nQ 18.84375 -1.421875 12.171875 6.21875 \r\nQ 5.515625 13.875 5.515625 27.296875 \r\nQ 5.515625 40.765625 12.171875 48.375 \r\nQ 18.84375 56 30.609375 56 \r\nz\r\n\" id=\"DejaVuSans-111\"/>\r\n      <path d=\"M 8.5 21.578125 \r\nL 8.5 54.6875 \r\nL 17.484375 54.6875 \r\nL 17.484375 21.921875 \r\nQ 17.484375 14.15625 20.5 10.265625 \r\nQ 23.53125 6.390625 29.59375 6.390625 \r\nQ 36.859375 6.390625 41.078125 11.03125 \r\nQ 45.3125 15.671875 45.3125 23.6875 \r\nL 45.3125 54.6875 \r\nL 54.296875 54.6875 \r\nL 54.296875 0 \r\nL 45.3125 0 \r\nL 45.3125 8.40625 \r\nQ 42.046875 3.421875 37.71875 1 \r\nQ 33.40625 -1.421875 27.6875 -1.421875 \r\nQ 18.265625 -1.421875 13.375 4.4375 \r\nQ 8.5 10.296875 8.5 21.578125 \r\nz\r\nM 31.109375 56 \r\nz\r\n\" id=\"DejaVuSans-117\"/>\r\n      <path d=\"M 54.890625 33.015625 \r\nL 54.890625 0 \r\nL 45.90625 0 \r\nL 45.90625 32.71875 \r\nQ 45.90625 40.484375 42.875 44.328125 \r\nQ 39.84375 48.1875 33.796875 48.1875 \r\nQ 26.515625 48.1875 22.3125 43.546875 \r\nQ 18.109375 38.921875 18.109375 30.90625 \r\nL 18.109375 0 \r\nL 9.078125 0 \r\nL 9.078125 54.6875 \r\nL 18.109375 54.6875 \r\nL 18.109375 46.1875 \r\nQ 21.34375 51.125 25.703125 53.5625 \r\nQ 30.078125 56 35.796875 56 \r\nQ 45.21875 56 50.046875 50.171875 \r\nQ 54.890625 44.34375 54.890625 33.015625 \r\nz\r\n\" id=\"DejaVuSans-110\"/>\r\n      <path d=\"M 18.3125 70.21875 \r\nL 18.3125 54.6875 \r\nL 36.8125 54.6875 \r\nL 36.8125 47.703125 \r\nL 18.3125 47.703125 \r\nL 18.3125 18.015625 \r\nQ 18.3125 11.328125 20.140625 9.421875 \r\nQ 21.96875 7.515625 27.59375 7.515625 \r\nL 36.8125 7.515625 \r\nL 36.8125 0 \r\nL 27.59375 0 \r\nQ 17.1875 0 13.234375 3.875 \r\nQ 9.28125 7.765625 9.28125 18.015625 \r\nL 9.28125 47.703125 \r\nL 2.6875 47.703125 \r\nL 2.6875 54.6875 \r\nL 9.28125 54.6875 \r\nL 9.28125 70.21875 \r\nz\r\n\" id=\"DejaVuSans-116\"/>\r\n     </defs>\r\n     <g transform=\"translate(265.807813 252.916562)scale(0.1 -0.1)\">\r\n      <use xlink:href=\"#DejaVuSans-99\"/>\r\n      <use x=\"54.980469\" xlink:href=\"#DejaVuSans-111\"/>\r\n      <use x=\"116.162109\" xlink:href=\"#DejaVuSans-117\"/>\r\n      <use x=\"179.541016\" xlink:href=\"#DejaVuSans-110\"/>\r\n      <use x=\"242.919922\" xlink:href=\"#DejaVuSans-116\"/>\r\n     </g>\r\n    </g>\r\n   </g>\r\n   <g id=\"matplotlib.axis_2\">\r\n    <g id=\"ytick_1\">\r\n     <g id=\"line2d_7\">\r\n      <defs>\r\n       <path d=\"M 0 0 \r\nL -3.5 0 \r\n\" id=\"mbad9d6bacc\" style=\"stroke:#000000;stroke-width:0.8;\"/>\r\n      </defs>\r\n      <g>\r\n       <use style=\"stroke:#000000;stroke-width:0.8;\" x=\"112.514063\" xlink:href=\"#mbad9d6bacc\" y=\"43.44\"/>\r\n      </g>\r\n     </g>\r\n     <g id=\"text_8\">\r\n      <!-- MALE -->\r\n      <defs>\r\n       <path d=\"M 9.8125 72.90625 \r\nL 24.515625 72.90625 \r\nL 43.109375 23.296875 \r\nL 61.8125 72.90625 \r\nL 76.515625 72.90625 \r\nL 76.515625 0 \r\nL 66.890625 0 \r\nL 66.890625 64.015625 \r\nL 48.09375 14.015625 \r\nL 38.1875 14.015625 \r\nL 19.390625 64.015625 \r\nL 19.390625 0 \r\nL 9.8125 0 \r\nz\r\n\" id=\"DejaVuSans-77\"/>\r\n       <path d=\"M 34.1875 63.1875 \r\nL 20.796875 26.90625 \r\nL 47.609375 26.90625 \r\nz\r\nM 28.609375 72.90625 \r\nL 39.796875 72.90625 \r\nL 67.578125 0 \r\nL 57.328125 0 \r\nL 50.6875 18.703125 \r\nL 17.828125 18.703125 \r\nL 11.1875 0 \r\nL 0.78125 0 \r\nz\r\n\" id=\"DejaVuSans-65\"/>\r\n       <path d=\"M 9.8125 72.90625 \r\nL 19.671875 72.90625 \r\nL 19.671875 8.296875 \r\nL 55.171875 8.296875 \r\nL 55.171875 0 \r\nL 9.8125 0 \r\nz\r\n\" id=\"DejaVuSans-76\"/>\r\n       <path d=\"M 9.8125 72.90625 \r\nL 55.90625 72.90625 \r\nL 55.90625 64.59375 \r\nL 19.671875 64.59375 \r\nL 19.671875 43.015625 \r\nL 54.390625 43.015625 \r\nL 54.390625 34.71875 \r\nL 19.671875 34.71875 \r\nL 19.671875 8.296875 \r\nL 56.78125 8.296875 \r\nL 56.78125 0 \r\nL 9.8125 0 \r\nz\r\n\" id=\"DejaVuSans-69\"/>\r\n      </defs>\r\n      <g transform=\"translate(78.154688 47.239219)scale(0.1 -0.1)\">\r\n       <use xlink:href=\"#DejaVuSans-77\"/>\r\n       <use x=\"86.279297\" xlink:href=\"#DejaVuSans-65\"/>\r\n       <use x=\"154.6875\" xlink:href=\"#DejaVuSans-76\"/>\r\n       <use x=\"210.400391\" xlink:href=\"#DejaVuSans-69\"/>\r\n      </g>\r\n     </g>\r\n    </g>\r\n    <g id=\"ytick_2\">\r\n     <g id=\"line2d_8\">\r\n      <g>\r\n       <use style=\"stroke:#000000;stroke-width:0.8;\" x=\"112.514063\" xlink:href=\"#mbad9d6bacc\" y=\"115.92\"/>\r\n      </g>\r\n     </g>\r\n     <g id=\"text_9\">\r\n      <!-- NOT APPLICABLE -->\r\n      <defs>\r\n       <path d=\"M 9.8125 72.90625 \r\nL 23.09375 72.90625 \r\nL 55.421875 11.921875 \r\nL 55.421875 72.90625 \r\nL 64.984375 72.90625 \r\nL 64.984375 0 \r\nL 51.703125 0 \r\nL 19.390625 60.984375 \r\nL 19.390625 0 \r\nL 9.8125 0 \r\nz\r\n\" id=\"DejaVuSans-78\"/>\r\n       <path d=\"M 39.40625 66.21875 \r\nQ 28.65625 66.21875 22.328125 58.203125 \r\nQ 16.015625 50.203125 16.015625 36.375 \r\nQ 16.015625 22.609375 22.328125 14.59375 \r\nQ 28.65625 6.59375 39.40625 6.59375 \r\nQ 50.140625 6.59375 56.421875 14.59375 \r\nQ 62.703125 22.609375 62.703125 36.375 \r\nQ 62.703125 50.203125 56.421875 58.203125 \r\nQ 50.140625 66.21875 39.40625 66.21875 \r\nz\r\nM 39.40625 74.21875 \r\nQ 54.734375 74.21875 63.90625 63.9375 \r\nQ 73.09375 53.65625 73.09375 36.375 \r\nQ 73.09375 19.140625 63.90625 8.859375 \r\nQ 54.734375 -1.421875 39.40625 -1.421875 \r\nQ 24.03125 -1.421875 14.8125 8.828125 \r\nQ 5.609375 19.09375 5.609375 36.375 \r\nQ 5.609375 53.65625 14.8125 63.9375 \r\nQ 24.03125 74.21875 39.40625 74.21875 \r\nz\r\n\" id=\"DejaVuSans-79\"/>\r\n       <path d=\"M -0.296875 72.90625 \r\nL 61.375 72.90625 \r\nL 61.375 64.59375 \r\nL 35.5 64.59375 \r\nL 35.5 0 \r\nL 25.59375 0 \r\nL 25.59375 64.59375 \r\nL -0.296875 64.59375 \r\nz\r\n\" id=\"DejaVuSans-84\"/>\r\n       <path id=\"DejaVuSans-32\"/>\r\n       <path d=\"M 19.671875 64.796875 \r\nL 19.671875 37.40625 \r\nL 32.078125 37.40625 \r\nQ 38.96875 37.40625 42.71875 40.96875 \r\nQ 46.484375 44.53125 46.484375 51.125 \r\nQ 46.484375 57.671875 42.71875 61.234375 \r\nQ 38.96875 64.796875 32.078125 64.796875 \r\nz\r\nM 9.8125 72.90625 \r\nL 32.078125 72.90625 \r\nQ 44.34375 72.90625 50.609375 67.359375 \r\nQ 56.890625 61.8125 56.890625 51.125 \r\nQ 56.890625 40.328125 50.609375 34.8125 \r\nQ 44.34375 29.296875 32.078125 29.296875 \r\nL 19.671875 29.296875 \r\nL 19.671875 0 \r\nL 9.8125 0 \r\nz\r\n\" id=\"DejaVuSans-80\"/>\r\n       <path d=\"M 9.8125 72.90625 \r\nL 19.671875 72.90625 \r\nL 19.671875 0 \r\nL 9.8125 0 \r\nz\r\n\" id=\"DejaVuSans-73\"/>\r\n       <path d=\"M 64.40625 67.28125 \r\nL 64.40625 56.890625 \r\nQ 59.421875 61.53125 53.78125 63.8125 \r\nQ 48.140625 66.109375 41.796875 66.109375 \r\nQ 29.296875 66.109375 22.65625 58.46875 \r\nQ 16.015625 50.828125 16.015625 36.375 \r\nQ 16.015625 21.96875 22.65625 14.328125 \r\nQ 29.296875 6.6875 41.796875 6.6875 \r\nQ 48.140625 6.6875 53.78125 8.984375 \r\nQ 59.421875 11.28125 64.40625 15.921875 \r\nL 64.40625 5.609375 \r\nQ 59.234375 2.09375 53.4375 0.328125 \r\nQ 47.65625 -1.421875 41.21875 -1.421875 \r\nQ 24.65625 -1.421875 15.125 8.703125 \r\nQ 5.609375 18.84375 5.609375 36.375 \r\nQ 5.609375 53.953125 15.125 64.078125 \r\nQ 24.65625 74.21875 41.21875 74.21875 \r\nQ 47.75 74.21875 53.53125 72.484375 \r\nQ 59.328125 70.75 64.40625 67.28125 \r\nz\r\n\" id=\"DejaVuSans-67\"/>\r\n       <path d=\"M 19.671875 34.8125 \r\nL 19.671875 8.109375 \r\nL 35.5 8.109375 \r\nQ 43.453125 8.109375 47.28125 11.40625 \r\nQ 51.125 14.703125 51.125 21.484375 \r\nQ 51.125 28.328125 47.28125 31.5625 \r\nQ 43.453125 34.8125 35.5 34.8125 \r\nz\r\nM 19.671875 64.796875 \r\nL 19.671875 42.828125 \r\nL 34.28125 42.828125 \r\nQ 41.5 42.828125 45.03125 45.53125 \r\nQ 48.578125 48.25 48.578125 53.8125 \r\nQ 48.578125 59.328125 45.03125 62.0625 \r\nQ 41.5 64.796875 34.28125 64.796875 \r\nz\r\nM 9.8125 72.90625 \r\nL 35.015625 72.90625 \r\nQ 46.296875 72.90625 52.390625 68.21875 \r\nQ 58.5 63.53125 58.5 54.890625 \r\nQ 58.5 48.1875 55.375 44.234375 \r\nQ 52.25 40.28125 46.1875 39.3125 \r\nQ 53.46875 37.75 57.5 32.78125 \r\nQ 61.53125 27.828125 61.53125 20.40625 \r\nQ 61.53125 10.640625 54.890625 5.3125 \r\nQ 48.25 0 35.984375 0 \r\nL 9.8125 0 \r\nz\r\n\" id=\"DejaVuSans-66\"/>\r\n      </defs>\r\n      <g transform=\"translate(20.878125 119.719219)scale(0.1 -0.1)\">\r\n       <use xlink:href=\"#DejaVuSans-78\"/>\r\n       <use x=\"74.804688\" xlink:href=\"#DejaVuSans-79\"/>\r\n       <use x=\"153.515625\" xlink:href=\"#DejaVuSans-84\"/>\r\n       <use x=\"214.599609\" xlink:href=\"#DejaVuSans-32\"/>\r\n       <use x=\"246.386719\" xlink:href=\"#DejaVuSans-65\"/>\r\n       <use x=\"314.794922\" xlink:href=\"#DejaVuSans-80\"/>\r\n       <use x=\"375.097656\" xlink:href=\"#DejaVuSans-80\"/>\r\n       <use x=\"435.400391\" xlink:href=\"#DejaVuSans-76\"/>\r\n       <use x=\"491.113281\" xlink:href=\"#DejaVuSans-73\"/>\r\n       <use x=\"520.605469\" xlink:href=\"#DejaVuSans-67\"/>\r\n       <use x=\"590.429688\" xlink:href=\"#DejaVuSans-65\"/>\r\n       <use x=\"658.837891\" xlink:href=\"#DejaVuSans-66\"/>\r\n       <use x=\"727.441406\" xlink:href=\"#DejaVuSans-76\"/>\r\n       <use x=\"783.154297\" xlink:href=\"#DejaVuSans-69\"/>\r\n      </g>\r\n     </g>\r\n    </g>\r\n    <g id=\"ytick_3\">\r\n     <g id=\"line2d_9\">\r\n      <g>\r\n       <use style=\"stroke:#000000;stroke-width:0.8;\" x=\"112.514063\" xlink:href=\"#mbad9d6bacc\" y=\"188.4\"/>\r\n      </g>\r\n     </g>\r\n     <g id=\"text_10\">\r\n      <!-- FEMALE -->\r\n      <defs>\r\n       <path d=\"M 9.8125 72.90625 \r\nL 51.703125 72.90625 \r\nL 51.703125 64.59375 \r\nL 19.671875 64.59375 \r\nL 19.671875 43.109375 \r\nL 48.578125 43.109375 \r\nL 48.578125 34.8125 \r\nL 19.671875 34.8125 \r\nL 19.671875 0 \r\nL 9.8125 0 \r\nz\r\n\" id=\"DejaVuSans-70\"/>\r\n      </defs>\r\n      <g transform=\"translate(66.084375 192.199219)scale(0.1 -0.1)\">\r\n       <use xlink:href=\"#DejaVuSans-70\"/>\r\n       <use x=\"57.519531\" xlink:href=\"#DejaVuSans-69\"/>\r\n       <use x=\"120.703125\" xlink:href=\"#DejaVuSans-77\"/>\r\n       <use x=\"206.982422\" xlink:href=\"#DejaVuSans-65\"/>\r\n       <use x=\"275.390625\" xlink:href=\"#DejaVuSans-76\"/>\r\n       <use x=\"331.103516\" xlink:href=\"#DejaVuSans-69\"/>\r\n      </g>\r\n     </g>\r\n    </g>\r\n    <g id=\"text_11\">\r\n     <!-- GENDER -->\r\n     <defs>\r\n      <path d=\"M 59.515625 10.40625 \r\nL 59.515625 29.984375 \r\nL 43.40625 29.984375 \r\nL 43.40625 38.09375 \r\nL 69.28125 38.09375 \r\nL 69.28125 6.78125 \r\nQ 63.578125 2.734375 56.6875 0.65625 \r\nQ 49.8125 -1.421875 42 -1.421875 \r\nQ 24.90625 -1.421875 15.25 8.5625 \r\nQ 5.609375 18.5625 5.609375 36.375 \r\nQ 5.609375 54.25 15.25 64.234375 \r\nQ 24.90625 74.21875 42 74.21875 \r\nQ 49.125 74.21875 55.546875 72.453125 \r\nQ 61.96875 70.703125 67.390625 67.28125 \r\nL 67.390625 56.78125 \r\nQ 61.921875 61.421875 55.765625 63.765625 \r\nQ 49.609375 66.109375 42.828125 66.109375 \r\nQ 29.4375 66.109375 22.71875 58.640625 \r\nQ 16.015625 51.171875 16.015625 36.375 \r\nQ 16.015625 21.625 22.71875 14.15625 \r\nQ 29.4375 6.6875 42.828125 6.6875 \r\nQ 48.046875 6.6875 52.140625 7.59375 \r\nQ 56.25 8.5 59.515625 10.40625 \r\nz\r\n\" id=\"DejaVuSans-71\"/>\r\n      <path d=\"M 19.671875 64.796875 \r\nL 19.671875 8.109375 \r\nL 31.59375 8.109375 \r\nQ 46.6875 8.109375 53.6875 14.9375 \r\nQ 60.6875 21.78125 60.6875 36.53125 \r\nQ 60.6875 51.171875 53.6875 57.984375 \r\nQ 46.6875 64.796875 31.59375 64.796875 \r\nz\r\nM 9.8125 72.90625 \r\nL 30.078125 72.90625 \r\nQ 51.265625 72.90625 61.171875 64.09375 \r\nQ 71.09375 55.28125 71.09375 36.53125 \r\nQ 71.09375 17.671875 61.125 8.828125 \r\nQ 51.171875 0 30.078125 0 \r\nL 9.8125 0 \r\nz\r\n\" id=\"DejaVuSans-68\"/>\r\n      <path d=\"M 44.390625 34.1875 \r\nQ 47.5625 33.109375 50.5625 29.59375 \r\nQ 53.5625 26.078125 56.59375 19.921875 \r\nL 66.609375 0 \r\nL 56 0 \r\nL 46.6875 18.703125 \r\nQ 43.0625 26.03125 39.671875 28.421875 \r\nQ 36.28125 30.8125 30.421875 30.8125 \r\nL 19.671875 30.8125 \r\nL 19.671875 0 \r\nL 9.8125 0 \r\nL 9.8125 72.90625 \r\nL 32.078125 72.90625 \r\nQ 44.578125 72.90625 50.734375 67.671875 \r\nQ 56.890625 62.453125 56.890625 51.90625 \r\nQ 56.890625 45.015625 53.6875 40.46875 \r\nQ 50.484375 35.9375 44.390625 34.1875 \r\nz\r\nM 19.671875 64.796875 \r\nL 19.671875 38.921875 \r\nL 32.078125 38.921875 \r\nQ 39.203125 38.921875 42.84375 42.21875 \r\nQ 46.484375 45.515625 46.484375 51.90625 \r\nQ 46.484375 58.296875 42.84375 61.546875 \r\nQ 39.203125 64.796875 32.078125 64.796875 \r\nz\r\n\" id=\"DejaVuSans-82\"/>\r\n     </defs>\r\n     <g transform=\"translate(14.798437 137.177812)rotate(-90)scale(0.1 -0.1)\">\r\n      <use xlink:href=\"#DejaVuSans-71\"/>\r\n      <use x=\"77.490234\" xlink:href=\"#DejaVuSans-69\"/>\r\n      <use x=\"140.673828\" xlink:href=\"#DejaVuSans-78\"/>\r\n      <use x=\"215.478516\" xlink:href=\"#DejaVuSans-68\"/>\r\n      <use x=\"292.480469\" xlink:href=\"#DejaVuSans-69\"/>\r\n      <use x=\"355.664062\" xlink:href=\"#DejaVuSans-82\"/>\r\n     </g>\r\n    </g>\r\n   </g>\r\n   <g id=\"patch_9\">\r\n    <path d=\"M 112.514063 224.64 \r\nL 112.514063 7.2 \r\n\" style=\"fill:none;stroke:#000000;stroke-linecap:square;stroke-linejoin:miter;stroke-width:0.8;\"/>\r\n   </g>\r\n   <g id=\"patch_10\">\r\n    <path d=\"M 447.314063 224.64 \r\nL 447.314063 7.2 \r\n\" style=\"fill:none;stroke:#000000;stroke-linecap:square;stroke-linejoin:miter;stroke-width:0.8;\"/>\r\n   </g>\r\n   <g id=\"patch_11\">\r\n    <path d=\"M 112.514063 224.64 \r\nL 447.314063 224.64 \r\n\" style=\"fill:none;stroke:#000000;stroke-linecap:square;stroke-linejoin:miter;stroke-width:0.8;\"/>\r\n   </g>\r\n   <g id=\"patch_12\">\r\n    <path d=\"M 112.514063 7.2 \r\nL 447.314063 7.2 \r\n\" style=\"fill:none;stroke:#000000;stroke-linecap:square;stroke-linejoin:miter;stroke-width:0.8;\"/>\r\n   </g>\r\n   <g id=\"legend_1\">\r\n    <g id=\"patch_13\">\r\n     <path d=\"M 357.935938 219.64 \r\nL 440.314063 219.64 \r\nQ 442.314063 219.64 442.314063 217.64 \r\nL 442.314063 163.407812 \r\nQ 442.314063 161.407812 440.314063 161.407812 \r\nL 357.935938 161.407812 \r\nQ 355.935938 161.407812 355.935938 163.407812 \r\nL 355.935938 217.64 \r\nQ 355.935938 219.64 357.935938 219.64 \r\nz\r\n\" style=\"fill:#ffffff;opacity:0.8;stroke:#cccccc;stroke-linejoin:miter;\"/>\r\n    </g>\r\n    <g id=\"text_12\">\r\n     <!-- CRIMINAL -->\r\n     <g transform=\"translate(374.948438 173.00625)scale(0.1 -0.1)\">\r\n      <use xlink:href=\"#DejaVuSans-67\"/>\r\n      <use x=\"69.824219\" xlink:href=\"#DejaVuSans-82\"/>\r\n      <use x=\"139.306641\" xlink:href=\"#DejaVuSans-73\"/>\r\n      <use x=\"168.798828\" xlink:href=\"#DejaVuSans-77\"/>\r\n      <use x=\"255.078125\" xlink:href=\"#DejaVuSans-73\"/>\r\n      <use x=\"284.570312\" xlink:href=\"#DejaVuSans-78\"/>\r\n      <use x=\"359.375\" xlink:href=\"#DejaVuSans-65\"/>\r\n      <use x=\"427.783203\" xlink:href=\"#DejaVuSans-76\"/>\r\n     </g>\r\n     <!-- CASES -->\r\n     <defs>\r\n      <path d=\"M 53.515625 70.515625 \r\nL 53.515625 60.890625 \r\nQ 47.90625 63.578125 42.921875 64.890625 \r\nQ 37.9375 66.21875 33.296875 66.21875 \r\nQ 25.25 66.21875 20.875 63.09375 \r\nQ 16.5 59.96875 16.5 54.203125 \r\nQ 16.5 49.359375 19.40625 46.890625 \r\nQ 22.3125 44.4375 30.421875 42.921875 \r\nL 36.375 41.703125 \r\nQ 47.40625 39.59375 52.65625 34.296875 \r\nQ 57.90625 29 57.90625 20.125 \r\nQ 57.90625 9.515625 50.796875 4.046875 \r\nQ 43.703125 -1.421875 29.984375 -1.421875 \r\nQ 24.8125 -1.421875 18.96875 -0.25 \r\nQ 13.140625 0.921875 6.890625 3.21875 \r\nL 6.890625 13.375 \r\nQ 12.890625 10.015625 18.65625 8.296875 \r\nQ 24.421875 6.59375 29.984375 6.59375 \r\nQ 38.421875 6.59375 43.015625 9.90625 \r\nQ 47.609375 13.234375 47.609375 19.390625 \r\nQ 47.609375 24.75 44.3125 27.78125 \r\nQ 41.015625 30.8125 33.5 32.328125 \r\nL 27.484375 33.5 \r\nQ 16.453125 35.6875 11.515625 40.375 \r\nQ 6.59375 45.0625 6.59375 53.421875 \r\nQ 6.59375 63.09375 13.40625 68.65625 \r\nQ 20.21875 74.21875 32.171875 74.21875 \r\nQ 37.3125 74.21875 42.625 73.28125 \r\nQ 47.953125 72.359375 53.515625 70.515625 \r\nz\r\n\" id=\"DejaVuSans-83\"/>\r\n     </defs>\r\n     <g transform=\"translate(374.948438 184.204062)scale(0.1 -0.1)\">\r\n      <use xlink:href=\"#DejaVuSans-67\"/>\r\n      <use x=\"69.824219\" xlink:href=\"#DejaVuSans-65\"/>\r\n      <use x=\"138.232422\" xlink:href=\"#DejaVuSans-83\"/>\r\n      <use x=\"201.708984\" xlink:href=\"#DejaVuSans-69\"/>\r\n      <use x=\"264.892578\" xlink:href=\"#DejaVuSans-83\"/>\r\n     </g>\r\n    </g>\r\n    <g id=\"patch_14\">\r\n     <path d=\"M 359.935938 198.882187 \r\nL 379.935938 198.882187 \r\nL 379.935938 191.882187 \r\nL 359.935938 191.882187 \r\nz\r\n\" style=\"fill:#cd1d1d;\"/>\r\n    </g>\r\n    <g id=\"text_13\">\r\n     <!-- HAS CASE -->\r\n     <defs>\r\n      <path d=\"M 9.8125 72.90625 \r\nL 19.671875 72.90625 \r\nL 19.671875 43.015625 \r\nL 55.515625 43.015625 \r\nL 55.515625 72.90625 \r\nL 65.375 72.90625 \r\nL 65.375 0 \r\nL 55.515625 0 \r\nL 55.515625 34.71875 \r\nL 19.671875 34.71875 \r\nL 19.671875 0 \r\nL 9.8125 0 \r\nz\r\n\" id=\"DejaVuSans-72\"/>\r\n     </defs>\r\n     <g transform=\"translate(387.935938 198.882187)scale(0.1 -0.1)\">\r\n      <use xlink:href=\"#DejaVuSans-72\"/>\r\n      <use x=\"75.195312\" xlink:href=\"#DejaVuSans-65\"/>\r\n      <use x=\"143.603516\" xlink:href=\"#DejaVuSans-83\"/>\r\n      <use x=\"207.080078\" xlink:href=\"#DejaVuSans-32\"/>\r\n      <use x=\"238.867188\" xlink:href=\"#DejaVuSans-67\"/>\r\n      <use x=\"308.691406\" xlink:href=\"#DejaVuSans-65\"/>\r\n      <use x=\"377.099609\" xlink:href=\"#DejaVuSans-83\"/>\r\n      <use x=\"440.576172\" xlink:href=\"#DejaVuSans-69\"/>\r\n     </g>\r\n    </g>\r\n    <g id=\"patch_15\">\r\n     <path d=\"M 359.935938 213.560312 \r\nL 379.935938 213.560312 \r\nL 379.935938 206.560312 \r\nL 359.935938 206.560312 \r\nz\r\n\" style=\"fill:#dfb720;\"/>\r\n    </g>\r\n    <g id=\"text_14\">\r\n     <!-- NO CASE -->\r\n     <g transform=\"translate(387.935938 213.560312)scale(0.1 -0.1)\">\r\n      <use xlink:href=\"#DejaVuSans-78\"/>\r\n      <use x=\"74.804688\" xlink:href=\"#DejaVuSans-79\"/>\r\n      <use x=\"153.515625\" xlink:href=\"#DejaVuSans-32\"/>\r\n      <use x=\"185.302734\" xlink:href=\"#DejaVuSans-67\"/>\r\n      <use x=\"255.126953\" xlink:href=\"#DejaVuSans-65\"/>\r\n      <use x=\"323.535156\" xlink:href=\"#DejaVuSans-83\"/>\r\n      <use x=\"387.011719\" xlink:href=\"#DejaVuSans-69\"/>\r\n     </g>\r\n    </g>\r\n   </g>\r\n  </g>\r\n </g>\r\n <defs>\r\n  <clipPath id=\"pa2776a1b8d\">\r\n   <rect height=\"217.44\" width=\"334.8\" x=\"112.514063\" y=\"7.2\"/>\r\n  </clipPath>\r\n </defs>\r\n</svg>\r\n",
      "image/png": "[encoded data removed]"
     },
     "metadata": {
      "needs_background": "light"
     }
    }
   ],
   "source": [
    "sns.countplot(y='GENDER',hue='CRIMINAL\\nCASES',data=df,palette='hot')"
   ]
  },
  {
   "cell_type": "markdown",
   "metadata": {},
   "source": [
    "## Assets"
   ]
  },
  {
   "cell_type": "code",
   "execution_count": 19,
   "metadata": {},
   "outputs": [
    {
     "output_type": "execute_result",
     "data": {
      "text/plain": "               STATE     CONSTITUENCY                                 NAME  \\\n468            Bihar            BUXAR               Ramchandra Singh Yadav   \n532       Tamil Nadu      CHIDAMBARAM                          SIVAJOTHI M   \n612    Uttar Pradesh           DEORIA                  BINOD KUMAR JAISWAL   \n613    Uttar Pradesh           DEORIA                          NIYAZ AHMED   \n654       Tamil Nadu         DINDIGUL                       JOTHIMUTHU, K.   \n656       Tamil Nadu         DINDIGUL                  MANSOORALI KHAN, A.   \n688   Andhra Pradesh            ELURU                   PENTAPATI PULLARAO   \n972            Bihar       JAMUI (SC)                      UPENDRA RAVIDAS   \n1033   Uttar Pradesh       KAISERGANJ           Vinay Kumar Pandey 'Vinnu'   \n1052      Tamil Nadu     KALLAKURICHI                         Sharfudeen S   \n1126   Uttar Pradesh        KAUSHAMBI                     SHAILENDRA KUMAR   \n1309           Bihar        MADHUBANI                   BADRI KUMAR PURBEY   \n1681          Kerala          PONNANI             P.V. Anvar Puthan Veetil   \n1696      Puducherry       PUDUCHERRY                     N.SHARMILA BEGUM   \n1716           Bihar  PURVI CHAMPARAN                   AAKASH KUMAR SINGH   \n1938  Madhya Pradesh            SIDHI                  Dileep Kumar Shukla   \n1971      Tamil Nadu        SIVAGANGA                              V.PANDI   \n1978           Bihar            SIWAN  Deva Kant Mishra Alias Munna Bhaiya   \n2069      Tamil Nadu            THENI                   THANGA TAMILSELVAN   \n2188           Bihar         VAISHALI                          Rinkoo Devi   \n2223      Tamil Nadu     VIRUDHUNAGAR                       MUNIYASAMY, V.   \n2249          Kerala          WAYANAD                  Thushar Vellappally   \n\n      WINNER PARTY                  SYMBOL  GENDER CRIMINAL\\nCASES   AGE  \\\n468        0   IND                 Almirah    MALE         NO CASE  42.0   \n532        0   NTK             Ganna Kisan    MALE         NO CASE  35.0   \n612        0   BSP                Elephant    MALE         NO CASE  56.0   \n613        0   INC                    Hand    MALE         NO CASE  57.0   \n654        0   PMK                   Mango    MALE         NO CASE  48.0   \n656        0   NTK             Ganna Kisan    MALE         NO CASE  56.0   \n688        0   JnP           Glass Tumbler    MALE         NO CASE  71.0   \n972        0   BSP                Elephant    MALE         NO CASE  40.0   \n1033       0   INC                    Hand    MALE         NO CASE  54.0   \n1052       0   NTK             Ganna Kisan    MALE         NO CASE  40.0   \n1126       0   IND                Football    MALE         NO CASE  44.0   \n1309       0  VSIP  Boat with Man and Sail    MALE         NO CASE  46.0   \n1681       0   IND                Scissors    MALE         NO CASE  51.0   \n1696       0   NTK             Ganna Kisan  FEMALE         NO CASE  30.0   \n1716       0  BLSP             Ceiling Fan    MALE         NO CASE  27.0   \n1938       0   IND                 Balloon    MALE         NO CASE  34.0   \n1971       0   IND               Gift Pack    MALE         NO CASE  43.0   \n1978       0   IND                 Chimney    MALE         NO CASE  43.0   \n2069       0   IND               Gift Pack    MALE         NO CASE  58.0   \n2188       0   IND                     Cot  FEMALE         NO CASE  37.0   \n2223       0   MNM           Battery Torch    MALE         NO CASE  41.0   \n2249       0  BDJS                     Pot    MALE         NO CASE  50.0   \n\n     CATEGORY      EDUCATION         ASSETS    LIABILITIES  GENERAL\\nVOTES  \\\n468   GENERAL  Not Available  Not Available  Not Available           10721   \n532        SC  Not Available  Not Available  Not Available           37329   \n612   GENERAL  Not Available  Not Available  Not Available          327728   \n613   GENERAL  Not Available  Not Available  Not Available           50749   \n654   GENERAL  Not Available  Not Available  Not Available          206782   \n656   GENERAL  Not Available  Not Available  Not Available           54574   \n688   GENERAL  Not Available  Not Available  Not Available           76481   \n972        SC  Not Available  Not Available  Not Available           31504   \n1033  GENERAL  Not Available  Not Available  Not Available           37049   \n1052  GENERAL  Not Available  Not Available  Not Available           30103   \n1126       SC  Not Available  Not Available  Not Available           26954   \n1309  GENERAL  Not Available  Not Available  Not Available          140705   \n1681  GENERAL  Not Available  Not Available  Not Available          328208   \n1696  GENERAL  Not Available  Not Available  Not Available           22842   \n1716  GENERAL  Not Available  Not Available  Not Available          281500   \n1938  GENERAL  Not Available  Not Available  Not Available           15555   \n1971  GENERAL  Not Available  Not Available  Not Available          122325   \n1978  GENERAL  Not Available  Not Available  Not Available           36458   \n2069  GENERAL  Not Available  Not Available  Not Available          143173   \n2188  GENERAL  Not Available  Not Available  Not Available           16734   \n2223  GENERAL  Not Available  Not Available  Not Available           56815   \n2249  GENERAL  Not Available  Not Available  Not Available           78590   \n\n      POSTAL\\nVOTES  TOTAL\\nVOTES  OVER TOTAL ELECTORS \\nIN CONSTITUENCY  \\\n468               9         10730                               0.586540   \n532             142         37471                               2.531445   \n612            2985        330713                              18.852693   \n613             307         51056                               2.910509   \n654             769        207551                              13.460896   \n656             383         54957                               3.564283   \n688             346         76827                               4.816891   \n972             107         31611                               1.839117   \n1033             83         37132                               2.056097   \n1052            143         30246                               1.978236   \n1126             13         26967                               1.508964   \n1309            198        140903                               7.859391   \n1681            343        328551                              24.215085   \n1696             15         22857                               2.348137   \n1716           2639        284139                              17.130512   \n1938              0         15555                               0.842840   \n1971            209        122534                               7.895135   \n1978              1         36459                               2.026005   \n2069            877        144050                               9.227822   \n2188              4         16738                               0.964180   \n2223            314         57129                               3.848999   \n2249            226         78816                               5.796662   \n\n      OVER TOTAL VOTES POLLED \\nIN CONSTITUENCY  TOTAL ELECTORS  \n468                                    1.087175         1829373  \n532                                    3.246331         1480222  \n612                                   32.563441         1754195  \n613                                    5.027196         1754195  \n654                                   17.877979         1541881  \n656                                    4.733873         1541881  \n688                                    5.766884         1594950  \n972                                    3.329012         1718814  \n1033                                   3.780019         1805946  \n1052                                   2.510177         1528938  \n1126                                   2.765741         1787120  \n1309                                  14.605797         1792798  \n1681                                  32.294278         1356803  \n1696                                   2.890017          973410  \n1716                                  28.410065         1658672  \n1938                                   1.212672         1845547  \n1971                                  11.294435         1552019  \n1978                                   3.701985         1799551  \n2069                                  12.259491         1561040  \n2188                                   1.557384         1735983  \n2223                                   5.309752         1484256  \n2249                                   7.212569         1359679  ",
      "text/html": "<div>\n<style scoped>\n    .dataframe tbody tr th:only-of-type {\n        vertical-align: middle;\n    }\n\n    .dataframe tbody tr th {\n        vertical-align: top;\n    }\n\n    .dataframe thead th {\n        text-align: right;\n    }\n</style>\n<table border=\"1\" class=\"dataframe\">\n  <thead>\n    <tr style=\"text-align: right;\">\n      <th></th>\n      <th>STATE</th>\n      <th>CONSTITUENCY</th>\n      <th>NAME</th>\n      <th>WINNER</th>\n      <th>PARTY</th>\n      <th>SYMBOL</th>\n      <th>GENDER</th>\n      <th>CRIMINAL\\nCASES</th>\n      <th>AGE</th>\n      <th>CATEGORY</th>\n      <th>EDUCATION</th>\n      <th>ASSETS</th>\n      <th>LIABILITIES</th>\n      <th>GENERAL\\nVOTES</th>\n      <th>POSTAL\\nVOTES</th>\n      <th>TOTAL\\nVOTES</th>\n      <th>OVER TOTAL ELECTORS \\nIN CONSTITUENCY</th>\n      <th>OVER TOTAL VOTES POLLED \\nIN CONSTITUENCY</th>\n      <th>TOTAL ELECTORS</th>\n    </tr>\n  </thead>\n  <tbody>\n    <tr>\n      <th>468</th>\n      <td>Bihar</td>\n      <td>BUXAR</td>\n      <td>Ramchandra Singh Yadav</td>\n      <td>0</td>\n      <td>IND</td>\n      <td>Almirah</td>\n      <td>MALE</td>\n      <td>NO CASE</td>\n      <td>42.0</td>\n      <td>GENERAL</td>\n      <td>Not Available</td>\n      <td>Not Available</td>\n      <td>Not Available</td>\n      <td>10721</td>\n      <td>9</td>\n      <td>10730</td>\n      <td>0.586540</td>\n      <td>1.087175</td>\n      <td>1829373</td>\n    </tr>\n    <tr>\n      <th>532</th>\n      <td>Tamil Nadu</td>\n      <td>CHIDAMBARAM</td>\n      <td>SIVAJOTHI M</td>\n      <td>0</td>\n      <td>NTK</td>\n      <td>Ganna Kisan</td>\n      <td>MALE</td>\n      <td>NO CASE</td>\n      <td>35.0</td>\n      <td>SC</td>\n      <td>Not Available</td>\n      <td>Not Available</td>\n      <td>Not Available</td>\n      <td>37329</td>\n      <td>142</td>\n      <td>37471</td>\n      <td>2.531445</td>\n      <td>3.246331</td>\n      <td>1480222</td>\n    </tr>\n    <tr>\n      <th>612</th>\n      <td>Uttar Pradesh</td>\n      <td>DEORIA</td>\n      <td>BINOD KUMAR JAISWAL</td>\n      <td>0</td>\n      <td>BSP</td>\n      <td>Elephant</td>\n      <td>MALE</td>\n      <td>NO CASE</td>\n      <td>56.0</td>\n      <td>GENERAL</td>\n      <td>Not Available</td>\n      <td>Not Available</td>\n      <td>Not Available</td>\n      <td>327728</td>\n      <td>2985</td>\n      <td>330713</td>\n      <td>18.852693</td>\n      <td>32.563441</td>\n      <td>1754195</td>\n    </tr>\n    <tr>\n      <th>613</th>\n      <td>Uttar Pradesh</td>\n      <td>DEORIA</td>\n      <td>NIYAZ AHMED</td>\n      <td>0</td>\n      <td>INC</td>\n      <td>Hand</td>\n      <td>MALE</td>\n      <td>NO CASE</td>\n      <td>57.0</td>\n      <td>GENERAL</td>\n      <td>Not Available</td>\n      <td>Not Available</td>\n      <td>Not Available</td>\n      <td>50749</td>\n      <td>307</td>\n      <td>51056</td>\n      <td>2.910509</td>\n      <td>5.027196</td>\n      <td>1754195</td>\n    </tr>\n    <tr>\n      <th>654</th>\n      <td>Tamil Nadu</td>\n      <td>DINDIGUL</td>\n      <td>JOTHIMUTHU, K.</td>\n      <td>0</td>\n      <td>PMK</td>\n      <td>Mango</td>\n      <td>MALE</td>\n      <td>NO CASE</td>\n      <td>48.0</td>\n      <td>GENERAL</td>\n      <td>Not Available</td>\n      <td>Not Available</td>\n      <td>Not Available</td>\n      <td>206782</td>\n      <td>769</td>\n      <td>207551</td>\n      <td>13.460896</td>\n      <td>17.877979</td>\n      <td>1541881</td>\n    </tr>\n    <tr>\n      <th>656</th>\n      <td>Tamil Nadu</td>\n      <td>DINDIGUL</td>\n      <td>MANSOORALI KHAN, A.</td>\n      <td>0</td>\n      <td>NTK</td>\n      <td>Ganna Kisan</td>\n      <td>MALE</td>\n      <td>NO CASE</td>\n      <td>56.0</td>\n      <td>GENERAL</td>\n      <td>Not Available</td>\n      <td>Not Available</td>\n      <td>Not Available</td>\n      <td>54574</td>\n      <td>383</td>\n      <td>54957</td>\n      <td>3.564283</td>\n      <td>4.733873</td>\n      <td>1541881</td>\n    </tr>\n    <tr>\n      <th>688</th>\n      <td>Andhra Pradesh</td>\n      <td>ELURU</td>\n      <td>PENTAPATI PULLARAO</td>\n      <td>0</td>\n      <td>JnP</td>\n      <td>Glass Tumbler</td>\n      <td>MALE</td>\n      <td>NO CASE</td>\n      <td>71.0</td>\n      <td>GENERAL</td>\n      <td>Not Available</td>\n      <td>Not Available</td>\n      <td>Not Available</td>\n      <td>76481</td>\n      <td>346</td>\n      <td>76827</td>\n      <td>4.816891</td>\n      <td>5.766884</td>\n      <td>1594950</td>\n    </tr>\n    <tr>\n      <th>972</th>\n      <td>Bihar</td>\n      <td>JAMUI (SC)</td>\n      <td>UPENDRA RAVIDAS</td>\n      <td>0</td>\n      <td>BSP</td>\n      <td>Elephant</td>\n      <td>MALE</td>\n      <td>NO CASE</td>\n      <td>40.0</td>\n      <td>SC</td>\n      <td>Not Available</td>\n      <td>Not Available</td>\n      <td>Not Available</td>\n      <td>31504</td>\n      <td>107</td>\n      <td>31611</td>\n      <td>1.839117</td>\n      <td>3.329012</td>\n      <td>1718814</td>\n    </tr>\n    <tr>\n      <th>1033</th>\n      <td>Uttar Pradesh</td>\n      <td>KAISERGANJ</td>\n      <td>Vinay Kumar Pandey 'Vinnu'</td>\n      <td>0</td>\n      <td>INC</td>\n      <td>Hand</td>\n      <td>MALE</td>\n      <td>NO CASE</td>\n      <td>54.0</td>\n      <td>GENERAL</td>\n      <td>Not Available</td>\n      <td>Not Available</td>\n      <td>Not Available</td>\n      <td>37049</td>\n      <td>83</td>\n      <td>37132</td>\n      <td>2.056097</td>\n      <td>3.780019</td>\n      <td>1805946</td>\n    </tr>\n    <tr>\n      <th>1052</th>\n      <td>Tamil Nadu</td>\n      <td>KALLAKURICHI</td>\n      <td>Sharfudeen S</td>\n      <td>0</td>\n      <td>NTK</td>\n      <td>Ganna Kisan</td>\n      <td>MALE</td>\n      <td>NO CASE</td>\n      <td>40.0</td>\n      <td>GENERAL</td>\n      <td>Not Available</td>\n      <td>Not Available</td>\n      <td>Not Available</td>\n      <td>30103</td>\n      <td>143</td>\n      <td>30246</td>\n      <td>1.978236</td>\n      <td>2.510177</td>\n      <td>1528938</td>\n    </tr>\n    <tr>\n      <th>1126</th>\n      <td>Uttar Pradesh</td>\n      <td>KAUSHAMBI</td>\n      <td>SHAILENDRA KUMAR</td>\n      <td>0</td>\n      <td>IND</td>\n      <td>Football</td>\n      <td>MALE</td>\n      <td>NO CASE</td>\n      <td>44.0</td>\n      <td>SC</td>\n      <td>Not Available</td>\n      <td>Not Available</td>\n      <td>Not Available</td>\n      <td>26954</td>\n      <td>13</td>\n      <td>26967</td>\n      <td>1.508964</td>\n      <td>2.765741</td>\n      <td>1787120</td>\n    </tr>\n    <tr>\n      <th>1309</th>\n      <td>Bihar</td>\n      <td>MADHUBANI</td>\n      <td>BADRI KUMAR PURBEY</td>\n      <td>0</td>\n      <td>VSIP</td>\n      <td>Boat with Man and Sail</td>\n      <td>MALE</td>\n      <td>NO CASE</td>\n      <td>46.0</td>\n      <td>GENERAL</td>\n      <td>Not Available</td>\n      <td>Not Available</td>\n      <td>Not Available</td>\n      <td>140705</td>\n      <td>198</td>\n      <td>140903</td>\n      <td>7.859391</td>\n      <td>14.605797</td>\n      <td>1792798</td>\n    </tr>\n    <tr>\n      <th>1681</th>\n      <td>Kerala</td>\n      <td>PONNANI</td>\n      <td>P.V. Anvar Puthan Veetil</td>\n      <td>0</td>\n      <td>IND</td>\n      <td>Scissors</td>\n      <td>MALE</td>\n      <td>NO CASE</td>\n      <td>51.0</td>\n      <td>GENERAL</td>\n      <td>Not Available</td>\n      <td>Not Available</td>\n      <td>Not Available</td>\n      <td>328208</td>\n      <td>343</td>\n      <td>328551</td>\n      <td>24.215085</td>\n      <td>32.294278</td>\n      <td>1356803</td>\n    </tr>\n    <tr>\n      <th>1696</th>\n      <td>Puducherry</td>\n      <td>PUDUCHERRY</td>\n      <td>N.SHARMILA BEGUM</td>\n      <td>0</td>\n      <td>NTK</td>\n      <td>Ganna Kisan</td>\n      <td>FEMALE</td>\n      <td>NO CASE</td>\n      <td>30.0</td>\n      <td>GENERAL</td>\n      <td>Not Available</td>\n      <td>Not Available</td>\n      <td>Not Available</td>\n      <td>22842</td>\n      <td>15</td>\n      <td>22857</td>\n      <td>2.348137</td>\n      <td>2.890017</td>\n      <td>973410</td>\n    </tr>\n    <tr>\n      <th>1716</th>\n      <td>Bihar</td>\n      <td>PURVI CHAMPARAN</td>\n      <td>AAKASH KUMAR SINGH</td>\n      <td>0</td>\n      <td>BLSP</td>\n      <td>Ceiling Fan</td>\n      <td>MALE</td>\n      <td>NO CASE</td>\n      <td>27.0</td>\n      <td>GENERAL</td>\n      <td>Not Available</td>\n      <td>Not Available</td>\n      <td>Not Available</td>\n      <td>281500</td>\n      <td>2639</td>\n      <td>284139</td>\n      <td>17.130512</td>\n      <td>28.410065</td>\n      <td>1658672</td>\n    </tr>\n    <tr>\n      <th>1938</th>\n      <td>Madhya Pradesh</td>\n      <td>SIDHI</td>\n      <td>Dileep Kumar Shukla</td>\n      <td>0</td>\n      <td>IND</td>\n      <td>Balloon</td>\n      <td>MALE</td>\n      <td>NO CASE</td>\n      <td>34.0</td>\n      <td>GENERAL</td>\n      <td>Not Available</td>\n      <td>Not Available</td>\n      <td>Not Available</td>\n      <td>15555</td>\n      <td>0</td>\n      <td>15555</td>\n      <td>0.842840</td>\n      <td>1.212672</td>\n      <td>1845547</td>\n    </tr>\n    <tr>\n      <th>1971</th>\n      <td>Tamil Nadu</td>\n      <td>SIVAGANGA</td>\n      <td>V.PANDI</td>\n      <td>0</td>\n      <td>IND</td>\n      <td>Gift Pack</td>\n      <td>MALE</td>\n      <td>NO CASE</td>\n      <td>43.0</td>\n      <td>GENERAL</td>\n      <td>Not Available</td>\n      <td>Not Available</td>\n      <td>Not Available</td>\n      <td>122325</td>\n      <td>209</td>\n      <td>122534</td>\n      <td>7.895135</td>\n      <td>11.294435</td>\n      <td>1552019</td>\n    </tr>\n    <tr>\n      <th>1978</th>\n      <td>Bihar</td>\n      <td>SIWAN</td>\n      <td>Deva Kant Mishra Alias Munna Bhaiya</td>\n      <td>0</td>\n      <td>IND</td>\n      <td>Chimney</td>\n      <td>MALE</td>\n      <td>NO CASE</td>\n      <td>43.0</td>\n      <td>GENERAL</td>\n      <td>Not Available</td>\n      <td>Not Available</td>\n      <td>Not Available</td>\n      <td>36458</td>\n      <td>1</td>\n      <td>36459</td>\n      <td>2.026005</td>\n      <td>3.701985</td>\n      <td>1799551</td>\n    </tr>\n    <tr>\n      <th>2069</th>\n      <td>Tamil Nadu</td>\n      <td>THENI</td>\n      <td>THANGA TAMILSELVAN</td>\n      <td>0</td>\n      <td>IND</td>\n      <td>Gift Pack</td>\n      <td>MALE</td>\n      <td>NO CASE</td>\n      <td>58.0</td>\n      <td>GENERAL</td>\n      <td>Not Available</td>\n      <td>Not Available</td>\n      <td>Not Available</td>\n      <td>143173</td>\n      <td>877</td>\n      <td>144050</td>\n      <td>9.227822</td>\n      <td>12.259491</td>\n      <td>1561040</td>\n    </tr>\n    <tr>\n      <th>2188</th>\n      <td>Bihar</td>\n      <td>VAISHALI</td>\n      <td>Rinkoo Devi</td>\n      <td>0</td>\n      <td>IND</td>\n      <td>Cot</td>\n      <td>FEMALE</td>\n      <td>NO CASE</td>\n      <td>37.0</td>\n      <td>GENERAL</td>\n      <td>Not Available</td>\n      <td>Not Available</td>\n      <td>Not Available</td>\n      <td>16734</td>\n      <td>4</td>\n      <td>16738</td>\n      <td>0.964180</td>\n      <td>1.557384</td>\n      <td>1735983</td>\n    </tr>\n    <tr>\n      <th>2223</th>\n      <td>Tamil Nadu</td>\n      <td>VIRUDHUNAGAR</td>\n      <td>MUNIYASAMY, V.</td>\n      <td>0</td>\n      <td>MNM</td>\n      <td>Battery Torch</td>\n      <td>MALE</td>\n      <td>NO CASE</td>\n      <td>41.0</td>\n      <td>GENERAL</td>\n      <td>Not Available</td>\n      <td>Not Available</td>\n      <td>Not Available</td>\n      <td>56815</td>\n      <td>314</td>\n      <td>57129</td>\n      <td>3.848999</td>\n      <td>5.309752</td>\n      <td>1484256</td>\n    </tr>\n    <tr>\n      <th>2249</th>\n      <td>Kerala</td>\n      <td>WAYANAD</td>\n      <td>Thushar Vellappally</td>\n      <td>0</td>\n      <td>BDJS</td>\n      <td>Pot</td>\n      <td>MALE</td>\n      <td>NO CASE</td>\n      <td>50.0</td>\n      <td>GENERAL</td>\n      <td>Not Available</td>\n      <td>Not Available</td>\n      <td>Not Available</td>\n      <td>78590</td>\n      <td>226</td>\n      <td>78816</td>\n      <td>5.796662</td>\n      <td>7.212569</td>\n      <td>1359679</td>\n    </tr>\n  </tbody>\n</table>\n</div>"
     },
     "metadata": {},
     "execution_count": 19
    }
   ],
   "source": [
    "df[df['ASSETS']=='Not Available']"
   ]
  },
  {
   "cell_type": "code",
   "execution_count": 27,
   "metadata": {},
   "outputs": [],
   "source": [
    "for i in range(len(df)):\n",
    "    if df.iloc[i,11]=='Not Available':\n",
    "        df.iloc[i,11] = \"-1\"    "
   ]
  },
  {
   "cell_type": "code",
   "execution_count": 28,
   "metadata": {},
   "outputs": [
    {
     "output_type": "error",
     "ename": "AttributeError",
     "evalue": "Can only use .str accessor with string values!",
     "traceback": [
      "\u001b[1;31m---------------------------------------------------------------------------\u001b[0m",
      "\u001b[1;31mAttributeError\u001b[0m                            Traceback (most recent call last)",
      "\u001b[1;32m<ipython-input-28-1f3b0860f35e>\u001b[0m in \u001b[0;36m<module>\u001b[1;34m\u001b[0m\n\u001b[0;32m      1\u001b[0m \u001b[1;31m#Removing '\\n ~' from ASSETS\u001b[0m\u001b[1;33m\u001b[0m\u001b[1;33m\u001b[0m\u001b[1;33m\u001b[0m\u001b[0m\n\u001b[1;32m----> 2\u001b[1;33m \u001b[0mdf\u001b[0m\u001b[1;33m[\u001b[0m\u001b[1;34m'ASSETS'\u001b[0m\u001b[1;33m]\u001b[0m \u001b[1;33m=\u001b[0m \u001b[0mdf\u001b[0m\u001b[1;33m[\u001b[0m\u001b[1;34m'ASSETS'\u001b[0m\u001b[1;33m]\u001b[0m\u001b[1;33m.\u001b[0m\u001b[0mstr\u001b[0m\u001b[1;33m.\u001b[0m\u001b[0msplit\u001b[0m\u001b[1;33m(\u001b[0m\u001b[1;34m'\\n ~'\u001b[0m\u001b[1;33m,\u001b[0m \u001b[1;36m1\u001b[0m\u001b[1;33m,\u001b[0m \u001b[0mexpand\u001b[0m\u001b[1;33m=\u001b[0m\u001b[1;32mTrue\u001b[0m\u001b[1;33m)\u001b[0m\u001b[1;33m[\u001b[0m\u001b[1;36m0\u001b[0m\u001b[1;33m]\u001b[0m\u001b[1;33m\u001b[0m\u001b[1;33m\u001b[0m\u001b[0m\n\u001b[0m\u001b[0;32m      3\u001b[0m \u001b[1;31m#Removing 'Rs' from ASSETS\u001b[0m\u001b[1;33m\u001b[0m\u001b[1;33m\u001b[0m\u001b[1;33m\u001b[0m\u001b[0m\n\u001b[0;32m      4\u001b[0m \u001b[0mdf\u001b[0m\u001b[1;33m[\u001b[0m\u001b[1;34m'ASSETS'\u001b[0m\u001b[1;33m]\u001b[0m \u001b[1;33m=\u001b[0m \u001b[0mdf\u001b[0m\u001b[1;33m[\u001b[0m\u001b[1;34m'ASSETS'\u001b[0m\u001b[1;33m]\u001b[0m\u001b[1;33m.\u001b[0m\u001b[0mstr\u001b[0m\u001b[1;33m.\u001b[0m\u001b[0msplit\u001b[0m\u001b[1;33m(\u001b[0m\u001b[0mexpand\u001b[0m\u001b[1;33m=\u001b[0m\u001b[1;32mTrue\u001b[0m\u001b[1;33m)\u001b[0m\u001b[1;33m[\u001b[0m\u001b[1;36m1\u001b[0m\u001b[1;33m]\u001b[0m\u001b[1;33m\u001b[0m\u001b[1;33m\u001b[0m\u001b[0m\n\u001b[0;32m      5\u001b[0m \u001b[1;31m#Removing special charater \",\" and then joinig it\u001b[0m\u001b[1;33m\u001b[0m\u001b[1;33m\u001b[0m\u001b[1;33m\u001b[0m\u001b[0m\n",
      "\u001b[1;32m~\\Anaconda3\\envs\\myenv\\lib\\site-packages\\pandas\\core\\generic.py\u001b[0m in \u001b[0;36m__getattr__\u001b[1;34m(self, name)\u001b[0m\n\u001b[0;32m   5268\u001b[0m             \u001b[1;32mor\u001b[0m \u001b[0mname\u001b[0m \u001b[1;32min\u001b[0m \u001b[0mself\u001b[0m\u001b[1;33m.\u001b[0m\u001b[0m_accessors\u001b[0m\u001b[1;33m\u001b[0m\u001b[1;33m\u001b[0m\u001b[0m\n\u001b[0;32m   5269\u001b[0m         ):\n\u001b[1;32m-> 5270\u001b[1;33m             \u001b[1;32mreturn\u001b[0m \u001b[0mobject\u001b[0m\u001b[1;33m.\u001b[0m\u001b[0m__getattribute__\u001b[0m\u001b[1;33m(\u001b[0m\u001b[0mself\u001b[0m\u001b[1;33m,\u001b[0m \u001b[0mname\u001b[0m\u001b[1;33m)\u001b[0m\u001b[1;33m\u001b[0m\u001b[1;33m\u001b[0m\u001b[0m\n\u001b[0m\u001b[0;32m   5271\u001b[0m         \u001b[1;32melse\u001b[0m\u001b[1;33m:\u001b[0m\u001b[1;33m\u001b[0m\u001b[1;33m\u001b[0m\u001b[0m\n\u001b[0;32m   5272\u001b[0m             \u001b[1;32mif\u001b[0m \u001b[0mself\u001b[0m\u001b[1;33m.\u001b[0m\u001b[0m_info_axis\u001b[0m\u001b[1;33m.\u001b[0m\u001b[0m_can_hold_identifiers_and_holds_name\u001b[0m\u001b[1;33m(\u001b[0m\u001b[0mname\u001b[0m\u001b[1;33m)\u001b[0m\u001b[1;33m:\u001b[0m\u001b[1;33m\u001b[0m\u001b[1;33m\u001b[0m\u001b[0m\n",
      "\u001b[1;32m~\\Anaconda3\\envs\\myenv\\lib\\site-packages\\pandas\\core\\accessor.py\u001b[0m in \u001b[0;36m__get__\u001b[1;34m(self, obj, cls)\u001b[0m\n\u001b[0;32m    185\u001b[0m             \u001b[1;31m# we're accessing the attribute of the class, i.e., Dataset.geo\u001b[0m\u001b[1;33m\u001b[0m\u001b[1;33m\u001b[0m\u001b[1;33m\u001b[0m\u001b[0m\n\u001b[0;32m    186\u001b[0m             \u001b[1;32mreturn\u001b[0m \u001b[0mself\u001b[0m\u001b[1;33m.\u001b[0m\u001b[0m_accessor\u001b[0m\u001b[1;33m\u001b[0m\u001b[1;33m\u001b[0m\u001b[0m\n\u001b[1;32m--> 187\u001b[1;33m         \u001b[0maccessor_obj\u001b[0m \u001b[1;33m=\u001b[0m \u001b[0mself\u001b[0m\u001b[1;33m.\u001b[0m\u001b[0m_accessor\u001b[0m\u001b[1;33m(\u001b[0m\u001b[0mobj\u001b[0m\u001b[1;33m)\u001b[0m\u001b[1;33m\u001b[0m\u001b[1;33m\u001b[0m\u001b[0m\n\u001b[0m\u001b[0;32m    188\u001b[0m         \u001b[1;31m# Replace the property with the accessor object. Inspired by:\u001b[0m\u001b[1;33m\u001b[0m\u001b[1;33m\u001b[0m\u001b[1;33m\u001b[0m\u001b[0m\n\u001b[0;32m    189\u001b[0m         \u001b[1;31m# http://www.pydanny.com/cached-property.html\u001b[0m\u001b[1;33m\u001b[0m\u001b[1;33m\u001b[0m\u001b[1;33m\u001b[0m\u001b[0m\n",
      "\u001b[1;32m~\\Anaconda3\\envs\\myenv\\lib\\site-packages\\pandas\\core\\strings.py\u001b[0m in \u001b[0;36m__init__\u001b[1;34m(self, data)\u001b[0m\n\u001b[0;32m   2039\u001b[0m \u001b[1;33m\u001b[0m\u001b[0m\n\u001b[0;32m   2040\u001b[0m     \u001b[1;32mdef\u001b[0m \u001b[0m__init__\u001b[0m\u001b[1;33m(\u001b[0m\u001b[0mself\u001b[0m\u001b[1;33m,\u001b[0m \u001b[0mdata\u001b[0m\u001b[1;33m)\u001b[0m\u001b[1;33m:\u001b[0m\u001b[1;33m\u001b[0m\u001b[1;33m\u001b[0m\u001b[0m\n\u001b[1;32m-> 2041\u001b[1;33m         \u001b[0mself\u001b[0m\u001b[1;33m.\u001b[0m\u001b[0m_inferred_dtype\u001b[0m \u001b[1;33m=\u001b[0m \u001b[0mself\u001b[0m\u001b[1;33m.\u001b[0m\u001b[0m_validate\u001b[0m\u001b[1;33m(\u001b[0m\u001b[0mdata\u001b[0m\u001b[1;33m)\u001b[0m\u001b[1;33m\u001b[0m\u001b[1;33m\u001b[0m\u001b[0m\n\u001b[0m\u001b[0;32m   2042\u001b[0m         \u001b[0mself\u001b[0m\u001b[1;33m.\u001b[0m\u001b[0m_is_categorical\u001b[0m \u001b[1;33m=\u001b[0m \u001b[0mis_categorical_dtype\u001b[0m\u001b[1;33m(\u001b[0m\u001b[0mdata\u001b[0m\u001b[1;33m)\u001b[0m\u001b[1;33m\u001b[0m\u001b[1;33m\u001b[0m\u001b[0m\n\u001b[0;32m   2043\u001b[0m         \u001b[0mself\u001b[0m\u001b[1;33m.\u001b[0m\u001b[0m_is_string\u001b[0m \u001b[1;33m=\u001b[0m \u001b[0mdata\u001b[0m\u001b[1;33m.\u001b[0m\u001b[0mdtype\u001b[0m\u001b[1;33m.\u001b[0m\u001b[0mname\u001b[0m \u001b[1;33m==\u001b[0m \u001b[1;34m\"string\"\u001b[0m\u001b[1;33m\u001b[0m\u001b[1;33m\u001b[0m\u001b[0m\n",
      "\u001b[1;32m~\\Anaconda3\\envs\\myenv\\lib\\site-packages\\pandas\\core\\strings.py\u001b[0m in \u001b[0;36m_validate\u001b[1;34m(data)\u001b[0m\n\u001b[0;32m   2096\u001b[0m \u001b[1;33m\u001b[0m\u001b[0m\n\u001b[0;32m   2097\u001b[0m         \u001b[1;32mif\u001b[0m \u001b[0minferred_dtype\u001b[0m \u001b[1;32mnot\u001b[0m \u001b[1;32min\u001b[0m \u001b[0mallowed_types\u001b[0m\u001b[1;33m:\u001b[0m\u001b[1;33m\u001b[0m\u001b[1;33m\u001b[0m\u001b[0m\n\u001b[1;32m-> 2098\u001b[1;33m             \u001b[1;32mraise\u001b[0m \u001b[0mAttributeError\u001b[0m\u001b[1;33m(\u001b[0m\u001b[1;34m\"Can only use .str accessor with string values!\"\u001b[0m\u001b[1;33m)\u001b[0m\u001b[1;33m\u001b[0m\u001b[1;33m\u001b[0m\u001b[0m\n\u001b[0m\u001b[0;32m   2099\u001b[0m         \u001b[1;32mreturn\u001b[0m \u001b[0minferred_dtype\u001b[0m\u001b[1;33m\u001b[0m\u001b[1;33m\u001b[0m\u001b[0m\n\u001b[0;32m   2100\u001b[0m \u001b[1;33m\u001b[0m\u001b[0m\n",
      "\u001b[1;31mAttributeError\u001b[0m: Can only use .str accessor with string values!"
     ]
    }
   ],
   "source": [
    "#Removing '\\n ~' from ASSETS\n",
    "df['ASSETS'] = df['ASSETS'].str.split('\\n ~', 1, expand=True)[0]\n",
    "#Removing 'Rs' from ASSETS\n",
    "df['ASSETS'] = df['ASSETS'].str.split(expand=True)[1]\n",
    "#Removing special charater \",\" and then joinig it\n",
    "df['ASSETS']=df['ASSETS'].str.split(\",\").str.join(\" \")\n",
    "#Removing the space between the join\n",
    "df['ASSETS']=df['ASSETS'].str.replace(' ', '')\n",
    "#Converting ASSETS column into flaot as int values are very high\n",
    "df['ASSETS'] = df['ASSETS'].astype(float)"
   ]
  },
  {
   "cell_type": "code",
   "execution_count": 29,
   "metadata": {},
   "outputs": [],
   "source": [
    "df['ASSETS'] = df['ASSETS'].fillna(value = 0.0)"
   ]
  },
  {
   "cell_type": "code",
   "execution_count": 30,
   "metadata": {},
   "outputs": [],
   "source": [
    "#Changing Assets into Different Economic Classes\n",
    "STATUS = []\n",
    "for i in df['ASSETS']:\n",
    "    if i >0.0 and i < 500000.0:\n",
    "        STATUS.append('NEAR TO BPL')\n",
    "    if i >= 500000.0 and i <= 1000000.0:\n",
    "        STATUS.append('LOWER CLASS')\n",
    "    if i >= 1000001.0 and i <= 2500000.0:\n",
    "        STATUS.append('LOWER MIDDLE CLASS')\n",
    "    elif i >= 2500001.0 and i <= 10000000.0:\n",
    "        STATUS.append('MIDDLE CLASS')\n",
    "    elif i >= 10000001.0 and i <= 100000000.0:\n",
    "        STATUS.append('UPPER MIDDLE CLASS')\n",
    "    elif i >= 100000000.0 and i <= 250000000.0:\n",
    "        STATUS.append('ELITE CLASS')\n",
    "    elif i >= 250000001.0 and i <= 1000000000.0:\n",
    "        STATUS.append('SUPER RICH')\n",
    "    elif i >= 1000000001.0:\n",
    "        STATUS.append('RICHEST OF RICH')\n",
    "    elif i == -1.0:\n",
    "        STATUS.append('ASSETS NOT MENTIONED')\n",
    "    elif i == 0.0:\n",
    "        STATUS.append('NO ASSETS')\n",
    "df['STATUS'] = STATUS"
   ]
  },
  {
   "cell_type": "markdown",
   "metadata": {},
   "source": [
    "## Criminal cases by Economic classes"
   ]
  },
  {
   "cell_type": "code",
   "execution_count": 31,
   "metadata": {},
   "outputs": [
    {
     "output_type": "execute_result",
     "data": {
      "text/plain": "<matplotlib.axes._subplots.AxesSubplot at 0x1e5bd2ff548>"
     },
     "metadata": {},
     "execution_count": 31
    },
    {
     "output_type": "display_data",
     "data": {
      "text/plain": "<Figure size 432x288 with 1 Axes>",
      "image/svg+xml": "<?xml version=\"1.0\" encoding=\"utf-8\" standalone=\"no\"?>\r\n<!DOCTYPE svg PUBLIC \"-//W3C//DTD SVG 1.1//EN\"\r\n  \"http://www.w3.org/Graphics/SVG/1.1/DTD/svg11.dtd\">\r\n<!-- Created with matplotlib (https://matplotlib.org/) -->\r\n<svg height=\"262.19625pt\" version=\"1.1\" viewBox=\"0 0 483.792187 262.19625\" width=\"483.792187pt\" xmlns=\"http://www.w3.org/2000/svg\" xmlns:xlink=\"http://www.w3.org/1999/xlink\">\r\n <defs>\r\n  <style type=\"text/css\">\r\n*{stroke-linecap:butt;stroke-linejoin:round;}\r\n  </style>\r\n </defs>\r\n <g id=\"figure_1\">\r\n  <g id=\"patch_1\">\r\n   <path d=\"M 0 262.19625 \r\nL 483.792187 262.19625 \r\nL 483.792187 0 \r\nL 0 0 \r\nz\r\n\" style=\"fill:none;\"/>\r\n  </g>\r\n  <g id=\"axes_1\">\r\n   <g id=\"patch_2\">\r\n    <path d=\"M 141.792188 224.64 \r\nL 476.592187 224.64 \r\nL 476.592187 7.2 \r\nL 141.792188 7.2 \r\nz\r\n\" style=\"fill:#ffffff;\"/>\r\n   </g>\r\n   <g id=\"patch_3\">\r\n    <path clip-path=\"url(#pd7481139b8)\" d=\"M 141.792188 9.616 \r\nL 211.059179 9.616 \r\nL 211.059179 19.28 \r\nL 141.792188 19.28 \r\nz\r\n\" style=\"fill:#cd1d1d;\"/>\r\n   </g>\r\n   <g id=\"patch_4\">\r\n    <path clip-path=\"url(#pd7481139b8)\" d=\"M 141.792188 33.776 \r\nL 343.296163 33.776 \r\nL 343.296163 43.44 \r\nL 141.792188 43.44 \r\nz\r\n\" style=\"fill:#cd1d1d;\"/>\r\n   </g>\r\n   <g id=\"patch_5\">\r\n    <path clip-path=\"url(#pd7481139b8)\" d=\"M 141.792188 57.936 \r\nL 142.364642 57.936 \r\nL 142.364642 67.6 \r\nL 141.792188 67.6 \r\nz\r\n\" style=\"fill:#cd1d1d;\"/>\r\n   </g>\r\n   <g id=\"patch_6\">\r\n    <path clip-path=\"url(#pd7481139b8)\" d=\"M 141.792188 82.096 \r\nL 200.754998 82.096 \r\nL 200.754998 91.76 \r\nL 141.792188 91.76 \r\nz\r\n\" style=\"fill:#cd1d1d;\"/>\r\n   </g>\r\n   <g id=\"patch_7\">\r\n    <path clip-path=\"url(#pd7481139b8)\" d=\"M 141.792188 106.256 \r\nL 189.878363 106.256 \r\nL 189.878363 115.92 \r\nL 141.792188 115.92 \r\nz\r\n\" style=\"fill:#cd1d1d;\"/>\r\n   </g>\r\n   <g id=\"patch_8\">\r\n    <path clip-path=\"url(#pd7481139b8)\" d=\"M 141.792188 130.416 \r\nL 161.25564 130.416 \r\nL 161.25564 140.08 \r\nL 141.792188 140.08 \r\nz\r\n\" style=\"fill:#cd1d1d;\"/>\r\n   </g>\r\n   <g id=\"patch_9\">\r\n    <path clip-path=\"url(#pd7481139b8)\" d=\"M 141.792188 154.576 \r\nL 153.241277 154.576 \r\nL 153.241277 164.24 \r\nL 141.792188 164.24 \r\nz\r\n\" style=\"fill:#cd1d1d;\"/>\r\n   </g>\r\n   <g id=\"patch_10\">\r\n    <path clip-path=\"url(#pd7481139b8)\" d=\"M 141.792188 178.736 \r\nL 152.096368 178.736 \r\nL 152.096368 188.4 \r\nL 141.792188 188.4 \r\nz\r\n\" style=\"fill:#cd1d1d;\"/>\r\n   </g>\r\n   <g id=\"patch_11\">\r\n    <path clip-path=\"url(#pd7481139b8)\" d=\"M 141.792188 202.896 \r\nL 153.813731 202.896 \r\nL 153.813731 212.56 \r\nL 141.792188 212.56 \r\nz\r\n\" style=\"fill:#cd1d1d;\"/>\r\n   </g>\r\n   <g id=\"patch_12\">\r\n    <path clip-path=\"url(#pd7481139b8)\" d=\"M 141.792188 19.28 \r\nL 267.159718 19.28 \r\nL 267.159718 28.944 \r\nL 141.792188 28.944 \r\nz\r\n\" style=\"fill:#dfb720;\"/>\r\n   </g>\r\n   <g id=\"patch_13\">\r\n    <path clip-path=\"url(#pd7481139b8)\" d=\"M 141.792188 43.44 \r\nL 460.64933 43.44 \r\nL 460.64933 53.104 \r\nL 141.792188 53.104 \r\nz\r\n\" style=\"fill:#dfb720;\"/>\r\n   </g>\r\n   <g id=\"patch_14\">\r\n    <path clip-path=\"url(#pd7481139b8)\" d=\"M 141.792188 67.6 \r\nL 296.354896 67.6 \r\nL 296.354896 77.264 \r\nL 141.792188 77.264 \r\nz\r\n\" style=\"fill:#dfb720;\"/>\r\n   </g>\r\n   <g id=\"patch_15\">\r\n    <path clip-path=\"url(#pd7481139b8)\" d=\"M 141.792188 91.76 \r\nL 214.493906 91.76 \r\nL 214.493906 101.424 \r\nL 141.792188 101.424 \r\nz\r\n\" style=\"fill:#dfb720;\"/>\r\n   </g>\r\n   <g id=\"patch_16\">\r\n    <path clip-path=\"url(#pd7481139b8)\" d=\"M 141.792188 115.92 \r\nL 202.472362 115.92 \r\nL 202.472362 125.584 \r\nL 141.792188 125.584 \r\nz\r\n\" style=\"fill:#dfb720;\"/>\r\n   </g>\r\n   <g id=\"patch_17\">\r\n    <path clip-path=\"url(#pd7481139b8)\" d=\"M 141.792188 140.08 \r\nL 187.588546 140.08 \r\nL 187.588546 149.744 \r\nL 141.792188 149.744 \r\nz\r\n\" style=\"fill:#dfb720;\"/>\r\n   </g>\r\n   <g id=\"patch_18\">\r\n    <path clip-path=\"url(#pd7481139b8)\" d=\"M 141.792188 164.24 \r\nL 180.146637 164.24 \r\nL 180.146637 173.904 \r\nL 141.792188 173.904 \r\nz\r\n\" style=\"fill:#dfb720;\"/>\r\n   </g>\r\n   <g id=\"patch_19\">\r\n    <path clip-path=\"url(#pd7481139b8)\" d=\"M 141.792188 188.4 \r\nL 173.277184 188.4 \r\nL 173.277184 198.064 \r\nL 141.792188 198.064 \r\nz\r\n\" style=\"fill:#dfb720;\"/>\r\n   </g>\r\n   <g id=\"patch_20\">\r\n    <path clip-path=\"url(#pd7481139b8)\" d=\"M 141.792188 212.56 \r\nL 157.820913 212.56 \r\nL 157.820913 222.224 \r\nL 141.792188 222.224 \r\nz\r\n\" style=\"fill:#dfb720;\"/>\r\n   </g>\r\n   <g id=\"matplotlib.axis_1\">\r\n    <g id=\"xtick_1\">\r\n     <g id=\"line2d_1\">\r\n      <defs>\r\n       <path d=\"M 0 0 \r\nL 0 3.5 \r\n\" id=\"maeb21f58f7\" style=\"stroke:#000000;stroke-width:0.8;\"/>\r\n      </defs>\r\n      <g>\r\n       <use style=\"stroke:#000000;stroke-width:0.8;\" x=\"141.792188\" xlink:href=\"#maeb21f58f7\" y=\"224.64\"/>\r\n      </g>\r\n     </g>\r\n     <g id=\"text_1\">\r\n      <!-- 0 -->\r\n      <defs>\r\n       <path d=\"M 31.78125 66.40625 \r\nQ 24.171875 66.40625 20.328125 58.90625 \r\nQ 16.5 51.421875 16.5 36.375 \r\nQ 16.5 21.390625 20.328125 13.890625 \r\nQ 24.171875 6.390625 31.78125 6.390625 \r\nQ 39.453125 6.390625 43.28125 13.890625 \r\nQ 47.125 21.390625 47.125 36.375 \r\nQ 47.125 51.421875 43.28125 58.90625 \r\nQ 39.453125 66.40625 31.78125 66.40625 \r\nz\r\nM 31.78125 74.21875 \r\nQ 44.046875 74.21875 50.515625 64.515625 \r\nQ 56.984375 54.828125 56.984375 36.375 \r\nQ 56.984375 17.96875 50.515625 8.265625 \r\nQ 44.046875 -1.421875 31.78125 -1.421875 \r\nQ 19.53125 -1.421875 13.0625 8.265625 \r\nQ 6.59375 17.96875 6.59375 36.375 \r\nQ 6.59375 54.828125 13.0625 64.515625 \r\nQ 19.53125 74.21875 31.78125 74.21875 \r\nz\r\n\" id=\"DejaVuSans-48\"/>\r\n      </defs>\r\n      <g transform=\"translate(138.610938 239.238437)scale(0.1 -0.1)\">\r\n       <use xlink:href=\"#DejaVuSans-48\"/>\r\n      </g>\r\n     </g>\r\n    </g>\r\n    <g id=\"xtick_2\">\r\n     <g id=\"line2d_2\">\r\n      <g>\r\n       <use style=\"stroke:#000000;stroke-width:0.8;\" x=\"199.037635\" xlink:href=\"#maeb21f58f7\" y=\"224.64\"/>\r\n      </g>\r\n     </g>\r\n     <g id=\"text_2\">\r\n      <!-- 100 -->\r\n      <defs>\r\n       <path d=\"M 12.40625 8.296875 \r\nL 28.515625 8.296875 \r\nL 28.515625 63.921875 \r\nL 10.984375 60.40625 \r\nL 10.984375 69.390625 \r\nL 28.421875 72.90625 \r\nL 38.28125 72.90625 \r\nL 38.28125 8.296875 \r\nL 54.390625 8.296875 \r\nL 54.390625 0 \r\nL 12.40625 0 \r\nz\r\n\" id=\"DejaVuSans-49\"/>\r\n      </defs>\r\n      <g transform=\"translate(189.493885 239.238437)scale(0.1 -0.1)\">\r\n       <use xlink:href=\"#DejaVuSans-49\"/>\r\n       <use x=\"63.623047\" xlink:href=\"#DejaVuSans-48\"/>\r\n       <use x=\"127.246094\" xlink:href=\"#DejaVuSans-48\"/>\r\n      </g>\r\n     </g>\r\n    </g>\r\n    <g id=\"xtick_3\">\r\n     <g id=\"line2d_3\">\r\n      <g>\r\n       <use style=\"stroke:#000000;stroke-width:0.8;\" x=\"256.283083\" xlink:href=\"#maeb21f58f7\" y=\"224.64\"/>\r\n      </g>\r\n     </g>\r\n     <g id=\"text_3\">\r\n      <!-- 200 -->\r\n      <defs>\r\n       <path d=\"M 19.1875 8.296875 \r\nL 53.609375 8.296875 \r\nL 53.609375 0 \r\nL 7.328125 0 \r\nL 7.328125 8.296875 \r\nQ 12.9375 14.109375 22.625 23.890625 \r\nQ 32.328125 33.6875 34.8125 36.53125 \r\nQ 39.546875 41.84375 41.421875 45.53125 \r\nQ 43.3125 49.21875 43.3125 52.78125 \r\nQ 43.3125 58.59375 39.234375 62.25 \r\nQ 35.15625 65.921875 28.609375 65.921875 \r\nQ 23.96875 65.921875 18.8125 64.3125 \r\nQ 13.671875 62.703125 7.8125 59.421875 \r\nL 7.8125 69.390625 \r\nQ 13.765625 71.78125 18.9375 73 \r\nQ 24.125 74.21875 28.421875 74.21875 \r\nQ 39.75 74.21875 46.484375 68.546875 \r\nQ 53.21875 62.890625 53.21875 53.421875 \r\nQ 53.21875 48.921875 51.53125 44.890625 \r\nQ 49.859375 40.875 45.40625 35.40625 \r\nQ 44.1875 33.984375 37.640625 27.21875 \r\nQ 31.109375 20.453125 19.1875 8.296875 \r\nz\r\n\" id=\"DejaVuSans-50\"/>\r\n      </defs>\r\n      <g transform=\"translate(246.739333 239.238437)scale(0.1 -0.1)\">\r\n       <use xlink:href=\"#DejaVuSans-50\"/>\r\n       <use x=\"63.623047\" xlink:href=\"#DejaVuSans-48\"/>\r\n       <use x=\"127.246094\" xlink:href=\"#DejaVuSans-48\"/>\r\n      </g>\r\n     </g>\r\n    </g>\r\n    <g id=\"xtick_4\">\r\n     <g id=\"line2d_4\">\r\n      <g>\r\n       <use style=\"stroke:#000000;stroke-width:0.8;\" x=\"313.52853\" xlink:href=\"#maeb21f58f7\" y=\"224.64\"/>\r\n      </g>\r\n     </g>\r\n     <g id=\"text_4\">\r\n      <!-- 300 -->\r\n      <defs>\r\n       <path d=\"M 40.578125 39.3125 \r\nQ 47.65625 37.796875 51.625 33 \r\nQ 55.609375 28.21875 55.609375 21.1875 \r\nQ 55.609375 10.40625 48.1875 4.484375 \r\nQ 40.765625 -1.421875 27.09375 -1.421875 \r\nQ 22.515625 -1.421875 17.65625 -0.515625 \r\nQ 12.796875 0.390625 7.625 2.203125 \r\nL 7.625 11.71875 \r\nQ 11.71875 9.328125 16.59375 8.109375 \r\nQ 21.484375 6.890625 26.8125 6.890625 \r\nQ 36.078125 6.890625 40.9375 10.546875 \r\nQ 45.796875 14.203125 45.796875 21.1875 \r\nQ 45.796875 27.640625 41.28125 31.265625 \r\nQ 36.765625 34.90625 28.71875 34.90625 \r\nL 20.21875 34.90625 \r\nL 20.21875 43.015625 \r\nL 29.109375 43.015625 \r\nQ 36.375 43.015625 40.234375 45.921875 \r\nQ 44.09375 48.828125 44.09375 54.296875 \r\nQ 44.09375 59.90625 40.109375 62.90625 \r\nQ 36.140625 65.921875 28.71875 65.921875 \r\nQ 24.65625 65.921875 20.015625 65.03125 \r\nQ 15.375 64.15625 9.8125 62.3125 \r\nL 9.8125 71.09375 \r\nQ 15.4375 72.65625 20.34375 73.4375 \r\nQ 25.25 74.21875 29.59375 74.21875 \r\nQ 40.828125 74.21875 47.359375 69.109375 \r\nQ 53.90625 64.015625 53.90625 55.328125 \r\nQ 53.90625 49.265625 50.4375 45.09375 \r\nQ 46.96875 40.921875 40.578125 39.3125 \r\nz\r\n\" id=\"DejaVuSans-51\"/>\r\n      </defs>\r\n      <g transform=\"translate(303.98478 239.238437)scale(0.1 -0.1)\">\r\n       <use xlink:href=\"#DejaVuSans-51\"/>\r\n       <use x=\"63.623047\" xlink:href=\"#DejaVuSans-48\"/>\r\n       <use x=\"127.246094\" xlink:href=\"#DejaVuSans-48\"/>\r\n      </g>\r\n     </g>\r\n    </g>\r\n    <g id=\"xtick_5\">\r\n     <g id=\"line2d_5\">\r\n      <g>\r\n       <use style=\"stroke:#000000;stroke-width:0.8;\" x=\"370.773978\" xlink:href=\"#maeb21f58f7\" y=\"224.64\"/>\r\n      </g>\r\n     </g>\r\n     <g id=\"text_5\">\r\n      <!-- 400 -->\r\n      <defs>\r\n       <path d=\"M 37.796875 64.3125 \r\nL 12.890625 25.390625 \r\nL 37.796875 25.390625 \r\nz\r\nM 35.203125 72.90625 \r\nL 47.609375 72.90625 \r\nL 47.609375 25.390625 \r\nL 58.015625 25.390625 \r\nL 58.015625 17.1875 \r\nL 47.609375 17.1875 \r\nL 47.609375 0 \r\nL 37.796875 0 \r\nL 37.796875 17.1875 \r\nL 4.890625 17.1875 \r\nL 4.890625 26.703125 \r\nz\r\n\" id=\"DejaVuSans-52\"/>\r\n      </defs>\r\n      <g transform=\"translate(361.230228 239.238437)scale(0.1 -0.1)\">\r\n       <use xlink:href=\"#DejaVuSans-52\"/>\r\n       <use x=\"63.623047\" xlink:href=\"#DejaVuSans-48\"/>\r\n       <use x=\"127.246094\" xlink:href=\"#DejaVuSans-48\"/>\r\n      </g>\r\n     </g>\r\n    </g>\r\n    <g id=\"xtick_6\">\r\n     <g id=\"line2d_6\">\r\n      <g>\r\n       <use style=\"stroke:#000000;stroke-width:0.8;\" x=\"428.019425\" xlink:href=\"#maeb21f58f7\" y=\"224.64\"/>\r\n      </g>\r\n     </g>\r\n     <g id=\"text_6\">\r\n      <!-- 500 -->\r\n      <defs>\r\n       <path d=\"M 10.796875 72.90625 \r\nL 49.515625 72.90625 \r\nL 49.515625 64.59375 \r\nL 19.828125 64.59375 \r\nL 19.828125 46.734375 \r\nQ 21.96875 47.46875 24.109375 47.828125 \r\nQ 26.265625 48.1875 28.421875 48.1875 \r\nQ 40.625 48.1875 47.75 41.5 \r\nQ 54.890625 34.8125 54.890625 23.390625 \r\nQ 54.890625 11.625 47.5625 5.09375 \r\nQ 40.234375 -1.421875 26.90625 -1.421875 \r\nQ 22.3125 -1.421875 17.546875 -0.640625 \r\nQ 12.796875 0.140625 7.71875 1.703125 \r\nL 7.71875 11.625 \r\nQ 12.109375 9.234375 16.796875 8.0625 \r\nQ 21.484375 6.890625 26.703125 6.890625 \r\nQ 35.15625 6.890625 40.078125 11.328125 \r\nQ 45.015625 15.765625 45.015625 23.390625 \r\nQ 45.015625 31 40.078125 35.4375 \r\nQ 35.15625 39.890625 26.703125 39.890625 \r\nQ 22.75 39.890625 18.8125 39.015625 \r\nQ 14.890625 38.140625 10.796875 36.28125 \r\nz\r\n\" id=\"DejaVuSans-53\"/>\r\n      </defs>\r\n      <g transform=\"translate(418.475675 239.238437)scale(0.1 -0.1)\">\r\n       <use xlink:href=\"#DejaVuSans-53\"/>\r\n       <use x=\"63.623047\" xlink:href=\"#DejaVuSans-48\"/>\r\n       <use x=\"127.246094\" xlink:href=\"#DejaVuSans-48\"/>\r\n      </g>\r\n     </g>\r\n    </g>\r\n    <g id=\"text_7\">\r\n     <!-- count -->\r\n     <defs>\r\n      <path d=\"M 48.78125 52.59375 \r\nL 48.78125 44.1875 \r\nQ 44.96875 46.296875 41.140625 47.34375 \r\nQ 37.3125 48.390625 33.40625 48.390625 \r\nQ 24.65625 48.390625 19.8125 42.84375 \r\nQ 14.984375 37.3125 14.984375 27.296875 \r\nQ 14.984375 17.28125 19.8125 11.734375 \r\nQ 24.65625 6.203125 33.40625 6.203125 \r\nQ 37.3125 6.203125 41.140625 7.25 \r\nQ 44.96875 8.296875 48.78125 10.40625 \r\nL 48.78125 2.09375 \r\nQ 45.015625 0.34375 40.984375 -0.53125 \r\nQ 36.96875 -1.421875 32.421875 -1.421875 \r\nQ 20.0625 -1.421875 12.78125 6.34375 \r\nQ 5.515625 14.109375 5.515625 27.296875 \r\nQ 5.515625 40.671875 12.859375 48.328125 \r\nQ 20.21875 56 33.015625 56 \r\nQ 37.15625 56 41.109375 55.140625 \r\nQ 45.0625 54.296875 48.78125 52.59375 \r\nz\r\n\" id=\"DejaVuSans-99\"/>\r\n      <path d=\"M 30.609375 48.390625 \r\nQ 23.390625 48.390625 19.1875 42.75 \r\nQ 14.984375 37.109375 14.984375 27.296875 \r\nQ 14.984375 17.484375 19.15625 11.84375 \r\nQ 23.34375 6.203125 30.609375 6.203125 \r\nQ 37.796875 6.203125 41.984375 11.859375 \r\nQ 46.1875 17.53125 46.1875 27.296875 \r\nQ 46.1875 37.015625 41.984375 42.703125 \r\nQ 37.796875 48.390625 30.609375 48.390625 \r\nz\r\nM 30.609375 56 \r\nQ 42.328125 56 49.015625 48.375 \r\nQ 55.71875 40.765625 55.71875 27.296875 \r\nQ 55.71875 13.875 49.015625 6.21875 \r\nQ 42.328125 -1.421875 30.609375 -1.421875 \r\nQ 18.84375 -1.421875 12.171875 6.21875 \r\nQ 5.515625 13.875 5.515625 27.296875 \r\nQ 5.515625 40.765625 12.171875 48.375 \r\nQ 18.84375 56 30.609375 56 \r\nz\r\n\" id=\"DejaVuSans-111\"/>\r\n      <path d=\"M 8.5 21.578125 \r\nL 8.5 54.6875 \r\nL 17.484375 54.6875 \r\nL 17.484375 21.921875 \r\nQ 17.484375 14.15625 20.5 10.265625 \r\nQ 23.53125 6.390625 29.59375 6.390625 \r\nQ 36.859375 6.390625 41.078125 11.03125 \r\nQ 45.3125 15.671875 45.3125 23.6875 \r\nL 45.3125 54.6875 \r\nL 54.296875 54.6875 \r\nL 54.296875 0 \r\nL 45.3125 0 \r\nL 45.3125 8.40625 \r\nQ 42.046875 3.421875 37.71875 1 \r\nQ 33.40625 -1.421875 27.6875 -1.421875 \r\nQ 18.265625 -1.421875 13.375 4.4375 \r\nQ 8.5 10.296875 8.5 21.578125 \r\nz\r\nM 31.109375 56 \r\nz\r\n\" id=\"DejaVuSans-117\"/>\r\n      <path d=\"M 54.890625 33.015625 \r\nL 54.890625 0 \r\nL 45.90625 0 \r\nL 45.90625 32.71875 \r\nQ 45.90625 40.484375 42.875 44.328125 \r\nQ 39.84375 48.1875 33.796875 48.1875 \r\nQ 26.515625 48.1875 22.3125 43.546875 \r\nQ 18.109375 38.921875 18.109375 30.90625 \r\nL 18.109375 0 \r\nL 9.078125 0 \r\nL 9.078125 54.6875 \r\nL 18.109375 54.6875 \r\nL 18.109375 46.1875 \r\nQ 21.34375 51.125 25.703125 53.5625 \r\nQ 30.078125 56 35.796875 56 \r\nQ 45.21875 56 50.046875 50.171875 \r\nQ 54.890625 44.34375 54.890625 33.015625 \r\nz\r\n\" id=\"DejaVuSans-110\"/>\r\n      <path d=\"M 18.3125 70.21875 \r\nL 18.3125 54.6875 \r\nL 36.8125 54.6875 \r\nL 36.8125 47.703125 \r\nL 18.3125 47.703125 \r\nL 18.3125 18.015625 \r\nQ 18.3125 11.328125 20.140625 9.421875 \r\nQ 21.96875 7.515625 27.59375 7.515625 \r\nL 36.8125 7.515625 \r\nL 36.8125 0 \r\nL 27.59375 0 \r\nQ 17.1875 0 13.234375 3.875 \r\nQ 9.28125 7.765625 9.28125 18.015625 \r\nL 9.28125 47.703125 \r\nL 2.6875 47.703125 \r\nL 2.6875 54.6875 \r\nL 9.28125 54.6875 \r\nL 9.28125 70.21875 \r\nz\r\n\" id=\"DejaVuSans-116\"/>\r\n     </defs>\r\n     <g transform=\"translate(295.085938 252.916562)scale(0.1 -0.1)\">\r\n      <use xlink:href=\"#DejaVuSans-99\"/>\r\n      <use x=\"54.980469\" xlink:href=\"#DejaVuSans-111\"/>\r\n      <use x=\"116.162109\" xlink:href=\"#DejaVuSans-117\"/>\r\n      <use x=\"179.541016\" xlink:href=\"#DejaVuSans-110\"/>\r\n      <use x=\"242.919922\" xlink:href=\"#DejaVuSans-116\"/>\r\n     </g>\r\n    </g>\r\n   </g>\r\n   <g id=\"matplotlib.axis_2\">\r\n    <g id=\"ytick_1\">\r\n     <g id=\"line2d_7\">\r\n      <defs>\r\n       <path d=\"M 0 0 \r\nL -3.5 0 \r\n\" id=\"m15f1147e11\" style=\"stroke:#000000;stroke-width:0.8;\"/>\r\n      </defs>\r\n      <g>\r\n       <use style=\"stroke:#000000;stroke-width:0.8;\" x=\"141.792188\" xlink:href=\"#m15f1147e11\" y=\"19.28\"/>\r\n      </g>\r\n     </g>\r\n     <g id=\"text_8\">\r\n      <!-- MIDDLE CLASS -->\r\n      <defs>\r\n       <path d=\"M 9.8125 72.90625 \r\nL 24.515625 72.90625 \r\nL 43.109375 23.296875 \r\nL 61.8125 72.90625 \r\nL 76.515625 72.90625 \r\nL 76.515625 0 \r\nL 66.890625 0 \r\nL 66.890625 64.015625 \r\nL 48.09375 14.015625 \r\nL 38.1875 14.015625 \r\nL 19.390625 64.015625 \r\nL 19.390625 0 \r\nL 9.8125 0 \r\nz\r\n\" id=\"DejaVuSans-77\"/>\r\n       <path d=\"M 9.8125 72.90625 \r\nL 19.671875 72.90625 \r\nL 19.671875 0 \r\nL 9.8125 0 \r\nz\r\n\" id=\"DejaVuSans-73\"/>\r\n       <path d=\"M 19.671875 64.796875 \r\nL 19.671875 8.109375 \r\nL 31.59375 8.109375 \r\nQ 46.6875 8.109375 53.6875 14.9375 \r\nQ 60.6875 21.78125 60.6875 36.53125 \r\nQ 60.6875 51.171875 53.6875 57.984375 \r\nQ 46.6875 64.796875 31.59375 64.796875 \r\nz\r\nM 9.8125 72.90625 \r\nL 30.078125 72.90625 \r\nQ 51.265625 72.90625 61.171875 64.09375 \r\nQ 71.09375 55.28125 71.09375 36.53125 \r\nQ 71.09375 17.671875 61.125 8.828125 \r\nQ 51.171875 0 30.078125 0 \r\nL 9.8125 0 \r\nz\r\n\" id=\"DejaVuSans-68\"/>\r\n       <path d=\"M 9.8125 72.90625 \r\nL 19.671875 72.90625 \r\nL 19.671875 8.296875 \r\nL 55.171875 8.296875 \r\nL 55.171875 0 \r\nL 9.8125 0 \r\nz\r\n\" id=\"DejaVuSans-76\"/>\r\n       <path d=\"M 9.8125 72.90625 \r\nL 55.90625 72.90625 \r\nL 55.90625 64.59375 \r\nL 19.671875 64.59375 \r\nL 19.671875 43.015625 \r\nL 54.390625 43.015625 \r\nL 54.390625 34.71875 \r\nL 19.671875 34.71875 \r\nL 19.671875 8.296875 \r\nL 56.78125 8.296875 \r\nL 56.78125 0 \r\nL 9.8125 0 \r\nz\r\n\" id=\"DejaVuSans-69\"/>\r\n       <path id=\"DejaVuSans-32\"/>\r\n       <path d=\"M 64.40625 67.28125 \r\nL 64.40625 56.890625 \r\nQ 59.421875 61.53125 53.78125 63.8125 \r\nQ 48.140625 66.109375 41.796875 66.109375 \r\nQ 29.296875 66.109375 22.65625 58.46875 \r\nQ 16.015625 50.828125 16.015625 36.375 \r\nQ 16.015625 21.96875 22.65625 14.328125 \r\nQ 29.296875 6.6875 41.796875 6.6875 \r\nQ 48.140625 6.6875 53.78125 8.984375 \r\nQ 59.421875 11.28125 64.40625 15.921875 \r\nL 64.40625 5.609375 \r\nQ 59.234375 2.09375 53.4375 0.328125 \r\nQ 47.65625 -1.421875 41.21875 -1.421875 \r\nQ 24.65625 -1.421875 15.125 8.703125 \r\nQ 5.609375 18.84375 5.609375 36.375 \r\nQ 5.609375 53.953125 15.125 64.078125 \r\nQ 24.65625 74.21875 41.21875 74.21875 \r\nQ 47.75 74.21875 53.53125 72.484375 \r\nQ 59.328125 70.75 64.40625 67.28125 \r\nz\r\n\" id=\"DejaVuSans-67\"/>\r\n       <path d=\"M 34.1875 63.1875 \r\nL 20.796875 26.90625 \r\nL 47.609375 26.90625 \r\nz\r\nM 28.609375 72.90625 \r\nL 39.796875 72.90625 \r\nL 67.578125 0 \r\nL 57.328125 0 \r\nL 50.6875 18.703125 \r\nL 17.828125 18.703125 \r\nL 11.1875 0 \r\nL 0.78125 0 \r\nz\r\n\" id=\"DejaVuSans-65\"/>\r\n       <path d=\"M 53.515625 70.515625 \r\nL 53.515625 60.890625 \r\nQ 47.90625 63.578125 42.921875 64.890625 \r\nQ 37.9375 66.21875 33.296875 66.21875 \r\nQ 25.25 66.21875 20.875 63.09375 \r\nQ 16.5 59.96875 16.5 54.203125 \r\nQ 16.5 49.359375 19.40625 46.890625 \r\nQ 22.3125 44.4375 30.421875 42.921875 \r\nL 36.375 41.703125 \r\nQ 47.40625 39.59375 52.65625 34.296875 \r\nQ 57.90625 29 57.90625 20.125 \r\nQ 57.90625 9.515625 50.796875 4.046875 \r\nQ 43.703125 -1.421875 29.984375 -1.421875 \r\nQ 24.8125 -1.421875 18.96875 -0.25 \r\nQ 13.140625 0.921875 6.890625 3.21875 \r\nL 6.890625 13.375 \r\nQ 12.890625 10.015625 18.65625 8.296875 \r\nQ 24.421875 6.59375 29.984375 6.59375 \r\nQ 38.421875 6.59375 43.015625 9.90625 \r\nQ 47.609375 13.234375 47.609375 19.390625 \r\nQ 47.609375 24.75 44.3125 27.78125 \r\nQ 41.015625 30.8125 33.5 32.328125 \r\nL 27.484375 33.5 \r\nQ 16.453125 35.6875 11.515625 40.375 \r\nQ 6.59375 45.0625 6.59375 53.421875 \r\nQ 6.59375 63.09375 13.40625 68.65625 \r\nQ 20.21875 74.21875 32.171875 74.21875 \r\nQ 37.3125 74.21875 42.625 73.28125 \r\nQ 47.953125 72.359375 53.515625 70.515625 \r\nz\r\n\" id=\"DejaVuSans-83\"/>\r\n      </defs>\r\n      <g transform=\"translate(60.65 23.079219)scale(0.1 -0.1)\">\r\n       <use xlink:href=\"#DejaVuSans-77\"/>\r\n       <use x=\"86.279297\" xlink:href=\"#DejaVuSans-73\"/>\r\n       <use x=\"115.771484\" xlink:href=\"#DejaVuSans-68\"/>\r\n       <use x=\"192.773438\" xlink:href=\"#DejaVuSans-68\"/>\r\n       <use x=\"269.775391\" xlink:href=\"#DejaVuSans-76\"/>\r\n       <use x=\"325.488281\" xlink:href=\"#DejaVuSans-69\"/>\r\n       <use x=\"388.671875\" xlink:href=\"#DejaVuSans-32\"/>\r\n       <use x=\"420.458984\" xlink:href=\"#DejaVuSans-67\"/>\r\n       <use x=\"490.283203\" xlink:href=\"#DejaVuSans-76\"/>\r\n       <use x=\"546.027344\" xlink:href=\"#DejaVuSans-65\"/>\r\n       <use x=\"614.435547\" xlink:href=\"#DejaVuSans-83\"/>\r\n       <use x=\"677.912109\" xlink:href=\"#DejaVuSans-83\"/>\r\n      </g>\r\n     </g>\r\n    </g>\r\n    <g id=\"ytick_2\">\r\n     <g id=\"line2d_8\">\r\n      <g>\r\n       <use style=\"stroke:#000000;stroke-width:0.8;\" x=\"141.792188\" xlink:href=\"#m15f1147e11\" y=\"43.44\"/>\r\n      </g>\r\n     </g>\r\n     <g id=\"text_9\">\r\n      <!-- UPPER MIDDLE CLASS -->\r\n      <defs>\r\n       <path d=\"M 8.6875 72.90625 \r\nL 18.609375 72.90625 \r\nL 18.609375 28.609375 \r\nQ 18.609375 16.890625 22.84375 11.734375 \r\nQ 27.09375 6.59375 36.625 6.59375 \r\nQ 46.09375 6.59375 50.34375 11.734375 \r\nQ 54.59375 16.890625 54.59375 28.609375 \r\nL 54.59375 72.90625 \r\nL 64.5 72.90625 \r\nL 64.5 27.390625 \r\nQ 64.5 13.140625 57.4375 5.859375 \r\nQ 50.390625 -1.421875 36.625 -1.421875 \r\nQ 22.796875 -1.421875 15.734375 5.859375 \r\nQ 8.6875 13.140625 8.6875 27.390625 \r\nz\r\n\" id=\"DejaVuSans-85\"/>\r\n       <path d=\"M 19.671875 64.796875 \r\nL 19.671875 37.40625 \r\nL 32.078125 37.40625 \r\nQ 38.96875 37.40625 42.71875 40.96875 \r\nQ 46.484375 44.53125 46.484375 51.125 \r\nQ 46.484375 57.671875 42.71875 61.234375 \r\nQ 38.96875 64.796875 32.078125 64.796875 \r\nz\r\nM 9.8125 72.90625 \r\nL 32.078125 72.90625 \r\nQ 44.34375 72.90625 50.609375 67.359375 \r\nQ 56.890625 61.8125 56.890625 51.125 \r\nQ 56.890625 40.328125 50.609375 34.8125 \r\nQ 44.34375 29.296875 32.078125 29.296875 \r\nL 19.671875 29.296875 \r\nL 19.671875 0 \r\nL 9.8125 0 \r\nz\r\n\" id=\"DejaVuSans-80\"/>\r\n       <path d=\"M 44.390625 34.1875 \r\nQ 47.5625 33.109375 50.5625 29.59375 \r\nQ 53.5625 26.078125 56.59375 19.921875 \r\nL 66.609375 0 \r\nL 56 0 \r\nL 46.6875 18.703125 \r\nQ 43.0625 26.03125 39.671875 28.421875 \r\nQ 36.28125 30.8125 30.421875 30.8125 \r\nL 19.671875 30.8125 \r\nL 19.671875 0 \r\nL 9.8125 0 \r\nL 9.8125 72.90625 \r\nL 32.078125 72.90625 \r\nQ 44.578125 72.90625 50.734375 67.671875 \r\nQ 56.890625 62.453125 56.890625 51.90625 \r\nQ 56.890625 45.015625 53.6875 40.46875 \r\nQ 50.484375 35.9375 44.390625 34.1875 \r\nz\r\nM 19.671875 64.796875 \r\nL 19.671875 38.921875 \r\nL 32.078125 38.921875 \r\nQ 39.203125 38.921875 42.84375 42.21875 \r\nQ 46.484375 45.515625 46.484375 51.90625 \r\nQ 46.484375 58.296875 42.84375 61.546875 \r\nQ 39.203125 64.796875 32.078125 64.796875 \r\nz\r\n\" id=\"DejaVuSans-82\"/>\r\n      </defs>\r\n      <g transform=\"translate(24.826563 47.239219)scale(0.1 -0.1)\">\r\n       <use xlink:href=\"#DejaVuSans-85\"/>\r\n       <use x=\"73.193359\" xlink:href=\"#DejaVuSans-80\"/>\r\n       <use x=\"133.496094\" xlink:href=\"#DejaVuSans-80\"/>\r\n       <use x=\"193.798828\" xlink:href=\"#DejaVuSans-69\"/>\r\n       <use x=\"256.982422\" xlink:href=\"#DejaVuSans-82\"/>\r\n       <use x=\"326.464844\" xlink:href=\"#DejaVuSans-32\"/>\r\n       <use x=\"358.251953\" xlink:href=\"#DejaVuSans-77\"/>\r\n       <use x=\"444.53125\" xlink:href=\"#DejaVuSans-73\"/>\r\n       <use x=\"474.023438\" xlink:href=\"#DejaVuSans-68\"/>\r\n       <use x=\"551.025391\" xlink:href=\"#DejaVuSans-68\"/>\r\n       <use x=\"628.027344\" xlink:href=\"#DejaVuSans-76\"/>\r\n       <use x=\"683.740234\" xlink:href=\"#DejaVuSans-69\"/>\r\n       <use x=\"746.923828\" xlink:href=\"#DejaVuSans-32\"/>\r\n       <use x=\"778.710938\" xlink:href=\"#DejaVuSans-67\"/>\r\n       <use x=\"848.535156\" xlink:href=\"#DejaVuSans-76\"/>\r\n       <use x=\"904.279297\" xlink:href=\"#DejaVuSans-65\"/>\r\n       <use x=\"972.6875\" xlink:href=\"#DejaVuSans-83\"/>\r\n       <use x=\"1036.164062\" xlink:href=\"#DejaVuSans-83\"/>\r\n      </g>\r\n     </g>\r\n    </g>\r\n    <g id=\"ytick_3\">\r\n     <g id=\"line2d_9\">\r\n      <g>\r\n       <use style=\"stroke:#000000;stroke-width:0.8;\" x=\"141.792188\" xlink:href=\"#m15f1147e11\" y=\"67.6\"/>\r\n      </g>\r\n     </g>\r\n     <g id=\"text_10\">\r\n      <!-- NO ASSETS -->\r\n      <defs>\r\n       <path d=\"M 9.8125 72.90625 \r\nL 23.09375 72.90625 \r\nL 55.421875 11.921875 \r\nL 55.421875 72.90625 \r\nL 64.984375 72.90625 \r\nL 64.984375 0 \r\nL 51.703125 0 \r\nL 19.390625 60.984375 \r\nL 19.390625 0 \r\nL 9.8125 0 \r\nz\r\n\" id=\"DejaVuSans-78\"/>\r\n       <path d=\"M 39.40625 66.21875 \r\nQ 28.65625 66.21875 22.328125 58.203125 \r\nQ 16.015625 50.203125 16.015625 36.375 \r\nQ 16.015625 22.609375 22.328125 14.59375 \r\nQ 28.65625 6.59375 39.40625 6.59375 \r\nQ 50.140625 6.59375 56.421875 14.59375 \r\nQ 62.703125 22.609375 62.703125 36.375 \r\nQ 62.703125 50.203125 56.421875 58.203125 \r\nQ 50.140625 66.21875 39.40625 66.21875 \r\nz\r\nM 39.40625 74.21875 \r\nQ 54.734375 74.21875 63.90625 63.9375 \r\nQ 73.09375 53.65625 73.09375 36.375 \r\nQ 73.09375 19.140625 63.90625 8.859375 \r\nQ 54.734375 -1.421875 39.40625 -1.421875 \r\nQ 24.03125 -1.421875 14.8125 8.828125 \r\nQ 5.609375 19.09375 5.609375 36.375 \r\nQ 5.609375 53.65625 14.8125 63.9375 \r\nQ 24.03125 74.21875 39.40625 74.21875 \r\nz\r\n\" id=\"DejaVuSans-79\"/>\r\n       <path d=\"M -0.296875 72.90625 \r\nL 61.375 72.90625 \r\nL 61.375 64.59375 \r\nL 35.5 64.59375 \r\nL 35.5 0 \r\nL 25.59375 0 \r\nL 25.59375 64.59375 \r\nL -0.296875 64.59375 \r\nz\r\n\" id=\"DejaVuSans-84\"/>\r\n      </defs>\r\n      <g transform=\"translate(77.948438 71.399219)scale(0.1 -0.1)\">\r\n       <use xlink:href=\"#DejaVuSans-78\"/>\r\n       <use x=\"74.804688\" xlink:href=\"#DejaVuSans-79\"/>\r\n       <use x=\"153.515625\" xlink:href=\"#DejaVuSans-32\"/>\r\n       <use x=\"185.302734\" xlink:href=\"#DejaVuSans-65\"/>\r\n       <use x=\"253.710938\" xlink:href=\"#DejaVuSans-83\"/>\r\n       <use x=\"317.1875\" xlink:href=\"#DejaVuSans-83\"/>\r\n       <use x=\"380.664062\" xlink:href=\"#DejaVuSans-69\"/>\r\n       <use x=\"443.847656\" xlink:href=\"#DejaVuSans-84\"/>\r\n       <use x=\"504.931641\" xlink:href=\"#DejaVuSans-83\"/>\r\n      </g>\r\n     </g>\r\n    </g>\r\n    <g id=\"ytick_4\">\r\n     <g id=\"line2d_10\">\r\n      <g>\r\n       <use style=\"stroke:#000000;stroke-width:0.8;\" x=\"141.792188\" xlink:href=\"#m15f1147e11\" y=\"91.76\"/>\r\n      </g>\r\n     </g>\r\n     <g id=\"text_11\">\r\n      <!-- ELITE CLASS -->\r\n      <g transform=\"translate(72.251563 95.559219)scale(0.1 -0.1)\">\r\n       <use xlink:href=\"#DejaVuSans-69\"/>\r\n       <use x=\"63.183594\" xlink:href=\"#DejaVuSans-76\"/>\r\n       <use x=\"118.896484\" xlink:href=\"#DejaVuSans-73\"/>\r\n       <use x=\"148.388672\" xlink:href=\"#DejaVuSans-84\"/>\r\n       <use x=\"209.472656\" xlink:href=\"#DejaVuSans-69\"/>\r\n       <use x=\"272.65625\" xlink:href=\"#DejaVuSans-32\"/>\r\n       <use x=\"304.443359\" xlink:href=\"#DejaVuSans-67\"/>\r\n       <use x=\"374.267578\" xlink:href=\"#DejaVuSans-76\"/>\r\n       <use x=\"430.011719\" xlink:href=\"#DejaVuSans-65\"/>\r\n       <use x=\"498.419922\" xlink:href=\"#DejaVuSans-83\"/>\r\n       <use x=\"561.896484\" xlink:href=\"#DejaVuSans-83\"/>\r\n      </g>\r\n     </g>\r\n    </g>\r\n    <g id=\"ytick_5\">\r\n     <g id=\"line2d_11\">\r\n      <g>\r\n       <use style=\"stroke:#000000;stroke-width:0.8;\" x=\"141.792188\" xlink:href=\"#m15f1147e11\" y=\"115.92\"/>\r\n      </g>\r\n     </g>\r\n     <g id=\"text_12\">\r\n      <!-- SUPER RICH -->\r\n      <defs>\r\n       <path d=\"M 9.8125 72.90625 \r\nL 19.671875 72.90625 \r\nL 19.671875 43.015625 \r\nL 55.515625 43.015625 \r\nL 55.515625 72.90625 \r\nL 65.375 72.90625 \r\nL 65.375 0 \r\nL 55.515625 0 \r\nL 55.515625 34.71875 \r\nL 19.671875 34.71875 \r\nL 19.671875 0 \r\nL 9.8125 0 \r\nz\r\n\" id=\"DejaVuSans-72\"/>\r\n      </defs>\r\n      <g transform=\"translate(74.248438 119.719219)scale(0.1 -0.1)\">\r\n       <use xlink:href=\"#DejaVuSans-83\"/>\r\n       <use x=\"63.476562\" xlink:href=\"#DejaVuSans-85\"/>\r\n       <use x=\"136.669922\" xlink:href=\"#DejaVuSans-80\"/>\r\n       <use x=\"196.972656\" xlink:href=\"#DejaVuSans-69\"/>\r\n       <use x=\"260.15625\" xlink:href=\"#DejaVuSans-82\"/>\r\n       <use x=\"329.638672\" xlink:href=\"#DejaVuSans-32\"/>\r\n       <use x=\"361.425781\" xlink:href=\"#DejaVuSans-82\"/>\r\n       <use x=\"430.908203\" xlink:href=\"#DejaVuSans-73\"/>\r\n       <use x=\"460.400391\" xlink:href=\"#DejaVuSans-67\"/>\r\n       <use x=\"530.224609\" xlink:href=\"#DejaVuSans-72\"/>\r\n      </g>\r\n     </g>\r\n    </g>\r\n    <g id=\"ytick_6\">\r\n     <g id=\"line2d_12\">\r\n      <g>\r\n       <use style=\"stroke:#000000;stroke-width:0.8;\" x=\"141.792188\" xlink:href=\"#m15f1147e11\" y=\"140.08\"/>\r\n      </g>\r\n     </g>\r\n     <g id=\"text_13\">\r\n      <!-- LOWER MIDDLE CLASS -->\r\n      <defs>\r\n       <path d=\"M 3.328125 72.90625 \r\nL 13.28125 72.90625 \r\nL 28.609375 11.28125 \r\nL 43.890625 72.90625 \r\nL 54.984375 72.90625 \r\nL 70.3125 11.28125 \r\nL 85.59375 72.90625 \r\nL 95.609375 72.90625 \r\nL 77.296875 0 \r\nL 64.890625 0 \r\nL 49.515625 63.28125 \r\nL 33.984375 0 \r\nL 21.578125 0 \r\nz\r\n\" id=\"DejaVuSans-87\"/>\r\n      </defs>\r\n      <g transform=\"translate(20.878125 143.879219)scale(0.1 -0.1)\">\r\n       <use xlink:href=\"#DejaVuSans-76\"/>\r\n       <use x=\"55.666016\" xlink:href=\"#DejaVuSans-79\"/>\r\n       <use x=\"134.376953\" xlink:href=\"#DejaVuSans-87\"/>\r\n       <use x=\"233.253906\" xlink:href=\"#DejaVuSans-69\"/>\r\n       <use x=\"296.4375\" xlink:href=\"#DejaVuSans-82\"/>\r\n       <use x=\"365.919922\" xlink:href=\"#DejaVuSans-32\"/>\r\n       <use x=\"397.707031\" xlink:href=\"#DejaVuSans-77\"/>\r\n       <use x=\"483.986328\" xlink:href=\"#DejaVuSans-73\"/>\r\n       <use x=\"513.478516\" xlink:href=\"#DejaVuSans-68\"/>\r\n       <use x=\"590.480469\" xlink:href=\"#DejaVuSans-68\"/>\r\n       <use x=\"667.482422\" xlink:href=\"#DejaVuSans-76\"/>\r\n       <use x=\"723.195312\" xlink:href=\"#DejaVuSans-69\"/>\r\n       <use x=\"786.378906\" xlink:href=\"#DejaVuSans-32\"/>\r\n       <use x=\"818.166016\" xlink:href=\"#DejaVuSans-67\"/>\r\n       <use x=\"887.990234\" xlink:href=\"#DejaVuSans-76\"/>\r\n       <use x=\"943.734375\" xlink:href=\"#DejaVuSans-65\"/>\r\n       <use x=\"1012.142578\" xlink:href=\"#DejaVuSans-83\"/>\r\n       <use x=\"1075.619141\" xlink:href=\"#DejaVuSans-83\"/>\r\n      </g>\r\n     </g>\r\n    </g>\r\n    <g id=\"ytick_7\">\r\n     <g id=\"line2d_13\">\r\n      <g>\r\n       <use style=\"stroke:#000000;stroke-width:0.8;\" x=\"141.792188\" xlink:href=\"#m15f1147e11\" y=\"164.24\"/>\r\n      </g>\r\n     </g>\r\n     <g id=\"text_14\">\r\n      <!-- NEAR TO BPL -->\r\n      <defs>\r\n       <path d=\"M 19.671875 34.8125 \r\nL 19.671875 8.109375 \r\nL 35.5 8.109375 \r\nQ 43.453125 8.109375 47.28125 11.40625 \r\nQ 51.125 14.703125 51.125 21.484375 \r\nQ 51.125 28.328125 47.28125 31.5625 \r\nQ 43.453125 34.8125 35.5 34.8125 \r\nz\r\nM 19.671875 64.796875 \r\nL 19.671875 42.828125 \r\nL 34.28125 42.828125 \r\nQ 41.5 42.828125 45.03125 45.53125 \r\nQ 48.578125 48.25 48.578125 53.8125 \r\nQ 48.578125 59.328125 45.03125 62.0625 \r\nQ 41.5 64.796875 34.28125 64.796875 \r\nz\r\nM 9.8125 72.90625 \r\nL 35.015625 72.90625 \r\nQ 46.296875 72.90625 52.390625 68.21875 \r\nQ 58.5 63.53125 58.5 54.890625 \r\nQ 58.5 48.1875 55.375 44.234375 \r\nQ 52.25 40.28125 46.1875 39.3125 \r\nQ 53.46875 37.75 57.5 32.78125 \r\nQ 61.53125 27.828125 61.53125 20.40625 \r\nQ 61.53125 10.640625 54.890625 5.3125 \r\nQ 48.25 0 35.984375 0 \r\nL 9.8125 0 \r\nz\r\n\" id=\"DejaVuSans-66\"/>\r\n      </defs>\r\n      <g transform=\"translate(68.404688 168.039219)scale(0.1 -0.1)\">\r\n       <use xlink:href=\"#DejaVuSans-78\"/>\r\n       <use x=\"74.804688\" xlink:href=\"#DejaVuSans-69\"/>\r\n       <use x=\"137.988281\" xlink:href=\"#DejaVuSans-65\"/>\r\n       <use x=\"206.396484\" xlink:href=\"#DejaVuSans-82\"/>\r\n       <use x=\"275.878906\" xlink:href=\"#DejaVuSans-32\"/>\r\n       <use x=\"307.666016\" xlink:href=\"#DejaVuSans-84\"/>\r\n       <use x=\"368.75\" xlink:href=\"#DejaVuSans-79\"/>\r\n       <use x=\"447.460938\" xlink:href=\"#DejaVuSans-32\"/>\r\n       <use x=\"479.248047\" xlink:href=\"#DejaVuSans-66\"/>\r\n       <use x=\"547.851562\" xlink:href=\"#DejaVuSans-80\"/>\r\n       <use x=\"608.154297\" xlink:href=\"#DejaVuSans-76\"/>\r\n      </g>\r\n     </g>\r\n    </g>\r\n    <g id=\"ytick_8\">\r\n     <g id=\"line2d_14\">\r\n      <g>\r\n       <use style=\"stroke:#000000;stroke-width:0.8;\" x=\"141.792188\" xlink:href=\"#m15f1147e11\" y=\"188.4\"/>\r\n      </g>\r\n     </g>\r\n     <g id=\"text_15\">\r\n      <!-- LOWER CLASS -->\r\n      <g transform=\"translate(62.925 192.199219)scale(0.1 -0.1)\">\r\n       <use xlink:href=\"#DejaVuSans-76\"/>\r\n       <use x=\"55.666016\" xlink:href=\"#DejaVuSans-79\"/>\r\n       <use x=\"134.376953\" xlink:href=\"#DejaVuSans-87\"/>\r\n       <use x=\"233.253906\" xlink:href=\"#DejaVuSans-69\"/>\r\n       <use x=\"296.4375\" xlink:href=\"#DejaVuSans-82\"/>\r\n       <use x=\"365.919922\" xlink:href=\"#DejaVuSans-32\"/>\r\n       <use x=\"397.707031\" xlink:href=\"#DejaVuSans-67\"/>\r\n       <use x=\"467.53125\" xlink:href=\"#DejaVuSans-76\"/>\r\n       <use x=\"523.275391\" xlink:href=\"#DejaVuSans-65\"/>\r\n       <use x=\"591.683594\" xlink:href=\"#DejaVuSans-83\"/>\r\n       <use x=\"655.160156\" xlink:href=\"#DejaVuSans-83\"/>\r\n      </g>\r\n     </g>\r\n    </g>\r\n    <g id=\"ytick_9\">\r\n     <g id=\"line2d_15\">\r\n      <g>\r\n       <use style=\"stroke:#000000;stroke-width:0.8;\" x=\"141.792188\" xlink:href=\"#m15f1147e11\" y=\"212.56\"/>\r\n      </g>\r\n     </g>\r\n     <g id=\"text_16\">\r\n      <!-- RICHEST OF RICH -->\r\n      <defs>\r\n       <path d=\"M 9.8125 72.90625 \r\nL 51.703125 72.90625 \r\nL 51.703125 64.59375 \r\nL 19.671875 64.59375 \r\nL 19.671875 43.109375 \r\nL 48.578125 43.109375 \r\nL 48.578125 34.8125 \r\nL 19.671875 34.8125 \r\nL 19.671875 0 \r\nL 9.8125 0 \r\nz\r\n\" id=\"DejaVuSans-70\"/>\r\n      </defs>\r\n      <g transform=\"translate(47.234375 216.359219)scale(0.1 -0.1)\">\r\n       <use xlink:href=\"#DejaVuSans-82\"/>\r\n       <use x=\"69.482422\" xlink:href=\"#DejaVuSans-73\"/>\r\n       <use x=\"98.974609\" xlink:href=\"#DejaVuSans-67\"/>\r\n       <use x=\"168.798828\" xlink:href=\"#DejaVuSans-72\"/>\r\n       <use x=\"243.994141\" xlink:href=\"#DejaVuSans-69\"/>\r\n       <use x=\"307.177734\" xlink:href=\"#DejaVuSans-83\"/>\r\n       <use x=\"370.654297\" xlink:href=\"#DejaVuSans-84\"/>\r\n       <use x=\"431.738281\" xlink:href=\"#DejaVuSans-32\"/>\r\n       <use x=\"463.525391\" xlink:href=\"#DejaVuSans-79\"/>\r\n       <use x=\"542.236328\" xlink:href=\"#DejaVuSans-70\"/>\r\n       <use x=\"599.755859\" xlink:href=\"#DejaVuSans-32\"/>\r\n       <use x=\"631.542969\" xlink:href=\"#DejaVuSans-82\"/>\r\n       <use x=\"701.025391\" xlink:href=\"#DejaVuSans-73\"/>\r\n       <use x=\"730.517578\" xlink:href=\"#DejaVuSans-67\"/>\r\n       <use x=\"800.341797\" xlink:href=\"#DejaVuSans-72\"/>\r\n      </g>\r\n     </g>\r\n    </g>\r\n    <g id=\"text_17\">\r\n     <!-- STATUS -->\r\n     <g transform=\"translate(14.798438 135.445)rotate(-90)scale(0.1 -0.1)\">\r\n      <use xlink:href=\"#DejaVuSans-83\"/>\r\n      <use x=\"63.476562\" xlink:href=\"#DejaVuSans-84\"/>\r\n      <use x=\"124.451172\" xlink:href=\"#DejaVuSans-65\"/>\r\n      <use x=\"192.75\" xlink:href=\"#DejaVuSans-84\"/>\r\n      <use x=\"253.833984\" xlink:href=\"#DejaVuSans-85\"/>\r\n      <use x=\"327.027344\" xlink:href=\"#DejaVuSans-83\"/>\r\n     </g>\r\n    </g>\r\n   </g>\r\n   <g id=\"patch_21\">\r\n    <path d=\"M 141.792188 224.64 \r\nL 141.792188 7.2 \r\n\" style=\"fill:none;stroke:#000000;stroke-linecap:square;stroke-linejoin:miter;stroke-width:0.8;\"/>\r\n   </g>\r\n   <g id=\"patch_22\">\r\n    <path d=\"M 476.592187 224.64 \r\nL 476.592187 7.2 \r\n\" style=\"fill:none;stroke:#000000;stroke-linecap:square;stroke-linejoin:miter;stroke-width:0.8;\"/>\r\n   </g>\r\n   <g id=\"patch_23\">\r\n    <path d=\"M 141.792188 224.64 \r\nL 476.592187 224.64 \r\n\" style=\"fill:none;stroke:#000000;stroke-linecap:square;stroke-linejoin:miter;stroke-width:0.8;\"/>\r\n   </g>\r\n   <g id=\"patch_24\">\r\n    <path d=\"M 141.792188 7.2 \r\nL 476.592187 7.2 \r\n\" style=\"fill:none;stroke:#000000;stroke-linecap:square;stroke-linejoin:miter;stroke-width:0.8;\"/>\r\n   </g>\r\n   <g id=\"legend_1\">\r\n    <g id=\"patch_25\">\r\n     <path d=\"M 387.214062 219.64 \r\nL 469.592187 219.64 \r\nQ 471.592187 219.64 471.592187 217.64 \r\nL 471.592187 163.407812 \r\nQ 471.592187 161.407812 469.592187 161.407812 \r\nL 387.214062 161.407812 \r\nQ 385.214062 161.407812 385.214062 163.407812 \r\nL 385.214062 217.64 \r\nQ 385.214062 219.64 387.214062 219.64 \r\nz\r\n\" style=\"fill:#ffffff;opacity:0.8;stroke:#cccccc;stroke-linejoin:miter;\"/>\r\n    </g>\r\n    <g id=\"text_18\">\r\n     <!-- CRIMINAL -->\r\n     <g transform=\"translate(404.226562 173.00625)scale(0.1 -0.1)\">\r\n      <use xlink:href=\"#DejaVuSans-67\"/>\r\n      <use x=\"69.824219\" xlink:href=\"#DejaVuSans-82\"/>\r\n      <use x=\"139.306641\" xlink:href=\"#DejaVuSans-73\"/>\r\n      <use x=\"168.798828\" xlink:href=\"#DejaVuSans-77\"/>\r\n      <use x=\"255.078125\" xlink:href=\"#DejaVuSans-73\"/>\r\n      <use x=\"284.570312\" xlink:href=\"#DejaVuSans-78\"/>\r\n      <use x=\"359.375\" xlink:href=\"#DejaVuSans-65\"/>\r\n      <use x=\"427.783203\" xlink:href=\"#DejaVuSans-76\"/>\r\n     </g>\r\n     <!-- CASES -->\r\n     <g transform=\"translate(404.226562 184.204062)scale(0.1 -0.1)\">\r\n      <use xlink:href=\"#DejaVuSans-67\"/>\r\n      <use x=\"69.824219\" xlink:href=\"#DejaVuSans-65\"/>\r\n      <use x=\"138.232422\" xlink:href=\"#DejaVuSans-83\"/>\r\n      <use x=\"201.708984\" xlink:href=\"#DejaVuSans-69\"/>\r\n      <use x=\"264.892578\" xlink:href=\"#DejaVuSans-83\"/>\r\n     </g>\r\n    </g>\r\n    <g id=\"patch_26\">\r\n     <path d=\"M 389.214062 198.882187 \r\nL 409.214062 198.882187 \r\nL 409.214062 191.882187 \r\nL 389.214062 191.882187 \r\nz\r\n\" style=\"fill:#cd1d1d;\"/>\r\n    </g>\r\n    <g id=\"text_19\">\r\n     <!-- HAS CASE -->\r\n     <g transform=\"translate(417.214062 198.882187)scale(0.1 -0.1)\">\r\n      <use xlink:href=\"#DejaVuSans-72\"/>\r\n      <use x=\"75.195312\" xlink:href=\"#DejaVuSans-65\"/>\r\n      <use x=\"143.603516\" xlink:href=\"#DejaVuSans-83\"/>\r\n      <use x=\"207.080078\" xlink:href=\"#DejaVuSans-32\"/>\r\n      <use x=\"238.867188\" xlink:href=\"#DejaVuSans-67\"/>\r\n      <use x=\"308.691406\" xlink:href=\"#DejaVuSans-65\"/>\r\n      <use x=\"377.099609\" xlink:href=\"#DejaVuSans-83\"/>\r\n      <use x=\"440.576172\" xlink:href=\"#DejaVuSans-69\"/>\r\n     </g>\r\n    </g>\r\n    <g id=\"patch_27\">\r\n     <path d=\"M 389.214062 213.560312 \r\nL 409.214062 213.560312 \r\nL 409.214062 206.560312 \r\nL 389.214062 206.560312 \r\nz\r\n\" style=\"fill:#dfb720;\"/>\r\n    </g>\r\n    <g id=\"text_20\">\r\n     <!-- NO CASE -->\r\n     <g transform=\"translate(417.214062 213.560312)scale(0.1 -0.1)\">\r\n      <use xlink:href=\"#DejaVuSans-78\"/>\r\n      <use x=\"74.804688\" xlink:href=\"#DejaVuSans-79\"/>\r\n      <use x=\"153.515625\" xlink:href=\"#DejaVuSans-32\"/>\r\n      <use x=\"185.302734\" xlink:href=\"#DejaVuSans-67\"/>\r\n      <use x=\"255.126953\" xlink:href=\"#DejaVuSans-65\"/>\r\n      <use x=\"323.535156\" xlink:href=\"#DejaVuSans-83\"/>\r\n      <use x=\"387.011719\" xlink:href=\"#DejaVuSans-69\"/>\r\n     </g>\r\n    </g>\r\n   </g>\r\n  </g>\r\n </g>\r\n <defs>\r\n  <clipPath id=\"pd7481139b8\">\r\n   <rect height=\"217.44\" width=\"334.8\" x=\"141.792188\" y=\"7.2\"/>\r\n  </clipPath>\r\n </defs>\r\n</svg>\r\n",
      "image/png": "[encoded data removed]"
     },
     "metadata": {
      "needs_background": "light"
     }
    }
   ],
   "source": [
    "sns.countplot(y='STATUS',hue='CRIMINAL\\nCASES',data=df,palette='hot')"
   ]
  },
  {
   "cell_type": "code",
   "execution_count": 32,
   "metadata": {},
   "outputs": [
    {
     "output_type": "stream",
     "name": "stdout",
     "text": "133 ['BJP' 'TRS' 'INC' 'NOTA' 'BSP' 'NCP' 'VBA' 'APoI' 'CPI(M)' 'BDJS' 'AITC'\n 'RSP' 'SP' 'YSRCP' 'TDP' 'JnP' 'INLD' 'SBSP' 'IND' 'SHS' 'AAP' 'SAD'\n 'JKN' 'JKPDP' 'JPC' 'DMK' 'PMK' 'NTK' 'MNM' 'AIADMK' 'RJD' 'CPI(ML)(L)'\n 'SSD' 'PPA' 'JD(S)' 'NPEP' 'BMUP' 'BJD' 'AIMIM' 'HAMS' 'AHFBK' 'PPID'\n 'SPL' 'ASDC' 'RLD' 'PSPL' 'JD(U)' 'BTP' 'AIFB' 'AGP' 'AIUDF' 'ABSKP'\n 'PUNEKP' 'RTORP' 'JNJP' 'LTSP' 'RVNP' 'JANADIP' 'SDPI' 'DMDK' 'ABGP'\n 'VCK' 'JMM' 'LIP' 'JDR' 'MOSP' 'MADP' 'AJPR' 'PMP' 'BBMP' 'AJSUP' 'JVM'\n 'RMPOI' 'LJP' 'BJKVP' 'SWP' 'NEINDP' 'RSPSR' 'ravp' 'RSOSP' 'BLSP' 'WPOI'\n 'SUCI(C)' 'SJDD' 'ANC' 'JDL' 'VSIP' 'AAM' 'JKP' 'BOPF' 'UPPL' 'CPIM'\n 'GGP' 'KEC(M)' 'KEC' 'JAPL' 'AKBMP' 'TJS' 'IUML' 'BSCP' 'ADAL' 'BRPI'\n 'MNF' 'PRISMP' 'VPI' 'YKP' 'NDPP' 'RLTP' 'RAHIS' 'NPF' 'BLSD' 'BVA'\n 'NAWPP' 'AINRC' 'BNDl' 'MSHP' 'BARESP' 'BLRP' 'AIPF' 'WAP' 'VCSMP'\n 'SAD(M)' 'UDP' 'SKM' 'SDF' 'PDP' 'JHP' 'TMC(M)' 'IPFT' 'JKNPP' 'DSSP'\n 'AHNP' 'PHJSP']\n"
    }
   ],
   "source": [
    "print(df['PARTY'].nunique(),df['PARTY'].unique())"
   ]
  },
  {
   "cell_type": "code",
   "execution_count": 33,
   "metadata": {},
   "outputs": [
    {
     "output_type": "execute_result",
     "data": {
      "text/plain": "PARTY\nBJP       38.526233\nINC       20.096019\nAITC       4.178796\nBSP        3.501644\nSP         2.627939\nYSRCP      2.614598\nCPI(M)     2.386397\nDMK        2.335416\nSHS        2.123538\nTDP        2.106107\nName: TOTAL\\nVOTES, dtype: float64"
     },
     "metadata": {},
     "execution_count": 33
    }
   ],
   "source": [
    "#Using Groupby on Party with Total Votes(TO CHECK HIGHEST PERCENTAGE OF VOTES FOR TOP 10 PARTIES)\n",
    "p = df.groupby('PARTY')['TOTAL\\nVOTES']\n",
    "X = ((p.sum()/df['TOTAL\\nVOTES'].sum())*100).sort_values(ascending = False).head(10)\n",
    "X"
   ]
  },
  {
   "cell_type": "markdown",
   "metadata": {},
   "source": [
    "## vote share of top 10 parties"
   ]
  },
  {
   "cell_type": "code",
   "execution_count": 34,
   "metadata": {},
   "outputs": [
    {
     "output_type": "display_data",
     "data": {
      "text/plain": "<Figure size 864x576 with 1 Axes>",
      "image/svg+xml": "<?xml version=\"1.0\" encoding=\"utf-8\" standalone=\"no\"?>\r\n<!DOCTYPE svg PUBLIC \"-//W3C//DTD SVG 1.1//EN\"\r\n  \"http://www.w3.org/Graphics/SVG/1.1/DTD/svg11.dtd\">\r\n<!-- Created with matplotlib (https://matplotlib.org/) -->\r\n<svg height=\"464.398125pt\" version=\"1.1\" viewBox=\"0 0 684 464.398125\" width=\"684pt\" xmlns=\"http://www.w3.org/2000/svg\" xmlns:xlink=\"http://www.w3.org/1999/xlink\">\r\n <defs>\r\n  <style type=\"text/css\">\r\n*{stroke-linecap:butt;stroke-linejoin:round;}\r\n  </style>\r\n </defs>\r\n <g id=\"figure_1\">\r\n  <g id=\"patch_1\">\r\n   <path d=\"M 0 464.398125 \r\nL 684 464.398125 \r\nL 684 0 \r\nL 0 0 \r\nz\r\n\" style=\"fill:none;\"/>\r\n  </g>\r\n  <g id=\"axes_1\">\r\n   <g id=\"patch_2\">\r\n    <path d=\"M 343.923254 42.085398 \r\nC 304.667889 42.085398 266.30466 53.887468 233.83731 75.952256 \r\nC 201.369959 98.017044 176.274226 129.341639 161.823361 165.840355 \r\nC 147.372497 202.339071 144.223337 242.35293 152.786629 280.662899 \r\nC 161.349921 318.972869 181.236437 353.837645 209.852366 380.709793 \r\nL 343.923254 237.938806 \r\nL 343.923254 42.085398 \r\nz\r\n\" style=\"fill:#ffa500;\"/>\r\n   </g>\r\n   <g id=\"patch_3\">\r\n    <path d=\"M 209.852366 380.709793 \r\nC 239.997953 409.018386 278.348643 427.064851 319.376309 432.247852 \r\nC 360.403975 437.430852 402.037781 429.48878 438.276351 409.566458 \r\nL 343.923254 237.938806 \r\nL 209.852366 380.709793 \r\nz\r\n\" style=\"fill:#008000;\"/>\r\n   </g>\r\n   <g id=\"patch_4\">\r\n    <path d=\"M 438.276351 409.566458 \r\nC 445.467838 405.612905 452.403729 401.211254 459.042997 396.387544 \r\nC 465.682265 391.563834 472.011792 386.327594 477.994136 380.709799 \r\nL 343.923254 237.938806 \r\nL 438.276351 409.566458 \r\nz\r\n\" style=\"fill:#ff1493;\"/>\r\n   </g>\r\n   <g id=\"patch_5\">\r\n    <path d=\"M 477.994136 380.709799 \r\nC 482.480249 376.497059 486.765312 372.075217 490.835062 367.458992 \r\nC 494.904811 362.842768 498.754725 358.03729 502.371988 353.058555 \r\nL 343.923254 237.938806 \r\nL 477.994136 380.709799 \r\nz\r\n\" style=\"fill:#0000ff;\"/>\r\n   </g>\r\n   <g id=\"patch_6\">\r\n    <path d=\"M 502.371988 353.058555 \r\nC 504.783248 349.73974 507.089642 346.345985 509.287754 342.882314 \r\nC 511.485866 339.418644 513.574613 335.886766 515.550902 332.29191 \r\nL 343.923254 237.938806 \r\nL 502.371988 353.058555 \r\nz\r\n\" style=\"fill:#ff0000;\"/>\r\n   </g>\r\n   <g id=\"patch_7\">\r\n    <path d=\"M 515.550902 332.29191 \r\nC 517.527191 328.697053 519.390048 325.040992 521.136715 321.329136 \r\nC 522.883381 317.617281 524.512996 313.851464 526.023146 310.03726 \r\nL 343.923254 237.938806 \r\nL 515.550902 332.29191 \r\nz\r\n\" style=\"fill:#ffff00;\"/>\r\n   </g>\r\n   <g id=\"patch_8\">\r\n    <path d=\"M 526.023146 310.03726 \r\nC 527.533297 306.223055 528.923238 302.362345 530.190913 298.460843 \r\nC 531.458588 294.559342 532.60337 290.618975 533.623566 286.645574 \r\nL 343.923254 237.938806 \r\nL 526.023146 310.03726 \r\nz\r\n\" style=\"fill:#dc143c;\"/>\r\n   </g>\r\n   <g id=\"patch_9\">\r\n    <path d=\"M 533.623566 286.645574 \r\nC 534.643762 282.672173 535.538868 278.6677 536.307559 274.638081 \r\nC 537.07625 270.608463 537.718147 266.555687 538.232299 262.485754 \r\nL 343.923254 237.938806 \r\nL 533.623566 286.645574 \r\nz\r\n\" style=\"fill:#a52a2a;\"/>\r\n   </g>\r\n   <g id=\"patch_10\">\r\n    <path d=\"M 538.232299 262.485754 \r\nC 538.746452 258.41582 539.132606 254.330737 539.39019 250.23655 \r\nC 539.647775 246.142364 539.776663 242.041095 539.776663 237.938813 \r\nL 343.923254 237.938806 \r\nL 538.232299 262.485754 \r\nz\r\n\" style=\"fill:#ff8c00;\"/>\r\n   </g>\r\n   <g id=\"patch_11\">\r\n    <path d=\"M 539.776663 237.938813 \r\nC 539.776663 233.836532 539.647776 229.735263 539.390191 225.641076 \r\nC 539.132607 221.54689 538.746453 217.461806 538.232301 213.391873 \r\nL 343.923254 237.938806 \r\nL 539.776663 237.938813 \r\nz\r\n\" style=\"fill:#ffc0cb;\"/>\r\n   </g>\r\n   <g id=\"patch_12\">\r\n    <path d=\"M 538.232301 213.391873 \r\nC 532.256514 166.088632 509.208139 122.557824 473.443441 91.027 \r\nC 437.678742 59.496175 391.602461 42.085398 343.923256 42.085398 \r\nL 343.923254 237.938806 \r\nL 538.232301 213.391873 \r\nz\r\n\" style=\"fill:#808080;\"/>\r\n   </g>\r\n   <g id=\"patch_13\">\r\n    <path clip-path=\"url(#pbe72fface5)\" d=\"M 343.923254 375.036192 \r\nC 380.281906 375.036192 415.156296 360.590747 440.865746 334.881298 \r\nC 466.575195 309.171848 481.02064 274.297458 481.02064 237.938806 \r\nC 481.02064 201.580155 466.575195 166.705764 440.865746 140.996315 \r\nC 415.156296 115.286866 380.281906 100.84142 343.923254 100.84142 \r\nC 307.564602 100.84142 272.690212 115.286866 246.980763 140.996315 \r\nC 221.271314 166.705764 206.825868 201.580155 206.825868 237.938806 \r\nC 206.825868 274.297458 221.271314 309.171848 246.980763 334.881298 \r\nC 272.690212 360.590747 307.564602 375.036192 343.923254 375.036192 \r\nz\r\n\" style=\"fill:#ffffff;stroke:#ffffff;stroke-linejoin:miter;\"/>\r\n   </g>\r\n   <g id=\"matplotlib.axis_1\"/>\r\n   <g id=\"matplotlib.axis_2\"/>\r\n   <g id=\"text_1\">\r\n    <!-- BJP -->\r\n    <defs>\r\n     <path d=\"M 19.671875 34.8125 \r\nL 19.671875 8.109375 \r\nL 35.5 8.109375 \r\nQ 43.453125 8.109375 47.28125 11.40625 \r\nQ 51.125 14.703125 51.125 21.484375 \r\nQ 51.125 28.328125 47.28125 31.5625 \r\nQ 43.453125 34.8125 35.5 34.8125 \r\nz\r\nM 19.671875 64.796875 \r\nL 19.671875 42.828125 \r\nL 34.28125 42.828125 \r\nQ 41.5 42.828125 45.03125 45.53125 \r\nQ 48.578125 48.25 48.578125 53.8125 \r\nQ 48.578125 59.328125 45.03125 62.0625 \r\nQ 41.5 64.796875 34.28125 64.796875 \r\nz\r\nM 9.8125 72.90625 \r\nL 35.015625 72.90625 \r\nQ 46.296875 72.90625 52.390625 68.21875 \r\nQ 58.5 63.53125 58.5 54.890625 \r\nQ 58.5 48.1875 55.375 44.234375 \r\nQ 52.25 40.28125 46.1875 39.3125 \r\nQ 53.46875 37.75 57.5 32.78125 \r\nQ 61.53125 27.828125 61.53125 20.40625 \r\nQ 61.53125 10.640625 54.890625 5.3125 \r\nQ 48.25 0 35.984375 0 \r\nL 9.8125 0 \r\nz\r\n\" id=\"DejaVuSans-66\"/>\r\n     <path d=\"M 9.8125 72.90625 \r\nL 19.671875 72.90625 \r\nL 19.671875 5.078125 \r\nQ 19.671875 -8.109375 14.671875 -14.0625 \r\nQ 9.671875 -20.015625 -1.421875 -20.015625 \r\nL -5.171875 -20.015625 \r\nL -5.171875 -11.71875 \r\nL -2.09375 -11.71875 \r\nQ 4.4375 -11.71875 7.125 -8.046875 \r\nQ 9.8125 -4.390625 9.8125 5.078125 \r\nz\r\n\" id=\"DejaVuSans-74\"/>\r\n     <path d=\"M 19.671875 64.796875 \r\nL 19.671875 37.40625 \r\nL 32.078125 37.40625 \r\nQ 38.96875 37.40625 42.71875 40.96875 \r\nQ 46.484375 44.53125 46.484375 51.125 \r\nQ 46.484375 57.671875 42.71875 61.234375 \r\nQ 38.96875 64.796875 32.078125 64.796875 \r\nz\r\nM 9.8125 72.90625 \r\nL 32.078125 72.90625 \r\nQ 44.34375 72.90625 50.609375 67.359375 \r\nQ 56.890625 61.8125 56.890625 51.125 \r\nQ 56.890625 40.328125 50.609375 34.8125 \r\nQ 44.34375 29.296875 32.078125 29.296875 \r\nL 19.671875 29.296875 \r\nL 19.671875 0 \r\nL 9.8125 0 \r\nz\r\n\" id=\"DejaVuSans-80\"/>\r\n    </defs>\r\n    <g transform=\"translate(136.877742 164.994808)scale(0.1 -0.1)\">\r\n     <use xlink:href=\"#DejaVuSans-66\"/>\r\n     <use x=\"68.603516\" xlink:href=\"#DejaVuSans-74\"/>\r\n     <use x=\"98.095703\" xlink:href=\"#DejaVuSans-80\"/>\r\n    </g>\r\n   </g>\r\n   <g id=\"text_2\">\r\n    <!-- 38% -->\r\n    <defs>\r\n     <path d=\"M 40.578125 39.3125 \r\nQ 47.65625 37.796875 51.625 33 \r\nQ 55.609375 28.21875 55.609375 21.1875 \r\nQ 55.609375 10.40625 48.1875 4.484375 \r\nQ 40.765625 -1.421875 27.09375 -1.421875 \r\nQ 22.515625 -1.421875 17.65625 -0.515625 \r\nQ 12.796875 0.390625 7.625 2.203125 \r\nL 7.625 11.71875 \r\nQ 11.71875 9.328125 16.59375 8.109375 \r\nQ 21.484375 6.890625 26.8125 6.890625 \r\nQ 36.078125 6.890625 40.9375 10.546875 \r\nQ 45.796875 14.203125 45.796875 21.1875 \r\nQ 45.796875 27.640625 41.28125 31.265625 \r\nQ 36.765625 34.90625 28.71875 34.90625 \r\nL 20.21875 34.90625 \r\nL 20.21875 43.015625 \r\nL 29.109375 43.015625 \r\nQ 36.375 43.015625 40.234375 45.921875 \r\nQ 44.09375 48.828125 44.09375 54.296875 \r\nQ 44.09375 59.90625 40.109375 62.90625 \r\nQ 36.140625 65.921875 28.71875 65.921875 \r\nQ 24.65625 65.921875 20.015625 65.03125 \r\nQ 15.375 64.15625 9.8125 62.3125 \r\nL 9.8125 71.09375 \r\nQ 15.4375 72.65625 20.34375 73.4375 \r\nQ 25.25 74.21875 29.59375 74.21875 \r\nQ 40.828125 74.21875 47.359375 69.109375 \r\nQ 53.90625 64.015625 53.90625 55.328125 \r\nQ 53.90625 49.265625 50.4375 45.09375 \r\nQ 46.96875 40.921875 40.578125 39.3125 \r\nz\r\n\" id=\"DejaVuSans-51\"/>\r\n     <path d=\"M 31.78125 34.625 \r\nQ 24.75 34.625 20.71875 30.859375 \r\nQ 16.703125 27.09375 16.703125 20.515625 \r\nQ 16.703125 13.921875 20.71875 10.15625 \r\nQ 24.75 6.390625 31.78125 6.390625 \r\nQ 38.8125 6.390625 42.859375 10.171875 \r\nQ 46.921875 13.96875 46.921875 20.515625 \r\nQ 46.921875 27.09375 42.890625 30.859375 \r\nQ 38.875 34.625 31.78125 34.625 \r\nz\r\nM 21.921875 38.8125 \r\nQ 15.578125 40.375 12.03125 44.71875 \r\nQ 8.5 49.078125 8.5 55.328125 \r\nQ 8.5 64.0625 14.71875 69.140625 \r\nQ 20.953125 74.21875 31.78125 74.21875 \r\nQ 42.671875 74.21875 48.875 69.140625 \r\nQ 55.078125 64.0625 55.078125 55.328125 \r\nQ 55.078125 49.078125 51.53125 44.71875 \r\nQ 48 40.375 41.703125 38.8125 \r\nQ 48.828125 37.15625 52.796875 32.3125 \r\nQ 56.78125 27.484375 56.78125 20.515625 \r\nQ 56.78125 9.90625 50.3125 4.234375 \r\nQ 43.84375 -1.421875 31.78125 -1.421875 \r\nQ 19.734375 -1.421875 13.25 4.234375 \r\nQ 6.78125 9.90625 6.78125 20.515625 \r\nQ 6.78125 27.484375 10.78125 32.3125 \r\nQ 14.796875 37.15625 21.921875 38.8125 \r\nz\r\nM 18.3125 54.390625 \r\nQ 18.3125 48.734375 21.84375 45.5625 \r\nQ 25.390625 42.390625 31.78125 42.390625 \r\nQ 38.140625 42.390625 41.71875 45.5625 \r\nQ 45.3125 48.734375 45.3125 54.390625 \r\nQ 45.3125 60.0625 41.71875 63.234375 \r\nQ 38.140625 66.40625 31.78125 66.40625 \r\nQ 25.390625 66.40625 21.84375 63.234375 \r\nQ 18.3125 60.0625 18.3125 54.390625 \r\nz\r\n\" id=\"DejaVuSans-56\"/>\r\n     <path d=\"M 72.703125 32.078125 \r\nQ 68.453125 32.078125 66.03125 28.46875 \r\nQ 63.625 24.859375 63.625 18.40625 \r\nQ 63.625 12.0625 66.03125 8.421875 \r\nQ 68.453125 4.78125 72.703125 4.78125 \r\nQ 76.859375 4.78125 79.265625 8.421875 \r\nQ 81.6875 12.0625 81.6875 18.40625 \r\nQ 81.6875 24.8125 79.265625 28.4375 \r\nQ 76.859375 32.078125 72.703125 32.078125 \r\nz\r\nM 72.703125 38.28125 \r\nQ 80.421875 38.28125 84.953125 32.90625 \r\nQ 89.5 27.546875 89.5 18.40625 \r\nQ 89.5 9.28125 84.9375 3.921875 \r\nQ 80.375 -1.421875 72.703125 -1.421875 \r\nQ 64.890625 -1.421875 60.34375 3.921875 \r\nQ 55.8125 9.28125 55.8125 18.40625 \r\nQ 55.8125 27.59375 60.375 32.9375 \r\nQ 64.9375 38.28125 72.703125 38.28125 \r\nz\r\nM 22.3125 68.015625 \r\nQ 18.109375 68.015625 15.6875 64.375 \r\nQ 13.28125 60.75 13.28125 54.390625 \r\nQ 13.28125 47.953125 15.671875 44.328125 \r\nQ 18.0625 40.71875 22.3125 40.71875 \r\nQ 26.5625 40.71875 28.96875 44.328125 \r\nQ 31.390625 47.953125 31.390625 54.390625 \r\nQ 31.390625 60.6875 28.953125 64.34375 \r\nQ 26.515625 68.015625 22.3125 68.015625 \r\nz\r\nM 66.40625 74.21875 \r\nL 74.21875 74.21875 \r\nL 28.609375 -1.421875 \r\nL 20.796875 -1.421875 \r\nz\r\nM 22.3125 74.21875 \r\nQ 30.03125 74.21875 34.609375 68.875 \r\nQ 39.203125 63.53125 39.203125 54.390625 \r\nQ 39.203125 45.171875 34.640625 39.84375 \r\nQ 30.078125 34.515625 22.3125 34.515625 \r\nQ 14.546875 34.515625 10.03125 39.859375 \r\nQ 5.515625 45.21875 5.515625 54.390625 \r\nQ 5.515625 63.484375 10.046875 68.84375 \r\nQ 14.59375 74.21875 22.3125 74.21875 \r\nz\r\n\" id=\"DejaVuSans-37\"/>\r\n    </defs>\r\n    <g transform=\"translate(223.550037 197.439111)scale(0.1 -0.1)\">\r\n     <use xlink:href=\"#DejaVuSans-51\"/>\r\n     <use x=\"63.623047\" xlink:href=\"#DejaVuSans-56\"/>\r\n     <use x=\"127.246094\" xlink:href=\"#DejaVuSans-37\"/>\r\n    </g>\r\n   </g>\r\n   <g id=\"text_3\">\r\n    <!-- INC -->\r\n    <defs>\r\n     <path d=\"M 9.8125 72.90625 \r\nL 19.671875 72.90625 \r\nL 19.671875 0 \r\nL 9.8125 0 \r\nz\r\n\" id=\"DejaVuSans-73\"/>\r\n     <path d=\"M 9.8125 72.90625 \r\nL 23.09375 72.90625 \r\nL 55.421875 11.921875 \r\nL 55.421875 72.90625 \r\nL 64.984375 72.90625 \r\nL 64.984375 0 \r\nL 51.703125 0 \r\nL 19.390625 60.984375 \r\nL 19.390625 0 \r\nL 9.8125 0 \r\nz\r\n\" id=\"DejaVuSans-78\"/>\r\n     <path d=\"M 64.40625 67.28125 \r\nL 64.40625 56.890625 \r\nQ 59.421875 61.53125 53.78125 63.8125 \r\nQ 48.140625 66.109375 41.796875 66.109375 \r\nQ 29.296875 66.109375 22.65625 58.46875 \r\nQ 16.015625 50.828125 16.015625 36.375 \r\nQ 16.015625 21.96875 22.65625 14.328125 \r\nQ 29.296875 6.6875 41.796875 6.6875 \r\nQ 48.140625 6.6875 53.78125 8.984375 \r\nQ 59.421875 11.28125 64.40625 15.921875 \r\nL 64.40625 5.609375 \r\nQ 59.234375 2.09375 53.4375 0.328125 \r\nQ 47.65625 -1.421875 41.21875 -1.421875 \r\nQ 24.65625 -1.421875 15.125 8.703125 \r\nQ 5.609375 18.84375 5.609375 36.375 \r\nQ 5.609375 53.953125 15.125 64.078125 \r\nQ 24.65625 74.21875 41.21875 74.21875 \r\nQ 47.75 74.21875 53.53125 72.484375 \r\nQ 59.328125 70.75 64.40625 67.28125 \r\nz\r\n\" id=\"DejaVuSans-67\"/>\r\n    </defs>\r\n    <g transform=\"translate(300.734899 444.722679)scale(0.1 -0.1)\">\r\n     <use xlink:href=\"#DejaVuSans-73\"/>\r\n     <use x=\"29.492188\" xlink:href=\"#DejaVuSans-78\"/>\r\n     <use x=\"104.296875\" xlink:href=\"#DejaVuSans-67\"/>\r\n    </g>\r\n   </g>\r\n   <g id=\"text_4\">\r\n    <!-- 20% -->\r\n    <defs>\r\n     <path d=\"M 19.1875 8.296875 \r\nL 53.609375 8.296875 \r\nL 53.609375 0 \r\nL 7.328125 0 \r\nL 7.328125 8.296875 \r\nQ 12.9375 14.109375 22.625 23.890625 \r\nQ 32.328125 33.6875 34.8125 36.53125 \r\nQ 39.546875 41.84375 41.421875 45.53125 \r\nQ 43.3125 49.21875 43.3125 52.78125 \r\nQ 43.3125 58.59375 39.234375 62.25 \r\nQ 35.15625 65.921875 28.609375 65.921875 \r\nQ 23.96875 65.921875 18.8125 64.3125 \r\nQ 13.671875 62.703125 7.8125 59.421875 \r\nL 7.8125 69.390625 \r\nQ 13.765625 71.78125 18.9375 73 \r\nQ 24.125 74.21875 28.421875 74.21875 \r\nQ 39.75 74.21875 46.484375 68.546875 \r\nQ 53.21875 62.890625 53.21875 53.421875 \r\nQ 53.21875 48.921875 51.53125 44.890625 \r\nQ 49.859375 40.875 45.40625 35.40625 \r\nQ 44.1875 33.984375 37.640625 27.21875 \r\nQ 31.109375 20.453125 19.1875 8.296875 \r\nz\r\n\" id=\"DejaVuSans-50\"/>\r\n     <path d=\"M 31.78125 66.40625 \r\nQ 24.171875 66.40625 20.328125 58.90625 \r\nQ 16.5 51.421875 16.5 36.375 \r\nQ 16.5 21.390625 20.328125 13.890625 \r\nQ 24.171875 6.390625 31.78125 6.390625 \r\nQ 39.453125 6.390625 43.28125 13.890625 \r\nQ 47.125 21.390625 47.125 36.375 \r\nQ 47.125 51.421875 43.28125 58.90625 \r\nQ 39.453125 66.40625 31.78125 66.40625 \r\nz\r\nM 31.78125 74.21875 \r\nQ 44.046875 74.21875 50.515625 64.515625 \r\nQ 56.984375 54.828125 56.984375 36.375 \r\nQ 56.984375 17.96875 50.515625 8.265625 \r\nQ 44.046875 -1.421875 31.78125 -1.421875 \r\nQ 19.53125 -1.421875 13.0625 8.265625 \r\nQ 6.59375 17.96875 6.59375 36.375 \r\nQ 6.59375 54.828125 13.0625 64.515625 \r\nQ 19.53125 74.21875 31.78125 74.21875 \r\nz\r\n\" id=\"DejaVuSans-48\"/>\r\n    </defs>\r\n    <g transform=\"translate(318.081806 357.283609)scale(0.1 -0.1)\">\r\n     <use xlink:href=\"#DejaVuSans-50\"/>\r\n     <use x=\"63.623047\" xlink:href=\"#DejaVuSans-48\"/>\r\n     <use x=\"127.246094\" xlink:href=\"#DejaVuSans-37\"/>\r\n    </g>\r\n   </g>\r\n   <g id=\"text_5\">\r\n    <!-- AITC -->\r\n    <defs>\r\n     <path d=\"M 34.1875 63.1875 \r\nL 20.796875 26.90625 \r\nL 47.609375 26.90625 \r\nz\r\nM 28.609375 72.90625 \r\nL 39.796875 72.90625 \r\nL 67.578125 0 \r\nL 57.328125 0 \r\nL 50.6875 18.703125 \r\nL 17.828125 18.703125 \r\nL 11.1875 0 \r\nL 0.78125 0 \r\nz\r\n\" id=\"DejaVuSans-65\"/>\r\n     <path d=\"M -0.296875 72.90625 \r\nL 61.375 72.90625 \r\nL 61.375 64.59375 \r\nL 35.5 64.59375 \r\nL 35.5 0 \r\nL 25.59375 0 \r\nL 25.59375 64.59375 \r\nL -0.296875 64.59375 \r\nz\r\n\" id=\"DejaVuSans-84\"/>\r\n    </defs>\r\n    <g transform=\"translate(464.798984 407.069356)scale(0.1 -0.1)\">\r\n     <use xlink:href=\"#DejaVuSans-65\"/>\r\n     <use x=\"68.408203\" xlink:href=\"#DejaVuSans-73\"/>\r\n     <use x=\"97.900391\" xlink:href=\"#DejaVuSans-84\"/>\r\n     <use x=\"158.90625\" xlink:href=\"#DejaVuSans-67\"/>\r\n    </g>\r\n   </g>\r\n   <g id=\"text_6\">\r\n    <!-- 4% -->\r\n    <defs>\r\n     <path d=\"M 37.796875 64.3125 \r\nL 12.890625 25.390625 \r\nL 37.796875 25.390625 \r\nz\r\nM 35.203125 72.90625 \r\nL 47.609375 72.90625 \r\nL 47.609375 25.390625 \r\nL 58.015625 25.390625 \r\nL 58.015625 17.1875 \r\nL 47.609375 17.1875 \r\nL 47.609375 0 \r\nL 37.796875 0 \r\nL 37.796875 17.1875 \r\nL 4.890625 17.1875 \r\nL 4.890625 26.703125 \r\nz\r\n\" id=\"DejaVuSans-52\"/>\r\n    </defs>\r\n    <g transform=\"translate(405.063069 335.767424)scale(0.1 -0.1)\">\r\n     <use xlink:href=\"#DejaVuSans-52\"/>\r\n     <use x=\"63.623047\" xlink:href=\"#DejaVuSans-37\"/>\r\n    </g>\r\n   </g>\r\n   <g id=\"text_7\">\r\n    <!-- BSP -->\r\n    <defs>\r\n     <path d=\"M 53.515625 70.515625 \r\nL 53.515625 60.890625 \r\nQ 47.90625 63.578125 42.921875 64.890625 \r\nQ 37.9375 66.21875 33.296875 66.21875 \r\nQ 25.25 66.21875 20.875 63.09375 \r\nQ 16.5 59.96875 16.5 54.203125 \r\nQ 16.5 49.359375 19.40625 46.890625 \r\nQ 22.3125 44.4375 30.421875 42.921875 \r\nL 36.375 41.703125 \r\nQ 47.40625 39.59375 52.65625 34.296875 \r\nQ 57.90625 29 57.90625 20.125 \r\nQ 57.90625 9.515625 50.796875 4.046875 \r\nQ 43.703125 -1.421875 29.984375 -1.421875 \r\nQ 24.8125 -1.421875 18.96875 -0.25 \r\nQ 13.140625 0.921875 6.890625 3.21875 \r\nL 6.890625 13.375 \r\nQ 12.890625 10.015625 18.65625 8.296875 \r\nQ 24.421875 6.59375 29.984375 6.59375 \r\nQ 38.421875 6.59375 43.015625 9.90625 \r\nQ 47.609375 13.234375 47.609375 19.390625 \r\nQ 47.609375 24.75 44.3125 27.78125 \r\nQ 41.015625 30.8125 33.5 32.328125 \r\nL 27.484375 33.5 \r\nQ 16.453125 35.6875 11.515625 40.375 \r\nQ 6.59375 45.0625 6.59375 53.421875 \r\nQ 6.59375 63.09375 13.40625 68.65625 \r\nQ 20.21875 74.21875 32.171875 74.21875 \r\nQ 37.3125 74.21875 42.625 73.28125 \r\nQ 47.953125 72.359375 53.515625 70.515625 \r\nz\r\n\" id=\"DejaVuSans-83\"/>\r\n    </defs>\r\n    <g transform=\"translate(498.180652 376.694376)scale(0.1 -0.1)\">\r\n     <use xlink:href=\"#DejaVuSans-66\"/>\r\n     <use x=\"68.587891\" xlink:href=\"#DejaVuSans-83\"/>\r\n     <use x=\"132.064453\" xlink:href=\"#DejaVuSans-80\"/>\r\n    </g>\r\n   </g>\r\n   <g id=\"text_8\">\r\n    <!-- 3% -->\r\n    <g transform=\"translate(424.138307 318.410293)scale(0.1 -0.1)\">\r\n     <use xlink:href=\"#DejaVuSans-51\"/>\r\n     <use x=\"63.623047\" xlink:href=\"#DejaVuSans-37\"/>\r\n    </g>\r\n   </g>\r\n   <g id=\"text_9\">\r\n    <!-- SP -->\r\n    <g transform=\"translate(517.555979 350.888865)scale(0.1 -0.1)\">\r\n     <use xlink:href=\"#DejaVuSans-83\"/>\r\n     <use x=\"63.476562\" xlink:href=\"#DejaVuSans-80\"/>\r\n    </g>\r\n   </g>\r\n   <g id=\"text_10\">\r\n    <!-- 2% -->\r\n    <g transform=\"translate(435.209923 303.664286)scale(0.1 -0.1)\">\r\n     <use xlink:href=\"#DejaVuSans-50\"/>\r\n     <use x=\"63.623047\" xlink:href=\"#DejaVuSans-37\"/>\r\n    </g>\r\n   </g>\r\n   <g id=\"text_11\">\r\n    <!-- YSRCP -->\r\n    <defs>\r\n     <path d=\"M -0.203125 72.90625 \r\nL 10.40625 72.90625 \r\nL 30.609375 42.921875 \r\nL 50.6875 72.90625 \r\nL 61.28125 72.90625 \r\nL 35.5 34.71875 \r\nL 35.5 0 \r\nL 25.59375 0 \r\nL 25.59375 34.71875 \r\nz\r\n\" id=\"DejaVuSans-89\"/>\r\n     <path d=\"M 44.390625 34.1875 \r\nQ 47.5625 33.109375 50.5625 29.59375 \r\nQ 53.5625 26.078125 56.59375 19.921875 \r\nL 66.609375 0 \r\nL 56 0 \r\nL 46.6875 18.703125 \r\nQ 43.0625 26.03125 39.671875 28.421875 \r\nQ 36.28125 30.8125 30.421875 30.8125 \r\nL 19.671875 30.8125 \r\nL 19.671875 0 \r\nL 9.8125 0 \r\nL 9.8125 72.90625 \r\nL 32.078125 72.90625 \r\nQ 44.578125 72.90625 50.734375 67.671875 \r\nQ 56.890625 62.453125 56.890625 51.90625 \r\nQ 56.890625 45.015625 53.6875 40.46875 \r\nQ 50.484375 35.9375 44.390625 34.1875 \r\nz\r\nM 19.671875 64.796875 \r\nL 19.671875 38.921875 \r\nL 32.078125 38.921875 \r\nQ 39.203125 38.921875 42.84375 42.21875 \r\nQ 46.484375 45.515625 46.484375 51.90625 \r\nQ 46.484375 58.296875 42.84375 61.546875 \r\nQ 39.203125 64.796875 32.078125 64.796875 \r\nz\r\n\" id=\"DejaVuSans-82\"/>\r\n    </defs>\r\n    <g transform=\"translate(529.997388 328.258028)scale(0.1 -0.1)\">\r\n     <use xlink:href=\"#DejaVuSans-89\"/>\r\n     <use x=\"61.083984\" xlink:href=\"#DejaVuSans-83\"/>\r\n     <use x=\"124.560547\" xlink:href=\"#DejaVuSans-82\"/>\r\n     <use x=\"193.964844\" xlink:href=\"#DejaVuSans-67\"/>\r\n     <use x=\"263.789062\" xlink:href=\"#DejaVuSans-80\"/>\r\n    </g>\r\n   </g>\r\n   <g id=\"text_12\">\r\n    <!-- 2% -->\r\n    <g transform=\"translate(442.319299 290.732379)scale(0.1 -0.1)\">\r\n     <use xlink:href=\"#DejaVuSans-50\"/>\r\n     <use x=\"63.623047\" xlink:href=\"#DejaVuSans-37\"/>\r\n    </g>\r\n   </g>\r\n   <g id=\"text_13\">\r\n    <!-- CPI(M) -->\r\n    <defs>\r\n     <path d=\"M 31 75.875 \r\nQ 24.46875 64.65625 21.28125 53.65625 \r\nQ 18.109375 42.671875 18.109375 31.390625 \r\nQ 18.109375 20.125 21.3125 9.0625 \r\nQ 24.515625 -2 31 -13.1875 \r\nL 23.1875 -13.1875 \r\nQ 15.875 -1.703125 12.234375 9.375 \r\nQ 8.59375 20.453125 8.59375 31.390625 \r\nQ 8.59375 42.28125 12.203125 53.3125 \r\nQ 15.828125 64.359375 23.1875 75.875 \r\nz\r\n\" id=\"DejaVuSans-40\"/>\r\n     <path d=\"M 9.8125 72.90625 \r\nL 24.515625 72.90625 \r\nL 43.109375 23.296875 \r\nL 61.8125 72.90625 \r\nL 76.515625 72.90625 \r\nL 76.515625 0 \r\nL 66.890625 0 \r\nL 66.890625 64.015625 \r\nL 48.09375 14.015625 \r\nL 38.1875 14.015625 \r\nL 19.390625 64.015625 \r\nL 19.390625 0 \r\nL 9.8125 0 \r\nz\r\n\" id=\"DejaVuSans-77\"/>\r\n     <path d=\"M 8.015625 75.875 \r\nL 15.828125 75.875 \r\nQ 23.140625 64.359375 26.78125 53.3125 \r\nQ 30.421875 42.28125 30.421875 31.390625 \r\nQ 30.421875 20.453125 26.78125 9.375 \r\nQ 23.140625 -1.703125 15.828125 -13.1875 \r\nL 8.015625 -13.1875 \r\nQ 14.5 -2 17.703125 9.0625 \r\nQ 20.90625 20.125 20.90625 31.390625 \r\nQ 20.90625 42.671875 17.703125 53.65625 \r\nQ 14.5 64.65625 8.015625 75.875 \r\nz\r\n\" id=\"DejaVuSans-41\"/>\r\n    </defs>\r\n    <g transform=\"translate(539.504296 304.24632)scale(0.1 -0.1)\">\r\n     <use xlink:href=\"#DejaVuSans-67\"/>\r\n     <use x=\"69.824219\" xlink:href=\"#DejaVuSans-80\"/>\r\n     <use x=\"130.126953\" xlink:href=\"#DejaVuSans-73\"/>\r\n     <use x=\"159.619141\" xlink:href=\"#DejaVuSans-40\"/>\r\n     <use x=\"198.632812\" xlink:href=\"#DejaVuSans-77\"/>\r\n     <use x=\"284.912109\" xlink:href=\"#DejaVuSans-41\"/>\r\n    </g>\r\n   </g>\r\n   <g id=\"text_14\">\r\n    <!-- 2% -->\r\n    <g transform=\"translate(447.751818 277.011404)scale(0.1 -0.1)\">\r\n     <use xlink:href=\"#DejaVuSans-50\"/>\r\n     <use x=\"63.623047\" xlink:href=\"#DejaVuSans-37\"/>\r\n    </g>\r\n   </g>\r\n   <g id=\"text_15\">\r\n    <!-- DMK -->\r\n    <defs>\r\n     <path d=\"M 19.671875 64.796875 \r\nL 19.671875 8.109375 \r\nL 31.59375 8.109375 \r\nQ 46.6875 8.109375 53.6875 14.9375 \r\nQ 60.6875 21.78125 60.6875 36.53125 \r\nQ 60.6875 51.171875 53.6875 57.984375 \r\nQ 46.6875 64.796875 31.59375 64.796875 \r\nz\r\nM 9.8125 72.90625 \r\nL 30.078125 72.90625 \r\nQ 51.265625 72.90625 61.171875 64.09375 \r\nQ 71.09375 55.28125 71.09375 36.53125 \r\nQ 71.09375 17.671875 61.125 8.828125 \r\nQ 51.171875 0 30.078125 0 \r\nL 9.8125 0 \r\nz\r\n\" id=\"DejaVuSans-68\"/>\r\n     <path d=\"M 9.8125 72.90625 \r\nL 19.671875 72.90625 \r\nL 19.671875 42.09375 \r\nL 52.390625 72.90625 \r\nL 65.09375 72.90625 \r\nL 28.90625 38.921875 \r\nL 67.671875 0 \r\nL 54.6875 0 \r\nL 19.671875 35.109375 \r\nL 19.671875 0 \r\nL 9.8125 0 \r\nz\r\n\" id=\"DejaVuSans-75\"/>\r\n    </defs>\r\n    <g transform=\"translate(545.926775 279.23242)scale(0.1 -0.1)\">\r\n     <use xlink:href=\"#DejaVuSans-68\"/>\r\n     <use x=\"77.001953\" xlink:href=\"#DejaVuSans-77\"/>\r\n     <use x=\"163.28125\" xlink:href=\"#DejaVuSans-75\"/>\r\n    </g>\r\n   </g>\r\n   <g id=\"text_16\">\r\n    <!-- 2% -->\r\n    <g transform=\"translate(451.421806 262.717746)scale(0.1 -0.1)\">\r\n     <use xlink:href=\"#DejaVuSans-50\"/>\r\n     <use x=\"63.623047\" xlink:href=\"#DejaVuSans-37\"/>\r\n    </g>\r\n   </g>\r\n   <g id=\"text_17\">\r\n    <!-- SHS -->\r\n    <defs>\r\n     <path d=\"M 9.8125 72.90625 \r\nL 19.671875 72.90625 \r\nL 19.671875 43.015625 \r\nL 55.515625 43.015625 \r\nL 55.515625 72.90625 \r\nL 65.375 72.90625 \r\nL 65.375 0 \r\nL 55.515625 0 \r\nL 55.515625 34.71875 \r\nL 19.671875 34.71875 \r\nL 19.671875 0 \r\nL 9.8125 0 \r\nz\r\n\" id=\"DejaVuSans-72\"/>\r\n    </defs>\r\n    <g transform=\"translate(549.163537 253.610812)scale(0.1 -0.1)\">\r\n     <use xlink:href=\"#DejaVuSans-83\"/>\r\n     <use x=\"63.476562\" xlink:href=\"#DejaVuSans-72\"/>\r\n     <use x=\"138.671875\" xlink:href=\"#DejaVuSans-83\"/>\r\n    </g>\r\n   </g>\r\n   <g id=\"text_18\">\r\n    <!-- 2% -->\r\n    <g transform=\"translate(453.271385 248.076828)scale(0.1 -0.1)\">\r\n     <use xlink:href=\"#DejaVuSans-50\"/>\r\n     <use x=\"63.623047\" xlink:href=\"#DejaVuSans-37\"/>\r\n    </g>\r\n   </g>\r\n   <g id=\"text_19\">\r\n    <!-- TDP -->\r\n    <g transform=\"translate(549.163538 227.785565)scale(0.1 -0.1)\">\r\n     <use xlink:href=\"#DejaVuSans-84\"/>\r\n     <use x=\"61.083984\" xlink:href=\"#DejaVuSans-68\"/>\r\n     <use x=\"138.085938\" xlink:href=\"#DejaVuSans-80\"/>\r\n    </g>\r\n   </g>\r\n   <g id=\"text_20\">\r\n    <!-- 2% -->\r\n    <g transform=\"translate(453.271385 233.319543)scale(0.1 -0.1)\">\r\n     <use xlink:href=\"#DejaVuSans-50\"/>\r\n     <use x=\"63.623047\" xlink:href=\"#DejaVuSans-37\"/>\r\n    </g>\r\n   </g>\r\n   <g id=\"text_21\">\r\n    <!-- OTHERS -->\r\n    <defs>\r\n     <path d=\"M 39.40625 66.21875 \r\nQ 28.65625 66.21875 22.328125 58.203125 \r\nQ 16.015625 50.203125 16.015625 36.375 \r\nQ 16.015625 22.609375 22.328125 14.59375 \r\nQ 28.65625 6.59375 39.40625 6.59375 \r\nQ 50.140625 6.59375 56.421875 14.59375 \r\nQ 62.703125 22.609375 62.703125 36.375 \r\nQ 62.703125 50.203125 56.421875 58.203125 \r\nQ 50.140625 66.21875 39.40625 66.21875 \r\nz\r\nM 39.40625 74.21875 \r\nQ 54.734375 74.21875 63.90625 63.9375 \r\nQ 73.09375 53.65625 73.09375 36.375 \r\nQ 73.09375 19.140625 63.90625 8.859375 \r\nQ 54.734375 -1.421875 39.40625 -1.421875 \r\nQ 24.03125 -1.421875 14.8125 8.828125 \r\nQ 5.609375 19.09375 5.609375 36.375 \r\nQ 5.609375 53.65625 14.8125 63.9375 \r\nQ 24.03125 74.21875 39.40625 74.21875 \r\nz\r\n\" id=\"DejaVuSans-79\"/>\r\n     <path d=\"M 9.8125 72.90625 \r\nL 55.90625 72.90625 \r\nL 55.90625 64.59375 \r\nL 19.671875 64.59375 \r\nL 19.671875 43.015625 \r\nL 54.390625 43.015625 \r\nL 54.390625 34.71875 \r\nL 19.671875 34.71875 \r\nL 19.671875 8.296875 \r\nL 56.78125 8.296875 \r\nL 56.78125 0 \r\nL 9.8125 0 \r\nz\r\n\" id=\"DejaVuSans-69\"/>\r\n    </defs>\r\n    <g transform=\"translate(479.91945 86.440784)scale(0.1 -0.1)\">\r\n     <use xlink:href=\"#DejaVuSans-79\"/>\r\n     <use x=\"78.710938\" xlink:href=\"#DejaVuSans-84\"/>\r\n     <use x=\"139.794922\" xlink:href=\"#DejaVuSans-72\"/>\r\n     <use x=\"214.990234\" xlink:href=\"#DejaVuSans-69\"/>\r\n     <use x=\"278.173828\" xlink:href=\"#DejaVuSans-82\"/>\r\n     <use x=\"347.65625\" xlink:href=\"#DejaVuSans-83\"/>\r\n    </g>\r\n   </g>\r\n   <g id=\"text_22\">\r\n    <!-- 23% -->\r\n    <g transform=\"translate(410.522085 152.551097)scale(0.1 -0.1)\">\r\n     <use xlink:href=\"#DejaVuSans-50\"/>\r\n     <use x=\"63.623047\" xlink:href=\"#DejaVuSans-51\"/>\r\n     <use x=\"127.246094\" xlink:href=\"#DejaVuSans-37\"/>\r\n    </g>\r\n   </g>\r\n   <g id=\"text_23\">\r\n    <!-- VOTE SHARE OF PARTY -->\r\n    <defs>\r\n     <path d=\"M 28.609375 0 \r\nL 0.78125 72.90625 \r\nL 11.078125 72.90625 \r\nL 34.1875 11.53125 \r\nL 57.328125 72.90625 \r\nL 67.578125 72.90625 \r\nL 39.796875 0 \r\nz\r\n\" id=\"DejaVuSans-86\"/>\r\n     <path id=\"DejaVuSans-32\"/>\r\n     <path d=\"M 9.8125 72.90625 \r\nL 51.703125 72.90625 \r\nL 51.703125 64.59375 \r\nL 19.671875 64.59375 \r\nL 19.671875 43.109375 \r\nL 48.578125 43.109375 \r\nL 48.578125 34.8125 \r\nL 19.671875 34.8125 \r\nL 19.671875 0 \r\nL 9.8125 0 \r\nz\r\n\" id=\"DejaVuSans-70\"/>\r\n    </defs>\r\n    <g transform=\"translate(272.228437 16.318125)scale(0.12 -0.12)\">\r\n     <use xlink:href=\"#DejaVuSans-86\"/>\r\n     <use x=\"68.392578\" xlink:href=\"#DejaVuSans-79\"/>\r\n     <use x=\"147.103516\" xlink:href=\"#DejaVuSans-84\"/>\r\n     <use x=\"208.1875\" xlink:href=\"#DejaVuSans-69\"/>\r\n     <use x=\"271.371094\" xlink:href=\"#DejaVuSans-32\"/>\r\n     <use x=\"303.158203\" xlink:href=\"#DejaVuSans-83\"/>\r\n     <use x=\"366.634766\" xlink:href=\"#DejaVuSans-72\"/>\r\n     <use x=\"441.830078\" xlink:href=\"#DejaVuSans-65\"/>\r\n     <use x=\"510.238281\" xlink:href=\"#DejaVuSans-82\"/>\r\n     <use x=\"579.720703\" xlink:href=\"#DejaVuSans-69\"/>\r\n     <use x=\"642.904297\" xlink:href=\"#DejaVuSans-32\"/>\r\n     <use x=\"674.691406\" xlink:href=\"#DejaVuSans-79\"/>\r\n     <use x=\"753.402344\" xlink:href=\"#DejaVuSans-70\"/>\r\n     <use x=\"810.921875\" xlink:href=\"#DejaVuSans-32\"/>\r\n     <use x=\"842.708984\" xlink:href=\"#DejaVuSans-80\"/>\r\n     <use x=\"902.917969\" xlink:href=\"#DejaVuSans-65\"/>\r\n     <use x=\"971.326172\" xlink:href=\"#DejaVuSans-82\"/>\r\n     <use x=\"1040.699219\" xlink:href=\"#DejaVuSans-84\"/>\r\n     <use x=\"1101.783203\" xlink:href=\"#DejaVuSans-89\"/>\r\n    </g>\r\n   </g>\r\n  </g>\r\n </g>\r\n <defs>\r\n  <clipPath id=\"pbe72fface5\">\r\n   <rect height=\"434.88\" width=\"669.6\" x=\"7.2\" y=\"22.318125\"/>\r\n  </clipPath>\r\n </defs>\r\n</svg>\r\n",
      "image/png": "[encoded data removed]"
     },
     "metadata": {}
    }
   ],
   "source": [
    "plt.rcParams['figure.figsize'] = (12,8)\n",
    "labels = 'BJP', 'INC','AITC','BSP','SP','YSRCP','CPI(M)','DMK','SHS','TDP','OTHERS'\n",
    "sizes = [38,20,4,3,2,2,2,2,2,2,23]\n",
    " \n",
    "colors=('orange', 'green', 'deeppink', 'blue', 'red', 'yellow', 'crimson', 'brown','darkorange','pink','gray')\n",
    "\n",
    "my_circle = plt.Circle((0, 0), 0.7, color='white')\n",
    "\n",
    "d = plt.pie(sizes, labels=labels, autopct='%0.0f%%',\n",
    "            startangle=90,colors=colors, labeldistance=1.05)\n",
    "plt.axis('equal')\n",
    "plt.gca().add_artist(my_circle)\n",
    "plt.title('VOTE SHARE OF PARTY')            \n",
    "plt.show()"
   ]
  },
  {
   "cell_type": "code",
   "execution_count": 35,
   "metadata": {},
   "outputs": [
    {
     "output_type": "execute_result",
     "data": {
      "text/plain": "61"
     },
     "metadata": {},
     "execution_count": 35
    }
   ],
   "source": [
    "df['AGE'].nunique()"
   ]
  },
  {
   "cell_type": "markdown",
   "metadata": {},
   "source": [
    "## Seat share out of 539 seats"
   ]
  },
  {
   "cell_type": "code",
   "execution_count": 36,
   "metadata": {},
   "outputs": [
    {
     "output_type": "display_data",
     "data": {
      "text/plain": "<Figure size 720x576 with 1 Axes>",
      "image/svg+xml": "<?xml version=\"1.0\" encoding=\"utf-8\" standalone=\"no\"?>\r\n<!DOCTYPE svg PUBLIC \"-//W3C//DTD SVG 1.1//EN\"\r\n  \"http://www.w3.org/Graphics/SVG/1.1/DTD/svg11.dtd\">\r\n<!-- Created with matplotlib (https://matplotlib.org/) -->\r\n<svg height=\"464.398125pt\" version=\"1.1\" viewBox=\"0 0 572.4 464.398125\" width=\"572.4pt\" xmlns=\"http://www.w3.org/2000/svg\" xmlns:xlink=\"http://www.w3.org/1999/xlink\">\r\n <defs>\r\n  <style type=\"text/css\">\r\n*{stroke-linecap:butt;stroke-linejoin:round;}\r\n  </style>\r\n </defs>\r\n <g id=\"figure_1\">\r\n  <g id=\"patch_1\">\r\n   <path d=\"M 0 464.398125 \r\nL 572.4 464.398125 \r\nL 572.4 0 \r\nL 0 0 \r\nz\r\n\" style=\"fill:none;\"/>\r\n  </g>\r\n  <g id=\"axes_1\">\r\n   <g id=\"patch_2\">\r\n    <path d=\"M 287.105082 42.085398 \r\nC 258.310998 42.085398 229.864591 48.403895 203.778147 60.593923 \r\nC 177.691703 72.78395 154.595191 90.551128 136.122446 112.638613 \r\nC 117.649701 134.726099 104.246827 160.600496 96.861937 188.431463 \r\nC 89.477046 216.26243 88.288479 245.377869 93.380314 273.718168 \r\nC 98.472149 302.058467 109.721422 328.939228 126.332364 352.45892 \r\nC 142.943306 375.978612 164.514777 395.569251 189.520819 409.845006 \r\nC 214.526862 424.12076 242.363599 432.73688 271.061874 435.083866 \r\nC 299.760148 437.430852 328.626919 433.452026 355.620163 423.428848 \r\nL 287.105082 238.912094 \r\nL 287.105082 42.085398 \r\nz\r\n\" style=\"fill:#ffa500;\"/>\r\n   </g>\r\n   <g id=\"patch_3\">\r\n    <path d=\"M 355.620163 423.428848 \r\nC 374.297186 416.493664 391.813431 406.762738 407.569243 394.5692 \r\nC 423.325055 382.375663 437.138564 367.860266 448.536874 351.519933 \r\nL 287.105082 238.912094 \r\nL 355.620163 423.428848 \r\nz\r\n\" style=\"fill:#008000;\"/>\r\n   </g>\r\n   <g id=\"patch_4\">\r\n    <path d=\"M 448.536874 351.519933 \r\nC 453.570707 344.303555 458.114997 336.757755 462.139156 328.933324 \r\nC 466.163315 321.108892 469.658294 313.023425 472.600568 304.731344 \r\nL 287.105082 238.912094 \r\nL 448.536874 351.519933 \r\nz\r\n\" style=\"fill:#ff1493;\"/>\r\n   </g>\r\n   <g id=\"patch_5\">\r\n    <path d=\"M 472.600568 304.731344 \r\nC 475.414827 296.80004 477.717509 288.6964 479.494431 280.470333 \r\nC 481.271353 272.244266 482.518859 263.912696 483.229266 255.526937 \r\nL 287.105082 238.912094 \r\nL 472.600568 304.731344 \r\nz\r\n\" style=\"fill:#0000ff;\"/>\r\n   </g>\r\n   <g id=\"patch_6\">\r\n    <path d=\"M 483.229266 255.526937 \r\nC 483.939674 247.141178 484.111521 238.718483 483.743749 230.310726 \r\nC 483.375976 221.902969 482.469342 213.527449 481.029429 205.235749 \r\nL 287.105082 238.912094 \r\nL 483.229266 255.526937 \r\nz\r\n\" style=\"fill:#ff0000;\"/>\r\n   </g>\r\n   <g id=\"patch_7\">\r\n    <path d=\"M 481.029429 205.235749 \r\nC 479.851452 198.452399 478.31837 191.735526 476.436506 185.112833 \r\nC 474.554642 178.490141 472.326588 171.970746 469.761531 165.58154 \r\nL 287.105082 238.912094 \r\nL 481.029429 205.235749 \r\nz\r\n\" style=\"fill:#ffff00;\"/>\r\n   </g>\r\n   <g id=\"patch_8\">\r\n    <path d=\"M 469.761531 165.58154 \r\nC 467.481591 159.902519 464.938039 154.332915 462.139165 148.890883 \r\nC 459.340291 143.44885 456.289139 138.140308 452.995655 132.982559 \r\nL 287.105082 238.912094 \r\nL 469.761531 165.58154 \r\nz\r\n\" style=\"fill:#dc143c;\"/>\r\n   </g>\r\n   <g id=\"patch_9\">\r\n    <path d=\"M 452.995655 132.982559 \r\nC 450.731601 129.436945 448.354457 125.964828 445.867886 122.571557 \r\nC 443.381316 119.178287 440.786597 115.865607 438.087728 112.638624 \r\nL 287.105082 238.912094 \r\nL 452.995655 132.982559 \r\nz\r\n\" style=\"fill:#a52a2a;\"/>\r\n   </g>\r\n   <g id=\"patch_10\">\r\n    <path d=\"M 438.087728 112.638624 \r\nC 435.388858 109.41164 432.587226 106.272011 429.687149 103.224575 \r\nC 426.787071 100.177139 423.790039 97.223462 420.70067 94.368095 \r\nL 287.105082 238.912094 \r\nL 438.087728 112.638624 \r\nz\r\n\" style=\"fill:#ff8c00;\"/>\r\n   </g>\r\n   <g id=\"patch_11\">\r\n    <path d=\"M 420.70067 94.368095 \r\nC 418.173076 92.031953 415.584639 89.762511 412.938031 87.562111 \r\nC 410.291423 85.361711 407.587554 83.23111 404.829213 81.172507 \r\nL 287.105082 238.912094 \r\nL 420.70067 94.368095 \r\nz\r\n\" style=\"fill:#ffc0cb;\"/>\r\n   </g>\r\n   <g id=\"patch_12\">\r\n    <path d=\"M 404.829213 81.172507 \r\nC 387.937646 68.566 369.130256 58.754196 349.126803 52.11259 \r\nC 329.12335 45.470985 308.182308 42.085399 287.105092 42.085398 \r\nL 287.105082 238.912094 \r\nL 404.829213 81.172507 \r\nz\r\n\" style=\"fill:#808080;\"/>\r\n   </g>\r\n   <g id=\"patch_13\">\r\n    <path clip-path=\"url(#p508be8f067)\" d=\"M 287.105082 376.690782 \r\nC 323.644418 376.690782 358.692115 362.173551 384.529327 336.336339 \r\nC 410.366538 310.499127 424.88377 275.45143 424.88377 238.912094 \r\nC 424.88377 202.372759 410.366538 167.325062 384.529327 141.48785 \r\nC 358.692115 115.650638 323.644418 101.133407 287.105082 101.133407 \r\nC 250.565747 101.133407 215.51805 115.650638 189.680838 141.48785 \r\nC 163.843626 167.325062 149.326395 202.372759 149.326395 238.912094 \r\nC 149.326395 275.45143 163.843626 310.499127 189.680838 336.336339 \r\nC 215.51805 362.173551 250.565747 376.690782 287.105082 376.690782 \r\nz\r\n\" style=\"fill:#ffffff;stroke:#ffffff;stroke-linejoin:miter;\"/>\r\n   </g>\r\n   <g id=\"matplotlib.axis_1\"/>\r\n   <g id=\"matplotlib.axis_2\"/>\r\n   <g id=\"text_1\">\r\n    <!-- BJP -->\r\n    <defs>\r\n     <path d=\"M 19.671875 34.8125 \r\nL 19.671875 8.109375 \r\nL 35.5 8.109375 \r\nQ 43.453125 8.109375 47.28125 11.40625 \r\nQ 51.125 14.703125 51.125 21.484375 \r\nQ 51.125 28.328125 47.28125 31.5625 \r\nQ 43.453125 34.8125 35.5 34.8125 \r\nz\r\nM 19.671875 64.796875 \r\nL 19.671875 42.828125 \r\nL 34.28125 42.828125 \r\nQ 41.5 42.828125 45.03125 45.53125 \r\nQ 48.578125 48.25 48.578125 53.8125 \r\nQ 48.578125 59.328125 45.03125 62.0625 \r\nQ 41.5 64.796875 34.28125 64.796875 \r\nz\r\nM 9.8125 72.90625 \r\nL 35.015625 72.90625 \r\nQ 46.296875 72.90625 52.390625 68.21875 \r\nQ 58.5 63.53125 58.5 54.890625 \r\nQ 58.5 48.1875 55.375 44.234375 \r\nQ 52.25 40.28125 46.1875 39.3125 \r\nQ 53.46875 37.75 57.5 32.78125 \r\nQ 61.53125 27.828125 61.53125 20.40625 \r\nQ 61.53125 10.640625 54.890625 5.3125 \r\nQ 48.25 0 35.984375 0 \r\nL 9.8125 0 \r\nz\r\n\" id=\"DejaVuSans-66\"/>\r\n     <path d=\"M 9.8125 72.90625 \r\nL 19.671875 72.90625 \r\nL 19.671875 5.078125 \r\nQ 19.671875 -8.109375 14.671875 -14.0625 \r\nQ 9.671875 -20.015625 -1.421875 -20.015625 \r\nL -5.171875 -20.015625 \r\nL -5.171875 -11.71875 \r\nL -2.09375 -11.71875 \r\nQ 4.4375 -11.71875 7.125 -8.046875 \r\nQ 9.8125 -4.390625 9.8125 5.078125 \r\nz\r\n\" id=\"DejaVuSans-74\"/>\r\n     <path d=\"M 19.671875 64.796875 \r\nL 19.671875 37.40625 \r\nL 32.078125 37.40625 \r\nQ 38.96875 37.40625 42.71875 40.96875 \r\nQ 46.484375 44.53125 46.484375 51.125 \r\nQ 46.484375 57.671875 42.71875 61.234375 \r\nQ 38.96875 64.796875 32.078125 64.796875 \r\nz\r\nM 9.8125 72.90625 \r\nL 32.078125 72.90625 \r\nQ 44.34375 72.90625 50.609375 67.359375 \r\nQ 56.890625 61.8125 56.890625 51.125 \r\nQ 56.890625 40.328125 50.609375 34.8125 \r\nQ 44.34375 29.296875 32.078125 29.296875 \r\nL 19.671875 29.296875 \r\nL 19.671875 0 \r\nL 9.8125 0 \r\nz\r\n\" id=\"DejaVuSans-80\"/>\r\n    </defs>\r\n    <g transform=\"translate(67.853451 278.217846)scale(0.1 -0.1)\">\r\n     <use xlink:href=\"#DejaVuSans-66\"/>\r\n     <use x=\"68.603516\" xlink:href=\"#DejaVuSans-74\"/>\r\n     <use x=\"98.095703\" xlink:href=\"#DejaVuSans-80\"/>\r\n    </g>\r\n   </g>\r\n   <g id=\"text_2\">\r\n    <!-- 56% -->\r\n    <defs>\r\n     <path d=\"M 10.796875 72.90625 \r\nL 49.515625 72.90625 \r\nL 49.515625 64.59375 \r\nL 19.828125 64.59375 \r\nL 19.828125 46.734375 \r\nQ 21.96875 47.46875 24.109375 47.828125 \r\nQ 26.265625 48.1875 28.421875 48.1875 \r\nQ 40.625 48.1875 47.75 41.5 \r\nQ 54.890625 34.8125 54.890625 23.390625 \r\nQ 54.890625 11.625 47.5625 5.09375 \r\nQ 40.234375 -1.421875 26.90625 -1.421875 \r\nQ 22.3125 -1.421875 17.546875 -0.640625 \r\nQ 12.796875 0.140625 7.71875 1.703125 \r\nL 7.71875 11.625 \r\nQ 12.109375 9.234375 16.796875 8.0625 \r\nQ 21.484375 6.890625 26.703125 6.890625 \r\nQ 35.15625 6.890625 40.078125 11.328125 \r\nQ 45.015625 15.765625 45.015625 23.390625 \r\nQ 45.015625 31 40.078125 35.4375 \r\nQ 35.15625 39.890625 26.703125 39.890625 \r\nQ 22.75 39.890625 18.8125 39.015625 \r\nQ 14.890625 38.140625 10.796875 36.28125 \r\nz\r\n\" id=\"DejaVuSans-53\"/>\r\n     <path d=\"M 33.015625 40.375 \r\nQ 26.375 40.375 22.484375 35.828125 \r\nQ 18.609375 31.296875 18.609375 23.390625 \r\nQ 18.609375 15.53125 22.484375 10.953125 \r\nQ 26.375 6.390625 33.015625 6.390625 \r\nQ 39.65625 6.390625 43.53125 10.953125 \r\nQ 47.40625 15.53125 47.40625 23.390625 \r\nQ 47.40625 31.296875 43.53125 35.828125 \r\nQ 39.65625 40.375 33.015625 40.375 \r\nz\r\nM 52.59375 71.296875 \r\nL 52.59375 62.3125 \r\nQ 48.875 64.0625 45.09375 64.984375 \r\nQ 41.3125 65.921875 37.59375 65.921875 \r\nQ 27.828125 65.921875 22.671875 59.328125 \r\nQ 17.53125 52.734375 16.796875 39.40625 \r\nQ 19.671875 43.65625 24.015625 45.921875 \r\nQ 28.375 48.1875 33.59375 48.1875 \r\nQ 44.578125 48.1875 50.953125 41.515625 \r\nQ 57.328125 34.859375 57.328125 23.390625 \r\nQ 57.328125 12.15625 50.6875 5.359375 \r\nQ 44.046875 -1.421875 33.015625 -1.421875 \r\nQ 20.359375 -1.421875 13.671875 8.265625 \r\nQ 6.984375 17.96875 6.984375 36.375 \r\nQ 6.984375 53.65625 15.1875 63.9375 \r\nQ 23.390625 74.21875 37.203125 74.21875 \r\nQ 40.921875 74.21875 44.703125 73.484375 \r\nQ 48.484375 72.75 52.59375 71.296875 \r\nz\r\n\" id=\"DejaVuSans-54\"/>\r\n     <path d=\"M 72.703125 32.078125 \r\nQ 68.453125 32.078125 66.03125 28.46875 \r\nQ 63.625 24.859375 63.625 18.40625 \r\nQ 63.625 12.0625 66.03125 8.421875 \r\nQ 68.453125 4.78125 72.703125 4.78125 \r\nQ 76.859375 4.78125 79.265625 8.421875 \r\nQ 81.6875 12.0625 81.6875 18.40625 \r\nQ 81.6875 24.8125 79.265625 28.4375 \r\nQ 76.859375 32.078125 72.703125 32.078125 \r\nz\r\nM 72.703125 38.28125 \r\nQ 80.421875 38.28125 84.953125 32.90625 \r\nQ 89.5 27.546875 89.5 18.40625 \r\nQ 89.5 9.28125 84.9375 3.921875 \r\nQ 80.375 -1.421875 72.703125 -1.421875 \r\nQ 64.890625 -1.421875 60.34375 3.921875 \r\nQ 55.8125 9.28125 55.8125 18.40625 \r\nQ 55.8125 27.59375 60.375 32.9375 \r\nQ 64.9375 38.28125 72.703125 38.28125 \r\nz\r\nM 22.3125 68.015625 \r\nQ 18.109375 68.015625 15.6875 64.375 \r\nQ 13.28125 60.75 13.28125 54.390625 \r\nQ 13.28125 47.953125 15.671875 44.328125 \r\nQ 18.0625 40.71875 22.3125 40.71875 \r\nQ 26.5625 40.71875 28.96875 44.328125 \r\nQ 31.390625 47.953125 31.390625 54.390625 \r\nQ 31.390625 60.6875 28.953125 64.34375 \r\nQ 26.515625 68.015625 22.3125 68.015625 \r\nz\r\nM 66.40625 74.21875 \r\nL 74.21875 74.21875 \r\nL 28.609375 -1.421875 \r\nL 20.796875 -1.421875 \r\nz\r\nM 22.3125 74.21875 \r\nQ 30.03125 74.21875 34.609375 68.875 \r\nQ 39.203125 63.53125 39.203125 54.390625 \r\nQ 39.203125 45.171875 34.640625 39.84375 \r\nQ 30.078125 34.515625 22.3125 34.515625 \r\nQ 14.546875 34.515625 10.03125 39.859375 \r\nQ 5.515625 45.21875 5.515625 54.390625 \r\nQ 5.515625 63.484375 10.046875 68.84375 \r\nQ 14.59375 74.21875 22.3125 74.21875 \r\nz\r\n\" id=\"DejaVuSans-37\"/>\r\n    </defs>\r\n    <g transform=\"translate(159.75694 262.555113)scale(0.1 -0.1)\">\r\n     <use xlink:href=\"#DejaVuSans-53\"/>\r\n     <use x=\"63.623047\" xlink:href=\"#DejaVuSans-54\"/>\r\n     <use x=\"127.246094\" xlink:href=\"#DejaVuSans-37\"/>\r\n    </g>\r\n   </g>\r\n   <g id=\"text_3\">\r\n    <!-- INC -->\r\n    <defs>\r\n     <path d=\"M 9.8125 72.90625 \r\nL 19.671875 72.90625 \r\nL 19.671875 0 \r\nL 9.8125 0 \r\nz\r\n\" id=\"DejaVuSans-73\"/>\r\n     <path d=\"M 9.8125 72.90625 \r\nL 23.09375 72.90625 \r\nL 55.421875 11.921875 \r\nL 55.421875 72.90625 \r\nL 64.984375 72.90625 \r\nL 64.984375 0 \r\nL 51.703125 0 \r\nL 19.390625 60.984375 \r\nL 19.390625 0 \r\nL 9.8125 0 \r\nz\r\n\" id=\"DejaVuSans-78\"/>\r\n     <path d=\"M 64.40625 67.28125 \r\nL 64.40625 56.890625 \r\nQ 59.421875 61.53125 53.78125 63.8125 \r\nQ 48.140625 66.109375 41.796875 66.109375 \r\nQ 29.296875 66.109375 22.65625 58.46875 \r\nQ 16.015625 50.828125 16.015625 36.375 \r\nQ 16.015625 21.96875 22.65625 14.328125 \r\nQ 29.296875 6.6875 41.796875 6.6875 \r\nQ 48.140625 6.6875 53.78125 8.984375 \r\nQ 59.421875 11.28125 64.40625 15.921875 \r\nL 64.40625 5.609375 \r\nQ 59.234375 2.09375 53.4375 0.328125 \r\nQ 47.65625 -1.421875 41.21875 -1.421875 \r\nQ 24.65625 -1.421875 15.125 8.703125 \r\nQ 5.609375 18.84375 5.609375 36.375 \r\nQ 5.609375 53.953125 15.125 64.078125 \r\nQ 24.65625 74.21875 41.21875 74.21875 \r\nQ 47.75 74.21875 53.53125 72.484375 \r\nQ 59.328125 70.75 64.40625 67.28125 \r\nz\r\n\" id=\"DejaVuSans-67\"/>\r\n    </defs>\r\n    <g transform=\"translate(413.592451 405.111431)scale(0.1 -0.1)\">\r\n     <use xlink:href=\"#DejaVuSans-73\"/>\r\n     <use x=\"29.492188\" xlink:href=\"#DejaVuSans-78\"/>\r\n     <use x=\"104.296875\" xlink:href=\"#DejaVuSans-67\"/>\r\n    </g>\r\n   </g>\r\n   <g id=\"text_4\">\r\n    <!-- 10% -->\r\n    <defs>\r\n     <path d=\"M 12.40625 8.296875 \r\nL 28.515625 8.296875 \r\nL 28.515625 63.921875 \r\nL 10.984375 60.40625 \r\nL 10.984375 69.390625 \r\nL 28.421875 72.90625 \r\nL 38.28125 72.90625 \r\nL 38.28125 8.296875 \r\nL 54.390625 8.296875 \r\nL 54.390625 0 \r\nL 12.40625 0 \r\nz\r\n\" id=\"DejaVuSans-49\"/>\r\n     <path d=\"M 31.78125 66.40625 \r\nQ 24.171875 66.40625 20.328125 58.90625 \r\nQ 16.5 51.421875 16.5 36.375 \r\nQ 16.5 21.390625 20.328125 13.890625 \r\nQ 24.171875 6.390625 31.78125 6.390625 \r\nQ 39.453125 6.390625 43.28125 13.890625 \r\nQ 47.125 21.390625 47.125 36.375 \r\nQ 47.125 51.421875 43.28125 58.90625 \r\nQ 39.453125 66.40625 31.78125 66.40625 \r\nz\r\nM 31.78125 74.21875 \r\nQ 44.046875 74.21875 50.515625 64.515625 \r\nQ 56.984375 54.828125 56.984375 36.375 \r\nQ 56.984375 17.96875 50.515625 8.265625 \r\nQ 44.046875 -1.421875 31.78125 -1.421875 \r\nQ 19.53125 -1.421875 13.0625 8.265625 \r\nQ 6.59375 17.96875 6.59375 36.375 \r\nQ 6.59375 54.828125 13.0625 64.515625 \r\nQ 19.53125 74.21875 31.78125 74.21875 \r\nz\r\n\" id=\"DejaVuSans-48\"/>\r\n    </defs>\r\n    <g transform=\"translate(348.270297 335.065733)scale(0.1 -0.1)\">\r\n     <use xlink:href=\"#DejaVuSans-49\"/>\r\n     <use x=\"63.623047\" xlink:href=\"#DejaVuSans-48\"/>\r\n     <use x=\"127.246094\" xlink:href=\"#DejaVuSans-37\"/>\r\n    </g>\r\n   </g>\r\n   <g id=\"text_5\">\r\n    <!-- DMK -->\r\n    <defs>\r\n     <path d=\"M 19.671875 64.796875 \r\nL 19.671875 8.109375 \r\nL 31.59375 8.109375 \r\nQ 46.6875 8.109375 53.6875 14.9375 \r\nQ 60.6875 21.78125 60.6875 36.53125 \r\nQ 60.6875 51.171875 53.6875 57.984375 \r\nQ 46.6875 64.796875 31.59375 64.796875 \r\nz\r\nM 9.8125 72.90625 \r\nL 30.078125 72.90625 \r\nQ 51.265625 72.90625 61.171875 64.09375 \r\nQ 71.09375 55.28125 71.09375 36.53125 \r\nQ 71.09375 17.671875 61.125 8.828125 \r\nQ 51.171875 0 30.078125 0 \r\nL 9.8125 0 \r\nz\r\n\" id=\"DejaVuSans-68\"/>\r\n     <path d=\"M 9.8125 72.90625 \r\nL 24.515625 72.90625 \r\nL 43.109375 23.296875 \r\nL 61.8125 72.90625 \r\nL 76.515625 72.90625 \r\nL 76.515625 0 \r\nL 66.890625 0 \r\nL 66.890625 64.015625 \r\nL 48.09375 14.015625 \r\nL 38.1875 14.015625 \r\nL 19.390625 64.015625 \r\nL 19.390625 0 \r\nL 9.8125 0 \r\nz\r\n\" id=\"DejaVuSans-77\"/>\r\n     <path d=\"M 9.8125 72.90625 \r\nL 19.671875 72.90625 \r\nL 19.671875 42.09375 \r\nL 52.390625 72.90625 \r\nL 65.09375 72.90625 \r\nL 28.90625 38.921875 \r\nL 67.671875 0 \r\nL 54.6875 0 \r\nL 19.671875 35.109375 \r\nL 19.671875 0 \r\nL 9.8125 0 \r\nz\r\n\" id=\"DejaVuSans-75\"/>\r\n    </defs>\r\n    <g transform=\"translate(470.890859 336.19376)scale(0.1 -0.1)\">\r\n     <use xlink:href=\"#DejaVuSans-68\"/>\r\n     <use x=\"77.001953\" xlink:href=\"#DejaVuSans-77\"/>\r\n     <use x=\"163.28125\" xlink:href=\"#DejaVuSans-75\"/>\r\n    </g>\r\n   </g>\r\n   <g id=\"text_6\">\r\n    <!-- 4% -->\r\n    <defs>\r\n     <path d=\"M 37.796875 64.3125 \r\nL 12.890625 25.390625 \r\nL 37.796875 25.390625 \r\nz\r\nM 35.203125 72.90625 \r\nL 47.609375 72.90625 \r\nL 47.609375 25.390625 \r\nL 58.015625 25.390625 \r\nL 58.015625 17.1875 \r\nL 47.609375 17.1875 \r\nL 47.609375 0 \r\nL 37.796875 0 \r\nL 37.796875 17.1875 \r\nL 4.890625 17.1875 \r\nL 4.890625 26.703125 \r\nz\r\n\" id=\"DejaVuSans-52\"/>\r\n    </defs>\r\n    <g transform=\"translate(384.193495 295.684207)scale(0.1 -0.1)\">\r\n     <use xlink:href=\"#DejaVuSans-52\"/>\r\n     <use x=\"63.623047\" xlink:href=\"#DejaVuSans-37\"/>\r\n    </g>\r\n   </g>\r\n   <g id=\"text_7\">\r\n    <!-- YSRCP -->\r\n    <defs>\r\n     <path d=\"M -0.203125 72.90625 \r\nL 10.40625 72.90625 \r\nL 30.609375 42.921875 \r\nL 50.6875 72.90625 \r\nL 61.28125 72.90625 \r\nL 35.5 34.71875 \r\nL 35.5 0 \r\nL 25.59375 0 \r\nL 25.59375 34.71875 \r\nz\r\n\" id=\"DejaVuSans-89\"/>\r\n     <path d=\"M 53.515625 70.515625 \r\nL 53.515625 60.890625 \r\nQ 47.90625 63.578125 42.921875 64.890625 \r\nQ 37.9375 66.21875 33.296875 66.21875 \r\nQ 25.25 66.21875 20.875 63.09375 \r\nQ 16.5 59.96875 16.5 54.203125 \r\nQ 16.5 49.359375 19.40625 46.890625 \r\nQ 22.3125 44.4375 30.421875 42.921875 \r\nL 36.375 41.703125 \r\nQ 47.40625 39.59375 52.65625 34.296875 \r\nQ 57.90625 29 57.90625 20.125 \r\nQ 57.90625 9.515625 50.796875 4.046875 \r\nQ 43.703125 -1.421875 29.984375 -1.421875 \r\nQ 24.8125 -1.421875 18.96875 -0.25 \r\nQ 13.140625 0.921875 6.890625 3.21875 \r\nL 6.890625 13.375 \r\nQ 12.890625 10.015625 18.65625 8.296875 \r\nQ 24.421875 6.59375 29.984375 6.59375 \r\nQ 38.421875 6.59375 43.015625 9.90625 \r\nQ 47.609375 13.234375 47.609375 19.390625 \r\nQ 47.609375 24.75 44.3125 27.78125 \r\nQ 41.015625 30.8125 33.5 32.328125 \r\nL 27.484375 33.5 \r\nQ 16.453125 35.6875 11.515625 40.375 \r\nQ 6.59375 45.0625 6.59375 53.421875 \r\nQ 6.59375 63.09375 13.40625 68.65625 \r\nQ 20.21875 74.21875 32.171875 74.21875 \r\nQ 37.3125 74.21875 42.625 73.28125 \r\nQ 47.953125 72.359375 53.515625 70.515625 \r\nz\r\n\" id=\"DejaVuSans-83\"/>\r\n     <path d=\"M 44.390625 34.1875 \r\nQ 47.5625 33.109375 50.5625 29.59375 \r\nQ 53.5625 26.078125 56.59375 19.921875 \r\nL 66.609375 0 \r\nL 56 0 \r\nL 46.6875 18.703125 \r\nQ 43.0625 26.03125 39.671875 28.421875 \r\nQ 36.28125 30.8125 30.421875 30.8125 \r\nL 19.671875 30.8125 \r\nL 19.671875 0 \r\nL 9.8125 0 \r\nL 9.8125 72.90625 \r\nL 32.078125 72.90625 \r\nQ 44.578125 72.90625 50.734375 67.671875 \r\nQ 56.890625 62.453125 56.890625 51.90625 \r\nQ 56.890625 45.015625 53.6875 40.46875 \r\nQ 50.484375 35.9375 44.390625 34.1875 \r\nz\r\nM 19.671875 64.796875 \r\nL 19.671875 38.921875 \r\nL 32.078125 38.921875 \r\nQ 39.203125 38.921875 42.84375 42.21875 \r\nQ 46.484375 45.515625 46.484375 51.90625 \r\nQ 46.484375 58.296875 42.84375 61.546875 \r\nQ 39.203125 64.796875 32.078125 64.796875 \r\nz\r\n\" id=\"DejaVuSans-82\"/>\r\n    </defs>\r\n    <g transform=\"translate(489.113898 285.30762)scale(0.1 -0.1)\">\r\n     <use xlink:href=\"#DejaVuSans-89\"/>\r\n     <use x=\"61.083984\" xlink:href=\"#DejaVuSans-83\"/>\r\n     <use x=\"124.560547\" xlink:href=\"#DejaVuSans-82\"/>\r\n     <use x=\"193.964844\" xlink:href=\"#DejaVuSans-67\"/>\r\n     <use x=\"263.789062\" xlink:href=\"#DejaVuSans-80\"/>\r\n    </g>\r\n   </g>\r\n   <g id=\"text_8\">\r\n    <!-- 4% -->\r\n    <g transform=\"translate(394.60666 266.606413)scale(0.1 -0.1)\">\r\n     <use xlink:href=\"#DejaVuSans-52\"/>\r\n     <use x=\"63.623047\" xlink:href=\"#DejaVuSans-37\"/>\r\n    </g>\r\n   </g>\r\n   <g id=\"text_9\">\r\n    <!-- AITC -->\r\n    <defs>\r\n     <path d=\"M 34.1875 63.1875 \r\nL 20.796875 26.90625 \r\nL 47.609375 26.90625 \r\nz\r\nM 28.609375 72.90625 \r\nL 39.796875 72.90625 \r\nL 67.578125 0 \r\nL 57.328125 0 \r\nL 50.6875 18.703125 \r\nL 17.828125 18.703125 \r\nL 11.1875 0 \r\nL 0.78125 0 \r\nz\r\n\" id=\"DejaVuSans-65\"/>\r\n     <path d=\"M -0.296875 72.90625 \r\nL 61.375 72.90625 \r\nL 61.375 64.59375 \r\nL 35.5 64.59375 \r\nL 35.5 0 \r\nL 25.59375 0 \r\nL 25.59375 64.59375 \r\nL -0.296875 64.59375 \r\nz\r\n\" id=\"DejaVuSans-84\"/>\r\n    </defs>\r\n    <g transform=\"translate(493.575682 232.640033)scale(0.1 -0.1)\">\r\n     <use xlink:href=\"#DejaVuSans-65\"/>\r\n     <use x=\"68.408203\" xlink:href=\"#DejaVuSans-73\"/>\r\n     <use x=\"97.900391\" xlink:href=\"#DejaVuSans-84\"/>\r\n     <use x=\"158.90625\" xlink:href=\"#DejaVuSans-67\"/>\r\n    </g>\r\n   </g>\r\n   <g id=\"text_10\">\r\n    <!-- 4% -->\r\n    <g transform=\"translate(397.156251 236.510648)scale(0.1 -0.1)\">\r\n     <use xlink:href=\"#DejaVuSans-52\"/>\r\n     <use x=\"63.623047\" xlink:href=\"#DejaVuSans-37\"/>\r\n    </g>\r\n   </g>\r\n   <g id=\"text_11\">\r\n    <!-- SHS -->\r\n    <defs>\r\n     <path d=\"M 9.8125 72.90625 \r\nL 19.671875 72.90625 \r\nL 19.671875 43.015625 \r\nL 55.515625 43.015625 \r\nL 55.515625 72.90625 \r\nL 65.375 72.90625 \r\nL 65.375 0 \r\nL 55.515625 0 \r\nL 55.515625 34.71875 \r\nL 19.671875 34.71875 \r\nL 19.671875 0 \r\nL 9.8125 0 \r\nz\r\n\" id=\"DejaVuSans-72\"/>\r\n    </defs>\r\n    <g transform=\"translate(485.903077 185.182245)scale(0.1 -0.1)\">\r\n     <use xlink:href=\"#DejaVuSans-83\"/>\r\n     <use x=\"63.476562\" xlink:href=\"#DejaVuSans-72\"/>\r\n     <use x=\"138.671875\" xlink:href=\"#DejaVuSans-83\"/>\r\n    </g>\r\n   </g>\r\n   <g id=\"text_12\">\r\n    <!-- 3% -->\r\n    <defs>\r\n     <path d=\"M 40.578125 39.3125 \r\nQ 47.65625 37.796875 51.625 33 \r\nQ 55.609375 28.21875 55.609375 21.1875 \r\nQ 55.609375 10.40625 48.1875 4.484375 \r\nQ 40.765625 -1.421875 27.09375 -1.421875 \r\nQ 22.515625 -1.421875 17.65625 -0.515625 \r\nQ 12.796875 0.390625 7.625 2.203125 \r\nL 7.625 11.71875 \r\nQ 11.71875 9.328125 16.59375 8.109375 \r\nQ 21.484375 6.890625 26.8125 6.890625 \r\nQ 36.078125 6.890625 40.9375 10.546875 \r\nQ 45.796875 14.203125 45.796875 21.1875 \r\nQ 45.796875 27.640625 41.28125 31.265625 \r\nQ 36.765625 34.90625 28.71875 34.90625 \r\nL 20.21875 34.90625 \r\nL 20.21875 43.015625 \r\nL 29.109375 43.015625 \r\nQ 36.375 43.015625 40.234375 45.921875 \r\nQ 44.09375 48.828125 44.09375 54.296875 \r\nQ 44.09375 59.90625 40.109375 62.90625 \r\nQ 36.140625 65.921875 28.71875 65.921875 \r\nQ 24.65625 65.921875 20.015625 65.03125 \r\nQ 15.375 64.15625 9.8125 62.3125 \r\nL 9.8125 71.09375 \r\nQ 15.4375 72.65625 20.34375 73.4375 \r\nQ 25.25 74.21875 29.59375 74.21875 \r\nQ 40.828125 74.21875 47.359375 69.109375 \r\nQ 53.90625 64.015625 53.90625 55.328125 \r\nQ 53.90625 49.265625 50.4375 45.09375 \r\nQ 46.96875 40.921875 40.578125 39.3125 \r\nz\r\n\" id=\"DejaVuSans-51\"/>\r\n    </defs>\r\n    <g transform=\"translate(392.771905 209.391913)scale(0.1 -0.1)\">\r\n     <use xlink:href=\"#DejaVuSans-51\"/>\r\n     <use x=\"63.623047\" xlink:href=\"#DejaVuSans-37\"/>\r\n    </g>\r\n   </g>\r\n   <g id=\"text_13\">\r\n    <!-- JD(U) -->\r\n    <defs>\r\n     <path d=\"M 31 75.875 \r\nQ 24.46875 64.65625 21.28125 53.65625 \r\nQ 18.109375 42.671875 18.109375 31.390625 \r\nQ 18.109375 20.125 21.3125 9.0625 \r\nQ 24.515625 -2 31 -13.1875 \r\nL 23.1875 -13.1875 \r\nQ 15.875 -1.703125 12.234375 9.375 \r\nQ 8.59375 20.453125 8.59375 31.390625 \r\nQ 8.59375 42.28125 12.203125 53.3125 \r\nQ 15.828125 64.359375 23.1875 75.875 \r\nz\r\n\" id=\"DejaVuSans-40\"/>\r\n     <path d=\"M 8.6875 72.90625 \r\nL 18.609375 72.90625 \r\nL 18.609375 28.609375 \r\nQ 18.609375 16.890625 22.84375 11.734375 \r\nQ 27.09375 6.59375 36.625 6.59375 \r\nQ 46.09375 6.59375 50.34375 11.734375 \r\nQ 54.59375 16.890625 54.59375 28.609375 \r\nL 54.59375 72.90625 \r\nL 64.5 72.90625 \r\nL 64.5 27.390625 \r\nQ 64.5 13.140625 57.4375 5.859375 \r\nQ 50.390625 -1.421875 36.625 -1.421875 \r\nQ 22.796875 -1.421875 15.734375 5.859375 \r\nQ 8.6875 13.140625 8.6875 27.390625 \r\nz\r\n\" id=\"DejaVuSans-85\"/>\r\n     <path d=\"M 8.015625 75.875 \r\nL 15.828125 75.875 \r\nQ 23.140625 64.359375 26.78125 53.3125 \r\nQ 30.421875 42.28125 30.421875 31.390625 \r\nQ 30.421875 20.453125 26.78125 9.375 \r\nQ 23.140625 -1.703125 15.828125 -13.1875 \r\nL 8.015625 -13.1875 \r\nQ 14.5 -2 17.703125 9.0625 \r\nQ 20.90625 20.125 20.90625 31.390625 \r\nQ 20.90625 42.671875 17.703125 53.65625 \r\nQ 14.5 64.65625 8.015625 75.875 \r\nz\r\n\" id=\"DejaVuSans-41\"/>\r\n    </defs>\r\n    <g transform=\"translate(470.890869 147.149197)scale(0.1 -0.1)\">\r\n     <use xlink:href=\"#DejaVuSans-74\"/>\r\n     <use x=\"29.492188\" xlink:href=\"#DejaVuSans-68\"/>\r\n     <use x=\"106.494141\" xlink:href=\"#DejaVuSans-40\"/>\r\n     <use x=\"145.507812\" xlink:href=\"#DejaVuSans-85\"/>\r\n     <use x=\"218.701172\" xlink:href=\"#DejaVuSans-41\"/>\r\n    </g>\r\n   </g>\r\n   <g id=\"text_14\">\r\n    <!-- 3% -->\r\n    <g transform=\"translate(384.193501 187.658742)scale(0.1 -0.1)\">\r\n     <use xlink:href=\"#DejaVuSans-51\"/>\r\n     <use x=\"63.623047\" xlink:href=\"#DejaVuSans-37\"/>\r\n    </g>\r\n   </g>\r\n   <g id=\"text_15\">\r\n    <!-- BSP -->\r\n    <g transform=\"translate(453.806027 119.513905)scale(0.1 -0.1)\">\r\n     <use xlink:href=\"#DejaVuSans-66\"/>\r\n     <use x=\"68.587891\" xlink:href=\"#DejaVuSans-83\"/>\r\n     <use x=\"132.064453\" xlink:href=\"#DejaVuSans-80\"/>\r\n    </g>\r\n   </g>\r\n   <g id=\"text_16\">\r\n    <!-- 2% -->\r\n    <defs>\r\n     <path d=\"M 19.1875 8.296875 \r\nL 53.609375 8.296875 \r\nL 53.609375 0 \r\nL 7.328125 0 \r\nL 7.328125 8.296875 \r\nQ 12.9375 14.109375 22.625 23.890625 \r\nQ 32.328125 33.6875 34.8125 36.53125 \r\nQ 39.546875 41.84375 41.421875 45.53125 \r\nQ 43.3125 49.21875 43.3125 52.78125 \r\nQ 43.3125 58.59375 39.234375 62.25 \r\nQ 35.15625 65.921875 28.609375 65.921875 \r\nQ 23.96875 65.921875 18.8125 64.3125 \r\nQ 13.671875 62.703125 7.8125 59.421875 \r\nL 7.8125 69.390625 \r\nQ 13.765625 71.78125 18.9375 73 \r\nQ 24.125 74.21875 28.421875 74.21875 \r\nQ 39.75 74.21875 46.484375 68.546875 \r\nQ 53.21875 62.890625 53.21875 53.421875 \r\nQ 53.21875 48.921875 51.53125 44.890625 \r\nQ 49.859375 40.875 45.40625 35.40625 \r\nQ 44.1875 33.984375 37.640625 27.21875 \r\nQ 31.109375 20.453125 19.1875 8.296875 \r\nz\r\n\" id=\"DejaVuSans-50\"/>\r\n    </defs>\r\n    <g transform=\"translate(374.430734 171.867147)scale(0.1 -0.1)\">\r\n     <use xlink:href=\"#DejaVuSans-50\"/>\r\n     <use x=\"63.623047\" xlink:href=\"#DejaVuSans-37\"/>\r\n    </g>\r\n   </g>\r\n   <g id=\"text_17\">\r\n    <!-- BJD -->\r\n    <g transform=\"translate(436.816252 99.199574)scale(0.1 -0.1)\">\r\n     <use xlink:href=\"#DejaVuSans-66\"/>\r\n     <use x=\"68.603516\" xlink:href=\"#DejaVuSans-74\"/>\r\n     <use x=\"98.095703\" xlink:href=\"#DejaVuSans-68\"/>\r\n    </g>\r\n   </g>\r\n   <g id=\"text_18\">\r\n    <!-- 2% -->\r\n    <g transform=\"translate(364.722291 160.258958)scale(0.1 -0.1)\">\r\n     <use xlink:href=\"#DejaVuSans-50\"/>\r\n     <use x=\"63.623047\" xlink:href=\"#DejaVuSans-37\"/>\r\n    </g>\r\n   </g>\r\n   <g id=\"text_19\">\r\n    <!-- TRS -->\r\n    <g transform=\"translate(419.229679 82.753987)scale(0.1 -0.1)\">\r\n     <use xlink:href=\"#DejaVuSans-84\"/>\r\n     <use x=\"61.083984\" xlink:href=\"#DejaVuSans-82\"/>\r\n     <use x=\"130.566406\" xlink:href=\"#DejaVuSans-83\"/>\r\n    </g>\r\n   </g>\r\n   <g id=\"text_20\">\r\n    <!-- 2% -->\r\n    <g transform=\"translate(354.672821 150.861479)scale(0.1 -0.1)\">\r\n     <use xlink:href=\"#DejaVuSans-50\"/>\r\n     <use x=\"63.623047\" xlink:href=\"#DejaVuSans-37\"/>\r\n    </g>\r\n   </g>\r\n   <g id=\"text_21\">\r\n    <!-- OTHER -->\r\n    <defs>\r\n     <path d=\"M 39.40625 66.21875 \r\nQ 28.65625 66.21875 22.328125 58.203125 \r\nQ 16.015625 50.203125 16.015625 36.375 \r\nQ 16.015625 22.609375 22.328125 14.59375 \r\nQ 28.65625 6.59375 39.40625 6.59375 \r\nQ 50.140625 6.59375 56.421875 14.59375 \r\nQ 62.703125 22.609375 62.703125 36.375 \r\nQ 62.703125 50.203125 56.421875 58.203125 \r\nQ 50.140625 66.21875 39.40625 66.21875 \r\nz\r\nM 39.40625 74.21875 \r\nQ 54.734375 74.21875 63.90625 63.9375 \r\nQ 73.09375 53.65625 73.09375 36.375 \r\nQ 73.09375 19.140625 63.90625 8.859375 \r\nQ 54.734375 -1.421875 39.40625 -1.421875 \r\nQ 24.03125 -1.421875 14.8125 8.828125 \r\nQ 5.609375 19.09375 5.609375 36.375 \r\nQ 5.609375 53.65625 14.8125 63.9375 \r\nQ 24.03125 74.21875 39.40625 74.21875 \r\nz\r\n\" id=\"DejaVuSans-79\"/>\r\n     <path d=\"M 9.8125 72.90625 \r\nL 55.90625 72.90625 \r\nL 55.90625 64.59375 \r\nL 19.671875 64.59375 \r\nL 19.671875 43.015625 \r\nL 54.390625 43.015625 \r\nL 54.390625 34.71875 \r\nL 19.671875 34.71875 \r\nL 19.671875 8.296875 \r\nL 56.78125 8.296875 \r\nL 56.78125 0 \r\nL 9.8125 0 \r\nz\r\n\" id=\"DejaVuSans-69\"/>\r\n    </defs>\r\n    <g transform=\"translate(352.227889 45.53199)scale(0.1 -0.1)\">\r\n     <use xlink:href=\"#DejaVuSans-79\"/>\r\n     <use x=\"78.710938\" xlink:href=\"#DejaVuSans-84\"/>\r\n     <use x=\"139.794922\" xlink:href=\"#DejaVuSans-72\"/>\r\n     <use x=\"214.990234\" xlink:href=\"#DejaVuSans-69\"/>\r\n     <use x=\"278.173828\" xlink:href=\"#DejaVuSans-82\"/>\r\n    </g>\r\n   </g>\r\n   <g id=\"text_22\">\r\n    <!-- 10% -->\r\n    <g transform=\"translate(313.204833 129.591767)scale(0.1 -0.1)\">\r\n     <use xlink:href=\"#DejaVuSans-49\"/>\r\n     <use x=\"63.623047\" xlink:href=\"#DejaVuSans-48\"/>\r\n     <use x=\"127.246094\" xlink:href=\"#DejaVuSans-37\"/>\r\n    </g>\r\n   </g>\r\n   <g id=\"text_23\">\r\n    <!-- OUT OF 539 SEATS WINNER DISTRIBUTION -->\r\n    <defs>\r\n     <path id=\"DejaVuSans-32\"/>\r\n     <path d=\"M 9.8125 72.90625 \r\nL 51.703125 72.90625 \r\nL 51.703125 64.59375 \r\nL 19.671875 64.59375 \r\nL 19.671875 43.109375 \r\nL 48.578125 43.109375 \r\nL 48.578125 34.8125 \r\nL 19.671875 34.8125 \r\nL 19.671875 0 \r\nL 9.8125 0 \r\nz\r\n\" id=\"DejaVuSans-70\"/>\r\n     <path d=\"M 10.984375 1.515625 \r\nL 10.984375 10.5 \r\nQ 14.703125 8.734375 18.5 7.8125 \r\nQ 22.3125 6.890625 25.984375 6.890625 \r\nQ 35.75 6.890625 40.890625 13.453125 \r\nQ 46.046875 20.015625 46.78125 33.40625 \r\nQ 43.953125 29.203125 39.59375 26.953125 \r\nQ 35.25 24.703125 29.984375 24.703125 \r\nQ 19.046875 24.703125 12.671875 31.3125 \r\nQ 6.296875 37.9375 6.296875 49.421875 \r\nQ 6.296875 60.640625 12.9375 67.421875 \r\nQ 19.578125 74.21875 30.609375 74.21875 \r\nQ 43.265625 74.21875 49.921875 64.515625 \r\nQ 56.59375 54.828125 56.59375 36.375 \r\nQ 56.59375 19.140625 48.40625 8.859375 \r\nQ 40.234375 -1.421875 26.421875 -1.421875 \r\nQ 22.703125 -1.421875 18.890625 -0.6875 \r\nQ 15.09375 0.046875 10.984375 1.515625 \r\nz\r\nM 30.609375 32.421875 \r\nQ 37.25 32.421875 41.125 36.953125 \r\nQ 45.015625 41.5 45.015625 49.421875 \r\nQ 45.015625 57.28125 41.125 61.84375 \r\nQ 37.25 66.40625 30.609375 66.40625 \r\nQ 23.96875 66.40625 20.09375 61.84375 \r\nQ 16.21875 57.28125 16.21875 49.421875 \r\nQ 16.21875 41.5 20.09375 36.953125 \r\nQ 23.96875 32.421875 30.609375 32.421875 \r\nz\r\n\" id=\"DejaVuSans-57\"/>\r\n     <path d=\"M 3.328125 72.90625 \r\nL 13.28125 72.90625 \r\nL 28.609375 11.28125 \r\nL 43.890625 72.90625 \r\nL 54.984375 72.90625 \r\nL 70.3125 11.28125 \r\nL 85.59375 72.90625 \r\nL 95.609375 72.90625 \r\nL 77.296875 0 \r\nL 64.890625 0 \r\nL 49.515625 63.28125 \r\nL 33.984375 0 \r\nL 21.578125 0 \r\nz\r\n\" id=\"DejaVuSans-87\"/>\r\n    </defs>\r\n    <g transform=\"translate(157.490625 16.318125)scale(0.12 -0.12)\">\r\n     <use xlink:href=\"#DejaVuSans-79\"/>\r\n     <use x=\"78.710938\" xlink:href=\"#DejaVuSans-85\"/>\r\n     <use x=\"151.904297\" xlink:href=\"#DejaVuSans-84\"/>\r\n     <use x=\"212.988281\" xlink:href=\"#DejaVuSans-32\"/>\r\n     <use x=\"244.775391\" xlink:href=\"#DejaVuSans-79\"/>\r\n     <use x=\"323.486328\" xlink:href=\"#DejaVuSans-70\"/>\r\n     <use x=\"381.005859\" xlink:href=\"#DejaVuSans-32\"/>\r\n     <use x=\"412.792969\" xlink:href=\"#DejaVuSans-53\"/>\r\n     <use x=\"476.416016\" xlink:href=\"#DejaVuSans-51\"/>\r\n     <use x=\"540.039062\" xlink:href=\"#DejaVuSans-57\"/>\r\n     <use x=\"603.662109\" xlink:href=\"#DejaVuSans-32\"/>\r\n     <use x=\"635.449219\" xlink:href=\"#DejaVuSans-83\"/>\r\n     <use x=\"698.925781\" xlink:href=\"#DejaVuSans-69\"/>\r\n     <use x=\"762.109375\" xlink:href=\"#DejaVuSans-65\"/>\r\n     <use x=\"830.408203\" xlink:href=\"#DejaVuSans-84\"/>\r\n     <use x=\"891.492188\" xlink:href=\"#DejaVuSans-83\"/>\r\n     <use x=\"954.96875\" xlink:href=\"#DejaVuSans-32\"/>\r\n     <use x=\"986.755859\" xlink:href=\"#DejaVuSans-87\"/>\r\n     <use x=\"1085.632812\" xlink:href=\"#DejaVuSans-73\"/>\r\n     <use x=\"1115.125\" xlink:href=\"#DejaVuSans-78\"/>\r\n     <use x=\"1189.929688\" xlink:href=\"#DejaVuSans-78\"/>\r\n     <use x=\"1264.734375\" xlink:href=\"#DejaVuSans-69\"/>\r\n     <use x=\"1327.917969\" xlink:href=\"#DejaVuSans-82\"/>\r\n     <use x=\"1397.400391\" xlink:href=\"#DejaVuSans-32\"/>\r\n     <use x=\"1429.1875\" xlink:href=\"#DejaVuSans-68\"/>\r\n     <use x=\"1506.189453\" xlink:href=\"#DejaVuSans-73\"/>\r\n     <use x=\"1535.681641\" xlink:href=\"#DejaVuSans-83\"/>\r\n     <use x=\"1599.158203\" xlink:href=\"#DejaVuSans-84\"/>\r\n     <use x=\"1660.242188\" xlink:href=\"#DejaVuSans-82\"/>\r\n     <use x=\"1729.724609\" xlink:href=\"#DejaVuSans-73\"/>\r\n     <use x=\"1759.216797\" xlink:href=\"#DejaVuSans-66\"/>\r\n     <use x=\"1827.820312\" xlink:href=\"#DejaVuSans-85\"/>\r\n     <use x=\"1901.013672\" xlink:href=\"#DejaVuSans-84\"/>\r\n     <use x=\"1962.097656\" xlink:href=\"#DejaVuSans-73\"/>\r\n     <use x=\"1991.589844\" xlink:href=\"#DejaVuSans-79\"/>\r\n     <use x=\"2070.300781\" xlink:href=\"#DejaVuSans-78\"/>\r\n    </g>\r\n   </g>\r\n  </g>\r\n </g>\r\n <defs>\r\n  <clipPath id=\"p508be8f067\">\r\n   <rect height=\"434.88\" width=\"558\" x=\"7.2\" y=\"22.318125\"/>\r\n  </clipPath>\r\n </defs>\r\n</svg>\r\n",
      "image/png": "[encoded data removed]"
     },
     "metadata": {}
    }
   ],
   "source": [
    "plt.rcParams['figure.figsize'] = (10,8)\n",
    "labels = 'BJP','INC','DMK','YSRCP','AITC','SHS','JD(U)','BSP','BJD','TRS','OTHER'\n",
    "sizes = [300, 52, 23, 22, 22, 18, 16, 11, 11, 9,55]\n",
    " \n",
    "colors=('orange', 'green', 'deeppink', 'blue', 'red', 'yellow', 'crimson', 'brown','darkorange','pink','gray')\n",
    "\n",
    "my_circle = plt.Circle((0, 0), 0.7, color='white')\n",
    "\n",
    "d = plt.pie(sizes, labels=labels, autopct='%0.0f%%',\n",
    "            startangle=90,colors=colors, labeldistance=1.05)\n",
    "plt.axis('equal')\n",
    "plt.gca().add_artist(my_circle)\n",
    "plt.title('OUT OF 539 SEATS WINNER DISTRIBUTION')            \n",
    "plt.show()"
   ]
  },
  {
   "cell_type": "markdown",
   "metadata": {},
   "source": [
    "## Number of constituencies in each state"
   ]
  },
  {
   "cell_type": "code",
   "execution_count": 37,
   "metadata": {},
   "outputs": [
    {
     "output_type": "execute_result",
     "data": {
      "text/plain": "<matplotlib.axes._subplots.AxesSubplot at 0x1e5bd07a908>"
     },
     "metadata": {},
     "execution_count": 37
    },
    {
     "output_type": "display_data",
     "data": {
      "text/plain": "<Figure size 1080x720 with 1 Axes>",
      "image/svg+xml": "<?xml version=\"1.0\" encoding=\"utf-8\" standalone=\"no\"?>\r\n<!DOCTYPE svg PUBLIC \"-//W3C//DTD SVG 1.1//EN\"\r\n  \"http://www.w3.org/Graphics/SVG/1.1/DTD/svg11.dtd\">\r\n<!-- Created with matplotlib (https://matplotlib.org/) -->\r\n<svg height=\"588.35625pt\" version=\"1.1\" viewBox=\"0 0 1010.696875 588.35625\" width=\"1010.696875pt\" xmlns=\"http://www.w3.org/2000/svg\" xmlns:xlink=\"http://www.w3.org/1999/xlink\">\r\n <defs>\r\n  <style type=\"text/css\">\r\n*{stroke-linecap:butt;stroke-linejoin:round;}\r\n  </style>\r\n </defs>\r\n <g id=\"figure_1\">\r\n  <g id=\"patch_1\">\r\n   <path d=\"M 0 588.35625 \r\nL 1010.696875 588.35625 \r\nL 1010.696875 0 \r\nL 0 0 \r\nz\r\n\" style=\"fill:none;\"/>\r\n  </g>\r\n  <g id=\"axes_1\">\r\n   <g id=\"patch_2\">\r\n    <path d=\"M 166.496875 550.8 \r\nL 1003.496875 550.8 \r\nL 1003.496875 7.2 \r\nL 166.496875 7.2 \r\nz\r\n\" style=\"fill:#ffffff;\"/>\r\n   </g>\r\n   <g id=\"patch_3\">\r\n    <path clip-path=\"url(#pac52837bf0)\" d=\"M 166.496875 8.71 \r\nL 176.461161 8.71 \r\nL 176.461161 20.79 \r\nL 166.496875 20.79 \r\nz\r\n\" style=\"fill:#e025db;\"/>\r\n   </g>\r\n   <g id=\"patch_4\">\r\n    <path clip-path=\"url(#pac52837bf0)\" d=\"M 166.496875 23.81 \r\nL 415.604018 23.81 \r\nL 415.604018 35.89 \r\nL 166.496875 35.89 \r\nz\r\n\" style=\"fill:#e12bd7;\"/>\r\n   </g>\r\n   <g id=\"patch_5\">\r\n    <path clip-path=\"url(#pac52837bf0)\" d=\"M 166.496875 38.91 \r\nL 186.425446 38.91 \r\nL 186.425446 50.99 \r\nL 166.496875 50.99 \r\nz\r\n\" style=\"fill:#e231d3;\"/>\r\n   </g>\r\n   <g id=\"patch_6\">\r\n    <path clip-path=\"url(#pac52837bf0)\" d=\"M 166.496875 54.01 \r\nL 305.996875 54.01 \r\nL 305.996875 66.09 \r\nL 166.496875 66.09 \r\nz\r\n\" style=\"fill:#e238ce;\"/>\r\n   </g>\r\n   <g id=\"patch_7\">\r\n    <path clip-path=\"url(#pac52837bf0)\" d=\"M 166.496875 69.11 \r\nL 565.068304 69.11 \r\nL 565.068304 81.19 \r\nL 166.496875 81.19 \r\nz\r\n\" style=\"fill:#e33eca;\"/>\r\n   </g>\r\n   <g id=\"patch_8\">\r\n    <path clip-path=\"url(#pac52837bf0)\" d=\"M 166.496875 84.21 \r\nL 176.461161 84.21 \r\nL 176.461161 96.29 \r\nL 166.496875 96.29 \r\nz\r\n\" style=\"fill:#e444c5;\"/>\r\n   </g>\r\n   <g id=\"patch_9\">\r\n    <path clip-path=\"url(#pac52837bf0)\" d=\"M 166.496875 99.31 \r\nL 276.104018 99.31 \r\nL 276.104018 111.39 \r\nL 166.496875 111.39 \r\nz\r\n\" style=\"fill:#e54ac1;\"/>\r\n   </g>\r\n   <g id=\"patch_10\">\r\n    <path clip-path=\"url(#pac52837bf0)\" d=\"M 166.496875 114.41 \r\nL 176.461161 114.41 \r\nL 176.461161 126.49 \r\nL 166.496875 126.49 \r\nz\r\n\" style=\"fill:#e650bd;\"/>\r\n   </g>\r\n   <g id=\"patch_11\">\r\n    <path clip-path=\"url(#pac52837bf0)\" d=\"M 166.496875 129.51 \r\nL 176.461161 129.51 \r\nL 176.461161 141.59 \r\nL 166.496875 141.59 \r\nz\r\n\" style=\"fill:#e756b8;\"/>\r\n   </g>\r\n   <g id=\"patch_12\">\r\n    <path clip-path=\"url(#pac52837bf0)\" d=\"M 166.496875 144.61 \r\nL 186.425446 144.61 \r\nL 186.425446 156.69 \r\nL 166.496875 156.69 \r\nz\r\n\" style=\"fill:#e85cb4;\"/>\r\n   </g>\r\n   <g id=\"patch_13\">\r\n    <path clip-path=\"url(#pac52837bf0)\" d=\"M 166.496875 159.71 \r\nL 425.568304 159.71 \r\nL 425.568304 171.79 \r\nL 166.496875 171.79 \r\nz\r\n\" style=\"fill:#e962b0;\"/>\r\n   </g>\r\n   <g id=\"patch_14\">\r\n    <path clip-path=\"url(#pac52837bf0)\" d=\"M 166.496875 174.81 \r\nL 266.139732 174.81 \r\nL 266.139732 186.89 \r\nL 166.496875 186.89 \r\nz\r\n\" style=\"fill:#e969ab;\"/>\r\n   </g>\r\n   <g id=\"patch_15\">\r\n    <path clip-path=\"url(#pac52837bf0)\" d=\"M 166.496875 189.91 \r\nL 206.354018 189.91 \r\nL 206.354018 201.99 \r\nL 166.496875 201.99 \r\nz\r\n\" style=\"fill:#ea6ea7;\"/>\r\n   </g>\r\n   <g id=\"patch_16\">\r\n    <path clip-path=\"url(#pac52837bf0)\" d=\"M 166.496875 205.01 \r\nL 226.282589 205.01 \r\nL 226.282589 217.09 \r\nL 166.496875 217.09 \r\nz\r\n\" style=\"fill:#eb74a3;\"/>\r\n   </g>\r\n   <g id=\"patch_17\">\r\n    <path clip-path=\"url(#pac52837bf0)\" d=\"M 166.496875 220.11 \r\nL 305.996875 220.11 \r\nL 305.996875 232.19 \r\nL 166.496875 232.19 \r\nz\r\n\" style=\"fill:#ec7a9f;\"/>\r\n   </g>\r\n   <g id=\"patch_18\">\r\n    <path clip-path=\"url(#pac52837bf0)\" d=\"M 166.496875 235.21 \r\nL 445.496875 235.21 \r\nL 445.496875 247.29 \r\nL 166.496875 247.29 \r\nz\r\n\" style=\"fill:#ed809a;\"/>\r\n   </g>\r\n   <g id=\"patch_19\">\r\n    <path clip-path=\"url(#pac52837bf0)\" d=\"M 166.496875 250.31 \r\nL 365.782589 250.31 \r\nL 365.782589 262.39 \r\nL 166.496875 262.39 \r\nz\r\n\" style=\"fill:#ee8696;\"/>\r\n   </g>\r\n   <g id=\"patch_20\">\r\n    <path clip-path=\"url(#pac52837bf0)\" d=\"M 166.496875 265.41 \r\nL 176.461161 265.41 \r\nL 176.461161 277.49 \r\nL 166.496875 277.49 \r\nz\r\n\" style=\"fill:#ef8c92;\"/>\r\n   </g>\r\n   <g id=\"patch_21\">\r\n    <path clip-path=\"url(#pac52837bf0)\" d=\"M 166.496875 280.51 \r\nL 455.461161 280.51 \r\nL 455.461161 292.59 \r\nL 166.496875 292.59 \r\nz\r\n\" style=\"fill:#ef928c;\"/>\r\n   </g>\r\n   <g id=\"patch_22\">\r\n    <path clip-path=\"url(#pac52837bf0)\" d=\"M 166.496875 295.61 \r\nL 644.782589 295.61 \r\nL 644.782589 307.69 \r\nL 166.496875 307.69 \r\nz\r\n\" style=\"fill:#ee9686;\"/>\r\n   </g>\r\n   <g id=\"patch_23\">\r\n    <path clip-path=\"url(#pac52837bf0)\" d=\"M 166.496875 310.71 \r\nL 186.425446 310.71 \r\nL 186.425446 322.79 \r\nL 166.496875 322.79 \r\nz\r\n\" style=\"fill:#ed9a80;\"/>\r\n   </g>\r\n   <g id=\"patch_24\">\r\n    <path clip-path=\"url(#pac52837bf0)\" d=\"M 166.496875 325.81 \r\nL 186.425446 325.81 \r\nL 186.425446 337.89 \r\nL 166.496875 337.89 \r\nz\r\n\" style=\"fill:#ec9f7a;\"/>\r\n   </g>\r\n   <g id=\"patch_25\">\r\n    <path clip-path=\"url(#pac52837bf0)\" d=\"M 166.496875 340.91 \r\nL 176.461161 340.91 \r\nL 176.461161 352.99 \r\nL 166.496875 352.99 \r\nz\r\n\" style=\"fill:#eba374;\"/>\r\n   </g>\r\n   <g id=\"patch_26\">\r\n    <path clip-path=\"url(#pac52837bf0)\" d=\"M 166.496875 356.01 \r\nL 236.246875 356.01 \r\nL 236.246875 368.09 \r\nL 166.496875 368.09 \r\nz\r\n\" style=\"fill:#eaa86e;\"/>\r\n   </g>\r\n   <g id=\"patch_27\">\r\n    <path clip-path=\"url(#pac52837bf0)\" d=\"M 166.496875 371.11 \r\nL 176.461161 371.11 \r\nL 176.461161 383.19 \r\nL 166.496875 383.19 \r\nz\r\n\" style=\"fill:#e9ab69;\"/>\r\n   </g>\r\n   <g id=\"patch_28\">\r\n    <path clip-path=\"url(#pac52837bf0)\" d=\"M 166.496875 386.21 \r\nL 375.746875 386.21 \r\nL 375.746875 398.29 \r\nL 166.496875 398.29 \r\nz\r\n\" style=\"fill:#e9b062;\"/>\r\n   </g>\r\n   <g id=\"patch_29\">\r\n    <path clip-path=\"url(#pac52837bf0)\" d=\"M 166.496875 401.31 \r\nL 176.461161 401.31 \r\nL 176.461161 413.39 \r\nL 166.496875 413.39 \r\nz\r\n\" style=\"fill:#e8b45c;\"/>\r\n   </g>\r\n   <g id=\"patch_30\">\r\n    <path clip-path=\"url(#pac52837bf0)\" d=\"M 166.496875 416.41 \r\nL 296.032589 416.41 \r\nL 296.032589 428.49 \r\nL 166.496875 428.49 \r\nz\r\n\" style=\"fill:#e7b856;\"/>\r\n   </g>\r\n   <g id=\"patch_31\">\r\n    <path clip-path=\"url(#pac52837bf0)\" d=\"M 166.496875 431.51 \r\nL 415.604018 431.51 \r\nL 415.604018 443.59 \r\nL 166.496875 443.59 \r\nz\r\n\" style=\"fill:#e6bd50;\"/>\r\n   </g>\r\n   <g id=\"patch_32\">\r\n    <path clip-path=\"url(#pac52837bf0)\" d=\"M 166.496875 446.61 \r\nL 176.461161 446.61 \r\nL 176.461161 458.69 \r\nL 166.496875 458.69 \r\nz\r\n\" style=\"fill:#e5c14a;\"/>\r\n   </g>\r\n   <g id=\"patch_33\">\r\n    <path clip-path=\"url(#pac52837bf0)\" d=\"M 166.496875 461.71 \r\nL 545.139732 461.71 \r\nL 545.139732 473.79 \r\nL 166.496875 473.79 \r\nz\r\n\" style=\"fill:#e4c544;\"/>\r\n   </g>\r\n   <g id=\"patch_34\">\r\n    <path clip-path=\"url(#pac52837bf0)\" d=\"M 166.496875 476.81 \r\nL 335.889732 476.81 \r\nL 335.889732 488.89 \r\nL 166.496875 488.89 \r\nz\r\n\" style=\"fill:#e3ca3e;\"/>\r\n   </g>\r\n   <g id=\"patch_35\">\r\n    <path clip-path=\"url(#pac52837bf0)\" d=\"M 166.496875 491.91 \r\nL 186.425446 491.91 \r\nL 186.425446 503.99 \r\nL 166.496875 503.99 \r\nz\r\n\" style=\"fill:#e2ce38;\"/>\r\n   </g>\r\n   <g id=\"patch_36\">\r\n    <path clip-path=\"url(#pac52837bf0)\" d=\"M 166.496875 507.01 \r\nL 963.639732 507.01 \r\nL 963.639732 519.09 \r\nL 166.496875 519.09 \r\nz\r\n\" style=\"fill:#e2d331;\"/>\r\n   </g>\r\n   <g id=\"patch_37\">\r\n    <path clip-path=\"url(#pac52837bf0)\" d=\"M 166.496875 522.11 \r\nL 216.318304 522.11 \r\nL 216.318304 534.19 \r\nL 166.496875 534.19 \r\nz\r\n\" style=\"fill:#e1d72b;\"/>\r\n   </g>\r\n   <g id=\"patch_38\">\r\n    <path clip-path=\"url(#pac52837bf0)\" d=\"M 166.496875 537.21 \r\nL 584.996875 537.21 \r\nL 584.996875 549.29 \r\nL 166.496875 549.29 \r\nz\r\n\" style=\"fill:#e0db25;\"/>\r\n   </g>\r\n   <g id=\"matplotlib.axis_1\">\r\n    <g id=\"xtick_1\">\r\n     <g id=\"line2d_1\">\r\n      <defs>\r\n       <path d=\"M 0 0 \r\nL 0 3.5 \r\n\" id=\"mdcd06acfed\" style=\"stroke:#000000;stroke-width:0.8;\"/>\r\n      </defs>\r\n      <g>\r\n       <use style=\"stroke:#000000;stroke-width:0.8;\" x=\"166.496875\" xlink:href=\"#mdcd06acfed\" y=\"550.8\"/>\r\n      </g>\r\n     </g>\r\n     <g id=\"text_1\">\r\n      <!-- 0 -->\r\n      <defs>\r\n       <path d=\"M 31.78125 66.40625 \r\nQ 24.171875 66.40625 20.328125 58.90625 \r\nQ 16.5 51.421875 16.5 36.375 \r\nQ 16.5 21.390625 20.328125 13.890625 \r\nQ 24.171875 6.390625 31.78125 6.390625 \r\nQ 39.453125 6.390625 43.28125 13.890625 \r\nQ 47.125 21.390625 47.125 36.375 \r\nQ 47.125 51.421875 43.28125 58.90625 \r\nQ 39.453125 66.40625 31.78125 66.40625 \r\nz\r\nM 31.78125 74.21875 \r\nQ 44.046875 74.21875 50.515625 64.515625 \r\nQ 56.984375 54.828125 56.984375 36.375 \r\nQ 56.984375 17.96875 50.515625 8.265625 \r\nQ 44.046875 -1.421875 31.78125 -1.421875 \r\nQ 19.53125 -1.421875 13.0625 8.265625 \r\nQ 6.59375 17.96875 6.59375 36.375 \r\nQ 6.59375 54.828125 13.0625 64.515625 \r\nQ 19.53125 74.21875 31.78125 74.21875 \r\nz\r\n\" id=\"DejaVuSans-48\"/>\r\n      </defs>\r\n      <g transform=\"translate(163.315625 565.398438)scale(0.1 -0.1)\">\r\n       <use xlink:href=\"#DejaVuSans-48\"/>\r\n      </g>\r\n     </g>\r\n    </g>\r\n    <g id=\"xtick_2\">\r\n     <g id=\"line2d_2\">\r\n      <g>\r\n       <use style=\"stroke:#000000;stroke-width:0.8;\" x=\"266.139732\" xlink:href=\"#mdcd06acfed\" y=\"550.8\"/>\r\n      </g>\r\n     </g>\r\n     <g id=\"text_2\">\r\n      <!-- 10 -->\r\n      <defs>\r\n       <path d=\"M 12.40625 8.296875 \r\nL 28.515625 8.296875 \r\nL 28.515625 63.921875 \r\nL 10.984375 60.40625 \r\nL 10.984375 69.390625 \r\nL 28.421875 72.90625 \r\nL 38.28125 72.90625 \r\nL 38.28125 8.296875 \r\nL 54.390625 8.296875 \r\nL 54.390625 0 \r\nL 12.40625 0 \r\nz\r\n\" id=\"DejaVuSans-49\"/>\r\n      </defs>\r\n      <g transform=\"translate(259.777232 565.398438)scale(0.1 -0.1)\">\r\n       <use xlink:href=\"#DejaVuSans-49\"/>\r\n       <use x=\"63.623047\" xlink:href=\"#DejaVuSans-48\"/>\r\n      </g>\r\n     </g>\r\n    </g>\r\n    <g id=\"xtick_3\">\r\n     <g id=\"line2d_3\">\r\n      <g>\r\n       <use style=\"stroke:#000000;stroke-width:0.8;\" x=\"365.782589\" xlink:href=\"#mdcd06acfed\" y=\"550.8\"/>\r\n      </g>\r\n     </g>\r\n     <g id=\"text_3\">\r\n      <!-- 20 -->\r\n      <defs>\r\n       <path d=\"M 19.1875 8.296875 \r\nL 53.609375 8.296875 \r\nL 53.609375 0 \r\nL 7.328125 0 \r\nL 7.328125 8.296875 \r\nQ 12.9375 14.109375 22.625 23.890625 \r\nQ 32.328125 33.6875 34.8125 36.53125 \r\nQ 39.546875 41.84375 41.421875 45.53125 \r\nQ 43.3125 49.21875 43.3125 52.78125 \r\nQ 43.3125 58.59375 39.234375 62.25 \r\nQ 35.15625 65.921875 28.609375 65.921875 \r\nQ 23.96875 65.921875 18.8125 64.3125 \r\nQ 13.671875 62.703125 7.8125 59.421875 \r\nL 7.8125 69.390625 \r\nQ 13.765625 71.78125 18.9375 73 \r\nQ 24.125 74.21875 28.421875 74.21875 \r\nQ 39.75 74.21875 46.484375 68.546875 \r\nQ 53.21875 62.890625 53.21875 53.421875 \r\nQ 53.21875 48.921875 51.53125 44.890625 \r\nQ 49.859375 40.875 45.40625 35.40625 \r\nQ 44.1875 33.984375 37.640625 27.21875 \r\nQ 31.109375 20.453125 19.1875 8.296875 \r\nz\r\n\" id=\"DejaVuSans-50\"/>\r\n      </defs>\r\n      <g transform=\"translate(359.420089 565.398438)scale(0.1 -0.1)\">\r\n       <use xlink:href=\"#DejaVuSans-50\"/>\r\n       <use x=\"63.623047\" xlink:href=\"#DejaVuSans-48\"/>\r\n      </g>\r\n     </g>\r\n    </g>\r\n    <g id=\"xtick_4\">\r\n     <g id=\"line2d_4\">\r\n      <g>\r\n       <use style=\"stroke:#000000;stroke-width:0.8;\" x=\"465.425446\" xlink:href=\"#mdcd06acfed\" y=\"550.8\"/>\r\n      </g>\r\n     </g>\r\n     <g id=\"text_4\">\r\n      <!-- 30 -->\r\n      <defs>\r\n       <path d=\"M 40.578125 39.3125 \r\nQ 47.65625 37.796875 51.625 33 \r\nQ 55.609375 28.21875 55.609375 21.1875 \r\nQ 55.609375 10.40625 48.1875 4.484375 \r\nQ 40.765625 -1.421875 27.09375 -1.421875 \r\nQ 22.515625 -1.421875 17.65625 -0.515625 \r\nQ 12.796875 0.390625 7.625 2.203125 \r\nL 7.625 11.71875 \r\nQ 11.71875 9.328125 16.59375 8.109375 \r\nQ 21.484375 6.890625 26.8125 6.890625 \r\nQ 36.078125 6.890625 40.9375 10.546875 \r\nQ 45.796875 14.203125 45.796875 21.1875 \r\nQ 45.796875 27.640625 41.28125 31.265625 \r\nQ 36.765625 34.90625 28.71875 34.90625 \r\nL 20.21875 34.90625 \r\nL 20.21875 43.015625 \r\nL 29.109375 43.015625 \r\nQ 36.375 43.015625 40.234375 45.921875 \r\nQ 44.09375 48.828125 44.09375 54.296875 \r\nQ 44.09375 59.90625 40.109375 62.90625 \r\nQ 36.140625 65.921875 28.71875 65.921875 \r\nQ 24.65625 65.921875 20.015625 65.03125 \r\nQ 15.375 64.15625 9.8125 62.3125 \r\nL 9.8125 71.09375 \r\nQ 15.4375 72.65625 20.34375 73.4375 \r\nQ 25.25 74.21875 29.59375 74.21875 \r\nQ 40.828125 74.21875 47.359375 69.109375 \r\nQ 53.90625 64.015625 53.90625 55.328125 \r\nQ 53.90625 49.265625 50.4375 45.09375 \r\nQ 46.96875 40.921875 40.578125 39.3125 \r\nz\r\n\" id=\"DejaVuSans-51\"/>\r\n      </defs>\r\n      <g transform=\"translate(459.062946 565.398438)scale(0.1 -0.1)\">\r\n       <use xlink:href=\"#DejaVuSans-51\"/>\r\n       <use x=\"63.623047\" xlink:href=\"#DejaVuSans-48\"/>\r\n      </g>\r\n     </g>\r\n    </g>\r\n    <g id=\"xtick_5\">\r\n     <g id=\"line2d_5\">\r\n      <g>\r\n       <use style=\"stroke:#000000;stroke-width:0.8;\" x=\"565.068304\" xlink:href=\"#mdcd06acfed\" y=\"550.8\"/>\r\n      </g>\r\n     </g>\r\n     <g id=\"text_5\">\r\n      <!-- 40 -->\r\n      <defs>\r\n       <path d=\"M 37.796875 64.3125 \r\nL 12.890625 25.390625 \r\nL 37.796875 25.390625 \r\nz\r\nM 35.203125 72.90625 \r\nL 47.609375 72.90625 \r\nL 47.609375 25.390625 \r\nL 58.015625 25.390625 \r\nL 58.015625 17.1875 \r\nL 47.609375 17.1875 \r\nL 47.609375 0 \r\nL 37.796875 0 \r\nL 37.796875 17.1875 \r\nL 4.890625 17.1875 \r\nL 4.890625 26.703125 \r\nz\r\n\" id=\"DejaVuSans-52\"/>\r\n      </defs>\r\n      <g transform=\"translate(558.705804 565.398438)scale(0.1 -0.1)\">\r\n       <use xlink:href=\"#DejaVuSans-52\"/>\r\n       <use x=\"63.623047\" xlink:href=\"#DejaVuSans-48\"/>\r\n      </g>\r\n     </g>\r\n    </g>\r\n    <g id=\"xtick_6\">\r\n     <g id=\"line2d_6\">\r\n      <g>\r\n       <use style=\"stroke:#000000;stroke-width:0.8;\" x=\"664.711161\" xlink:href=\"#mdcd06acfed\" y=\"550.8\"/>\r\n      </g>\r\n     </g>\r\n     <g id=\"text_6\">\r\n      <!-- 50 -->\r\n      <defs>\r\n       <path d=\"M 10.796875 72.90625 \r\nL 49.515625 72.90625 \r\nL 49.515625 64.59375 \r\nL 19.828125 64.59375 \r\nL 19.828125 46.734375 \r\nQ 21.96875 47.46875 24.109375 47.828125 \r\nQ 26.265625 48.1875 28.421875 48.1875 \r\nQ 40.625 48.1875 47.75 41.5 \r\nQ 54.890625 34.8125 54.890625 23.390625 \r\nQ 54.890625 11.625 47.5625 5.09375 \r\nQ 40.234375 -1.421875 26.90625 -1.421875 \r\nQ 22.3125 -1.421875 17.546875 -0.640625 \r\nQ 12.796875 0.140625 7.71875 1.703125 \r\nL 7.71875 11.625 \r\nQ 12.109375 9.234375 16.796875 8.0625 \r\nQ 21.484375 6.890625 26.703125 6.890625 \r\nQ 35.15625 6.890625 40.078125 11.328125 \r\nQ 45.015625 15.765625 45.015625 23.390625 \r\nQ 45.015625 31 40.078125 35.4375 \r\nQ 35.15625 39.890625 26.703125 39.890625 \r\nQ 22.75 39.890625 18.8125 39.015625 \r\nQ 14.890625 38.140625 10.796875 36.28125 \r\nz\r\n\" id=\"DejaVuSans-53\"/>\r\n      </defs>\r\n      <g transform=\"translate(658.348661 565.398438)scale(0.1 -0.1)\">\r\n       <use xlink:href=\"#DejaVuSans-53\"/>\r\n       <use x=\"63.623047\" xlink:href=\"#DejaVuSans-48\"/>\r\n      </g>\r\n     </g>\r\n    </g>\r\n    <g id=\"xtick_7\">\r\n     <g id=\"line2d_7\">\r\n      <g>\r\n       <use style=\"stroke:#000000;stroke-width:0.8;\" x=\"764.354018\" xlink:href=\"#mdcd06acfed\" y=\"550.8\"/>\r\n      </g>\r\n     </g>\r\n     <g id=\"text_7\">\r\n      <!-- 60 -->\r\n      <defs>\r\n       <path d=\"M 33.015625 40.375 \r\nQ 26.375 40.375 22.484375 35.828125 \r\nQ 18.609375 31.296875 18.609375 23.390625 \r\nQ 18.609375 15.53125 22.484375 10.953125 \r\nQ 26.375 6.390625 33.015625 6.390625 \r\nQ 39.65625 6.390625 43.53125 10.953125 \r\nQ 47.40625 15.53125 47.40625 23.390625 \r\nQ 47.40625 31.296875 43.53125 35.828125 \r\nQ 39.65625 40.375 33.015625 40.375 \r\nz\r\nM 52.59375 71.296875 \r\nL 52.59375 62.3125 \r\nQ 48.875 64.0625 45.09375 64.984375 \r\nQ 41.3125 65.921875 37.59375 65.921875 \r\nQ 27.828125 65.921875 22.671875 59.328125 \r\nQ 17.53125 52.734375 16.796875 39.40625 \r\nQ 19.671875 43.65625 24.015625 45.921875 \r\nQ 28.375 48.1875 33.59375 48.1875 \r\nQ 44.578125 48.1875 50.953125 41.515625 \r\nQ 57.328125 34.859375 57.328125 23.390625 \r\nQ 57.328125 12.15625 50.6875 5.359375 \r\nQ 44.046875 -1.421875 33.015625 -1.421875 \r\nQ 20.359375 -1.421875 13.671875 8.265625 \r\nQ 6.984375 17.96875 6.984375 36.375 \r\nQ 6.984375 53.65625 15.1875 63.9375 \r\nQ 23.390625 74.21875 37.203125 74.21875 \r\nQ 40.921875 74.21875 44.703125 73.484375 \r\nQ 48.484375 72.75 52.59375 71.296875 \r\nz\r\n\" id=\"DejaVuSans-54\"/>\r\n      </defs>\r\n      <g transform=\"translate(757.991518 565.398438)scale(0.1 -0.1)\">\r\n       <use xlink:href=\"#DejaVuSans-54\"/>\r\n       <use x=\"63.623047\" xlink:href=\"#DejaVuSans-48\"/>\r\n      </g>\r\n     </g>\r\n    </g>\r\n    <g id=\"xtick_8\">\r\n     <g id=\"line2d_8\">\r\n      <g>\r\n       <use style=\"stroke:#000000;stroke-width:0.8;\" x=\"863.996875\" xlink:href=\"#mdcd06acfed\" y=\"550.8\"/>\r\n      </g>\r\n     </g>\r\n     <g id=\"text_8\">\r\n      <!-- 70 -->\r\n      <defs>\r\n       <path d=\"M 8.203125 72.90625 \r\nL 55.078125 72.90625 \r\nL 55.078125 68.703125 \r\nL 28.609375 0 \r\nL 18.3125 0 \r\nL 43.21875 64.59375 \r\nL 8.203125 64.59375 \r\nz\r\n\" id=\"DejaVuSans-55\"/>\r\n      </defs>\r\n      <g transform=\"translate(857.634375 565.398438)scale(0.1 -0.1)\">\r\n       <use xlink:href=\"#DejaVuSans-55\"/>\r\n       <use x=\"63.623047\" xlink:href=\"#DejaVuSans-48\"/>\r\n      </g>\r\n     </g>\r\n    </g>\r\n    <g id=\"xtick_9\">\r\n     <g id=\"line2d_9\">\r\n      <g>\r\n       <use style=\"stroke:#000000;stroke-width:0.8;\" x=\"963.639732\" xlink:href=\"#mdcd06acfed\" y=\"550.8\"/>\r\n      </g>\r\n     </g>\r\n     <g id=\"text_9\">\r\n      <!-- 80 -->\r\n      <defs>\r\n       <path d=\"M 31.78125 34.625 \r\nQ 24.75 34.625 20.71875 30.859375 \r\nQ 16.703125 27.09375 16.703125 20.515625 \r\nQ 16.703125 13.921875 20.71875 10.15625 \r\nQ 24.75 6.390625 31.78125 6.390625 \r\nQ 38.8125 6.390625 42.859375 10.171875 \r\nQ 46.921875 13.96875 46.921875 20.515625 \r\nQ 46.921875 27.09375 42.890625 30.859375 \r\nQ 38.875 34.625 31.78125 34.625 \r\nz\r\nM 21.921875 38.8125 \r\nQ 15.578125 40.375 12.03125 44.71875 \r\nQ 8.5 49.078125 8.5 55.328125 \r\nQ 8.5 64.0625 14.71875 69.140625 \r\nQ 20.953125 74.21875 31.78125 74.21875 \r\nQ 42.671875 74.21875 48.875 69.140625 \r\nQ 55.078125 64.0625 55.078125 55.328125 \r\nQ 55.078125 49.078125 51.53125 44.71875 \r\nQ 48 40.375 41.703125 38.8125 \r\nQ 48.828125 37.15625 52.796875 32.3125 \r\nQ 56.78125 27.484375 56.78125 20.515625 \r\nQ 56.78125 9.90625 50.3125 4.234375 \r\nQ 43.84375 -1.421875 31.78125 -1.421875 \r\nQ 19.734375 -1.421875 13.25 4.234375 \r\nQ 6.78125 9.90625 6.78125 20.515625 \r\nQ 6.78125 27.484375 10.78125 32.3125 \r\nQ 14.796875 37.15625 21.921875 38.8125 \r\nz\r\nM 18.3125 54.390625 \r\nQ 18.3125 48.734375 21.84375 45.5625 \r\nQ 25.390625 42.390625 31.78125 42.390625 \r\nQ 38.140625 42.390625 41.71875 45.5625 \r\nQ 45.3125 48.734375 45.3125 54.390625 \r\nQ 45.3125 60.0625 41.71875 63.234375 \r\nQ 38.140625 66.40625 31.78125 66.40625 \r\nQ 25.390625 66.40625 21.84375 63.234375 \r\nQ 18.3125 60.0625 18.3125 54.390625 \r\nz\r\n\" id=\"DejaVuSans-56\"/>\r\n      </defs>\r\n      <g transform=\"translate(957.277232 565.398438)scale(0.1 -0.1)\">\r\n       <use xlink:href=\"#DejaVuSans-56\"/>\r\n       <use x=\"63.623047\" xlink:href=\"#DejaVuSans-48\"/>\r\n      </g>\r\n     </g>\r\n    </g>\r\n    <g id=\"text_10\">\r\n     <!-- CONSTITUENCY -->\r\n     <defs>\r\n      <path d=\"M 64.40625 67.28125 \r\nL 64.40625 56.890625 \r\nQ 59.421875 61.53125 53.78125 63.8125 \r\nQ 48.140625 66.109375 41.796875 66.109375 \r\nQ 29.296875 66.109375 22.65625 58.46875 \r\nQ 16.015625 50.828125 16.015625 36.375 \r\nQ 16.015625 21.96875 22.65625 14.328125 \r\nQ 29.296875 6.6875 41.796875 6.6875 \r\nQ 48.140625 6.6875 53.78125 8.984375 \r\nQ 59.421875 11.28125 64.40625 15.921875 \r\nL 64.40625 5.609375 \r\nQ 59.234375 2.09375 53.4375 0.328125 \r\nQ 47.65625 -1.421875 41.21875 -1.421875 \r\nQ 24.65625 -1.421875 15.125 8.703125 \r\nQ 5.609375 18.84375 5.609375 36.375 \r\nQ 5.609375 53.953125 15.125 64.078125 \r\nQ 24.65625 74.21875 41.21875 74.21875 \r\nQ 47.75 74.21875 53.53125 72.484375 \r\nQ 59.328125 70.75 64.40625 67.28125 \r\nz\r\n\" id=\"DejaVuSans-67\"/>\r\n      <path d=\"M 39.40625 66.21875 \r\nQ 28.65625 66.21875 22.328125 58.203125 \r\nQ 16.015625 50.203125 16.015625 36.375 \r\nQ 16.015625 22.609375 22.328125 14.59375 \r\nQ 28.65625 6.59375 39.40625 6.59375 \r\nQ 50.140625 6.59375 56.421875 14.59375 \r\nQ 62.703125 22.609375 62.703125 36.375 \r\nQ 62.703125 50.203125 56.421875 58.203125 \r\nQ 50.140625 66.21875 39.40625 66.21875 \r\nz\r\nM 39.40625 74.21875 \r\nQ 54.734375 74.21875 63.90625 63.9375 \r\nQ 73.09375 53.65625 73.09375 36.375 \r\nQ 73.09375 19.140625 63.90625 8.859375 \r\nQ 54.734375 -1.421875 39.40625 -1.421875 \r\nQ 24.03125 -1.421875 14.8125 8.828125 \r\nQ 5.609375 19.09375 5.609375 36.375 \r\nQ 5.609375 53.65625 14.8125 63.9375 \r\nQ 24.03125 74.21875 39.40625 74.21875 \r\nz\r\n\" id=\"DejaVuSans-79\"/>\r\n      <path d=\"M 9.8125 72.90625 \r\nL 23.09375 72.90625 \r\nL 55.421875 11.921875 \r\nL 55.421875 72.90625 \r\nL 64.984375 72.90625 \r\nL 64.984375 0 \r\nL 51.703125 0 \r\nL 19.390625 60.984375 \r\nL 19.390625 0 \r\nL 9.8125 0 \r\nz\r\n\" id=\"DejaVuSans-78\"/>\r\n      <path d=\"M 53.515625 70.515625 \r\nL 53.515625 60.890625 \r\nQ 47.90625 63.578125 42.921875 64.890625 \r\nQ 37.9375 66.21875 33.296875 66.21875 \r\nQ 25.25 66.21875 20.875 63.09375 \r\nQ 16.5 59.96875 16.5 54.203125 \r\nQ 16.5 49.359375 19.40625 46.890625 \r\nQ 22.3125 44.4375 30.421875 42.921875 \r\nL 36.375 41.703125 \r\nQ 47.40625 39.59375 52.65625 34.296875 \r\nQ 57.90625 29 57.90625 20.125 \r\nQ 57.90625 9.515625 50.796875 4.046875 \r\nQ 43.703125 -1.421875 29.984375 -1.421875 \r\nQ 24.8125 -1.421875 18.96875 -0.25 \r\nQ 13.140625 0.921875 6.890625 3.21875 \r\nL 6.890625 13.375 \r\nQ 12.890625 10.015625 18.65625 8.296875 \r\nQ 24.421875 6.59375 29.984375 6.59375 \r\nQ 38.421875 6.59375 43.015625 9.90625 \r\nQ 47.609375 13.234375 47.609375 19.390625 \r\nQ 47.609375 24.75 44.3125 27.78125 \r\nQ 41.015625 30.8125 33.5 32.328125 \r\nL 27.484375 33.5 \r\nQ 16.453125 35.6875 11.515625 40.375 \r\nQ 6.59375 45.0625 6.59375 53.421875 \r\nQ 6.59375 63.09375 13.40625 68.65625 \r\nQ 20.21875 74.21875 32.171875 74.21875 \r\nQ 37.3125 74.21875 42.625 73.28125 \r\nQ 47.953125 72.359375 53.515625 70.515625 \r\nz\r\n\" id=\"DejaVuSans-83\"/>\r\n      <path d=\"M -0.296875 72.90625 \r\nL 61.375 72.90625 \r\nL 61.375 64.59375 \r\nL 35.5 64.59375 \r\nL 35.5 0 \r\nL 25.59375 0 \r\nL 25.59375 64.59375 \r\nL -0.296875 64.59375 \r\nz\r\n\" id=\"DejaVuSans-84\"/>\r\n      <path d=\"M 9.8125 72.90625 \r\nL 19.671875 72.90625 \r\nL 19.671875 0 \r\nL 9.8125 0 \r\nz\r\n\" id=\"DejaVuSans-73\"/>\r\n      <path d=\"M 8.6875 72.90625 \r\nL 18.609375 72.90625 \r\nL 18.609375 28.609375 \r\nQ 18.609375 16.890625 22.84375 11.734375 \r\nQ 27.09375 6.59375 36.625 6.59375 \r\nQ 46.09375 6.59375 50.34375 11.734375 \r\nQ 54.59375 16.890625 54.59375 28.609375 \r\nL 54.59375 72.90625 \r\nL 64.5 72.90625 \r\nL 64.5 27.390625 \r\nQ 64.5 13.140625 57.4375 5.859375 \r\nQ 50.390625 -1.421875 36.625 -1.421875 \r\nQ 22.796875 -1.421875 15.734375 5.859375 \r\nQ 8.6875 13.140625 8.6875 27.390625 \r\nz\r\n\" id=\"DejaVuSans-85\"/>\r\n      <path d=\"M 9.8125 72.90625 \r\nL 55.90625 72.90625 \r\nL 55.90625 64.59375 \r\nL 19.671875 64.59375 \r\nL 19.671875 43.015625 \r\nL 54.390625 43.015625 \r\nL 54.390625 34.71875 \r\nL 19.671875 34.71875 \r\nL 19.671875 8.296875 \r\nL 56.78125 8.296875 \r\nL 56.78125 0 \r\nL 9.8125 0 \r\nz\r\n\" id=\"DejaVuSans-69\"/>\r\n      <path d=\"M -0.203125 72.90625 \r\nL 10.40625 72.90625 \r\nL 30.609375 42.921875 \r\nL 50.6875 72.90625 \r\nL 61.28125 72.90625 \r\nL 35.5 34.71875 \r\nL 35.5 0 \r\nL 25.59375 0 \r\nL 25.59375 34.71875 \r\nz\r\n\" id=\"DejaVuSans-89\"/>\r\n     </defs>\r\n     <g transform=\"translate(545.967969 579.076563)scale(0.1 -0.1)\">\r\n      <use xlink:href=\"#DejaVuSans-67\"/>\r\n      <use x=\"69.824219\" xlink:href=\"#DejaVuSans-79\"/>\r\n      <use x=\"148.535156\" xlink:href=\"#DejaVuSans-78\"/>\r\n      <use x=\"223.339844\" xlink:href=\"#DejaVuSans-83\"/>\r\n      <use x=\"286.816406\" xlink:href=\"#DejaVuSans-84\"/>\r\n      <use x=\"347.900391\" xlink:href=\"#DejaVuSans-73\"/>\r\n      <use x=\"377.392578\" xlink:href=\"#DejaVuSans-84\"/>\r\n      <use x=\"438.476562\" xlink:href=\"#DejaVuSans-85\"/>\r\n      <use x=\"511.669922\" xlink:href=\"#DejaVuSans-69\"/>\r\n      <use x=\"574.853516\" xlink:href=\"#DejaVuSans-78\"/>\r\n      <use x=\"649.658203\" xlink:href=\"#DejaVuSans-67\"/>\r\n      <use x=\"719.466797\" xlink:href=\"#DejaVuSans-89\"/>\r\n     </g>\r\n    </g>\r\n   </g>\r\n   <g id=\"matplotlib.axis_2\">\r\n    <g id=\"ytick_1\">\r\n     <g id=\"line2d_10\">\r\n      <defs>\r\n       <path d=\"M 0 0 \r\nL -3.5 0 \r\n\" id=\"m80ee49a4a2\" style=\"stroke:#000000;stroke-width:0.8;\"/>\r\n      </defs>\r\n      <g>\r\n       <use style=\"stroke:#000000;stroke-width:0.8;\" x=\"166.496875\" xlink:href=\"#m80ee49a4a2\" y=\"14.75\"/>\r\n      </g>\r\n     </g>\r\n     <g id=\"text_11\">\r\n      <!-- Andaman &amp; Nicobar Islands -->\r\n      <defs>\r\n       <path d=\"M 34.1875 63.1875 \r\nL 20.796875 26.90625 \r\nL 47.609375 26.90625 \r\nz\r\nM 28.609375 72.90625 \r\nL 39.796875 72.90625 \r\nL 67.578125 0 \r\nL 57.328125 0 \r\nL 50.6875 18.703125 \r\nL 17.828125 18.703125 \r\nL 11.1875 0 \r\nL 0.78125 0 \r\nz\r\n\" id=\"DejaVuSans-65\"/>\r\n       <path d=\"M 54.890625 33.015625 \r\nL 54.890625 0 \r\nL 45.90625 0 \r\nL 45.90625 32.71875 \r\nQ 45.90625 40.484375 42.875 44.328125 \r\nQ 39.84375 48.1875 33.796875 48.1875 \r\nQ 26.515625 48.1875 22.3125 43.546875 \r\nQ 18.109375 38.921875 18.109375 30.90625 \r\nL 18.109375 0 \r\nL 9.078125 0 \r\nL 9.078125 54.6875 \r\nL 18.109375 54.6875 \r\nL 18.109375 46.1875 \r\nQ 21.34375 51.125 25.703125 53.5625 \r\nQ 30.078125 56 35.796875 56 \r\nQ 45.21875 56 50.046875 50.171875 \r\nQ 54.890625 44.34375 54.890625 33.015625 \r\nz\r\n\" id=\"DejaVuSans-110\"/>\r\n       <path d=\"M 45.40625 46.390625 \r\nL 45.40625 75.984375 \r\nL 54.390625 75.984375 \r\nL 54.390625 0 \r\nL 45.40625 0 \r\nL 45.40625 8.203125 \r\nQ 42.578125 3.328125 38.25 0.953125 \r\nQ 33.9375 -1.421875 27.875 -1.421875 \r\nQ 17.96875 -1.421875 11.734375 6.484375 \r\nQ 5.515625 14.40625 5.515625 27.296875 \r\nQ 5.515625 40.1875 11.734375 48.09375 \r\nQ 17.96875 56 27.875 56 \r\nQ 33.9375 56 38.25 53.625 \r\nQ 42.578125 51.265625 45.40625 46.390625 \r\nz\r\nM 14.796875 27.296875 \r\nQ 14.796875 17.390625 18.875 11.75 \r\nQ 22.953125 6.109375 30.078125 6.109375 \r\nQ 37.203125 6.109375 41.296875 11.75 \r\nQ 45.40625 17.390625 45.40625 27.296875 \r\nQ 45.40625 37.203125 41.296875 42.84375 \r\nQ 37.203125 48.484375 30.078125 48.484375 \r\nQ 22.953125 48.484375 18.875 42.84375 \r\nQ 14.796875 37.203125 14.796875 27.296875 \r\nz\r\n\" id=\"DejaVuSans-100\"/>\r\n       <path d=\"M 34.28125 27.484375 \r\nQ 23.390625 27.484375 19.1875 25 \r\nQ 14.984375 22.515625 14.984375 16.5 \r\nQ 14.984375 11.71875 18.140625 8.90625 \r\nQ 21.296875 6.109375 26.703125 6.109375 \r\nQ 34.1875 6.109375 38.703125 11.40625 \r\nQ 43.21875 16.703125 43.21875 25.484375 \r\nL 43.21875 27.484375 \r\nz\r\nM 52.203125 31.203125 \r\nL 52.203125 0 \r\nL 43.21875 0 \r\nL 43.21875 8.296875 \r\nQ 40.140625 3.328125 35.546875 0.953125 \r\nQ 30.953125 -1.421875 24.3125 -1.421875 \r\nQ 15.921875 -1.421875 10.953125 3.296875 \r\nQ 6 8.015625 6 15.921875 \r\nQ 6 25.140625 12.171875 29.828125 \r\nQ 18.359375 34.515625 30.609375 34.515625 \r\nL 43.21875 34.515625 \r\nL 43.21875 35.40625 \r\nQ 43.21875 41.609375 39.140625 45 \r\nQ 35.0625 48.390625 27.6875 48.390625 \r\nQ 23 48.390625 18.546875 47.265625 \r\nQ 14.109375 46.140625 10.015625 43.890625 \r\nL 10.015625 52.203125 \r\nQ 14.9375 54.109375 19.578125 55.046875 \r\nQ 24.21875 56 28.609375 56 \r\nQ 40.484375 56 46.34375 49.84375 \r\nQ 52.203125 43.703125 52.203125 31.203125 \r\nz\r\n\" id=\"DejaVuSans-97\"/>\r\n       <path d=\"M 52 44.1875 \r\nQ 55.375 50.25 60.0625 53.125 \r\nQ 64.75 56 71.09375 56 \r\nQ 79.640625 56 84.28125 50.015625 \r\nQ 88.921875 44.046875 88.921875 33.015625 \r\nL 88.921875 0 \r\nL 79.890625 0 \r\nL 79.890625 32.71875 \r\nQ 79.890625 40.578125 77.09375 44.375 \r\nQ 74.3125 48.1875 68.609375 48.1875 \r\nQ 61.625 48.1875 57.5625 43.546875 \r\nQ 53.515625 38.921875 53.515625 30.90625 \r\nL 53.515625 0 \r\nL 44.484375 0 \r\nL 44.484375 32.71875 \r\nQ 44.484375 40.625 41.703125 44.40625 \r\nQ 38.921875 48.1875 33.109375 48.1875 \r\nQ 26.21875 48.1875 22.15625 43.53125 \r\nQ 18.109375 38.875 18.109375 30.90625 \r\nL 18.109375 0 \r\nL 9.078125 0 \r\nL 9.078125 54.6875 \r\nL 18.109375 54.6875 \r\nL 18.109375 46.1875 \r\nQ 21.1875 51.21875 25.484375 53.609375 \r\nQ 29.78125 56 35.6875 56 \r\nQ 41.65625 56 45.828125 52.96875 \r\nQ 50 49.953125 52 44.1875 \r\nz\r\n\" id=\"DejaVuSans-109\"/>\r\n       <path id=\"DejaVuSans-32\"/>\r\n       <path d=\"M 24.3125 39.203125 \r\nQ 19.875 35.25 17.796875 31.3125 \r\nQ 15.71875 27.390625 15.71875 23.09375 \r\nQ 15.71875 15.96875 20.890625 11.234375 \r\nQ 26.078125 6.5 33.890625 6.5 \r\nQ 38.53125 6.5 42.578125 8.03125 \r\nQ 46.625 9.578125 50.203125 12.703125 \r\nz\r\nM 31.203125 44.671875 \r\nL 56 19.28125 \r\nQ 58.890625 23.640625 60.5 28.59375 \r\nQ 62.109375 33.546875 62.40625 39.109375 \r\nL 71.484375 39.109375 \r\nQ 70.90625 32.671875 68.359375 26.359375 \r\nQ 65.828125 20.0625 61.28125 13.921875 \r\nL 74.90625 0 \r\nL 62.59375 0 \r\nL 55.609375 7.171875 \r\nQ 50.53125 2.828125 44.96875 0.703125 \r\nQ 39.40625 -1.421875 33.015625 -1.421875 \r\nQ 21.234375 -1.421875 13.765625 5.296875 \r\nQ 6.296875 12.015625 6.296875 22.515625 \r\nQ 6.296875 28.765625 9.5625 34.25 \r\nQ 12.84375 39.75 19.390625 44.578125 \r\nQ 17.046875 47.65625 15.8125 50.703125 \r\nQ 14.59375 53.765625 14.59375 56.6875 \r\nQ 14.59375 64.59375 20.015625 69.40625 \r\nQ 25.4375 74.21875 34.421875 74.21875 \r\nQ 38.484375 74.21875 42.5 73.34375 \r\nQ 46.53125 72.46875 50.6875 70.703125 \r\nL 50.6875 61.8125 \r\nQ 46.4375 64.109375 42.578125 65.296875 \r\nQ 38.71875 66.5 35.40625 66.5 \r\nQ 30.28125 66.5 27.078125 63.78125 \r\nQ 23.875 61.078125 23.875 56.78125 \r\nQ 23.875 54.296875 25.3125 51.78125 \r\nQ 26.765625 49.265625 31.203125 44.671875 \r\nz\r\n\" id=\"DejaVuSans-38\"/>\r\n       <path d=\"M 9.421875 54.6875 \r\nL 18.40625 54.6875 \r\nL 18.40625 0 \r\nL 9.421875 0 \r\nz\r\nM 9.421875 75.984375 \r\nL 18.40625 75.984375 \r\nL 18.40625 64.59375 \r\nL 9.421875 64.59375 \r\nz\r\n\" id=\"DejaVuSans-105\"/>\r\n       <path d=\"M 48.78125 52.59375 \r\nL 48.78125 44.1875 \r\nQ 44.96875 46.296875 41.140625 47.34375 \r\nQ 37.3125 48.390625 33.40625 48.390625 \r\nQ 24.65625 48.390625 19.8125 42.84375 \r\nQ 14.984375 37.3125 14.984375 27.296875 \r\nQ 14.984375 17.28125 19.8125 11.734375 \r\nQ 24.65625 6.203125 33.40625 6.203125 \r\nQ 37.3125 6.203125 41.140625 7.25 \r\nQ 44.96875 8.296875 48.78125 10.40625 \r\nL 48.78125 2.09375 \r\nQ 45.015625 0.34375 40.984375 -0.53125 \r\nQ 36.96875 -1.421875 32.421875 -1.421875 \r\nQ 20.0625 -1.421875 12.78125 6.34375 \r\nQ 5.515625 14.109375 5.515625 27.296875 \r\nQ 5.515625 40.671875 12.859375 48.328125 \r\nQ 20.21875 56 33.015625 56 \r\nQ 37.15625 56 41.109375 55.140625 \r\nQ 45.0625 54.296875 48.78125 52.59375 \r\nz\r\n\" id=\"DejaVuSans-99\"/>\r\n       <path d=\"M 30.609375 48.390625 \r\nQ 23.390625 48.390625 19.1875 42.75 \r\nQ 14.984375 37.109375 14.984375 27.296875 \r\nQ 14.984375 17.484375 19.15625 11.84375 \r\nQ 23.34375 6.203125 30.609375 6.203125 \r\nQ 37.796875 6.203125 41.984375 11.859375 \r\nQ 46.1875 17.53125 46.1875 27.296875 \r\nQ 46.1875 37.015625 41.984375 42.703125 \r\nQ 37.796875 48.390625 30.609375 48.390625 \r\nz\r\nM 30.609375 56 \r\nQ 42.328125 56 49.015625 48.375 \r\nQ 55.71875 40.765625 55.71875 27.296875 \r\nQ 55.71875 13.875 49.015625 6.21875 \r\nQ 42.328125 -1.421875 30.609375 -1.421875 \r\nQ 18.84375 -1.421875 12.171875 6.21875 \r\nQ 5.515625 13.875 5.515625 27.296875 \r\nQ 5.515625 40.765625 12.171875 48.375 \r\nQ 18.84375 56 30.609375 56 \r\nz\r\n\" id=\"DejaVuSans-111\"/>\r\n       <path d=\"M 48.6875 27.296875 \r\nQ 48.6875 37.203125 44.609375 42.84375 \r\nQ 40.53125 48.484375 33.40625 48.484375 \r\nQ 26.265625 48.484375 22.1875 42.84375 \r\nQ 18.109375 37.203125 18.109375 27.296875 \r\nQ 18.109375 17.390625 22.1875 11.75 \r\nQ 26.265625 6.109375 33.40625 6.109375 \r\nQ 40.53125 6.109375 44.609375 11.75 \r\nQ 48.6875 17.390625 48.6875 27.296875 \r\nz\r\nM 18.109375 46.390625 \r\nQ 20.953125 51.265625 25.265625 53.625 \r\nQ 29.59375 56 35.59375 56 \r\nQ 45.5625 56 51.78125 48.09375 \r\nQ 58.015625 40.1875 58.015625 27.296875 \r\nQ 58.015625 14.40625 51.78125 6.484375 \r\nQ 45.5625 -1.421875 35.59375 -1.421875 \r\nQ 29.59375 -1.421875 25.265625 0.953125 \r\nQ 20.953125 3.328125 18.109375 8.203125 \r\nL 18.109375 0 \r\nL 9.078125 0 \r\nL 9.078125 75.984375 \r\nL 18.109375 75.984375 \r\nz\r\n\" id=\"DejaVuSans-98\"/>\r\n       <path d=\"M 41.109375 46.296875 \r\nQ 39.59375 47.171875 37.8125 47.578125 \r\nQ 36.03125 48 33.890625 48 \r\nQ 26.265625 48 22.1875 43.046875 \r\nQ 18.109375 38.09375 18.109375 28.8125 \r\nL 18.109375 0 \r\nL 9.078125 0 \r\nL 9.078125 54.6875 \r\nL 18.109375 54.6875 \r\nL 18.109375 46.1875 \r\nQ 20.953125 51.171875 25.484375 53.578125 \r\nQ 30.03125 56 36.53125 56 \r\nQ 37.453125 56 38.578125 55.875 \r\nQ 39.703125 55.765625 41.0625 55.515625 \r\nz\r\n\" id=\"DejaVuSans-114\"/>\r\n       <path d=\"M 44.28125 53.078125 \r\nL 44.28125 44.578125 \r\nQ 40.484375 46.53125 36.375 47.5 \r\nQ 32.28125 48.484375 27.875 48.484375 \r\nQ 21.1875 48.484375 17.84375 46.4375 \r\nQ 14.5 44.390625 14.5 40.28125 \r\nQ 14.5 37.15625 16.890625 35.375 \r\nQ 19.28125 33.59375 26.515625 31.984375 \r\nL 29.59375 31.296875 \r\nQ 39.15625 29.25 43.1875 25.515625 \r\nQ 47.21875 21.78125 47.21875 15.09375 \r\nQ 47.21875 7.46875 41.1875 3.015625 \r\nQ 35.15625 -1.421875 24.609375 -1.421875 \r\nQ 20.21875 -1.421875 15.453125 -0.5625 \r\nQ 10.6875 0.296875 5.421875 2 \r\nL 5.421875 11.28125 \r\nQ 10.40625 8.6875 15.234375 7.390625 \r\nQ 20.0625 6.109375 24.8125 6.109375 \r\nQ 31.15625 6.109375 34.5625 8.28125 \r\nQ 37.984375 10.453125 37.984375 14.40625 \r\nQ 37.984375 18.0625 35.515625 20.015625 \r\nQ 33.0625 21.96875 24.703125 23.78125 \r\nL 21.578125 24.515625 \r\nQ 13.234375 26.265625 9.515625 29.90625 \r\nQ 5.8125 33.546875 5.8125 39.890625 \r\nQ 5.8125 47.609375 11.28125 51.796875 \r\nQ 16.75 56 26.8125 56 \r\nQ 31.78125 56 36.171875 55.265625 \r\nQ 40.578125 54.546875 44.28125 53.078125 \r\nz\r\n\" id=\"DejaVuSans-115\"/>\r\n       <path d=\"M 9.421875 75.984375 \r\nL 18.40625 75.984375 \r\nL 18.40625 0 \r\nL 9.421875 0 \r\nz\r\n\" id=\"DejaVuSans-108\"/>\r\n      </defs>\r\n      <g transform=\"translate(20.878125 18.549219)scale(0.1 -0.1)\">\r\n       <use xlink:href=\"#DejaVuSans-65\"/>\r\n       <use x=\"68.408203\" xlink:href=\"#DejaVuSans-110\"/>\r\n       <use x=\"131.787109\" xlink:href=\"#DejaVuSans-100\"/>\r\n       <use x=\"195.263672\" xlink:href=\"#DejaVuSans-97\"/>\r\n       <use x=\"256.542969\" xlink:href=\"#DejaVuSans-109\"/>\r\n       <use x=\"353.955078\" xlink:href=\"#DejaVuSans-97\"/>\r\n       <use x=\"415.234375\" xlink:href=\"#DejaVuSans-110\"/>\r\n       <use x=\"478.613281\" xlink:href=\"#DejaVuSans-32\"/>\r\n       <use x=\"510.400391\" xlink:href=\"#DejaVuSans-38\"/>\r\n       <use x=\"588.378906\" xlink:href=\"#DejaVuSans-32\"/>\r\n       <use x=\"620.166016\" xlink:href=\"#DejaVuSans-78\"/>\r\n       <use x=\"694.970703\" xlink:href=\"#DejaVuSans-105\"/>\r\n       <use x=\"722.753906\" xlink:href=\"#DejaVuSans-99\"/>\r\n       <use x=\"777.734375\" xlink:href=\"#DejaVuSans-111\"/>\r\n       <use x=\"838.916016\" xlink:href=\"#DejaVuSans-98\"/>\r\n       <use x=\"902.392578\" xlink:href=\"#DejaVuSans-97\"/>\r\n       <use x=\"963.671875\" xlink:href=\"#DejaVuSans-114\"/>\r\n       <use x=\"1004.785156\" xlink:href=\"#DejaVuSans-32\"/>\r\n       <use x=\"1036.572266\" xlink:href=\"#DejaVuSans-73\"/>\r\n       <use x=\"1066.064453\" xlink:href=\"#DejaVuSans-115\"/>\r\n       <use x=\"1118.164062\" xlink:href=\"#DejaVuSans-108\"/>\r\n       <use x=\"1145.947266\" xlink:href=\"#DejaVuSans-97\"/>\r\n       <use x=\"1207.226562\" xlink:href=\"#DejaVuSans-110\"/>\r\n       <use x=\"1270.605469\" xlink:href=\"#DejaVuSans-100\"/>\r\n       <use x=\"1334.082031\" xlink:href=\"#DejaVuSans-115\"/>\r\n      </g>\r\n     </g>\r\n    </g>\r\n    <g id=\"ytick_2\">\r\n     <g id=\"line2d_11\">\r\n      <g>\r\n       <use style=\"stroke:#000000;stroke-width:0.8;\" x=\"166.496875\" xlink:href=\"#m80ee49a4a2\" y=\"29.85\"/>\r\n      </g>\r\n     </g>\r\n     <g id=\"text_12\">\r\n      <!-- Andhra Pradesh -->\r\n      <defs>\r\n       <path d=\"M 54.890625 33.015625 \r\nL 54.890625 0 \r\nL 45.90625 0 \r\nL 45.90625 32.71875 \r\nQ 45.90625 40.484375 42.875 44.328125 \r\nQ 39.84375 48.1875 33.796875 48.1875 \r\nQ 26.515625 48.1875 22.3125 43.546875 \r\nQ 18.109375 38.921875 18.109375 30.90625 \r\nL 18.109375 0 \r\nL 9.078125 0 \r\nL 9.078125 75.984375 \r\nL 18.109375 75.984375 \r\nL 18.109375 46.1875 \r\nQ 21.34375 51.125 25.703125 53.5625 \r\nQ 30.078125 56 35.796875 56 \r\nQ 45.21875 56 50.046875 50.171875 \r\nQ 54.890625 44.34375 54.890625 33.015625 \r\nz\r\n\" id=\"DejaVuSans-104\"/>\r\n       <path d=\"M 19.671875 64.796875 \r\nL 19.671875 37.40625 \r\nL 32.078125 37.40625 \r\nQ 38.96875 37.40625 42.71875 40.96875 \r\nQ 46.484375 44.53125 46.484375 51.125 \r\nQ 46.484375 57.671875 42.71875 61.234375 \r\nQ 38.96875 64.796875 32.078125 64.796875 \r\nz\r\nM 9.8125 72.90625 \r\nL 32.078125 72.90625 \r\nQ 44.34375 72.90625 50.609375 67.359375 \r\nQ 56.890625 61.8125 56.890625 51.125 \r\nQ 56.890625 40.328125 50.609375 34.8125 \r\nQ 44.34375 29.296875 32.078125 29.296875 \r\nL 19.671875 29.296875 \r\nL 19.671875 0 \r\nL 9.8125 0 \r\nz\r\n\" id=\"DejaVuSans-80\"/>\r\n       <path d=\"M 56.203125 29.59375 \r\nL 56.203125 25.203125 \r\nL 14.890625 25.203125 \r\nQ 15.484375 15.921875 20.484375 11.0625 \r\nQ 25.484375 6.203125 34.421875 6.203125 \r\nQ 39.59375 6.203125 44.453125 7.46875 \r\nQ 49.3125 8.734375 54.109375 11.28125 \r\nL 54.109375 2.78125 \r\nQ 49.265625 0.734375 44.1875 -0.34375 \r\nQ 39.109375 -1.421875 33.890625 -1.421875 \r\nQ 20.796875 -1.421875 13.15625 6.1875 \r\nQ 5.515625 13.8125 5.515625 26.8125 \r\nQ 5.515625 40.234375 12.765625 48.109375 \r\nQ 20.015625 56 32.328125 56 \r\nQ 43.359375 56 49.78125 48.890625 \r\nQ 56.203125 41.796875 56.203125 29.59375 \r\nz\r\nM 47.21875 32.234375 \r\nQ 47.125 39.59375 43.09375 43.984375 \r\nQ 39.0625 48.390625 32.421875 48.390625 \r\nQ 24.90625 48.390625 20.390625 44.140625 \r\nQ 15.875 39.890625 15.1875 32.171875 \r\nz\r\n\" id=\"DejaVuSans-101\"/>\r\n      </defs>\r\n      <g transform=\"translate(79.9 33.649219)scale(0.1 -0.1)\">\r\n       <use xlink:href=\"#DejaVuSans-65\"/>\r\n       <use x=\"68.408203\" xlink:href=\"#DejaVuSans-110\"/>\r\n       <use x=\"131.787109\" xlink:href=\"#DejaVuSans-100\"/>\r\n       <use x=\"195.263672\" xlink:href=\"#DejaVuSans-104\"/>\r\n       <use x=\"258.642578\" xlink:href=\"#DejaVuSans-114\"/>\r\n       <use x=\"299.755859\" xlink:href=\"#DejaVuSans-97\"/>\r\n       <use x=\"361.035156\" xlink:href=\"#DejaVuSans-32\"/>\r\n       <use x=\"392.822266\" xlink:href=\"#DejaVuSans-80\"/>\r\n       <use x=\"453.109375\" xlink:href=\"#DejaVuSans-114\"/>\r\n       <use x=\"494.222656\" xlink:href=\"#DejaVuSans-97\"/>\r\n       <use x=\"555.501953\" xlink:href=\"#DejaVuSans-100\"/>\r\n       <use x=\"618.978516\" xlink:href=\"#DejaVuSans-101\"/>\r\n       <use x=\"680.501953\" xlink:href=\"#DejaVuSans-115\"/>\r\n       <use x=\"732.601562\" xlink:href=\"#DejaVuSans-104\"/>\r\n      </g>\r\n     </g>\r\n    </g>\r\n    <g id=\"ytick_3\">\r\n     <g id=\"line2d_12\">\r\n      <g>\r\n       <use style=\"stroke:#000000;stroke-width:0.8;\" x=\"166.496875\" xlink:href=\"#m80ee49a4a2\" y=\"44.95\"/>\r\n      </g>\r\n     </g>\r\n     <g id=\"text_13\">\r\n      <!-- Arunachal Pradesh -->\r\n      <defs>\r\n       <path d=\"M 8.5 21.578125 \r\nL 8.5 54.6875 \r\nL 17.484375 54.6875 \r\nL 17.484375 21.921875 \r\nQ 17.484375 14.15625 20.5 10.265625 \r\nQ 23.53125 6.390625 29.59375 6.390625 \r\nQ 36.859375 6.390625 41.078125 11.03125 \r\nQ 45.3125 15.671875 45.3125 23.6875 \r\nL 45.3125 54.6875 \r\nL 54.296875 54.6875 \r\nL 54.296875 0 \r\nL 45.3125 0 \r\nL 45.3125 8.40625 \r\nQ 42.046875 3.421875 37.71875 1 \r\nQ 33.40625 -1.421875 27.6875 -1.421875 \r\nQ 18.265625 -1.421875 13.375 4.4375 \r\nQ 8.5 10.296875 8.5 21.578125 \r\nz\r\nM 31.109375 56 \r\nz\r\n\" id=\"DejaVuSans-117\"/>\r\n      </defs>\r\n      <g transform=\"translate(65.50625 48.749219)scale(0.1 -0.1)\">\r\n       <use xlink:href=\"#DejaVuSans-65\"/>\r\n       <use x=\"68.408203\" xlink:href=\"#DejaVuSans-114\"/>\r\n       <use x=\"109.521484\" xlink:href=\"#DejaVuSans-117\"/>\r\n       <use x=\"172.900391\" xlink:href=\"#DejaVuSans-110\"/>\r\n       <use x=\"236.279297\" xlink:href=\"#DejaVuSans-97\"/>\r\n       <use x=\"297.558594\" xlink:href=\"#DejaVuSans-99\"/>\r\n       <use x=\"352.539062\" xlink:href=\"#DejaVuSans-104\"/>\r\n       <use x=\"415.917969\" xlink:href=\"#DejaVuSans-97\"/>\r\n       <use x=\"477.197266\" xlink:href=\"#DejaVuSans-108\"/>\r\n       <use x=\"504.980469\" xlink:href=\"#DejaVuSans-32\"/>\r\n       <use x=\"536.767578\" xlink:href=\"#DejaVuSans-80\"/>\r\n       <use x=\"597.054688\" xlink:href=\"#DejaVuSans-114\"/>\r\n       <use x=\"638.167969\" xlink:href=\"#DejaVuSans-97\"/>\r\n       <use x=\"699.447266\" xlink:href=\"#DejaVuSans-100\"/>\r\n       <use x=\"762.923828\" xlink:href=\"#DejaVuSans-101\"/>\r\n       <use x=\"824.447266\" xlink:href=\"#DejaVuSans-115\"/>\r\n       <use x=\"876.546875\" xlink:href=\"#DejaVuSans-104\"/>\r\n      </g>\r\n     </g>\r\n    </g>\r\n    <g id=\"ytick_4\">\r\n     <g id=\"line2d_13\">\r\n      <g>\r\n       <use style=\"stroke:#000000;stroke-width:0.8;\" x=\"166.496875\" xlink:href=\"#m80ee49a4a2\" y=\"60.05\"/>\r\n      </g>\r\n     </g>\r\n     <g id=\"text_14\">\r\n      <!-- Assam -->\r\n      <g transform=\"translate(126.36875 63.849219)scale(0.1 -0.1)\">\r\n       <use xlink:href=\"#DejaVuSans-65\"/>\r\n       <use x=\"68.408203\" xlink:href=\"#DejaVuSans-115\"/>\r\n       <use x=\"120.507812\" xlink:href=\"#DejaVuSans-115\"/>\r\n       <use x=\"172.607422\" xlink:href=\"#DejaVuSans-97\"/>\r\n       <use x=\"233.886719\" xlink:href=\"#DejaVuSans-109\"/>\r\n      </g>\r\n     </g>\r\n    </g>\r\n    <g id=\"ytick_5\">\r\n     <g id=\"line2d_14\">\r\n      <g>\r\n       <use style=\"stroke:#000000;stroke-width:0.8;\" x=\"166.496875\" xlink:href=\"#m80ee49a4a2\" y=\"75.15\"/>\r\n      </g>\r\n     </g>\r\n     <g id=\"text_15\">\r\n      <!-- Bihar -->\r\n      <defs>\r\n       <path d=\"M 19.671875 34.8125 \r\nL 19.671875 8.109375 \r\nL 35.5 8.109375 \r\nQ 43.453125 8.109375 47.28125 11.40625 \r\nQ 51.125 14.703125 51.125 21.484375 \r\nQ 51.125 28.328125 47.28125 31.5625 \r\nQ 43.453125 34.8125 35.5 34.8125 \r\nz\r\nM 19.671875 64.796875 \r\nL 19.671875 42.828125 \r\nL 34.28125 42.828125 \r\nQ 41.5 42.828125 45.03125 45.53125 \r\nQ 48.578125 48.25 48.578125 53.8125 \r\nQ 48.578125 59.328125 45.03125 62.0625 \r\nQ 41.5 64.796875 34.28125 64.796875 \r\nz\r\nM 9.8125 72.90625 \r\nL 35.015625 72.90625 \r\nQ 46.296875 72.90625 52.390625 68.21875 \r\nQ 58.5 63.53125 58.5 54.890625 \r\nQ 58.5 48.1875 55.375 44.234375 \r\nQ 52.25 40.28125 46.1875 39.3125 \r\nQ 53.46875 37.75 57.5 32.78125 \r\nQ 61.53125 27.828125 61.53125 20.40625 \r\nQ 61.53125 10.640625 54.890625 5.3125 \r\nQ 48.25 0 35.984375 0 \r\nL 9.8125 0 \r\nz\r\n\" id=\"DejaVuSans-66\"/>\r\n      </defs>\r\n      <g transform=\"translate(133.28125 78.949219)scale(0.1 -0.1)\">\r\n       <use xlink:href=\"#DejaVuSans-66\"/>\r\n       <use x=\"68.603516\" xlink:href=\"#DejaVuSans-105\"/>\r\n       <use x=\"96.386719\" xlink:href=\"#DejaVuSans-104\"/>\r\n       <use x=\"159.765625\" xlink:href=\"#DejaVuSans-97\"/>\r\n       <use x=\"221.044922\" xlink:href=\"#DejaVuSans-114\"/>\r\n      </g>\r\n     </g>\r\n    </g>\r\n    <g id=\"ytick_6\">\r\n     <g id=\"line2d_15\">\r\n      <g>\r\n       <use style=\"stroke:#000000;stroke-width:0.8;\" x=\"166.496875\" xlink:href=\"#m80ee49a4a2\" y=\"90.25\"/>\r\n      </g>\r\n     </g>\r\n     <g id=\"text_16\">\r\n      <!-- Chandigarh -->\r\n      <defs>\r\n       <path d=\"M 45.40625 27.984375 \r\nQ 45.40625 37.75 41.375 43.109375 \r\nQ 37.359375 48.484375 30.078125 48.484375 \r\nQ 22.859375 48.484375 18.828125 43.109375 \r\nQ 14.796875 37.75 14.796875 27.984375 \r\nQ 14.796875 18.265625 18.828125 12.890625 \r\nQ 22.859375 7.515625 30.078125 7.515625 \r\nQ 37.359375 7.515625 41.375 12.890625 \r\nQ 45.40625 18.265625 45.40625 27.984375 \r\nz\r\nM 54.390625 6.78125 \r\nQ 54.390625 -7.171875 48.1875 -13.984375 \r\nQ 42 -20.796875 29.203125 -20.796875 \r\nQ 24.46875 -20.796875 20.265625 -20.09375 \r\nQ 16.0625 -19.390625 12.109375 -17.921875 \r\nL 12.109375 -9.1875 \r\nQ 16.0625 -11.328125 19.921875 -12.34375 \r\nQ 23.78125 -13.375 27.78125 -13.375 \r\nQ 36.625 -13.375 41.015625 -8.765625 \r\nQ 45.40625 -4.15625 45.40625 5.171875 \r\nL 45.40625 9.625 \r\nQ 42.625 4.78125 38.28125 2.390625 \r\nQ 33.9375 0 27.875 0 \r\nQ 17.828125 0 11.671875 7.65625 \r\nQ 5.515625 15.328125 5.515625 27.984375 \r\nQ 5.515625 40.671875 11.671875 48.328125 \r\nQ 17.828125 56 27.875 56 \r\nQ 33.9375 56 38.28125 53.609375 \r\nQ 42.625 51.21875 45.40625 46.390625 \r\nL 45.40625 54.6875 \r\nL 54.390625 54.6875 \r\nz\r\n\" id=\"DejaVuSans-103\"/>\r\n      </defs>\r\n      <g transform=\"translate(101.660938 94.049219)scale(0.1 -0.1)\">\r\n       <use xlink:href=\"#DejaVuSans-67\"/>\r\n       <use x=\"69.824219\" xlink:href=\"#DejaVuSans-104\"/>\r\n       <use x=\"133.203125\" xlink:href=\"#DejaVuSans-97\"/>\r\n       <use x=\"194.482422\" xlink:href=\"#DejaVuSans-110\"/>\r\n       <use x=\"257.861328\" xlink:href=\"#DejaVuSans-100\"/>\r\n       <use x=\"321.337891\" xlink:href=\"#DejaVuSans-105\"/>\r\n       <use x=\"349.121094\" xlink:href=\"#DejaVuSans-103\"/>\r\n       <use x=\"412.597656\" xlink:href=\"#DejaVuSans-97\"/>\r\n       <use x=\"473.876953\" xlink:href=\"#DejaVuSans-114\"/>\r\n       <use x=\"514.974609\" xlink:href=\"#DejaVuSans-104\"/>\r\n      </g>\r\n     </g>\r\n    </g>\r\n    <g id=\"ytick_7\">\r\n     <g id=\"line2d_16\">\r\n      <g>\r\n       <use style=\"stroke:#000000;stroke-width:0.8;\" x=\"166.496875\" xlink:href=\"#m80ee49a4a2\" y=\"105.35\"/>\r\n      </g>\r\n     </g>\r\n     <g id=\"text_17\">\r\n      <!-- Chhattisgarh -->\r\n      <defs>\r\n       <path d=\"M 18.3125 70.21875 \r\nL 18.3125 54.6875 \r\nL 36.8125 54.6875 \r\nL 36.8125 47.703125 \r\nL 18.3125 47.703125 \r\nL 18.3125 18.015625 \r\nQ 18.3125 11.328125 20.140625 9.421875 \r\nQ 21.96875 7.515625 27.59375 7.515625 \r\nL 36.8125 7.515625 \r\nL 36.8125 0 \r\nL 27.59375 0 \r\nQ 17.1875 0 13.234375 3.875 \r\nQ 9.28125 7.765625 9.28125 18.015625 \r\nL 9.28125 47.703125 \r\nL 2.6875 47.703125 \r\nL 2.6875 54.6875 \r\nL 9.28125 54.6875 \r\nL 9.28125 70.21875 \r\nz\r\n\" id=\"DejaVuSans-116\"/>\r\n      </defs>\r\n      <g transform=\"translate(94.959375 109.149219)scale(0.1 -0.1)\">\r\n       <use xlink:href=\"#DejaVuSans-67\"/>\r\n       <use x=\"69.824219\" xlink:href=\"#DejaVuSans-104\"/>\r\n       <use x=\"133.203125\" xlink:href=\"#DejaVuSans-104\"/>\r\n       <use x=\"196.582031\" xlink:href=\"#DejaVuSans-97\"/>\r\n       <use x=\"257.861328\" xlink:href=\"#DejaVuSans-116\"/>\r\n       <use x=\"297.070312\" xlink:href=\"#DejaVuSans-116\"/>\r\n       <use x=\"336.279297\" xlink:href=\"#DejaVuSans-105\"/>\r\n       <use x=\"364.0625\" xlink:href=\"#DejaVuSans-115\"/>\r\n       <use x=\"416.162109\" xlink:href=\"#DejaVuSans-103\"/>\r\n       <use x=\"479.638672\" xlink:href=\"#DejaVuSans-97\"/>\r\n       <use x=\"540.917969\" xlink:href=\"#DejaVuSans-114\"/>\r\n       <use x=\"582.015625\" xlink:href=\"#DejaVuSans-104\"/>\r\n      </g>\r\n     </g>\r\n    </g>\r\n    <g id=\"ytick_8\">\r\n     <g id=\"line2d_17\">\r\n      <g>\r\n       <use style=\"stroke:#000000;stroke-width:0.8;\" x=\"166.496875\" xlink:href=\"#m80ee49a4a2\" y=\"120.45\"/>\r\n      </g>\r\n     </g>\r\n     <g id=\"text_18\">\r\n      <!-- Dadra &amp; Nagar Haveli -->\r\n      <defs>\r\n       <path d=\"M 19.671875 64.796875 \r\nL 19.671875 8.109375 \r\nL 31.59375 8.109375 \r\nQ 46.6875 8.109375 53.6875 14.9375 \r\nQ 60.6875 21.78125 60.6875 36.53125 \r\nQ 60.6875 51.171875 53.6875 57.984375 \r\nQ 46.6875 64.796875 31.59375 64.796875 \r\nz\r\nM 9.8125 72.90625 \r\nL 30.078125 72.90625 \r\nQ 51.265625 72.90625 61.171875 64.09375 \r\nQ 71.09375 55.28125 71.09375 36.53125 \r\nQ 71.09375 17.671875 61.125 8.828125 \r\nQ 51.171875 0 30.078125 0 \r\nL 9.8125 0 \r\nz\r\n\" id=\"DejaVuSans-68\"/>\r\n       <path d=\"M 9.8125 72.90625 \r\nL 19.671875 72.90625 \r\nL 19.671875 43.015625 \r\nL 55.515625 43.015625 \r\nL 55.515625 72.90625 \r\nL 65.375 72.90625 \r\nL 65.375 0 \r\nL 55.515625 0 \r\nL 55.515625 34.71875 \r\nL 19.671875 34.71875 \r\nL 19.671875 0 \r\nL 9.8125 0 \r\nz\r\n\" id=\"DejaVuSans-72\"/>\r\n       <path d=\"M 2.984375 54.6875 \r\nL 12.5 54.6875 \r\nL 29.59375 8.796875 \r\nL 46.6875 54.6875 \r\nL 56.203125 54.6875 \r\nL 35.6875 0 \r\nL 23.484375 0 \r\nz\r\n\" id=\"DejaVuSans-118\"/>\r\n      </defs>\r\n      <g transform=\"translate(50.275 124.249219)scale(0.1 -0.1)\">\r\n       <use xlink:href=\"#DejaVuSans-68\"/>\r\n       <use x=\"77.001953\" xlink:href=\"#DejaVuSans-97\"/>\r\n       <use x=\"138.28125\" xlink:href=\"#DejaVuSans-100\"/>\r\n       <use x=\"201.757812\" xlink:href=\"#DejaVuSans-114\"/>\r\n       <use x=\"242.871094\" xlink:href=\"#DejaVuSans-97\"/>\r\n       <use x=\"304.150391\" xlink:href=\"#DejaVuSans-32\"/>\r\n       <use x=\"335.9375\" xlink:href=\"#DejaVuSans-38\"/>\r\n       <use x=\"413.916016\" xlink:href=\"#DejaVuSans-32\"/>\r\n       <use x=\"445.703125\" xlink:href=\"#DejaVuSans-78\"/>\r\n       <use x=\"520.507812\" xlink:href=\"#DejaVuSans-97\"/>\r\n       <use x=\"581.787109\" xlink:href=\"#DejaVuSans-103\"/>\r\n       <use x=\"645.263672\" xlink:href=\"#DejaVuSans-97\"/>\r\n       <use x=\"706.542969\" xlink:href=\"#DejaVuSans-114\"/>\r\n       <use x=\"747.65625\" xlink:href=\"#DejaVuSans-32\"/>\r\n       <use x=\"779.443359\" xlink:href=\"#DejaVuSans-72\"/>\r\n       <use x=\"854.638672\" xlink:href=\"#DejaVuSans-97\"/>\r\n       <use x=\"915.917969\" xlink:href=\"#DejaVuSans-118\"/>\r\n       <use x=\"975.097656\" xlink:href=\"#DejaVuSans-101\"/>\r\n       <use x=\"1036.621094\" xlink:href=\"#DejaVuSans-108\"/>\r\n       <use x=\"1064.404297\" xlink:href=\"#DejaVuSans-105\"/>\r\n      </g>\r\n     </g>\r\n    </g>\r\n    <g id=\"ytick_9\">\r\n     <g id=\"line2d_18\">\r\n      <g>\r\n       <use style=\"stroke:#000000;stroke-width:0.8;\" x=\"166.496875\" xlink:href=\"#m80ee49a4a2\" y=\"135.55\"/>\r\n      </g>\r\n     </g>\r\n     <g id=\"text_19\">\r\n      <!-- Daman &amp; Diu -->\r\n      <g transform=\"translate(92.492188 139.349219)scale(0.1 -0.1)\">\r\n       <use xlink:href=\"#DejaVuSans-68\"/>\r\n       <use x=\"77.001953\" xlink:href=\"#DejaVuSans-97\"/>\r\n       <use x=\"138.28125\" xlink:href=\"#DejaVuSans-109\"/>\r\n       <use x=\"235.693359\" xlink:href=\"#DejaVuSans-97\"/>\r\n       <use x=\"296.972656\" xlink:href=\"#DejaVuSans-110\"/>\r\n       <use x=\"360.351562\" xlink:href=\"#DejaVuSans-32\"/>\r\n       <use x=\"392.138672\" xlink:href=\"#DejaVuSans-38\"/>\r\n       <use x=\"470.117188\" xlink:href=\"#DejaVuSans-32\"/>\r\n       <use x=\"501.904297\" xlink:href=\"#DejaVuSans-68\"/>\r\n       <use x=\"578.90625\" xlink:href=\"#DejaVuSans-105\"/>\r\n       <use x=\"606.689453\" xlink:href=\"#DejaVuSans-117\"/>\r\n      </g>\r\n     </g>\r\n    </g>\r\n    <g id=\"ytick_10\">\r\n     <g id=\"line2d_19\">\r\n      <g>\r\n       <use style=\"stroke:#000000;stroke-width:0.8;\" x=\"166.496875\" xlink:href=\"#m80ee49a4a2\" y=\"150.65\"/>\r\n      </g>\r\n     </g>\r\n     <g id=\"text_20\">\r\n      <!-- Goa -->\r\n      <defs>\r\n       <path d=\"M 59.515625 10.40625 \r\nL 59.515625 29.984375 \r\nL 43.40625 29.984375 \r\nL 43.40625 38.09375 \r\nL 69.28125 38.09375 \r\nL 69.28125 6.78125 \r\nQ 63.578125 2.734375 56.6875 0.65625 \r\nQ 49.8125 -1.421875 42 -1.421875 \r\nQ 24.90625 -1.421875 15.25 8.5625 \r\nQ 5.609375 18.5625 5.609375 36.375 \r\nQ 5.609375 54.25 15.25 64.234375 \r\nQ 24.90625 74.21875 42 74.21875 \r\nQ 49.125 74.21875 55.546875 72.453125 \r\nQ 61.96875 70.703125 67.390625 67.28125 \r\nL 67.390625 56.78125 \r\nQ 61.921875 61.421875 55.765625 63.765625 \r\nQ 49.609375 66.109375 42.828125 66.109375 \r\nQ 29.4375 66.109375 22.71875 58.640625 \r\nQ 16.015625 51.171875 16.015625 36.375 \r\nQ 16.015625 21.625 22.71875 14.15625 \r\nQ 29.4375 6.6875 42.828125 6.6875 \r\nQ 48.046875 6.6875 52.140625 7.59375 \r\nQ 56.25 8.5 59.515625 10.40625 \r\nz\r\n\" id=\"DejaVuSans-71\"/>\r\n      </defs>\r\n      <g transform=\"translate(139.501563 154.449219)scale(0.1 -0.1)\">\r\n       <use xlink:href=\"#DejaVuSans-71\"/>\r\n       <use x=\"77.490234\" xlink:href=\"#DejaVuSans-111\"/>\r\n       <use x=\"138.671875\" xlink:href=\"#DejaVuSans-97\"/>\r\n      </g>\r\n     </g>\r\n    </g>\r\n    <g id=\"ytick_11\">\r\n     <g id=\"line2d_20\">\r\n      <g>\r\n       <use style=\"stroke:#000000;stroke-width:0.8;\" x=\"166.496875\" xlink:href=\"#m80ee49a4a2\" y=\"165.75\"/>\r\n      </g>\r\n     </g>\r\n     <g id=\"text_21\">\r\n      <!-- Gujarat -->\r\n      <defs>\r\n       <path d=\"M 9.421875 54.6875 \r\nL 18.40625 54.6875 \r\nL 18.40625 -0.984375 \r\nQ 18.40625 -11.421875 14.421875 -16.109375 \r\nQ 10.453125 -20.796875 1.609375 -20.796875 \r\nL -1.8125 -20.796875 \r\nL -1.8125 -13.1875 \r\nL 0.59375 -13.1875 \r\nQ 5.71875 -13.1875 7.5625 -10.8125 \r\nQ 9.421875 -8.453125 9.421875 -0.984375 \r\nz\r\nM 9.421875 75.984375 \r\nL 18.40625 75.984375 \r\nL 18.40625 64.59375 \r\nL 9.421875 64.59375 \r\nz\r\n\" id=\"DejaVuSans-106\"/>\r\n      </defs>\r\n      <g transform=\"translate(122.345313 169.549219)scale(0.1 -0.1)\">\r\n       <use xlink:href=\"#DejaVuSans-71\"/>\r\n       <use x=\"77.490234\" xlink:href=\"#DejaVuSans-117\"/>\r\n       <use x=\"140.869141\" xlink:href=\"#DejaVuSans-106\"/>\r\n       <use x=\"168.652344\" xlink:href=\"#DejaVuSans-97\"/>\r\n       <use x=\"229.931641\" xlink:href=\"#DejaVuSans-114\"/>\r\n       <use x=\"271.044922\" xlink:href=\"#DejaVuSans-97\"/>\r\n       <use x=\"332.324219\" xlink:href=\"#DejaVuSans-116\"/>\r\n      </g>\r\n     </g>\r\n    </g>\r\n    <g id=\"ytick_12\">\r\n     <g id=\"line2d_21\">\r\n      <g>\r\n       <use style=\"stroke:#000000;stroke-width:0.8;\" x=\"166.496875\" xlink:href=\"#m80ee49a4a2\" y=\"180.85\"/>\r\n      </g>\r\n     </g>\r\n     <g id=\"text_22\">\r\n      <!-- Haryana -->\r\n      <defs>\r\n       <path d=\"M 32.171875 -5.078125 \r\nQ 28.375 -14.84375 24.75 -17.8125 \r\nQ 21.140625 -20.796875 15.09375 -20.796875 \r\nL 7.90625 -20.796875 \r\nL 7.90625 -13.28125 \r\nL 13.1875 -13.28125 \r\nQ 16.890625 -13.28125 18.9375 -11.515625 \r\nQ 21 -9.765625 23.484375 -3.21875 \r\nL 25.09375 0.875 \r\nL 2.984375 54.6875 \r\nL 12.5 54.6875 \r\nL 29.59375 11.921875 \r\nL 46.6875 54.6875 \r\nL 56.203125 54.6875 \r\nz\r\n\" id=\"DejaVuSans-121\"/>\r\n      </defs>\r\n      <g transform=\"translate(117.225 184.649219)scale(0.1 -0.1)\">\r\n       <use xlink:href=\"#DejaVuSans-72\"/>\r\n       <use x=\"75.195312\" xlink:href=\"#DejaVuSans-97\"/>\r\n       <use x=\"136.474609\" xlink:href=\"#DejaVuSans-114\"/>\r\n       <use x=\"177.587891\" xlink:href=\"#DejaVuSans-121\"/>\r\n       <use x=\"236.767578\" xlink:href=\"#DejaVuSans-97\"/>\r\n       <use x=\"298.046875\" xlink:href=\"#DejaVuSans-110\"/>\r\n       <use x=\"361.425781\" xlink:href=\"#DejaVuSans-97\"/>\r\n      </g>\r\n     </g>\r\n    </g>\r\n    <g id=\"ytick_13\">\r\n     <g id=\"line2d_22\">\r\n      <g>\r\n       <use style=\"stroke:#000000;stroke-width:0.8;\" x=\"166.496875\" xlink:href=\"#m80ee49a4a2\" y=\"195.95\"/>\r\n      </g>\r\n     </g>\r\n     <g id=\"text_23\">\r\n      <!-- Himachal Pradesh -->\r\n      <g transform=\"translate(69.09375 199.749219)scale(0.1 -0.1)\">\r\n       <use xlink:href=\"#DejaVuSans-72\"/>\r\n       <use x=\"75.195312\" xlink:href=\"#DejaVuSans-105\"/>\r\n       <use x=\"102.978516\" xlink:href=\"#DejaVuSans-109\"/>\r\n       <use x=\"200.390625\" xlink:href=\"#DejaVuSans-97\"/>\r\n       <use x=\"261.669922\" xlink:href=\"#DejaVuSans-99\"/>\r\n       <use x=\"316.650391\" xlink:href=\"#DejaVuSans-104\"/>\r\n       <use x=\"380.029297\" xlink:href=\"#DejaVuSans-97\"/>\r\n       <use x=\"441.308594\" xlink:href=\"#DejaVuSans-108\"/>\r\n       <use x=\"469.091797\" xlink:href=\"#DejaVuSans-32\"/>\r\n       <use x=\"500.878906\" xlink:href=\"#DejaVuSans-80\"/>\r\n       <use x=\"561.166016\" xlink:href=\"#DejaVuSans-114\"/>\r\n       <use x=\"602.279297\" xlink:href=\"#DejaVuSans-97\"/>\r\n       <use x=\"663.558594\" xlink:href=\"#DejaVuSans-100\"/>\r\n       <use x=\"727.035156\" xlink:href=\"#DejaVuSans-101\"/>\r\n       <use x=\"788.558594\" xlink:href=\"#DejaVuSans-115\"/>\r\n       <use x=\"840.658203\" xlink:href=\"#DejaVuSans-104\"/>\r\n      </g>\r\n     </g>\r\n    </g>\r\n    <g id=\"ytick_14\">\r\n     <g id=\"line2d_23\">\r\n      <g>\r\n       <use style=\"stroke:#000000;stroke-width:0.8;\" x=\"166.496875\" xlink:href=\"#m80ee49a4a2\" y=\"211.05\"/>\r\n      </g>\r\n     </g>\r\n     <g id=\"text_24\">\r\n      <!-- Jammu &amp; Kashmir -->\r\n      <defs>\r\n       <path d=\"M 9.8125 72.90625 \r\nL 19.671875 72.90625 \r\nL 19.671875 5.078125 \r\nQ 19.671875 -8.109375 14.671875 -14.0625 \r\nQ 9.671875 -20.015625 -1.421875 -20.015625 \r\nL -5.171875 -20.015625 \r\nL -5.171875 -11.71875 \r\nL -2.09375 -11.71875 \r\nQ 4.4375 -11.71875 7.125 -8.046875 \r\nQ 9.8125 -4.390625 9.8125 5.078125 \r\nz\r\n\" id=\"DejaVuSans-74\"/>\r\n       <path d=\"M 9.8125 72.90625 \r\nL 19.671875 72.90625 \r\nL 19.671875 42.09375 \r\nL 52.390625 72.90625 \r\nL 65.09375 72.90625 \r\nL 28.90625 38.921875 \r\nL 67.671875 0 \r\nL 54.6875 0 \r\nL 19.671875 35.109375 \r\nL 19.671875 0 \r\nL 9.8125 0 \r\nz\r\n\" id=\"DejaVuSans-75\"/>\r\n      </defs>\r\n      <g transform=\"translate(69.584375 214.849219)scale(0.1 -0.1)\">\r\n       <use xlink:href=\"#DejaVuSans-74\"/>\r\n       <use x=\"29.492188\" xlink:href=\"#DejaVuSans-97\"/>\r\n       <use x=\"90.771484\" xlink:href=\"#DejaVuSans-109\"/>\r\n       <use x=\"188.183594\" xlink:href=\"#DejaVuSans-109\"/>\r\n       <use x=\"285.595703\" xlink:href=\"#DejaVuSans-117\"/>\r\n       <use x=\"348.974609\" xlink:href=\"#DejaVuSans-32\"/>\r\n       <use x=\"380.761719\" xlink:href=\"#DejaVuSans-38\"/>\r\n       <use x=\"458.740234\" xlink:href=\"#DejaVuSans-32\"/>\r\n       <use x=\"490.527344\" xlink:href=\"#DejaVuSans-75\"/>\r\n       <use x=\"556.087891\" xlink:href=\"#DejaVuSans-97\"/>\r\n       <use x=\"617.367188\" xlink:href=\"#DejaVuSans-115\"/>\r\n       <use x=\"669.466797\" xlink:href=\"#DejaVuSans-104\"/>\r\n       <use x=\"732.845703\" xlink:href=\"#DejaVuSans-109\"/>\r\n       <use x=\"830.257812\" xlink:href=\"#DejaVuSans-105\"/>\r\n       <use x=\"858.041016\" xlink:href=\"#DejaVuSans-114\"/>\r\n      </g>\r\n     </g>\r\n    </g>\r\n    <g id=\"ytick_15\">\r\n     <g id=\"line2d_24\">\r\n      <g>\r\n       <use style=\"stroke:#000000;stroke-width:0.8;\" x=\"166.496875\" xlink:href=\"#m80ee49a4a2\" y=\"226.15\"/>\r\n      </g>\r\n     </g>\r\n     <g id=\"text_25\">\r\n      <!-- Jharkhand -->\r\n      <defs>\r\n       <path d=\"M 9.078125 75.984375 \r\nL 18.109375 75.984375 \r\nL 18.109375 31.109375 \r\nL 44.921875 54.6875 \r\nL 56.390625 54.6875 \r\nL 27.390625 29.109375 \r\nL 57.625 0 \r\nL 45.90625 0 \r\nL 18.109375 26.703125 \r\nL 18.109375 0 \r\nL 9.078125 0 \r\nz\r\n\" id=\"DejaVuSans-107\"/>\r\n      </defs>\r\n      <g transform=\"translate(109.028125 229.949219)scale(0.1 -0.1)\">\r\n       <use xlink:href=\"#DejaVuSans-74\"/>\r\n       <use x=\"29.492188\" xlink:href=\"#DejaVuSans-104\"/>\r\n       <use x=\"92.871094\" xlink:href=\"#DejaVuSans-97\"/>\r\n       <use x=\"154.150391\" xlink:href=\"#DejaVuSans-114\"/>\r\n       <use x=\"195.263672\" xlink:href=\"#DejaVuSans-107\"/>\r\n       <use x=\"253.173828\" xlink:href=\"#DejaVuSans-104\"/>\r\n       <use x=\"316.552734\" xlink:href=\"#DejaVuSans-97\"/>\r\n       <use x=\"377.832031\" xlink:href=\"#DejaVuSans-110\"/>\r\n       <use x=\"441.210938\" xlink:href=\"#DejaVuSans-100\"/>\r\n      </g>\r\n     </g>\r\n    </g>\r\n    <g id=\"ytick_16\">\r\n     <g id=\"line2d_25\">\r\n      <g>\r\n       <use style=\"stroke:#000000;stroke-width:0.8;\" x=\"166.496875\" xlink:href=\"#m80ee49a4a2\" y=\"241.25\"/>\r\n      </g>\r\n     </g>\r\n     <g id=\"text_26\">\r\n      <!-- Karnataka -->\r\n      <g transform=\"translate(108.271875 245.049219)scale(0.1 -0.1)\">\r\n       <use xlink:href=\"#DejaVuSans-75\"/>\r\n       <use x=\"65.560547\" xlink:href=\"#DejaVuSans-97\"/>\r\n       <use x=\"126.839844\" xlink:href=\"#DejaVuSans-114\"/>\r\n       <use x=\"167.9375\" xlink:href=\"#DejaVuSans-110\"/>\r\n       <use x=\"231.316406\" xlink:href=\"#DejaVuSans-97\"/>\r\n       <use x=\"292.595703\" xlink:href=\"#DejaVuSans-116\"/>\r\n       <use x=\"331.804688\" xlink:href=\"#DejaVuSans-97\"/>\r\n       <use x=\"393.083984\" xlink:href=\"#DejaVuSans-107\"/>\r\n       <use x=\"450.978516\" xlink:href=\"#DejaVuSans-97\"/>\r\n      </g>\r\n     </g>\r\n    </g>\r\n    <g id=\"ytick_17\">\r\n     <g id=\"line2d_26\">\r\n      <g>\r\n       <use style=\"stroke:#000000;stroke-width:0.8;\" x=\"166.496875\" xlink:href=\"#m80ee49a4a2\" y=\"256.35\"/>\r\n      </g>\r\n     </g>\r\n     <g id=\"text_27\">\r\n      <!-- Kerala -->\r\n      <g transform=\"translate(127.648438 260.149219)scale(0.1 -0.1)\">\r\n       <use xlink:href=\"#DejaVuSans-75\"/>\r\n       <use x=\"65.498047\" xlink:href=\"#DejaVuSans-101\"/>\r\n       <use x=\"127.021484\" xlink:href=\"#DejaVuSans-114\"/>\r\n       <use x=\"168.134766\" xlink:href=\"#DejaVuSans-97\"/>\r\n       <use x=\"229.414062\" xlink:href=\"#DejaVuSans-108\"/>\r\n       <use x=\"257.197266\" xlink:href=\"#DejaVuSans-97\"/>\r\n      </g>\r\n     </g>\r\n    </g>\r\n    <g id=\"ytick_18\">\r\n     <g id=\"line2d_27\">\r\n      <g>\r\n       <use style=\"stroke:#000000;stroke-width:0.8;\" x=\"166.496875\" xlink:href=\"#m80ee49a4a2\" y=\"271.45\"/>\r\n      </g>\r\n     </g>\r\n     <g id=\"text_28\">\r\n      <!-- Lakshadweep -->\r\n      <defs>\r\n       <path d=\"M 9.8125 72.90625 \r\nL 19.671875 72.90625 \r\nL 19.671875 8.296875 \r\nL 55.171875 8.296875 \r\nL 55.171875 0 \r\nL 9.8125 0 \r\nz\r\n\" id=\"DejaVuSans-76\"/>\r\n       <path d=\"M 4.203125 54.6875 \r\nL 13.1875 54.6875 \r\nL 24.421875 12.015625 \r\nL 35.59375 54.6875 \r\nL 46.1875 54.6875 \r\nL 57.421875 12.015625 \r\nL 68.609375 54.6875 \r\nL 77.59375 54.6875 \r\nL 63.28125 0 \r\nL 52.6875 0 \r\nL 40.921875 44.828125 \r\nL 29.109375 0 \r\nL 18.5 0 \r\nz\r\n\" id=\"DejaVuSans-119\"/>\r\n       <path d=\"M 18.109375 8.203125 \r\nL 18.109375 -20.796875 \r\nL 9.078125 -20.796875 \r\nL 9.078125 54.6875 \r\nL 18.109375 54.6875 \r\nL 18.109375 46.390625 \r\nQ 20.953125 51.265625 25.265625 53.625 \r\nQ 29.59375 56 35.59375 56 \r\nQ 45.5625 56 51.78125 48.09375 \r\nQ 58.015625 40.1875 58.015625 27.296875 \r\nQ 58.015625 14.40625 51.78125 6.484375 \r\nQ 45.5625 -1.421875 35.59375 -1.421875 \r\nQ 29.59375 -1.421875 25.265625 0.953125 \r\nQ 20.953125 3.328125 18.109375 8.203125 \r\nz\r\nM 48.6875 27.296875 \r\nQ 48.6875 37.203125 44.609375 42.84375 \r\nQ 40.53125 48.484375 33.40625 48.484375 \r\nQ 26.265625 48.484375 22.1875 42.84375 \r\nQ 18.109375 37.203125 18.109375 27.296875 \r\nQ 18.109375 17.390625 22.1875 11.75 \r\nQ 26.265625 6.109375 33.40625 6.109375 \r\nQ 40.53125 6.109375 44.609375 11.75 \r\nQ 48.6875 17.390625 48.6875 27.296875 \r\nz\r\n\" id=\"DejaVuSans-112\"/>\r\n      </defs>\r\n      <g transform=\"translate(91.15 275.249219)scale(0.1 -0.1)\">\r\n       <use xlink:href=\"#DejaVuSans-76\"/>\r\n       <use x=\"55.712891\" xlink:href=\"#DejaVuSans-97\"/>\r\n       <use x=\"116.992188\" xlink:href=\"#DejaVuSans-107\"/>\r\n       <use x=\"174.902344\" xlink:href=\"#DejaVuSans-115\"/>\r\n       <use x=\"227.001953\" xlink:href=\"#DejaVuSans-104\"/>\r\n       <use x=\"290.380859\" xlink:href=\"#DejaVuSans-97\"/>\r\n       <use x=\"351.660156\" xlink:href=\"#DejaVuSans-100\"/>\r\n       <use x=\"415.136719\" xlink:href=\"#DejaVuSans-119\"/>\r\n       <use x=\"496.923828\" xlink:href=\"#DejaVuSans-101\"/>\r\n       <use x=\"558.447266\" xlink:href=\"#DejaVuSans-101\"/>\r\n       <use x=\"619.970703\" xlink:href=\"#DejaVuSans-112\"/>\r\n      </g>\r\n     </g>\r\n    </g>\r\n    <g id=\"ytick_19\">\r\n     <g id=\"line2d_28\">\r\n      <g>\r\n       <use style=\"stroke:#000000;stroke-width:0.8;\" x=\"166.496875\" xlink:href=\"#m80ee49a4a2\" y=\"286.55\"/>\r\n      </g>\r\n     </g>\r\n     <g id=\"text_29\">\r\n      <!-- Madhya Pradesh -->\r\n      <defs>\r\n       <path d=\"M 9.8125 72.90625 \r\nL 24.515625 72.90625 \r\nL 43.109375 23.296875 \r\nL 61.8125 72.90625 \r\nL 76.515625 72.90625 \r\nL 76.515625 0 \r\nL 66.890625 0 \r\nL 66.890625 64.015625 \r\nL 48.09375 14.015625 \r\nL 38.1875 14.015625 \r\nL 19.390625 64.015625 \r\nL 19.390625 0 \r\nL 9.8125 0 \r\nz\r\n\" id=\"DejaVuSans-77\"/>\r\n      </defs>\r\n      <g transform=\"translate(76.514063 290.349219)scale(0.1 -0.1)\">\r\n       <use xlink:href=\"#DejaVuSans-77\"/>\r\n       <use x=\"86.279297\" xlink:href=\"#DejaVuSans-97\"/>\r\n       <use x=\"147.558594\" xlink:href=\"#DejaVuSans-100\"/>\r\n       <use x=\"211.035156\" xlink:href=\"#DejaVuSans-104\"/>\r\n       <use x=\"274.414062\" xlink:href=\"#DejaVuSans-121\"/>\r\n       <use x=\"333.59375\" xlink:href=\"#DejaVuSans-97\"/>\r\n       <use x=\"394.873047\" xlink:href=\"#DejaVuSans-32\"/>\r\n       <use x=\"426.660156\" xlink:href=\"#DejaVuSans-80\"/>\r\n       <use x=\"486.947266\" xlink:href=\"#DejaVuSans-114\"/>\r\n       <use x=\"528.060547\" xlink:href=\"#DejaVuSans-97\"/>\r\n       <use x=\"589.339844\" xlink:href=\"#DejaVuSans-100\"/>\r\n       <use x=\"652.816406\" xlink:href=\"#DejaVuSans-101\"/>\r\n       <use x=\"714.339844\" xlink:href=\"#DejaVuSans-115\"/>\r\n       <use x=\"766.439453\" xlink:href=\"#DejaVuSans-104\"/>\r\n      </g>\r\n     </g>\r\n    </g>\r\n    <g id=\"ytick_20\">\r\n     <g id=\"line2d_29\">\r\n      <g>\r\n       <use style=\"stroke:#000000;stroke-width:0.8;\" x=\"166.496875\" xlink:href=\"#m80ee49a4a2\" y=\"301.65\"/>\r\n      </g>\r\n     </g>\r\n     <g id=\"text_30\">\r\n      <!-- Maharashtra -->\r\n      <g transform=\"translate(96.329688 305.449219)scale(0.1 -0.1)\">\r\n       <use xlink:href=\"#DejaVuSans-77\"/>\r\n       <use x=\"86.279297\" xlink:href=\"#DejaVuSans-97\"/>\r\n       <use x=\"147.558594\" xlink:href=\"#DejaVuSans-104\"/>\r\n       <use x=\"210.9375\" xlink:href=\"#DejaVuSans-97\"/>\r\n       <use x=\"272.216797\" xlink:href=\"#DejaVuSans-114\"/>\r\n       <use x=\"313.330078\" xlink:href=\"#DejaVuSans-97\"/>\r\n       <use x=\"374.609375\" xlink:href=\"#DejaVuSans-115\"/>\r\n       <use x=\"426.708984\" xlink:href=\"#DejaVuSans-104\"/>\r\n       <use x=\"490.087891\" xlink:href=\"#DejaVuSans-116\"/>\r\n       <use x=\"529.296875\" xlink:href=\"#DejaVuSans-114\"/>\r\n       <use x=\"570.410156\" xlink:href=\"#DejaVuSans-97\"/>\r\n      </g>\r\n     </g>\r\n    </g>\r\n    <g id=\"ytick_21\">\r\n     <g id=\"line2d_30\">\r\n      <g>\r\n       <use style=\"stroke:#000000;stroke-width:0.8;\" x=\"166.496875\" xlink:href=\"#m80ee49a4a2\" y=\"316.75\"/>\r\n      </g>\r\n     </g>\r\n     <g id=\"text_31\">\r\n      <!-- Manipur -->\r\n      <g transform=\"translate(118.828125 320.549219)scale(0.1 -0.1)\">\r\n       <use xlink:href=\"#DejaVuSans-77\"/>\r\n       <use x=\"86.279297\" xlink:href=\"#DejaVuSans-97\"/>\r\n       <use x=\"147.558594\" xlink:href=\"#DejaVuSans-110\"/>\r\n       <use x=\"210.9375\" xlink:href=\"#DejaVuSans-105\"/>\r\n       <use x=\"238.720703\" xlink:href=\"#DejaVuSans-112\"/>\r\n       <use x=\"302.197266\" xlink:href=\"#DejaVuSans-117\"/>\r\n       <use x=\"365.576172\" xlink:href=\"#DejaVuSans-114\"/>\r\n      </g>\r\n     </g>\r\n    </g>\r\n    <g id=\"ytick_22\">\r\n     <g id=\"line2d_31\">\r\n      <g>\r\n       <use style=\"stroke:#000000;stroke-width:0.8;\" x=\"166.496875\" xlink:href=\"#m80ee49a4a2\" y=\"331.85\"/>\r\n      </g>\r\n     </g>\r\n     <g id=\"text_32\">\r\n      <!-- Meghalaya -->\r\n      <g transform=\"translate(104.948438 335.649219)scale(0.1 -0.1)\">\r\n       <use xlink:href=\"#DejaVuSans-77\"/>\r\n       <use x=\"86.279297\" xlink:href=\"#DejaVuSans-101\"/>\r\n       <use x=\"147.802734\" xlink:href=\"#DejaVuSans-103\"/>\r\n       <use x=\"211.279297\" xlink:href=\"#DejaVuSans-104\"/>\r\n       <use x=\"274.658203\" xlink:href=\"#DejaVuSans-97\"/>\r\n       <use x=\"335.9375\" xlink:href=\"#DejaVuSans-108\"/>\r\n       <use x=\"363.720703\" xlink:href=\"#DejaVuSans-97\"/>\r\n       <use x=\"425\" xlink:href=\"#DejaVuSans-121\"/>\r\n       <use x=\"484.179688\" xlink:href=\"#DejaVuSans-97\"/>\r\n      </g>\r\n     </g>\r\n    </g>\r\n    <g id=\"ytick_23\">\r\n     <g id=\"line2d_32\">\r\n      <g>\r\n       <use style=\"stroke:#000000;stroke-width:0.8;\" x=\"166.496875\" xlink:href=\"#m80ee49a4a2\" y=\"346.95\"/>\r\n      </g>\r\n     </g>\r\n     <g id=\"text_33\">\r\n      <!-- Mizoram -->\r\n      <defs>\r\n       <path d=\"M 5.515625 54.6875 \r\nL 48.1875 54.6875 \r\nL 48.1875 46.484375 \r\nL 14.40625 7.171875 \r\nL 48.1875 7.171875 \r\nL 48.1875 0 \r\nL 4.296875 0 \r\nL 4.296875 8.203125 \r\nL 38.09375 47.515625 \r\nL 5.515625 47.515625 \r\nz\r\n\" id=\"DejaVuSans-122\"/>\r\n      </defs>\r\n      <g transform=\"translate(116.74375 350.749219)scale(0.1 -0.1)\">\r\n       <use xlink:href=\"#DejaVuSans-77\"/>\r\n       <use x=\"86.279297\" xlink:href=\"#DejaVuSans-105\"/>\r\n       <use x=\"114.0625\" xlink:href=\"#DejaVuSans-122\"/>\r\n       <use x=\"166.552734\" xlink:href=\"#DejaVuSans-111\"/>\r\n       <use x=\"227.734375\" xlink:href=\"#DejaVuSans-114\"/>\r\n       <use x=\"268.847656\" xlink:href=\"#DejaVuSans-97\"/>\r\n       <use x=\"330.126953\" xlink:href=\"#DejaVuSans-109\"/>\r\n      </g>\r\n     </g>\r\n    </g>\r\n    <g id=\"ytick_24\">\r\n     <g id=\"line2d_33\">\r\n      <g>\r\n       <use style=\"stroke:#000000;stroke-width:0.8;\" x=\"166.496875\" xlink:href=\"#m80ee49a4a2\" y=\"362.05\"/>\r\n      </g>\r\n     </g>\r\n     <g id=\"text_34\">\r\n      <!-- NCT OF Delhi -->\r\n      <defs>\r\n       <path d=\"M 9.8125 72.90625 \r\nL 51.703125 72.90625 \r\nL 51.703125 64.59375 \r\nL 19.671875 64.59375 \r\nL 19.671875 43.109375 \r\nL 48.578125 43.109375 \r\nL 48.578125 34.8125 \r\nL 19.671875 34.8125 \r\nL 19.671875 0 \r\nL 9.8125 0 \r\nz\r\n\" id=\"DejaVuSans-70\"/>\r\n      </defs>\r\n      <g transform=\"translate(93.198438 365.849219)scale(0.1 -0.1)\">\r\n       <use xlink:href=\"#DejaVuSans-78\"/>\r\n       <use x=\"74.804688\" xlink:href=\"#DejaVuSans-67\"/>\r\n       <use x=\"144.628906\" xlink:href=\"#DejaVuSans-84\"/>\r\n       <use x=\"205.712891\" xlink:href=\"#DejaVuSans-32\"/>\r\n       <use x=\"237.5\" xlink:href=\"#DejaVuSans-79\"/>\r\n       <use x=\"316.210938\" xlink:href=\"#DejaVuSans-70\"/>\r\n       <use x=\"373.730469\" xlink:href=\"#DejaVuSans-32\"/>\r\n       <use x=\"405.517578\" xlink:href=\"#DejaVuSans-68\"/>\r\n       <use x=\"482.519531\" xlink:href=\"#DejaVuSans-101\"/>\r\n       <use x=\"544.042969\" xlink:href=\"#DejaVuSans-108\"/>\r\n       <use x=\"571.826172\" xlink:href=\"#DejaVuSans-104\"/>\r\n       <use x=\"635.205078\" xlink:href=\"#DejaVuSans-105\"/>\r\n      </g>\r\n     </g>\r\n    </g>\r\n    <g id=\"ytick_25\">\r\n     <g id=\"line2d_34\">\r\n      <g>\r\n       <use style=\"stroke:#000000;stroke-width:0.8;\" x=\"166.496875\" xlink:href=\"#m80ee49a4a2\" y=\"377.15\"/>\r\n      </g>\r\n     </g>\r\n     <g id=\"text_35\">\r\n      <!-- Nagaland -->\r\n      <g transform=\"translate(111.81875 380.949219)scale(0.1 -0.1)\">\r\n       <use xlink:href=\"#DejaVuSans-78\"/>\r\n       <use x=\"74.804688\" xlink:href=\"#DejaVuSans-97\"/>\r\n       <use x=\"136.083984\" xlink:href=\"#DejaVuSans-103\"/>\r\n       <use x=\"199.560547\" xlink:href=\"#DejaVuSans-97\"/>\r\n       <use x=\"260.839844\" xlink:href=\"#DejaVuSans-108\"/>\r\n       <use x=\"288.623047\" xlink:href=\"#DejaVuSans-97\"/>\r\n       <use x=\"349.902344\" xlink:href=\"#DejaVuSans-110\"/>\r\n       <use x=\"413.28125\" xlink:href=\"#DejaVuSans-100\"/>\r\n      </g>\r\n     </g>\r\n    </g>\r\n    <g id=\"ytick_26\">\r\n     <g id=\"line2d_35\">\r\n      <g>\r\n       <use style=\"stroke:#000000;stroke-width:0.8;\" x=\"166.496875\" xlink:href=\"#m80ee49a4a2\" y=\"392.25\"/>\r\n      </g>\r\n     </g>\r\n     <g id=\"text_36\">\r\n      <!-- Odisha -->\r\n      <g transform=\"translate(124.823438 396.049219)scale(0.1 -0.1)\">\r\n       <use xlink:href=\"#DejaVuSans-79\"/>\r\n       <use x=\"78.710938\" xlink:href=\"#DejaVuSans-100\"/>\r\n       <use x=\"142.1875\" xlink:href=\"#DejaVuSans-105\"/>\r\n       <use x=\"169.970703\" xlink:href=\"#DejaVuSans-115\"/>\r\n       <use x=\"222.070312\" xlink:href=\"#DejaVuSans-104\"/>\r\n       <use x=\"285.449219\" xlink:href=\"#DejaVuSans-97\"/>\r\n      </g>\r\n     </g>\r\n    </g>\r\n    <g id=\"ytick_27\">\r\n     <g id=\"line2d_36\">\r\n      <g>\r\n       <use style=\"stroke:#000000;stroke-width:0.8;\" x=\"166.496875\" xlink:href=\"#m80ee49a4a2\" y=\"407.35\"/>\r\n      </g>\r\n     </g>\r\n     <g id=\"text_37\">\r\n      <!-- Puducherry -->\r\n      <g transform=\"translate(102.317188 411.149219)scale(0.1 -0.1)\">\r\n       <use xlink:href=\"#DejaVuSans-80\"/>\r\n       <use x=\"60.287109\" xlink:href=\"#DejaVuSans-117\"/>\r\n       <use x=\"123.666016\" xlink:href=\"#DejaVuSans-100\"/>\r\n       <use x=\"187.142578\" xlink:href=\"#DejaVuSans-117\"/>\r\n       <use x=\"250.521484\" xlink:href=\"#DejaVuSans-99\"/>\r\n       <use x=\"305.501953\" xlink:href=\"#DejaVuSans-104\"/>\r\n       <use x=\"368.880859\" xlink:href=\"#DejaVuSans-101\"/>\r\n       <use x=\"430.404297\" xlink:href=\"#DejaVuSans-114\"/>\r\n       <use x=\"471.501953\" xlink:href=\"#DejaVuSans-114\"/>\r\n       <use x=\"512.615234\" xlink:href=\"#DejaVuSans-121\"/>\r\n      </g>\r\n     </g>\r\n    </g>\r\n    <g id=\"ytick_28\">\r\n     <g id=\"line2d_37\">\r\n      <g>\r\n       <use style=\"stroke:#000000;stroke-width:0.8;\" x=\"166.496875\" xlink:href=\"#m80ee49a4a2\" y=\"422.45\"/>\r\n      </g>\r\n     </g>\r\n     <g id=\"text_38\">\r\n      <!-- Punjab -->\r\n      <g transform=\"translate(125.539063 426.249219)scale(0.1 -0.1)\">\r\n       <use xlink:href=\"#DejaVuSans-80\"/>\r\n       <use x=\"60.287109\" xlink:href=\"#DejaVuSans-117\"/>\r\n       <use x=\"123.666016\" xlink:href=\"#DejaVuSans-110\"/>\r\n       <use x=\"187.044922\" xlink:href=\"#DejaVuSans-106\"/>\r\n       <use x=\"214.828125\" xlink:href=\"#DejaVuSans-97\"/>\r\n       <use x=\"276.107422\" xlink:href=\"#DejaVuSans-98\"/>\r\n      </g>\r\n     </g>\r\n    </g>\r\n    <g id=\"ytick_29\">\r\n     <g id=\"line2d_38\">\r\n      <g>\r\n       <use style=\"stroke:#000000;stroke-width:0.8;\" x=\"166.496875\" xlink:href=\"#m80ee49a4a2\" y=\"437.55\"/>\r\n      </g>\r\n     </g>\r\n     <g id=\"text_39\">\r\n      <!-- Rajasthan -->\r\n      <defs>\r\n       <path d=\"M 44.390625 34.1875 \r\nQ 47.5625 33.109375 50.5625 29.59375 \r\nQ 53.5625 26.078125 56.59375 19.921875 \r\nL 66.609375 0 \r\nL 56 0 \r\nL 46.6875 18.703125 \r\nQ 43.0625 26.03125 39.671875 28.421875 \r\nQ 36.28125 30.8125 30.421875 30.8125 \r\nL 19.671875 30.8125 \r\nL 19.671875 0 \r\nL 9.8125 0 \r\nL 9.8125 72.90625 \r\nL 32.078125 72.90625 \r\nQ 44.578125 72.90625 50.734375 67.671875 \r\nQ 56.890625 62.453125 56.890625 51.90625 \r\nQ 56.890625 45.015625 53.6875 40.46875 \r\nQ 50.484375 35.9375 44.390625 34.1875 \r\nz\r\nM 19.671875 64.796875 \r\nL 19.671875 38.921875 \r\nL 32.078125 38.921875 \r\nQ 39.203125 38.921875 42.84375 42.21875 \r\nQ 46.484375 45.515625 46.484375 51.90625 \r\nQ 46.484375 58.296875 42.84375 61.546875 \r\nQ 39.203125 64.796875 32.078125 64.796875 \r\nz\r\n\" id=\"DejaVuSans-82\"/>\r\n      </defs>\r\n      <g transform=\"translate(109.584375 441.349219)scale(0.1 -0.1)\">\r\n       <use xlink:href=\"#DejaVuSans-82\"/>\r\n       <use x=\"69.451172\" xlink:href=\"#DejaVuSans-97\"/>\r\n       <use x=\"130.730469\" xlink:href=\"#DejaVuSans-106\"/>\r\n       <use x=\"158.513672\" xlink:href=\"#DejaVuSans-97\"/>\r\n       <use x=\"219.792969\" xlink:href=\"#DejaVuSans-115\"/>\r\n       <use x=\"271.892578\" xlink:href=\"#DejaVuSans-116\"/>\r\n       <use x=\"311.101562\" xlink:href=\"#DejaVuSans-104\"/>\r\n       <use x=\"374.480469\" xlink:href=\"#DejaVuSans-97\"/>\r\n       <use x=\"435.759766\" xlink:href=\"#DejaVuSans-110\"/>\r\n      </g>\r\n     </g>\r\n    </g>\r\n    <g id=\"ytick_30\">\r\n     <g id=\"line2d_39\">\r\n      <g>\r\n       <use style=\"stroke:#000000;stroke-width:0.8;\" x=\"166.496875\" xlink:href=\"#m80ee49a4a2\" y=\"452.65\"/>\r\n      </g>\r\n     </g>\r\n     <g id=\"text_40\">\r\n      <!-- Sikkim -->\r\n      <g transform=\"translate(126.270313 456.449219)scale(0.1 -0.1)\">\r\n       <use xlink:href=\"#DejaVuSans-83\"/>\r\n       <use x=\"63.476562\" xlink:href=\"#DejaVuSans-105\"/>\r\n       <use x=\"91.259766\" xlink:href=\"#DejaVuSans-107\"/>\r\n       <use x=\"149.169922\" xlink:href=\"#DejaVuSans-107\"/>\r\n       <use x=\"207.080078\" xlink:href=\"#DejaVuSans-105\"/>\r\n       <use x=\"234.863281\" xlink:href=\"#DejaVuSans-109\"/>\r\n      </g>\r\n     </g>\r\n    </g>\r\n    <g id=\"ytick_31\">\r\n     <g id=\"line2d_40\">\r\n      <g>\r\n       <use style=\"stroke:#000000;stroke-width:0.8;\" x=\"166.496875\" xlink:href=\"#m80ee49a4a2\" y=\"467.75\"/>\r\n      </g>\r\n     </g>\r\n     <g id=\"text_41\">\r\n      <!-- Tamil Nadu -->\r\n      <g transform=\"translate(102.515625 471.549219)scale(0.1 -0.1)\">\r\n       <use xlink:href=\"#DejaVuSans-84\"/>\r\n       <use x=\"60.833984\" xlink:href=\"#DejaVuSans-97\"/>\r\n       <use x=\"122.113281\" xlink:href=\"#DejaVuSans-109\"/>\r\n       <use x=\"219.525391\" xlink:href=\"#DejaVuSans-105\"/>\r\n       <use x=\"247.308594\" xlink:href=\"#DejaVuSans-108\"/>\r\n       <use x=\"275.091797\" xlink:href=\"#DejaVuSans-32\"/>\r\n       <use x=\"306.878906\" xlink:href=\"#DejaVuSans-78\"/>\r\n       <use x=\"381.683594\" xlink:href=\"#DejaVuSans-97\"/>\r\n       <use x=\"442.962891\" xlink:href=\"#DejaVuSans-100\"/>\r\n       <use x=\"506.439453\" xlink:href=\"#DejaVuSans-117\"/>\r\n      </g>\r\n     </g>\r\n    </g>\r\n    <g id=\"ytick_32\">\r\n     <g id=\"line2d_41\">\r\n      <g>\r\n       <use style=\"stroke:#000000;stroke-width:0.8;\" x=\"166.496875\" xlink:href=\"#m80ee49a4a2\" y=\"482.85\"/>\r\n      </g>\r\n     </g>\r\n     <g id=\"text_42\">\r\n      <!-- Telangana -->\r\n      <g transform=\"translate(107.076563 486.649219)scale(0.1 -0.1)\">\r\n       <use xlink:href=\"#DejaVuSans-84\"/>\r\n       <use x=\"60.818359\" xlink:href=\"#DejaVuSans-101\"/>\r\n       <use x=\"122.341797\" xlink:href=\"#DejaVuSans-108\"/>\r\n       <use x=\"150.125\" xlink:href=\"#DejaVuSans-97\"/>\r\n       <use x=\"211.404297\" xlink:href=\"#DejaVuSans-110\"/>\r\n       <use x=\"274.783203\" xlink:href=\"#DejaVuSans-103\"/>\r\n       <use x=\"338.259766\" xlink:href=\"#DejaVuSans-97\"/>\r\n       <use x=\"399.539062\" xlink:href=\"#DejaVuSans-110\"/>\r\n       <use x=\"462.917969\" xlink:href=\"#DejaVuSans-97\"/>\r\n      </g>\r\n     </g>\r\n    </g>\r\n    <g id=\"ytick_33\">\r\n     <g id=\"line2d_42\">\r\n      <g>\r\n       <use style=\"stroke:#000000;stroke-width:0.8;\" x=\"166.496875\" xlink:href=\"#m80ee49a4a2\" y=\"497.95\"/>\r\n      </g>\r\n     </g>\r\n     <g id=\"text_43\">\r\n      <!-- Tripura -->\r\n      <g transform=\"translate(123.596875 501.749219)scale(0.1 -0.1)\">\r\n       <use xlink:href=\"#DejaVuSans-84\"/>\r\n       <use x=\"60.865234\" xlink:href=\"#DejaVuSans-114\"/>\r\n       <use x=\"101.978516\" xlink:href=\"#DejaVuSans-105\"/>\r\n       <use x=\"129.761719\" xlink:href=\"#DejaVuSans-112\"/>\r\n       <use x=\"193.238281\" xlink:href=\"#DejaVuSans-117\"/>\r\n       <use x=\"256.617188\" xlink:href=\"#DejaVuSans-114\"/>\r\n       <use x=\"297.730469\" xlink:href=\"#DejaVuSans-97\"/>\r\n      </g>\r\n     </g>\r\n    </g>\r\n    <g id=\"ytick_34\">\r\n     <g id=\"line2d_43\">\r\n      <g>\r\n       <use style=\"stroke:#000000;stroke-width:0.8;\" x=\"166.496875\" xlink:href=\"#m80ee49a4a2\" y=\"513.05\"/>\r\n      </g>\r\n     </g>\r\n     <g id=\"text_44\">\r\n      <!-- Uttar Pradesh -->\r\n      <g transform=\"translate(90.604688 516.849219)scale(0.1 -0.1)\">\r\n       <use xlink:href=\"#DejaVuSans-85\"/>\r\n       <use x=\"73.193359\" xlink:href=\"#DejaVuSans-116\"/>\r\n       <use x=\"112.402344\" xlink:href=\"#DejaVuSans-116\"/>\r\n       <use x=\"151.611328\" xlink:href=\"#DejaVuSans-97\"/>\r\n       <use x=\"212.890625\" xlink:href=\"#DejaVuSans-114\"/>\r\n       <use x=\"254.003906\" xlink:href=\"#DejaVuSans-32\"/>\r\n       <use x=\"285.791016\" xlink:href=\"#DejaVuSans-80\"/>\r\n       <use x=\"346.078125\" xlink:href=\"#DejaVuSans-114\"/>\r\n       <use x=\"387.191406\" xlink:href=\"#DejaVuSans-97\"/>\r\n       <use x=\"448.470703\" xlink:href=\"#DejaVuSans-100\"/>\r\n       <use x=\"511.947266\" xlink:href=\"#DejaVuSans-101\"/>\r\n       <use x=\"573.470703\" xlink:href=\"#DejaVuSans-115\"/>\r\n       <use x=\"625.570312\" xlink:href=\"#DejaVuSans-104\"/>\r\n      </g>\r\n     </g>\r\n    </g>\r\n    <g id=\"ytick_35\">\r\n     <g id=\"line2d_44\">\r\n      <g>\r\n       <use style=\"stroke:#000000;stroke-width:0.8;\" x=\"166.496875\" xlink:href=\"#m80ee49a4a2\" y=\"528.15\"/>\r\n      </g>\r\n     </g>\r\n     <g id=\"text_45\">\r\n      <!-- Uttarakhand -->\r\n      <g transform=\"translate(97.028125 531.949219)scale(0.1 -0.1)\">\r\n       <use xlink:href=\"#DejaVuSans-85\"/>\r\n       <use x=\"73.193359\" xlink:href=\"#DejaVuSans-116\"/>\r\n       <use x=\"112.402344\" xlink:href=\"#DejaVuSans-116\"/>\r\n       <use x=\"151.611328\" xlink:href=\"#DejaVuSans-97\"/>\r\n       <use x=\"212.890625\" xlink:href=\"#DejaVuSans-114\"/>\r\n       <use x=\"254.003906\" xlink:href=\"#DejaVuSans-97\"/>\r\n       <use x=\"315.283203\" xlink:href=\"#DejaVuSans-107\"/>\r\n       <use x=\"373.193359\" xlink:href=\"#DejaVuSans-104\"/>\r\n       <use x=\"436.572266\" xlink:href=\"#DejaVuSans-97\"/>\r\n       <use x=\"497.851562\" xlink:href=\"#DejaVuSans-110\"/>\r\n       <use x=\"561.230469\" xlink:href=\"#DejaVuSans-100\"/>\r\n      </g>\r\n     </g>\r\n    </g>\r\n    <g id=\"ytick_36\">\r\n     <g id=\"line2d_45\">\r\n      <g>\r\n       <use style=\"stroke:#000000;stroke-width:0.8;\" x=\"166.496875\" xlink:href=\"#m80ee49a4a2\" y=\"543.25\"/>\r\n      </g>\r\n     </g>\r\n     <g id=\"text_46\">\r\n      <!-- West Bengal -->\r\n      <defs>\r\n       <path d=\"M 3.328125 72.90625 \r\nL 13.28125 72.90625 \r\nL 28.609375 11.28125 \r\nL 43.890625 72.90625 \r\nL 54.984375 72.90625 \r\nL 70.3125 11.28125 \r\nL 85.59375 72.90625 \r\nL 95.609375 72.90625 \r\nL 77.296875 0 \r\nL 64.890625 0 \r\nL 49.515625 63.28125 \r\nL 33.984375 0 \r\nL 21.578125 0 \r\nz\r\n\" id=\"DejaVuSans-87\"/>\r\n      </defs>\r\n      <g transform=\"translate(96.55 547.049219)scale(0.1 -0.1)\">\r\n       <use xlink:href=\"#DejaVuSans-87\"/>\r\n       <use x=\"98.798828\" xlink:href=\"#DejaVuSans-101\"/>\r\n       <use x=\"160.322266\" xlink:href=\"#DejaVuSans-115\"/>\r\n       <use x=\"212.421875\" xlink:href=\"#DejaVuSans-116\"/>\r\n       <use x=\"251.630859\" xlink:href=\"#DejaVuSans-32\"/>\r\n       <use x=\"283.417969\" xlink:href=\"#DejaVuSans-66\"/>\r\n       <use x=\"352.021484\" xlink:href=\"#DejaVuSans-101\"/>\r\n       <use x=\"413.544922\" xlink:href=\"#DejaVuSans-110\"/>\r\n       <use x=\"476.923828\" xlink:href=\"#DejaVuSans-103\"/>\r\n       <use x=\"540.400391\" xlink:href=\"#DejaVuSans-97\"/>\r\n       <use x=\"601.679688\" xlink:href=\"#DejaVuSans-108\"/>\r\n      </g>\r\n     </g>\r\n    </g>\r\n    <g id=\"text_47\">\r\n     <!-- STATE -->\r\n     <g transform=\"translate(14.798438 294.850781)rotate(-90)scale(0.1 -0.1)\">\r\n      <use xlink:href=\"#DejaVuSans-83\"/>\r\n      <use x=\"63.476562\" xlink:href=\"#DejaVuSans-84\"/>\r\n      <use x=\"124.451172\" xlink:href=\"#DejaVuSans-65\"/>\r\n      <use x=\"192.75\" xlink:href=\"#DejaVuSans-84\"/>\r\n      <use x=\"253.833984\" xlink:href=\"#DejaVuSans-69\"/>\r\n     </g>\r\n    </g>\r\n   </g>\r\n   <g id=\"line2d_46\">\r\n    <path clip-path=\"url(#pac52837bf0)\" d=\"M 0 0 \r\n\" style=\"fill:none;stroke:#424242;stroke-linecap:square;stroke-width:2.7;\"/>\r\n   </g>\r\n   <g id=\"line2d_47\">\r\n    <path clip-path=\"url(#pac52837bf0)\" d=\"M 0 0 \r\n\" style=\"fill:none;stroke:#424242;stroke-linecap:square;stroke-width:2.7;\"/>\r\n   </g>\r\n   <g id=\"line2d_48\">\r\n    <path clip-path=\"url(#pac52837bf0)\" d=\"M 0 0 \r\n\" style=\"fill:none;stroke:#424242;stroke-linecap:square;stroke-width:2.7;\"/>\r\n   </g>\r\n   <g id=\"line2d_49\">\r\n    <path clip-path=\"url(#pac52837bf0)\" d=\"M 0 0 \r\n\" style=\"fill:none;stroke:#424242;stroke-linecap:square;stroke-width:2.7;\"/>\r\n   </g>\r\n   <g id=\"line2d_50\">\r\n    <path clip-path=\"url(#pac52837bf0)\" d=\"M 0 0 \r\n\" style=\"fill:none;stroke:#424242;stroke-linecap:square;stroke-width:2.7;\"/>\r\n   </g>\r\n   <g id=\"line2d_51\">\r\n    <path clip-path=\"url(#pac52837bf0)\" d=\"M 0 0 \r\n\" style=\"fill:none;stroke:#424242;stroke-linecap:square;stroke-width:2.7;\"/>\r\n   </g>\r\n   <g id=\"line2d_52\">\r\n    <path clip-path=\"url(#pac52837bf0)\" d=\"M 0 0 \r\n\" style=\"fill:none;stroke:#424242;stroke-linecap:square;stroke-width:2.7;\"/>\r\n   </g>\r\n   <g id=\"line2d_53\">\r\n    <path clip-path=\"url(#pac52837bf0)\" d=\"M 0 0 \r\n\" style=\"fill:none;stroke:#424242;stroke-linecap:square;stroke-width:2.7;\"/>\r\n   </g>\r\n   <g id=\"line2d_54\">\r\n    <path clip-path=\"url(#pac52837bf0)\" d=\"M 0 0 \r\n\" style=\"fill:none;stroke:#424242;stroke-linecap:square;stroke-width:2.7;\"/>\r\n   </g>\r\n   <g id=\"line2d_55\">\r\n    <path clip-path=\"url(#pac52837bf0)\" d=\"M 0 0 \r\n\" style=\"fill:none;stroke:#424242;stroke-linecap:square;stroke-width:2.7;\"/>\r\n   </g>\r\n   <g id=\"line2d_56\">\r\n    <path clip-path=\"url(#pac52837bf0)\" d=\"M 0 0 \r\n\" style=\"fill:none;stroke:#424242;stroke-linecap:square;stroke-width:2.7;\"/>\r\n   </g>\r\n   <g id=\"line2d_57\">\r\n    <path clip-path=\"url(#pac52837bf0)\" d=\"M 0 0 \r\n\" style=\"fill:none;stroke:#424242;stroke-linecap:square;stroke-width:2.7;\"/>\r\n   </g>\r\n   <g id=\"line2d_58\">\r\n    <path clip-path=\"url(#pac52837bf0)\" d=\"M 0 0 \r\n\" style=\"fill:none;stroke:#424242;stroke-linecap:square;stroke-width:2.7;\"/>\r\n   </g>\r\n   <g id=\"line2d_59\">\r\n    <path clip-path=\"url(#pac52837bf0)\" d=\"M 0 0 \r\n\" style=\"fill:none;stroke:#424242;stroke-linecap:square;stroke-width:2.7;\"/>\r\n   </g>\r\n   <g id=\"line2d_60\">\r\n    <path clip-path=\"url(#pac52837bf0)\" d=\"M 0 0 \r\n\" style=\"fill:none;stroke:#424242;stroke-linecap:square;stroke-width:2.7;\"/>\r\n   </g>\r\n   <g id=\"line2d_61\">\r\n    <path clip-path=\"url(#pac52837bf0)\" d=\"M 0 0 \r\n\" style=\"fill:none;stroke:#424242;stroke-linecap:square;stroke-width:2.7;\"/>\r\n   </g>\r\n   <g id=\"line2d_62\">\r\n    <path clip-path=\"url(#pac52837bf0)\" d=\"M 0 0 \r\n\" style=\"fill:none;stroke:#424242;stroke-linecap:square;stroke-width:2.7;\"/>\r\n   </g>\r\n   <g id=\"line2d_63\">\r\n    <path clip-path=\"url(#pac52837bf0)\" d=\"M 0 0 \r\n\" style=\"fill:none;stroke:#424242;stroke-linecap:square;stroke-width:2.7;\"/>\r\n   </g>\r\n   <g id=\"line2d_64\">\r\n    <path clip-path=\"url(#pac52837bf0)\" d=\"M 0 0 \r\n\" style=\"fill:none;stroke:#424242;stroke-linecap:square;stroke-width:2.7;\"/>\r\n   </g>\r\n   <g id=\"line2d_65\">\r\n    <path clip-path=\"url(#pac52837bf0)\" d=\"M 0 0 \r\n\" style=\"fill:none;stroke:#424242;stroke-linecap:square;stroke-width:2.7;\"/>\r\n   </g>\r\n   <g id=\"line2d_66\">\r\n    <path clip-path=\"url(#pac52837bf0)\" d=\"M 0 0 \r\n\" style=\"fill:none;stroke:#424242;stroke-linecap:square;stroke-width:2.7;\"/>\r\n   </g>\r\n   <g id=\"line2d_67\">\r\n    <path clip-path=\"url(#pac52837bf0)\" d=\"M 0 0 \r\n\" style=\"fill:none;stroke:#424242;stroke-linecap:square;stroke-width:2.7;\"/>\r\n   </g>\r\n   <g id=\"line2d_68\">\r\n    <path clip-path=\"url(#pac52837bf0)\" d=\"M 0 0 \r\n\" style=\"fill:none;stroke:#424242;stroke-linecap:square;stroke-width:2.7;\"/>\r\n   </g>\r\n   <g id=\"line2d_69\">\r\n    <path clip-path=\"url(#pac52837bf0)\" d=\"M 0 0 \r\n\" style=\"fill:none;stroke:#424242;stroke-linecap:square;stroke-width:2.7;\"/>\r\n   </g>\r\n   <g id=\"line2d_70\">\r\n    <path clip-path=\"url(#pac52837bf0)\" d=\"M 0 0 \r\n\" style=\"fill:none;stroke:#424242;stroke-linecap:square;stroke-width:2.7;\"/>\r\n   </g>\r\n   <g id=\"line2d_71\">\r\n    <path clip-path=\"url(#pac52837bf0)\" d=\"M 0 0 \r\n\" style=\"fill:none;stroke:#424242;stroke-linecap:square;stroke-width:2.7;\"/>\r\n   </g>\r\n   <g id=\"line2d_72\">\r\n    <path clip-path=\"url(#pac52837bf0)\" d=\"M 0 0 \r\n\" style=\"fill:none;stroke:#424242;stroke-linecap:square;stroke-width:2.7;\"/>\r\n   </g>\r\n   <g id=\"line2d_73\">\r\n    <path clip-path=\"url(#pac52837bf0)\" d=\"M 0 0 \r\n\" style=\"fill:none;stroke:#424242;stroke-linecap:square;stroke-width:2.7;\"/>\r\n   </g>\r\n   <g id=\"line2d_74\">\r\n    <path clip-path=\"url(#pac52837bf0)\" d=\"M 0 0 \r\n\" style=\"fill:none;stroke:#424242;stroke-linecap:square;stroke-width:2.7;\"/>\r\n   </g>\r\n   <g id=\"line2d_75\">\r\n    <path clip-path=\"url(#pac52837bf0)\" d=\"M 0 0 \r\n\" style=\"fill:none;stroke:#424242;stroke-linecap:square;stroke-width:2.7;\"/>\r\n   </g>\r\n   <g id=\"line2d_76\">\r\n    <path clip-path=\"url(#pac52837bf0)\" d=\"M 0 0 \r\n\" style=\"fill:none;stroke:#424242;stroke-linecap:square;stroke-width:2.7;\"/>\r\n   </g>\r\n   <g id=\"line2d_77\">\r\n    <path clip-path=\"url(#pac52837bf0)\" d=\"M 0 0 \r\n\" style=\"fill:none;stroke:#424242;stroke-linecap:square;stroke-width:2.7;\"/>\r\n   </g>\r\n   <g id=\"line2d_78\">\r\n    <path clip-path=\"url(#pac52837bf0)\" d=\"M 0 0 \r\n\" style=\"fill:none;stroke:#424242;stroke-linecap:square;stroke-width:2.7;\"/>\r\n   </g>\r\n   <g id=\"line2d_79\">\r\n    <path clip-path=\"url(#pac52837bf0)\" d=\"M 0 0 \r\n\" style=\"fill:none;stroke:#424242;stroke-linecap:square;stroke-width:2.7;\"/>\r\n   </g>\r\n   <g id=\"line2d_80\">\r\n    <path clip-path=\"url(#pac52837bf0)\" d=\"M 0 0 \r\n\" style=\"fill:none;stroke:#424242;stroke-linecap:square;stroke-width:2.7;\"/>\r\n   </g>\r\n   <g id=\"line2d_81\">\r\n    <path clip-path=\"url(#pac52837bf0)\" d=\"M 0 0 \r\n\" style=\"fill:none;stroke:#424242;stroke-linecap:square;stroke-width:2.7;\"/>\r\n   </g>\r\n   <g id=\"patch_39\">\r\n    <path d=\"M 166.496875 550.8 \r\nL 166.496875 7.2 \r\n\" style=\"fill:none;stroke:#000000;stroke-linecap:square;stroke-linejoin:miter;stroke-width:0.8;\"/>\r\n   </g>\r\n   <g id=\"patch_40\">\r\n    <path d=\"M 1003.496875 550.8 \r\nL 1003.496875 7.2 \r\n\" style=\"fill:none;stroke:#000000;stroke-linecap:square;stroke-linejoin:miter;stroke-width:0.8;\"/>\r\n   </g>\r\n   <g id=\"patch_41\">\r\n    <path d=\"M 166.496875 550.8 \r\nL 1003.496875 550.8 \r\n\" style=\"fill:none;stroke:#000000;stroke-linecap:square;stroke-linejoin:miter;stroke-width:0.8;\"/>\r\n   </g>\r\n   <g id=\"patch_42\">\r\n    <path d=\"M 166.496875 7.2 \r\nL 1003.496875 7.2 \r\n\" style=\"fill:none;stroke:#000000;stroke-linecap:square;stroke-linejoin:miter;stroke-width:0.8;\"/>\r\n   </g>\r\n  </g>\r\n </g>\r\n <defs>\r\n  <clipPath id=\"pac52837bf0\">\r\n   <rect height=\"543.6\" width=\"837\" x=\"166.496875\" y=\"7.2\"/>\r\n  </clipPath>\r\n </defs>\r\n</svg>\r\n",
      "image/png": "[encoded data removed]"
     },
     "metadata": {
      "needs_background": "light"
     }
    }
   ],
   "source": [
    "p = df.groupby('STATE')['CONSTITUENCY'].nunique().reset_index()\n",
    "plt.figure(figsize=(15,10))\n",
    "sns.barplot(y='STATE',x='CONSTITUENCY',data=p,palette='spring')"
   ]
  },
  {
   "cell_type": "markdown",
   "metadata": {},
   "source": [
    "## Partywise winner by education and gender"
   ]
  },
  {
   "cell_type": "code",
   "execution_count": 42,
   "metadata": {},
   "outputs": [
    {
     "output_type": "display_data",
     "data": {
      "application/vnd.plotly.v1+json": {
       "config": {
        "plotlyServerURL": "https://plot.ly"
       },
       "data": [
        {
         "alignmentgroup": "True",
         "customdata": [
          [
           "BJP"
          ],
          [
           "BJP"
          ],
          [
           "BJP"
          ],
          [
           "BJP"
          ],
          [
           "BJP"
          ],
          [
           "BJP"
          ],
          [
           "INC"
          ],
          [
           "INC"
          ],
          [
           "INC"
          ],
          [
           "BJP"
          ],
          [
           "YSRCP"
          ],
          [
           "BJP"
          ],
          [
           "DMK"
          ],
          [
           "SHS"
          ],
          [
           "DMK"
          ],
          [
           "INC"
          ],
          [
           "BSP"
          ],
          [
           "DMK"
          ],
          [
           "JD(U)"
          ],
          [
           "TRS"
          ],
          [
           "YSRCP"
          ],
          [
           "AITC"
          ],
          [
           "JD(U)"
          ],
          [
           "SHS"
          ],
          [
           "CPI(M)"
          ],
          [
           "AITC"
          ],
          [
           "SHS"
          ],
          [
           "JD(U)"
          ],
          [
           "YSRCP"
          ],
          [
           "INC"
          ],
          [
           "BSP"
          ],
          [
           "SHS"
          ],
          [
           "JD(U)"
          ],
          [
           "TRS"
          ],
          [
           "SP"
          ],
          [
           "JKN"
          ],
          [
           "JD(U)"
          ],
          [
           "LJP"
          ],
          [
           "LJP"
          ],
          [
           "BJP"
          ],
          [
           "SP"
          ],
          [
           "BJD"
          ],
          [
           "AITC"
          ],
          [
           "DMK"
          ],
          [
           "SHS"
          ],
          [
           "TDP"
          ],
          [
           "JKN"
          ],
          [
           "TDP"
          ],
          [
           "IND"
          ],
          [
           "INC"
          ],
          [
           "INC"
          ],
          [
           "RLTP"
          ],
          [
           "NPF"
          ],
          [
           "IUML"
          ],
          [
           "BSP"
          ],
          [
           "JD(U)"
          ],
          [
           "IUML"
          ],
          [
           "IUML"
          ],
          [
           "SAD"
          ],
          [
           "DMK"
          ],
          [
           "CPI(M)"
          ],
          [
           "JD(S)"
          ],
          [
           "DMK"
          ],
          [
           "SKM"
          ],
          [
           "BSP"
          ],
          [
           "BSP"
          ],
          [
           "IND"
          ],
          [
           "RSP"
          ],
          [
           "SP"
          ],
          [
           "CPI(M)"
          ],
          [
           "SHS"
          ],
          [
           "INC"
          ],
          [
           "JMM"
          ],
          [
           "KEC(M)"
          ],
          [
           "NCP"
          ],
          [
           "AJSUP"
          ],
          [
           "NCP"
          ],
          [
           "AIUDF"
          ],
          [
           "AITC"
          ],
          [
           "NCP"
          ],
          [
           "AITC"
          ],
          [
           "TDP"
          ],
          [
           "AITC"
          ],
          [
           "AIMIM"
          ],
          [
           "AIMIM"
          ],
          [
           "AIADMK"
          ],
          [
           "NDPP"
          ],
          [
           "VCK"
          ],
          [
           "LJP"
          ],
          [
           "MNF"
          ],
          [
           "ADAL"
          ],
          [
           "YSRCP"
          ],
          [
           "YSRCP"
          ],
          [
           "YSRCP"
          ],
          [
           "YSRCP"
          ],
          [
           "AAP"
          ],
          [
           "NCP"
          ],
          [
           "AITC"
          ],
          [
           "BJD"
          ],
          [
           "BJD"
          ],
          [
           "BJD"
          ],
          [
           "BJD"
          ],
          [
           "TRS"
          ],
          [
           "BJD"
          ],
          [
           "TRS"
          ]
         ],
         "hovertemplate": "GENDER=MALE<br>EDUCATION=%{x}<br>WINNER=%{y}<br>PARTY=%{customdata[0]}<extra></extra>",
         "legendgroup": "MALE",
         "marker": {
          "color": "#636efa"
         },
         "name": "MALE",
         "offsetgroup": "MALE",
         "orientation": "v",
         "showlegend": true,
         "textposition": "auto",
         "type": "bar",
         "x": [
          "Post Graduate",
          "Graduate",
          "Graduate Professional",
          "12th Pass",
          "10th Pass",
          "Doctorate",
          "Post Graduate",
          "Graduate Professional",
          "Graduate",
          "Others",
          "Post Graduate",
          "8th Pass",
          "Graduate",
          "Graduate",
          "Post Graduate",
          "12th Pass",
          "Graduate",
          "Graduate Professional",
          "Graduate",
          "Graduate",
          "Graduate",
          "Graduate",
          "10th Pass",
          "Post Graduate",
          "12th Pass",
          "Graduate Professional",
          "12th Pass",
          "12th Pass",
          "Graduate Professional",
          "Doctorate",
          "Post Graduate",
          "Others",
          "Post Graduate",
          "12th Pass",
          "Graduate Professional",
          "Graduate Professional",
          "8th Pass",
          "Graduate Professional",
          "Graduate",
          "5th Pass",
          "Post Graduate",
          "Graduate",
          "Post Graduate",
          "10th Pass",
          "10th Pass",
          "Graduate",
          "Post Graduate",
          "10th Pass",
          "12th Pass",
          "10th Pass",
          "5th Pass",
          "Graduate Professional",
          "Graduate Professional",
          "Graduate",
          "12th Pass",
          "Graduate Professional",
          "12th Pass",
          "10th Pass",
          "Post Graduate",
          "Doctorate",
          "10th Pass",
          "Graduate Professional",
          "Illiterate",
          "Post Graduate",
          "Literate",
          "Graduate Professional",
          "Graduate",
          "Graduate Professional",
          "Graduate",
          "Graduate Professional",
          "8th Pass",
          "Others",
          "10th Pass",
          "Graduate Professional",
          "Others",
          "Graduate",
          "Graduate Professional",
          "Post Graduate",
          "Others",
          "12th Pass",
          "8th Pass",
          "Post Graduate",
          "10th Pass",
          "Post Graduate",
          "Graduate Professional",
          "Post Graduate",
          "Graduate",
          "Doctorate",
          "10th Pass",
          "Graduate",
          "Literate",
          "10th Pass",
          "12th Pass",
          "8th Pass",
          "Doctorate",
          "12th Pass",
          "Post Graduate",
          "12th Pass",
          "Post Graduate",
          "Doctorate",
          "Graduate Professional",
          "12th Pass",
          "Doctorate",
          "10th Pass",
          "Post Graduate"
         ],
         "xaxis": "x",
         "y": [
          66,
          57,
          51,
          33,
          24,
          12,
          12,
          11,
          11,
          9,
          7,
          6,
          6,
          6,
          6,
          6,
          5,
          5,
          4,
          4,
          4,
          4,
          3,
          3,
          3,
          3,
          3,
          3,
          3,
          3,
          2,
          2,
          2,
          2,
          2,
          2,
          2,
          2,
          2,
          2,
          2,
          2,
          2,
          2,
          2,
          1,
          1,
          1,
          1,
          1,
          1,
          1,
          1,
          1,
          1,
          1,
          1,
          1,
          1,
          1,
          1,
          1,
          1,
          1,
          1,
          1,
          1,
          1,
          1,
          1,
          1,
          1,
          1,
          1,
          1,
          1,
          1,
          1,
          1,
          1,
          1,
          1,
          1,
          1,
          1,
          1,
          1,
          1,
          1,
          1,
          1,
          1,
          1,
          1,
          1,
          1,
          1,
          1,
          1,
          1,
          1,
          1,
          1,
          1,
          1
         ],
         "yaxis": "y"
        },
        {
         "alignmentgroup": "True",
         "customdata": [
          [
           "BJP"
          ],
          [
           "BJP"
          ],
          [
           "BJP"
          ],
          [
           "AITC"
          ],
          [
           "BJP"
          ],
          [
           "INC"
          ],
          [
           "AITC"
          ],
          [
           "BJP"
          ],
          [
           "IND"
          ],
          [
           "BJP"
          ],
          [
           "YSRCP"
          ],
          [
           "INC"
          ],
          [
           "INC"
          ],
          [
           "INC"
          ],
          [
           "JD(U)"
          ],
          [
           "SAD"
          ],
          [
           "DMK"
          ],
          [
           "SHS"
          ],
          [
           "DMK"
          ],
          [
           "BSP"
          ],
          [
           "NCP"
          ],
          [
           "AITC"
          ],
          [
           "LJP"
          ],
          [
           "ADAL"
          ],
          [
           "YSRCP"
          ],
          [
           "YSRCP"
          ],
          [
           "BJD"
          ],
          [
           "BJD"
          ],
          [
           "TRS"
          ],
          [
           "BJD"
          ],
          [
           "NPEP"
          ],
          [
           "BJP"
          ],
          [
           "BJD"
          ]
         ],
         "hovertemplate": "GENDER=FEMALE<br>EDUCATION=%{x}<br>WINNER=%{y}<br>PARTY=%{customdata[0]}<extra></extra>",
         "legendgroup": "FEMALE",
         "marker": {
          "color": "#EF553B"
         },
         "name": "FEMALE",
         "offsetgroup": "FEMALE",
         "orientation": "v",
         "showlegend": true,
         "textposition": "auto",
         "type": "bar",
         "x": [
          "Post Graduate",
          "12th Pass",
          "Graduate",
          "Graduate",
          "Graduate Professional",
          "Post Graduate",
          "Post Graduate",
          "Others",
          "10th Pass",
          "Doctorate",
          "Graduate Professional",
          "Others",
          "10th Pass",
          "Graduate",
          "Post Graduate",
          "10th Pass",
          "Doctorate",
          "Graduate",
          "Graduate Professional",
          "Graduate Professional",
          "Graduate",
          "12th Pass",
          "10th Pass",
          "Post Graduate",
          "Graduate",
          "Post Graduate",
          "5th Pass",
          "Graduate Professional",
          "Graduate",
          "Post Graduate",
          "Post Graduate",
          "8th Pass",
          "Graduate"
         ],
         "xaxis": "x",
         "y": [
          12,
          10,
          9,
          5,
          4,
          3,
          3,
          2,
          2,
          2,
          2,
          1,
          1,
          1,
          1,
          1,
          1,
          1,
          1,
          1,
          1,
          1,
          1,
          1,
          1,
          1,
          1,
          1,
          1,
          1,
          1,
          1,
          1
         ],
         "yaxis": "y"
        }
       ],
       "layout": {
        "barmode": "relative",
        "height": 650,
        "legend": {
         "title": {
          "text": "GENDER"
         },
         "tracegroupgap": 0
        },
        "margin": {
         "t": 60
        },
        "template": {
         "data": {
          "bar": [
           {
            "error_x": {
             "color": "#2a3f5f"
            },
            "error_y": {
             "color": "#2a3f5f"
            },
            "marker": {
             "line": {
              "color": "#E5ECF6",
              "width": 0.5
             }
            },
            "type": "bar"
           }
          ],
          "barpolar": [
           {
            "marker": {
             "line": {
              "color": "#E5ECF6",
              "width": 0.5
             }
            },
            "type": "barpolar"
           }
          ],
          "carpet": [
           {
            "aaxis": {
             "endlinecolor": "#2a3f5f",
             "gridcolor": "white",
             "linecolor": "white",
             "minorgridcolor": "white",
             "startlinecolor": "#2a3f5f"
            },
            "baxis": {
             "endlinecolor": "#2a3f5f",
             "gridcolor": "white",
             "linecolor": "white",
             "minorgridcolor": "white",
             "startlinecolor": "#2a3f5f"
            },
            "type": "carpet"
           }
          ],
          "choropleth": [
           {
            "colorbar": {
             "outlinewidth": 0,
             "ticks": ""
            },
            "type": "choropleth"
           }
          ],
          "contour": [
           {
            "colorbar": {
             "outlinewidth": 0,
             "ticks": ""
            },
            "colorscale": [
             [
              0,
              "#0d0887"
             ],
             [
              0.1111111111111111,
              "#46039f"
             ],
             [
              0.2222222222222222,
              "#7201a8"
             ],
             [
              0.3333333333333333,
              "#9c179e"
             ],
             [
              0.4444444444444444,
              "#bd3786"
             ],
             [
              0.5555555555555556,
              "#d8576b"
             ],
             [
              0.6666666666666666,
              "#ed7953"
             ],
             [
              0.7777777777777778,
              "#fb9f3a"
             ],
             [
              0.8888888888888888,
              "#fdca26"
             ],
             [
              1,
              "#f0f921"
             ]
            ],
            "type": "contour"
           }
          ],
          "contourcarpet": [
           {
            "colorbar": {
             "outlinewidth": 0,
             "ticks": ""
            },
            "type": "contourcarpet"
           }
          ],
          "heatmap": [
           {
            "colorbar": {
             "outlinewidth": 0,
             "ticks": ""
            },
            "colorscale": [
             [
              0,
              "#0d0887"
             ],
             [
              0.1111111111111111,
              "#46039f"
             ],
             [
              0.2222222222222222,
              "#7201a8"
             ],
             [
              0.3333333333333333,
              "#9c179e"
             ],
             [
              0.4444444444444444,
              "#bd3786"
             ],
             [
              0.5555555555555556,
              "#d8576b"
             ],
             [
              0.6666666666666666,
              "#ed7953"
             ],
             [
              0.7777777777777778,
              "#fb9f3a"
             ],
             [
              0.8888888888888888,
              "#fdca26"
             ],
             [
              1,
              "#f0f921"
             ]
            ],
            "type": "heatmap"
           }
          ],
          "heatmapgl": [
           {
            "colorbar": {
             "outlinewidth": 0,
             "ticks": ""
            },
            "colorscale": [
             [
              0,
              "#0d0887"
             ],
             [
              0.1111111111111111,
              "#46039f"
             ],
             [
              0.2222222222222222,
              "#7201a8"
             ],
             [
              0.3333333333333333,
              "#9c179e"
             ],
             [
              0.4444444444444444,
              "#bd3786"
             ],
             [
              0.5555555555555556,
              "#d8576b"
             ],
             [
              0.6666666666666666,
              "#ed7953"
             ],
             [
              0.7777777777777778,
              "#fb9f3a"
             ],
             [
              0.8888888888888888,
              "#fdca26"
             ],
             [
              1,
              "#f0f921"
             ]
            ],
            "type": "heatmapgl"
           }
          ],
          "histogram": [
           {
            "marker": {
             "colorbar": {
              "outlinewidth": 0,
              "ticks": ""
             }
            },
            "type": "histogram"
           }
          ],
          "histogram2d": [
           {
            "colorbar": {
             "outlinewidth": 0,
             "ticks": ""
            },
            "colorscale": [
             [
              0,
              "#0d0887"
             ],
             [
              0.1111111111111111,
              "#46039f"
             ],
             [
              0.2222222222222222,
              "#7201a8"
             ],
             [
              0.3333333333333333,
              "#9c179e"
             ],
             [
              0.4444444444444444,
              "#bd3786"
             ],
             [
              0.5555555555555556,
              "#d8576b"
             ],
             [
              0.6666666666666666,
              "#ed7953"
             ],
             [
              0.7777777777777778,
              "#fb9f3a"
             ],
             [
              0.8888888888888888,
              "#fdca26"
             ],
             [
              1,
              "#f0f921"
             ]
            ],
            "type": "histogram2d"
           }
          ],
          "histogram2dcontour": [
           {
            "colorbar": {
             "outlinewidth": 0,
             "ticks": ""
            },
            "colorscale": [
             [
              0,
              "#0d0887"
             ],
             [
              0.1111111111111111,
              "#46039f"
             ],
             [
              0.2222222222222222,
              "#7201a8"
             ],
             [
              0.3333333333333333,
              "#9c179e"
             ],
             [
              0.4444444444444444,
              "#bd3786"
             ],
             [
              0.5555555555555556,
              "#d8576b"
             ],
             [
              0.6666666666666666,
              "#ed7953"
             ],
             [
              0.7777777777777778,
              "#fb9f3a"
             ],
             [
              0.8888888888888888,
              "#fdca26"
             ],
             [
              1,
              "#f0f921"
             ]
            ],
            "type": "histogram2dcontour"
           }
          ],
          "mesh3d": [
           {
            "colorbar": {
             "outlinewidth": 0,
             "ticks": ""
            },
            "type": "mesh3d"
           }
          ],
          "parcoords": [
           {
            "line": {
             "colorbar": {
              "outlinewidth": 0,
              "ticks": ""
             }
            },
            "type": "parcoords"
           }
          ],
          "pie": [
           {
            "automargin": true,
            "type": "pie"
           }
          ],
          "scatter": [
           {
            "marker": {
             "colorbar": {
              "outlinewidth": 0,
              "ticks": ""
             }
            },
            "type": "scatter"
           }
          ],
          "scatter3d": [
           {
            "line": {
             "colorbar": {
              "outlinewidth": 0,
              "ticks": ""
             }
            },
            "marker": {
             "colorbar": {
              "outlinewidth": 0,
              "ticks": ""
             }
            },
            "type": "scatter3d"
           }
          ],
          "scattercarpet": [
           {
            "marker": {
             "colorbar": {
              "outlinewidth": 0,
              "ticks": ""
             }
            },
            "type": "scattercarpet"
           }
          ],
          "scattergeo": [
           {
            "marker": {
             "colorbar": {
              "outlinewidth": 0,
              "ticks": ""
             }
            },
            "type": "scattergeo"
           }
          ],
          "scattergl": [
           {
            "marker": {
             "colorbar": {
              "outlinewidth": 0,
              "ticks": ""
             }
            },
            "type": "scattergl"
           }
          ],
          "scattermapbox": [
           {
            "marker": {
             "colorbar": {
              "outlinewidth": 0,
              "ticks": ""
             }
            },
            "type": "scattermapbox"
           }
          ],
          "scatterpolar": [
           {
            "marker": {
             "colorbar": {
              "outlinewidth": 0,
              "ticks": ""
             }
            },
            "type": "scatterpolar"
           }
          ],
          "scatterpolargl": [
           {
            "marker": {
             "colorbar": {
              "outlinewidth": 0,
              "ticks": ""
             }
            },
            "type": "scatterpolargl"
           }
          ],
          "scatterternary": [
           {
            "marker": {
             "colorbar": {
              "outlinewidth": 0,
              "ticks": ""
             }
            },
            "type": "scatterternary"
           }
          ],
          "surface": [
           {
            "colorbar": {
             "outlinewidth": 0,
             "ticks": ""
            },
            "colorscale": [
             [
              0,
              "#0d0887"
             ],
             [
              0.1111111111111111,
              "#46039f"
             ],
             [
              0.2222222222222222,
              "#7201a8"
             ],
             [
              0.3333333333333333,
              "#9c179e"
             ],
             [
              0.4444444444444444,
              "#bd3786"
             ],
             [
              0.5555555555555556,
              "#d8576b"
             ],
             [
              0.6666666666666666,
              "#ed7953"
             ],
             [
              0.7777777777777778,
              "#fb9f3a"
             ],
             [
              0.8888888888888888,
              "#fdca26"
             ],
             [
              1,
              "#f0f921"
             ]
            ],
            "type": "surface"
           }
          ],
          "table": [
           {
            "cells": {
             "fill": {
              "color": "#EBF0F8"
             },
             "line": {
              "color": "white"
             }
            },
            "header": {
             "fill": {
              "color": "#C8D4E3"
             },
             "line": {
              "color": "white"
             }
            },
            "type": "table"
           }
          ]
         },
         "layout": {
          "annotationdefaults": {
           "arrowcolor": "#2a3f5f",
           "arrowhead": 0,
           "arrowwidth": 1
          },
          "coloraxis": {
           "colorbar": {
            "outlinewidth": 0,
            "ticks": ""
           }
          },
          "colorscale": {
           "diverging": [
            [
             0,
             "#8e0152"
            ],
            [
             0.1,
             "#c51b7d"
            ],
            [
             0.2,
             "#de77ae"
            ],
            [
             0.3,
             "#f1b6da"
            ],
            [
             0.4,
             "#fde0ef"
            ],
            [
             0.5,
             "#f7f7f7"
            ],
            [
             0.6,
             "#e6f5d0"
            ],
            [
             0.7,
             "#b8e186"
            ],
            [
             0.8,
             "#7fbc41"
            ],
            [
             0.9,
             "#4d9221"
            ],
            [
             1,
             "#276419"
            ]
           ],
           "sequential": [
            [
             0,
             "#0d0887"
            ],
            [
             0.1111111111111111,
             "#46039f"
            ],
            [
             0.2222222222222222,
             "#7201a8"
            ],
            [
             0.3333333333333333,
             "#9c179e"
            ],
            [
             0.4444444444444444,
             "#bd3786"
            ],
            [
             0.5555555555555556,
             "#d8576b"
            ],
            [
             0.6666666666666666,
             "#ed7953"
            ],
            [
             0.7777777777777778,
             "#fb9f3a"
            ],
            [
             0.8888888888888888,
             "#fdca26"
            ],
            [
             1,
             "#f0f921"
            ]
           ],
           "sequentialminus": [
            [
             0,
             "#0d0887"
            ],
            [
             0.1111111111111111,
             "#46039f"
            ],
            [
             0.2222222222222222,
             "#7201a8"
            ],
            [
             0.3333333333333333,
             "#9c179e"
            ],
            [
             0.4444444444444444,
             "#bd3786"
            ],
            [
             0.5555555555555556,
             "#d8576b"
            ],
            [
             0.6666666666666666,
             "#ed7953"
            ],
            [
             0.7777777777777778,
             "#fb9f3a"
            ],
            [
             0.8888888888888888,
             "#fdca26"
            ],
            [
             1,
             "#f0f921"
            ]
           ]
          },
          "colorway": [
           "#636efa",
           "#EF553B",
           "#00cc96",
           "#ab63fa",
           "#FFA15A",
           "#19d3f3",
           "#FF6692",
           "#B6E880",
           "#FF97FF",
           "#FECB52"
          ],
          "font": {
           "color": "#2a3f5f"
          },
          "geo": {
           "bgcolor": "white",
           "lakecolor": "white",
           "landcolor": "#E5ECF6",
           "showlakes": true,
           "showland": true,
           "subunitcolor": "white"
          },
          "hoverlabel": {
           "align": "left"
          },
          "hovermode": "closest",
          "mapbox": {
           "style": "light"
          },
          "paper_bgcolor": "white",
          "plot_bgcolor": "#E5ECF6",
          "polar": {
           "angularaxis": {
            "gridcolor": "white",
            "linecolor": "white",
            "ticks": ""
           },
           "bgcolor": "#E5ECF6",
           "radialaxis": {
            "gridcolor": "white",
            "linecolor": "white",
            "ticks": ""
           }
          },
          "scene": {
           "xaxis": {
            "backgroundcolor": "#E5ECF6",
            "gridcolor": "white",
            "gridwidth": 2,
            "linecolor": "white",
            "showbackground": true,
            "ticks": "",
            "zerolinecolor": "white"
           },
           "yaxis": {
            "backgroundcolor": "#E5ECF6",
            "gridcolor": "white",
            "gridwidth": 2,
            "linecolor": "white",
            "showbackground": true,
            "ticks": "",
            "zerolinecolor": "white"
           },
           "zaxis": {
            "backgroundcolor": "#E5ECF6",
            "gridcolor": "white",
            "gridwidth": 2,
            "linecolor": "white",
            "showbackground": true,
            "ticks": "",
            "zerolinecolor": "white"
           }
          },
          "shapedefaults": {
           "line": {
            "color": "#2a3f5f"
           }
          },
          "ternary": {
           "aaxis": {
            "gridcolor": "white",
            "linecolor": "white",
            "ticks": ""
           },
           "baxis": {
            "gridcolor": "white",
            "linecolor": "white",
            "ticks": ""
           },
           "bgcolor": "#E5ECF6",
           "caxis": {
            "gridcolor": "white",
            "linecolor": "white",
            "ticks": ""
           }
          },
          "title": {
           "x": 0.05
          },
          "xaxis": {
           "automargin": true,
           "gridcolor": "white",
           "linecolor": "white",
           "ticks": "",
           "title": {
            "standoff": 15
           },
           "zerolinecolor": "white",
           "zerolinewidth": 2
          },
          "yaxis": {
           "automargin": true,
           "gridcolor": "white",
           "linecolor": "white",
           "ticks": "",
           "title": {
            "standoff": 15
           },
           "zerolinecolor": "white",
           "zerolinewidth": 2
          }
         }
        },
        "xaxis": {
         "anchor": "y",
         "domain": [
          0,
          1
         ],
         "title": {
          "text": "EDUCATION"
         }
        },
        "yaxis": {
         "anchor": "x",
         "domain": [
          0,
          1
         ],
         "title": {
          "text": "WINNER"
         }
        }
       }
      }
     },
     "metadata": {}
    }
   ],
   "source": [
    "p = df.groupby(['PARTY','EDUCATION','GENDER'])['WINNER'].sum().reset_index().sort_values('WINNER',ascending = False)\n",
    "p = p[p['WINNER']!=0]\n",
    "fig = px.bar(p, x='EDUCATION', y='WINNER',hover_data =['PARTY'], color='GENDER', height=650)\n",
    "fig.show()"
   ]
  },
  {
   "cell_type": "markdown",
   "metadata": {},
   "source": [
    "## Counting Partywise winners in various states"
   ]
  },
  {
   "cell_type": "code",
   "execution_count": 43,
   "metadata": {},
   "outputs": [
    {
     "output_type": "display_data",
     "data": {
      "application/vnd.plotly.v1+json": {
       "config": {
        "plotlyServerURL": "https://plot.ly"
       },
       "data": [
        {
         "alignmentgroup": "True",
         "customdata": [
          [
           "AAM"
          ]
         ],
         "hovertemplate": "PARTY=%{customdata[0]}<br>STATE=%{x}<br>WINNER=%{y}<extra></extra>",
         "legendgroup": "AAM",
         "marker": {
          "color": "#636efa"
         },
         "name": "AAM",
         "offsetgroup": "AAM",
         "orientation": "v",
         "showlegend": true,
         "textposition": "auto",
         "type": "bar",
         "x": [
          "Bihar"
         ],
         "xaxis": "x",
         "y": [
          0
         ],
         "yaxis": "y"
        },
        {
         "alignmentgroup": "True",
         "customdata": [
          [
           "AAP"
          ],
          [
           "AAP"
          ],
          [
           "AAP"
          ],
          [
           "AAP"
          ],
          [
           "AAP"
          ],
          [
           "AAP"
          ]
         ],
         "hovertemplate": "PARTY=%{customdata[0]}<br>STATE=%{x}<br>WINNER=%{y}<extra></extra>",
         "legendgroup": "AAP",
         "marker": {
          "color": "#EF553B"
         },
         "name": "AAP",
         "offsetgroup": "AAP",
         "orientation": "v",
         "showlegend": true,
         "textposition": "auto",
         "type": "bar",
         "x": [
          "Andaman & Nicobar Islands",
          "Chandigarh",
          "Goa",
          "Haryana",
          "NCT OF Delhi",
          "Punjab"
         ],
         "xaxis": "x",
         "y": [
          0,
          0,
          0,
          0,
          0,
          1
         ],
         "yaxis": "y"
        },
        {
         "alignmentgroup": "True",
         "customdata": [
          [
           "ABGP"
          ]
         ],
         "hovertemplate": "PARTY=%{customdata[0]}<br>STATE=%{x}<br>WINNER=%{y}<extra></extra>",
         "legendgroup": "ABGP",
         "marker": {
          "color": "#00cc96"
         },
         "name": "ABGP",
         "offsetgroup": "ABGP",
         "orientation": "v",
         "showlegend": true,
         "textposition": "auto",
         "type": "bar",
         "x": [
          "Madhya Pradesh"
         ],
         "xaxis": "x",
         "y": [
          0
         ],
         "yaxis": "y"
        },
        {
         "alignmentgroup": "True",
         "customdata": [
          [
           "ABSKP"
          ]
         ],
         "hovertemplate": "PARTY=%{customdata[0]}<br>STATE=%{x}<br>WINNER=%{y}<extra></extra>",
         "legendgroup": "ABSKP",
         "marker": {
          "color": "#ab63fa"
         },
         "name": "ABSKP",
         "offsetgroup": "ABSKP",
         "orientation": "v",
         "showlegend": true,
         "textposition": "auto",
         "type": "bar",
         "x": [
          "Chhattisgarh"
         ],
         "xaxis": "x",
         "y": [
          0
         ],
         "yaxis": "y"
        },
        {
         "alignmentgroup": "True",
         "customdata": [
          [
           "ADAL"
          ]
         ],
         "hovertemplate": "PARTY=%{customdata[0]}<br>STATE=%{x}<br>WINNER=%{y}<extra></extra>",
         "legendgroup": "ADAL",
         "marker": {
          "color": "#FFA15A"
         },
         "name": "ADAL",
         "offsetgroup": "ADAL",
         "orientation": "v",
         "showlegend": true,
         "textposition": "auto",
         "type": "bar",
         "x": [
          "Uttar Pradesh"
         ],
         "xaxis": "x",
         "y": [
          2
         ],
         "yaxis": "y"
        },
        {
         "alignmentgroup": "True",
         "customdata": [
          [
           "AGP"
          ]
         ],
         "hovertemplate": "PARTY=%{customdata[0]}<br>STATE=%{x}<br>WINNER=%{y}<extra></extra>",
         "legendgroup": "AGP",
         "marker": {
          "color": "#19d3f3"
         },
         "name": "AGP",
         "offsetgroup": "AGP",
         "orientation": "v",
         "showlegend": true,
         "textposition": "auto",
         "type": "bar",
         "x": [
          "Assam"
         ],
         "xaxis": "x",
         "y": [
          0
         ],
         "yaxis": "y"
        },
        {
         "alignmentgroup": "True",
         "customdata": [
          [
           "AHFBK"
          ]
         ],
         "hovertemplate": "PARTY=%{customdata[0]}<br>STATE=%{x}<br>WINNER=%{y}<extra></extra>",
         "legendgroup": "AHFBK",
         "marker": {
          "color": "#FF6692"
         },
         "name": "AHFBK",
         "offsetgroup": "AHFBK",
         "orientation": "v",
         "showlegend": true,
         "textposition": "auto",
         "type": "bar",
         "x": [
          "Bihar"
         ],
         "xaxis": "x",
         "y": [
          0
         ],
         "yaxis": "y"
        },
        {
         "alignmentgroup": "True",
         "customdata": [
          [
           "AHNP"
          ]
         ],
         "hovertemplate": "PARTY=%{customdata[0]}<br>STATE=%{x}<br>WINNER=%{y}<extra></extra>",
         "legendgroup": "AHNP",
         "marker": {
          "color": "#B6E880"
         },
         "name": "AHNP",
         "offsetgroup": "AHNP",
         "orientation": "v",
         "showlegend": true,
         "textposition": "auto",
         "type": "bar",
         "x": [
          "Telangana"
         ],
         "xaxis": "x",
         "y": [
          0
         ],
         "yaxis": "y"
        },
        {
         "alignmentgroup": "True",
         "customdata": [
          [
           "AIADMK"
          ]
         ],
         "hovertemplate": "PARTY=%{customdata[0]}<br>STATE=%{x}<br>WINNER=%{y}<extra></extra>",
         "legendgroup": "AIADMK",
         "marker": {
          "color": "#FF97FF"
         },
         "name": "AIADMK",
         "offsetgroup": "AIADMK",
         "orientation": "v",
         "showlegend": true,
         "textposition": "auto",
         "type": "bar",
         "x": [
          "Tamil Nadu"
         ],
         "xaxis": "x",
         "y": [
          1
         ],
         "yaxis": "y"
        },
        {
         "alignmentgroup": "True",
         "customdata": [
          [
           "AIFB"
          ]
         ],
         "hovertemplate": "PARTY=%{customdata[0]}<br>STATE=%{x}<br>WINNER=%{y}<extra></extra>",
         "legendgroup": "AIFB",
         "marker": {
          "color": "#FECB52"
         },
         "name": "AIFB",
         "offsetgroup": "AIFB",
         "orientation": "v",
         "showlegend": true,
         "textposition": "auto",
         "type": "bar",
         "x": [
          "West Bengal"
         ],
         "xaxis": "x",
         "y": [
          0
         ],
         "yaxis": "y"
        },
        {
         "alignmentgroup": "True",
         "customdata": [
          [
           "AIMIM"
          ],
          [
           "AIMIM"
          ],
          [
           "AIMIM"
          ]
         ],
         "hovertemplate": "PARTY=%{customdata[0]}<br>STATE=%{x}<br>WINNER=%{y}<extra></extra>",
         "legendgroup": "AIMIM",
         "marker": {
          "color": "#636efa"
         },
         "name": "AIMIM",
         "offsetgroup": "AIMIM",
         "orientation": "v",
         "showlegend": true,
         "textposition": "auto",
         "type": "bar",
         "x": [
          "Bihar",
          "Maharashtra",
          "Telangana"
         ],
         "xaxis": "x",
         "y": [
          0,
          1,
          1
         ],
         "yaxis": "y"
        },
        {
         "alignmentgroup": "True",
         "customdata": [
          [
           "AINRC"
          ]
         ],
         "hovertemplate": "PARTY=%{customdata[0]}<br>STATE=%{x}<br>WINNER=%{y}<extra></extra>",
         "legendgroup": "AINRC",
         "marker": {
          "color": "#EF553B"
         },
         "name": "AINRC",
         "offsetgroup": "AINRC",
         "orientation": "v",
         "showlegend": true,
         "textposition": "auto",
         "type": "bar",
         "x": [
          "Puducherry"
         ],
         "xaxis": "x",
         "y": [
          0
         ],
         "yaxis": "y"
        },
        {
         "alignmentgroup": "True",
         "customdata": [
          [
           "AIPF"
          ]
         ],
         "hovertemplate": "PARTY=%{customdata[0]}<br>STATE=%{x}<br>WINNER=%{y}<extra></extra>",
         "legendgroup": "AIPF",
         "marker": {
          "color": "#00cc96"
         },
         "name": "AIPF",
         "offsetgroup": "AIPF",
         "orientation": "v",
         "showlegend": true,
         "textposition": "auto",
         "type": "bar",
         "x": [
          "Uttar Pradesh"
         ],
         "xaxis": "x",
         "y": [
          0
         ],
         "yaxis": "y"
        },
        {
         "alignmentgroup": "True",
         "customdata": [
          [
           "AITC"
          ],
          [
           "AITC"
          ],
          [
           "AITC"
          ]
         ],
         "hovertemplate": "PARTY=%{customdata[0]}<br>STATE=%{x}<br>WINNER=%{y}<extra></extra>",
         "legendgroup": "AITC",
         "marker": {
          "color": "#ab63fa"
         },
         "name": "AITC",
         "offsetgroup": "AITC",
         "orientation": "v",
         "showlegend": true,
         "textposition": "auto",
         "type": "bar",
         "x": [
          "Assam",
          "Jharkhand",
          "West Bengal"
         ],
         "xaxis": "x",
         "y": [
          0,
          0,
          22
         ],
         "yaxis": "y"
        },
        {
         "alignmentgroup": "True",
         "customdata": [
          [
           "AIUDF"
          ]
         ],
         "hovertemplate": "PARTY=%{customdata[0]}<br>STATE=%{x}<br>WINNER=%{y}<extra></extra>",
         "legendgroup": "AIUDF",
         "marker": {
          "color": "#FFA15A"
         },
         "name": "AIUDF",
         "offsetgroup": "AIUDF",
         "orientation": "v",
         "showlegend": true,
         "textposition": "auto",
         "type": "bar",
         "x": [
          "Assam"
         ],
         "xaxis": "x",
         "y": [
          1
         ],
         "yaxis": "y"
        },
        {
         "alignmentgroup": "True",
         "customdata": [
          [
           "AJPR"
          ]
         ],
         "hovertemplate": "PARTY=%{customdata[0]}<br>STATE=%{x}<br>WINNER=%{y}<extra></extra>",
         "legendgroup": "AJPR",
         "marker": {
          "color": "#19d3f3"
         },
         "name": "AJPR",
         "offsetgroup": "AJPR",
         "orientation": "v",
         "showlegend": true,
         "textposition": "auto",
         "type": "bar",
         "x": [
          "Bihar"
         ],
         "xaxis": "x",
         "y": [
          0
         ],
         "yaxis": "y"
        },
        {
         "alignmentgroup": "True",
         "customdata": [
          [
           "AJSUP"
          ]
         ],
         "hovertemplate": "PARTY=%{customdata[0]}<br>STATE=%{x}<br>WINNER=%{y}<extra></extra>",
         "legendgroup": "AJSUP",
         "marker": {
          "color": "#FF6692"
         },
         "name": "AJSUP",
         "offsetgroup": "AJSUP",
         "orientation": "v",
         "showlegend": true,
         "textposition": "auto",
         "type": "bar",
         "x": [
          "Jharkhand"
         ],
         "xaxis": "x",
         "y": [
          1
         ],
         "yaxis": "y"
        },
        {
         "alignmentgroup": "True",
         "customdata": [
          [
           "AKBMP"
          ]
         ],
         "hovertemplate": "PARTY=%{customdata[0]}<br>STATE=%{x}<br>WINNER=%{y}<extra></extra>",
         "legendgroup": "AKBMP",
         "marker": {
          "color": "#B6E880"
         },
         "name": "AKBMP",
         "offsetgroup": "AKBMP",
         "orientation": "v",
         "showlegend": true,
         "textposition": "auto",
         "type": "bar",
         "x": [
          "Bihar"
         ],
         "xaxis": "x",
         "y": [
          0
         ],
         "yaxis": "y"
        },
        {
         "alignmentgroup": "True",
         "customdata": [
          [
           "ANC"
          ]
         ],
         "hovertemplate": "PARTY=%{customdata[0]}<br>STATE=%{x}<br>WINNER=%{y}<extra></extra>",
         "legendgroup": "ANC",
         "marker": {
          "color": "#FF97FF"
         },
         "name": "ANC",
         "offsetgroup": "ANC",
         "orientation": "v",
         "showlegend": true,
         "textposition": "auto",
         "type": "bar",
         "x": [
          "Bihar"
         ],
         "xaxis": "x",
         "y": [
          0
         ],
         "yaxis": "y"
        },
        {
         "alignmentgroup": "True",
         "customdata": [
          [
           "APoI"
          ],
          [
           "APoI"
          ],
          [
           "APoI"
          ],
          [
           "APoI"
          ],
          [
           "APoI"
          ],
          [
           "APoI"
          ]
         ],
         "hovertemplate": "PARTY=%{customdata[0]}<br>STATE=%{x}<br>WINNER=%{y}<extra></extra>",
         "legendgroup": "APoI",
         "marker": {
          "color": "#FECB52"
         },
         "name": "APoI",
         "offsetgroup": "APoI",
         "orientation": "v",
         "showlegend": true,
         "textposition": "auto",
         "type": "bar",
         "x": [
          "Rajasthan",
          "Odisha",
          "Maharashtra",
          "Bihar",
          "Chhattisgarh",
          "Jharkhand"
         ],
         "xaxis": "x",
         "y": [
          0,
          0,
          0,
          0,
          0,
          0
         ],
         "yaxis": "y"
        },
        {
         "alignmentgroup": "True",
         "customdata": [
          [
           "ASDC"
          ]
         ],
         "hovertemplate": "PARTY=%{customdata[0]}<br>STATE=%{x}<br>WINNER=%{y}<extra></extra>",
         "legendgroup": "ASDC",
         "marker": {
          "color": "#636efa"
         },
         "name": "ASDC",
         "offsetgroup": "ASDC",
         "orientation": "v",
         "showlegend": true,
         "textposition": "auto",
         "type": "bar",
         "x": [
          "Assam"
         ],
         "xaxis": "x",
         "y": [
          0
         ],
         "yaxis": "y"
        },
        {
         "alignmentgroup": "True",
         "customdata": [
          [
           "BARESP"
          ]
         ],
         "hovertemplate": "PARTY=%{customdata[0]}<br>STATE=%{x}<br>WINNER=%{y}<extra></extra>",
         "legendgroup": "BARESP",
         "marker": {
          "color": "#EF553B"
         },
         "name": "BARESP",
         "offsetgroup": "BARESP",
         "orientation": "v",
         "showlegend": true,
         "textposition": "auto",
         "type": "bar",
         "x": [
          "Maharashtra"
         ],
         "xaxis": "x",
         "y": [
          0
         ],
         "yaxis": "y"
        },
        {
         "alignmentgroup": "True",
         "customdata": [
          [
           "BBMP"
          ]
         ],
         "hovertemplate": "PARTY=%{customdata[0]}<br>STATE=%{x}<br>WINNER=%{y}<extra></extra>",
         "legendgroup": "BBMP",
         "marker": {
          "color": "#00cc96"
         },
         "name": "BBMP",
         "offsetgroup": "BBMP",
         "orientation": "v",
         "showlegend": true,
         "textposition": "auto",
         "type": "bar",
         "x": [
          "Bihar"
         ],
         "xaxis": "x",
         "y": [
          0
         ],
         "yaxis": "y"
        },
        {
         "alignmentgroup": "True",
         "customdata": [
          [
           "BDJS"
          ]
         ],
         "hovertemplate": "PARTY=%{customdata[0]}<br>STATE=%{x}<br>WINNER=%{y}<extra></extra>",
         "legendgroup": "BDJS",
         "marker": {
          "color": "#ab63fa"
         },
         "name": "BDJS",
         "offsetgroup": "BDJS",
         "orientation": "v",
         "showlegend": true,
         "textposition": "auto",
         "type": "bar",
         "x": [
          "Kerala"
         ],
         "xaxis": "x",
         "y": [
          0
         ],
         "yaxis": "y"
        },
        {
         "alignmentgroup": "True",
         "customdata": [
          [
           "BJD"
          ]
         ],
         "hovertemplate": "PARTY=%{customdata[0]}<br>STATE=%{x}<br>WINNER=%{y}<extra></extra>",
         "legendgroup": "BJD",
         "marker": {
          "color": "#FFA15A"
         },
         "name": "BJD",
         "offsetgroup": "BJD",
         "orientation": "v",
         "showlegend": true,
         "textposition": "auto",
         "type": "bar",
         "x": [
          "Odisha"
         ],
         "xaxis": "x",
         "y": [
          11
         ],
         "yaxis": "y"
        },
        {
         "alignmentgroup": "True",
         "customdata": [
          [
           "BJKVP"
          ]
         ],
         "hovertemplate": "PARTY=%{customdata[0]}<br>STATE=%{x}<br>WINNER=%{y}<extra></extra>",
         "legendgroup": "BJKVP",
         "marker": {
          "color": "#19d3f3"
         },
         "name": "BJKVP",
         "offsetgroup": "BJKVP",
         "orientation": "v",
         "showlegend": true,
         "textposition": "auto",
         "type": "bar",
         "x": [
          "Bihar"
         ],
         "xaxis": "x",
         "y": [
          0
         ],
         "yaxis": "y"
        },
        {
         "alignmentgroup": "True",
         "customdata": [
          [
           "BJP"
          ],
          [
           "BJP"
          ],
          [
           "BJP"
          ],
          [
           "BJP"
          ],
          [
           "BJP"
          ],
          [
           "BJP"
          ],
          [
           "BJP"
          ],
          [
           "BJP"
          ],
          [
           "BJP"
          ],
          [
           "BJP"
          ],
          [
           "BJP"
          ],
          [
           "BJP"
          ],
          [
           "BJP"
          ],
          [
           "BJP"
          ],
          [
           "BJP"
          ],
          [
           "BJP"
          ],
          [
           "BJP"
          ],
          [
           "BJP"
          ],
          [
           "BJP"
          ],
          [
           "BJP"
          ],
          [
           "BJP"
          ],
          [
           "BJP"
          ],
          [
           "BJP"
          ],
          [
           "BJP"
          ],
          [
           "BJP"
          ],
          [
           "BJP"
          ],
          [
           "BJP"
          ],
          [
           "BJP"
          ],
          [
           "BJP"
          ],
          [
           "BJP"
          ],
          [
           "BJP"
          ],
          [
           "BJP"
          ],
          [
           "BJP"
          ]
         ],
         "hovertemplate": "PARTY=%{customdata[0]}<br>STATE=%{x}<br>WINNER=%{y}<extra></extra>",
         "legendgroup": "BJP",
         "marker": {
          "color": "#FF6692"
         },
         "name": "BJP",
         "offsetgroup": "BJP",
         "orientation": "v",
         "showlegend": true,
         "textposition": "auto",
         "type": "bar",
         "x": [
          "Manipur",
          "Meghalaya",
          "Mizoram",
          "NCT OF Delhi",
          "Odisha",
          "Punjab",
          "Madhya Pradesh",
          "Rajasthan",
          "Tamil Nadu",
          "Telangana",
          "Tripura",
          "Uttar Pradesh",
          "Uttarakhand",
          "West Bengal",
          "Sikkim",
          "Kerala",
          "Maharashtra",
          "Jharkhand",
          "Andaman & Nicobar Islands",
          "Andhra Pradesh",
          "Arunachal Pradesh",
          "Assam",
          "Bihar",
          "Karnataka",
          "Chhattisgarh",
          "Chandigarh",
          "Daman & Diu",
          "Goa",
          "Gujarat",
          "Haryana",
          "Himachal Pradesh",
          "Jammu & Kashmir",
          "Dadra & Nagar Haveli"
         ],
         "xaxis": "x",
         "y": [
          1,
          0,
          0,
          7,
          8,
          2,
          28,
          24,
          0,
          4,
          2,
          60,
          5,
          18,
          0,
          0,
          22,
          11,
          0,
          0,
          2,
          9,
          17,
          25,
          9,
          1,
          1,
          1,
          26,
          10,
          4,
          3,
          0
         ],
         "yaxis": "y"
        },
        {
         "alignmentgroup": "True",
         "customdata": [
          [
           "BLRP"
          ]
         ],
         "hovertemplate": "PARTY=%{customdata[0]}<br>STATE=%{x}<br>WINNER=%{y}<extra></extra>",
         "legendgroup": "BLRP",
         "marker": {
          "color": "#B6E880"
         },
         "name": "BLRP",
         "offsetgroup": "BLRP",
         "orientation": "v",
         "showlegend": true,
         "textposition": "auto",
         "type": "bar",
         "x": [
          "Uttar Pradesh"
         ],
         "xaxis": "x",
         "y": [
          0
         ],
         "yaxis": "y"
        },
        {
         "alignmentgroup": "True",
         "customdata": [
          [
           "BLSD"
          ]
         ],
         "hovertemplate": "PARTY=%{customdata[0]}<br>STATE=%{x}<br>WINNER=%{y}<extra></extra>",
         "legendgroup": "BLSD",
         "marker": {
          "color": "#FF97FF"
         },
         "name": "BLSD",
         "offsetgroup": "BLSD",
         "orientation": "v",
         "showlegend": true,
         "textposition": "auto",
         "type": "bar",
         "x": [
          "Jharkhand"
         ],
         "xaxis": "x",
         "y": [
          0
         ],
         "yaxis": "y"
        },
        {
         "alignmentgroup": "True",
         "customdata": [
          [
           "BLSP"
          ]
         ],
         "hovertemplate": "PARTY=%{customdata[0]}<br>STATE=%{x}<br>WINNER=%{y}<extra></extra>",
         "legendgroup": "BLSP",
         "marker": {
          "color": "#FECB52"
         },
         "name": "BLSP",
         "offsetgroup": "BLSP",
         "orientation": "v",
         "showlegend": true,
         "textposition": "auto",
         "type": "bar",
         "x": [
          "Bihar"
         ],
         "xaxis": "x",
         "y": [
          0
         ],
         "yaxis": "y"
        },
        {
         "alignmentgroup": "True",
         "customdata": [
          [
           "BMUP"
          ],
          [
           "BMUP"
          ],
          [
           "BMUP"
          ],
          [
           "BMUP"
          ]
         ],
         "hovertemplate": "PARTY=%{customdata[0]}<br>STATE=%{x}<br>WINNER=%{y}<extra></extra>",
         "legendgroup": "BMUP",
         "marker": {
          "color": "#636efa"
         },
         "name": "BMUP",
         "offsetgroup": "BMUP",
         "orientation": "v",
         "showlegend": true,
         "textposition": "auto",
         "type": "bar",
         "x": [
          "West Bengal",
          "Rajasthan",
          "Bihar",
          "Odisha"
         ],
         "xaxis": "x",
         "y": [
          0,
          0,
          0,
          0
         ],
         "yaxis": "y"
        },
        {
         "alignmentgroup": "True",
         "customdata": [
          [
           "BNDl"
          ]
         ],
         "hovertemplate": "PARTY=%{customdata[0]}<br>STATE=%{x}<br>WINNER=%{y}<extra></extra>",
         "legendgroup": "BNDl",
         "marker": {
          "color": "#EF553B"
         },
         "name": "BNDl",
         "offsetgroup": "BNDl",
         "orientation": "v",
         "showlegend": true,
         "textposition": "auto",
         "type": "bar",
         "x": [
          "Bihar"
         ],
         "xaxis": "x",
         "y": [
          0
         ],
         "yaxis": "y"
        },
        {
         "alignmentgroup": "True",
         "customdata": [
          [
           "BOPF"
          ]
         ],
         "hovertemplate": "PARTY=%{customdata[0]}<br>STATE=%{x}<br>WINNER=%{y}<extra></extra>",
         "legendgroup": "BOPF",
         "marker": {
          "color": "#00cc96"
         },
         "name": "BOPF",
         "offsetgroup": "BOPF",
         "orientation": "v",
         "showlegend": true,
         "textposition": "auto",
         "type": "bar",
         "x": [
          "Assam"
         ],
         "xaxis": "x",
         "y": [
          0
         ],
         "yaxis": "y"
        },
        {
         "alignmentgroup": "True",
         "customdata": [
          [
           "BRPI"
          ]
         ],
         "hovertemplate": "PARTY=%{customdata[0]}<br>STATE=%{x}<br>WINNER=%{y}<extra></extra>",
         "legendgroup": "BRPI",
         "marker": {
          "color": "#ab63fa"
         },
         "name": "BRPI",
         "offsetgroup": "BRPI",
         "orientation": "v",
         "showlegend": true,
         "textposition": "auto",
         "type": "bar",
         "x": [
          "Uttar Pradesh"
         ],
         "xaxis": "x",
         "y": [
          0
         ],
         "yaxis": "y"
        },
        {
         "alignmentgroup": "True",
         "customdata": [
          [
           "BSCP"
          ]
         ],
         "hovertemplate": "PARTY=%{customdata[0]}<br>STATE=%{x}<br>WINNER=%{y}<extra></extra>",
         "legendgroup": "BSCP",
         "marker": {
          "color": "#FFA15A"
         },
         "name": "BSCP",
         "offsetgroup": "BSCP",
         "orientation": "v",
         "showlegend": true,
         "textposition": "auto",
         "type": "bar",
         "x": [
          "Madhya Pradesh"
         ],
         "xaxis": "x",
         "y": [
          0
         ],
         "yaxis": "y"
        },
        {
         "alignmentgroup": "True",
         "customdata": [
          [
           "BSP"
          ],
          [
           "BSP"
          ],
          [
           "BSP"
          ],
          [
           "BSP"
          ],
          [
           "BSP"
          ],
          [
           "BSP"
          ],
          [
           "BSP"
          ],
          [
           "BSP"
          ],
          [
           "BSP"
          ],
          [
           "BSP"
          ],
          [
           "BSP"
          ],
          [
           "BSP"
          ],
          [
           "BSP"
          ],
          [
           "BSP"
          ],
          [
           "BSP"
          ],
          [
           "BSP"
          ],
          [
           "BSP"
          ],
          [
           "BSP"
          ],
          [
           "BSP"
          ],
          [
           "BSP"
          ]
         ],
         "hovertemplate": "PARTY=%{customdata[0]}<br>STATE=%{x}<br>WINNER=%{y}<extra></extra>",
         "legendgroup": "BSP",
         "marker": {
          "color": "#19d3f3"
         },
         "name": "BSP",
         "offsetgroup": "BSP",
         "orientation": "v",
         "showlegend": true,
         "textposition": "auto",
         "type": "bar",
         "x": [
          "Punjab",
          "Uttarakhand",
          "Uttar Pradesh",
          "Telangana",
          "Tamil Nadu",
          "Rajasthan",
          "Odisha",
          "NCT OF Delhi",
          "Madhya Pradesh",
          "Maharashtra",
          "Jharkhand",
          "Andaman & Nicobar Islands",
          "Karnataka",
          "Bihar",
          "Chandigarh",
          "Andhra Pradesh",
          "Gujarat",
          "Haryana",
          "Jammu & Kashmir",
          "Chhattisgarh"
         ],
         "xaxis": "x",
         "y": [
          0,
          0,
          10,
          0,
          0,
          0,
          0,
          0,
          0,
          0,
          0,
          0,
          0,
          1,
          0,
          0,
          0,
          0,
          0,
          0
         ],
         "yaxis": "y"
        },
        {
         "alignmentgroup": "True",
         "customdata": [
          [
           "BTP"
          ],
          [
           "BTP"
          ],
          [
           "BTP"
          ]
         ],
         "hovertemplate": "PARTY=%{customdata[0]}<br>STATE=%{x}<br>WINNER=%{y}<extra></extra>",
         "legendgroup": "BTP",
         "marker": {
          "color": "#FF6692"
         },
         "name": "BTP",
         "offsetgroup": "BTP",
         "orientation": "v",
         "showlegend": true,
         "textposition": "auto",
         "type": "bar",
         "x": [
          "Gujarat",
          "Madhya Pradesh",
          "Rajasthan"
         ],
         "xaxis": "x",
         "y": [
          0,
          0,
          0
         ],
         "yaxis": "y"
        },
        {
         "alignmentgroup": "True",
         "customdata": [
          [
           "BVA"
          ]
         ],
         "hovertemplate": "PARTY=%{customdata[0]}<br>STATE=%{x}<br>WINNER=%{y}<extra></extra>",
         "legendgroup": "BVA",
         "marker": {
          "color": "#B6E880"
         },
         "name": "BVA",
         "offsetgroup": "BVA",
         "orientation": "v",
         "showlegend": true,
         "textposition": "auto",
         "type": "bar",
         "x": [
          "Maharashtra"
         ],
         "xaxis": "x",
         "y": [
          0
         ],
         "yaxis": "y"
        },
        {
         "alignmentgroup": "True",
         "customdata": [
          [
           "CPI(M)"
          ],
          [
           "CPI(M)"
          ],
          [
           "CPI(M)"
          ],
          [
           "CPI(M)"
          ],
          [
           "CPI(M)"
          ],
          [
           "CPI(M)"
          ],
          [
           "CPI(M)"
          ],
          [
           "CPI(M)"
          ],
          [
           "CPI(M)"
          ],
          [
           "CPI(M)"
          ],
          [
           "CPI(M)"
          ],
          [
           "CPI(M)"
          ],
          [
           "CPI(M)"
          ],
          [
           "CPI(M)"
          ],
          [
           "CPI(M)"
          ],
          [
           "CPI(M)"
          ],
          [
           "CPI(M)"
          ],
          [
           "CPI(M)"
          ],
          [
           "CPI(M)"
          ]
         ],
         "hovertemplate": "PARTY=%{customdata[0]}<br>STATE=%{x}<br>WINNER=%{y}<extra></extra>",
         "legendgroup": "CPI(M)",
         "marker": {
          "color": "#FF97FF"
         },
         "name": "CPI(M)",
         "offsetgroup": "CPI(M)",
         "orientation": "v",
         "showlegend": true,
         "textposition": "auto",
         "type": "bar",
         "x": [
          "Rajasthan",
          "Odisha",
          "Punjab",
          "Tamil Nadu",
          "Madhya Pradesh",
          "Tripura",
          "Uttar Pradesh",
          "West Bengal",
          "Telangana",
          "Manipur",
          "Chhattisgarh",
          "Kerala",
          "Karnataka",
          "Jharkhand",
          "Himachal Pradesh",
          "Maharashtra",
          "Bihar",
          "Assam",
          "Andhra Pradesh"
         ],
         "xaxis": "x",
         "y": [
          0,
          0,
          0,
          4,
          0,
          0,
          0,
          0,
          0,
          0,
          0,
          1,
          0,
          0,
          0,
          0,
          0,
          0,
          0
         ],
         "yaxis": "y"
        },
        {
         "alignmentgroup": "True",
         "customdata": [
          [
           "CPI(ML)(L)"
          ],
          [
           "CPI(ML)(L)"
          ],
          [
           "CPI(ML)(L)"
          ]
         ],
         "hovertemplate": "PARTY=%{customdata[0]}<br>STATE=%{x}<br>WINNER=%{y}<extra></extra>",
         "legendgroup": "CPI(ML)(L)",
         "marker": {
          "color": "#FECB52"
         },
         "name": "CPI(ML)(L)",
         "offsetgroup": "CPI(ML)(L)",
         "orientation": "v",
         "showlegend": true,
         "textposition": "auto",
         "type": "bar",
         "x": [
          "Bihar",
          "Jharkhand",
          "Odisha"
         ],
         "xaxis": "x",
         "y": [
          0,
          0,
          0
         ],
         "yaxis": "y"
        },
        {
         "alignmentgroup": "True",
         "customdata": [
          [
           "CPIM"
          ]
         ],
         "hovertemplate": "PARTY=%{customdata[0]}<br>STATE=%{x}<br>WINNER=%{y}<extra></extra>",
         "legendgroup": "CPIM",
         "marker": {
          "color": "#636efa"
         },
         "name": "CPIM",
         "offsetgroup": "CPIM",
         "orientation": "v",
         "showlegend": true,
         "textposition": "auto",
         "type": "bar",
         "x": [
          "Odisha"
         ],
         "xaxis": "x",
         "y": [
          0
         ],
         "yaxis": "y"
        },
        {
         "alignmentgroup": "True",
         "customdata": [
          [
           "DMDK"
          ]
         ],
         "hovertemplate": "PARTY=%{customdata[0]}<br>STATE=%{x}<br>WINNER=%{y}<extra></extra>",
         "legendgroup": "DMDK",
         "marker": {
          "color": "#EF553B"
         },
         "name": "DMDK",
         "offsetgroup": "DMDK",
         "orientation": "v",
         "showlegend": true,
         "textposition": "auto",
         "type": "bar",
         "x": [
          "Tamil Nadu"
         ],
         "xaxis": "x",
         "y": [
          0
         ],
         "yaxis": "y"
        },
        {
         "alignmentgroup": "True",
         "customdata": [
          [
           "DMK"
          ]
         ],
         "hovertemplate": "PARTY=%{customdata[0]}<br>STATE=%{x}<br>WINNER=%{y}<extra></extra>",
         "legendgroup": "DMK",
         "marker": {
          "color": "#00cc96"
         },
         "name": "DMK",
         "offsetgroup": "DMK",
         "orientation": "v",
         "showlegend": true,
         "textposition": "auto",
         "type": "bar",
         "x": [
          "Tamil Nadu"
         ],
         "xaxis": "x",
         "y": [
          23
         ],
         "yaxis": "y"
        },
        {
         "alignmentgroup": "True",
         "customdata": [
          [
           "DSSP"
          ]
         ],
         "hovertemplate": "PARTY=%{customdata[0]}<br>STATE=%{x}<br>WINNER=%{y}<extra></extra>",
         "legendgroup": "DSSP",
         "marker": {
          "color": "#ab63fa"
         },
         "name": "DSSP",
         "offsetgroup": "DSSP",
         "orientation": "v",
         "showlegend": true,
         "textposition": "auto",
         "type": "bar",
         "x": [
          "Jammu & Kashmir"
         ],
         "xaxis": "x",
         "y": [
          0
         ],
         "yaxis": "y"
        },
        {
         "alignmentgroup": "True",
         "customdata": [
          [
           "GGP"
          ],
          [
           "GGP"
          ]
         ],
         "hovertemplate": "PARTY=%{customdata[0]}<br>STATE=%{x}<br>WINNER=%{y}<extra></extra>",
         "legendgroup": "GGP",
         "marker": {
          "color": "#FFA15A"
         },
         "name": "GGP",
         "offsetgroup": "GGP",
         "orientation": "v",
         "showlegend": true,
         "textposition": "auto",
         "type": "bar",
         "x": [
          "Chhattisgarh",
          "Madhya Pradesh"
         ],
         "xaxis": "x",
         "y": [
          0,
          0
         ],
         "yaxis": "y"
        },
        {
         "alignmentgroup": "True",
         "customdata": [
          [
           "HAMS"
          ]
         ],
         "hovertemplate": "PARTY=%{customdata[0]}<br>STATE=%{x}<br>WINNER=%{y}<extra></extra>",
         "legendgroup": "HAMS",
         "marker": {
          "color": "#19d3f3"
         },
         "name": "HAMS",
         "offsetgroup": "HAMS",
         "orientation": "v",
         "showlegend": true,
         "textposition": "auto",
         "type": "bar",
         "x": [
          "Bihar"
         ],
         "xaxis": "x",
         "y": [
          0
         ],
         "yaxis": "y"
        },
        {
         "alignmentgroup": "True",
         "customdata": [
          [
           "INC"
          ],
          [
           "INC"
          ],
          [
           "INC"
          ],
          [
           "INC"
          ],
          [
           "INC"
          ],
          [
           "INC"
          ],
          [
           "INC"
          ],
          [
           "INC"
          ],
          [
           "INC"
          ],
          [
           "INC"
          ],
          [
           "INC"
          ],
          [
           "INC"
          ],
          [
           "INC"
          ],
          [
           "INC"
          ],
          [
           "INC"
          ],
          [
           "INC"
          ],
          [
           "INC"
          ],
          [
           "INC"
          ],
          [
           "INC"
          ],
          [
           "INC"
          ],
          [
           "INC"
          ],
          [
           "INC"
          ],
          [
           "INC"
          ],
          [
           "INC"
          ],
          [
           "INC"
          ],
          [
           "INC"
          ],
          [
           "INC"
          ],
          [
           "INC"
          ],
          [
           "INC"
          ],
          [
           "INC"
          ],
          [
           "INC"
          ],
          [
           "INC"
          ],
          [
           "INC"
          ],
          [
           "INC"
          ],
          [
           "INC"
          ]
         ],
         "hovertemplate": "PARTY=%{customdata[0]}<br>STATE=%{x}<br>WINNER=%{y}<extra></extra>",
         "legendgroup": "INC",
         "marker": {
          "color": "#FF6692"
         },
         "name": "INC",
         "offsetgroup": "INC",
         "orientation": "v",
         "showlegend": true,
         "textposition": "auto",
         "type": "bar",
         "x": [
          "Maharashtra",
          "Manipur",
          "Meghalaya",
          "NCT OF Delhi",
          "Nagaland",
          "Odisha",
          "Puducherry",
          "Madhya Pradesh",
          "Sikkim",
          "Tamil Nadu",
          "Telangana",
          "Tripura",
          "Uttar Pradesh",
          "Uttarakhand",
          "West Bengal",
          "Rajasthan",
          "Lakshadweep",
          "Punjab",
          "Karnataka",
          "Andaman & Nicobar Islands",
          "Andhra Pradesh",
          "Assam",
          "Bihar",
          "Chandigarh",
          "Chhattisgarh",
          "Dadra & Nagar Haveli",
          "Arunachal Pradesh",
          "Daman & Diu",
          "Goa",
          "Gujarat",
          "Haryana",
          "Himachal Pradesh",
          "Jammu & Kashmir",
          "Jharkhand",
          "Kerala"
         ],
         "xaxis": "x",
         "y": [
          1,
          0,
          1,
          0,
          0,
          1,
          1,
          1,
          0,
          8,
          3,
          0,
          1,
          0,
          2,
          0,
          0,
          8,
          1,
          1,
          0,
          3,
          1,
          0,
          2,
          0,
          0,
          0,
          1,
          0,
          0,
          0,
          0,
          1,
          15
         ],
         "yaxis": "y"
        },
        {
         "alignmentgroup": "True",
         "customdata": [
          [
           "IND"
          ],
          [
           "IND"
          ],
          [
           "IND"
          ],
          [
           "IND"
          ],
          [
           "IND"
          ],
          [
           "IND"
          ],
          [
           "IND"
          ],
          [
           "IND"
          ],
          [
           "IND"
          ],
          [
           "IND"
          ],
          [
           "IND"
          ],
          [
           "IND"
          ],
          [
           "IND"
          ],
          [
           "IND"
          ],
          [
           "IND"
          ],
          [
           "IND"
          ],
          [
           "IND"
          ],
          [
           "IND"
          ],
          [
           "IND"
          ],
          [
           "IND"
          ],
          [
           "IND"
          ],
          [
           "IND"
          ],
          [
           "IND"
          ],
          [
           "IND"
          ]
         ],
         "hovertemplate": "PARTY=%{customdata[0]}<br>STATE=%{x}<br>WINNER=%{y}<extra></extra>",
         "legendgroup": "IND",
         "marker": {
          "color": "#B6E880"
         },
         "name": "IND",
         "offsetgroup": "IND",
         "orientation": "v",
         "showlegend": true,
         "textposition": "auto",
         "type": "bar",
         "x": [
          "Maharashtra",
          "Manipur",
          "Mizoram",
          "Odisha",
          "Rajasthan",
          "Uttarakhand",
          "Telangana",
          "Uttar Pradesh",
          "West Bengal",
          "Madhya Pradesh",
          "Tamil Nadu",
          "Kerala",
          "Dadra & Nagar Haveli",
          "Jharkhand",
          "Andaman & Nicobar Islands",
          "Andhra Pradesh",
          "Karnataka",
          "Assam",
          "Bihar",
          "Arunachal Pradesh",
          "Daman & Diu",
          "Gujarat",
          "Jammu & Kashmir",
          "Chhattisgarh"
         ],
         "xaxis": "x",
         "y": [
          1,
          0,
          0,
          0,
          0,
          0,
          0,
          0,
          0,
          0,
          0,
          0,
          1,
          0,
          0,
          0,
          1,
          1,
          0,
          0,
          0,
          0,
          0,
          0
         ],
         "yaxis": "y"
        },
        {
         "alignmentgroup": "True",
         "customdata": [
          [
           "INLD"
          ]
         ],
         "hovertemplate": "PARTY=%{customdata[0]}<br>STATE=%{x}<br>WINNER=%{y}<extra></extra>",
         "legendgroup": "INLD",
         "marker": {
          "color": "#FF97FF"
         },
         "name": "INLD",
         "offsetgroup": "INLD",
         "orientation": "v",
         "showlegend": true,
         "textposition": "auto",
         "type": "bar",
         "x": [
          "Haryana"
         ],
         "xaxis": "x",
         "y": [
          0
         ],
         "yaxis": "y"
        },
        {
         "alignmentgroup": "True",
         "customdata": [
          [
           "IPFT"
          ]
         ],
         "hovertemplate": "PARTY=%{customdata[0]}<br>STATE=%{x}<br>WINNER=%{y}<extra></extra>",
         "legendgroup": "IPFT",
         "marker": {
          "color": "#FECB52"
         },
         "name": "IPFT",
         "offsetgroup": "IPFT",
         "orientation": "v",
         "showlegend": true,
         "textposition": "auto",
         "type": "bar",
         "x": [
          "Tripura"
         ],
         "xaxis": "x",
         "y": [
          0
         ],
         "yaxis": "y"
        },
        {
         "alignmentgroup": "True",
         "customdata": [
          [
           "IUML"
          ],
          [
           "IUML"
          ]
         ],
         "hovertemplate": "PARTY=%{customdata[0]}<br>STATE=%{x}<br>WINNER=%{y}<extra></extra>",
         "legendgroup": "IUML",
         "marker": {
          "color": "#636efa"
         },
         "name": "IUML",
         "offsetgroup": "IUML",
         "orientation": "v",
         "showlegend": true,
         "textposition": "auto",
         "type": "bar",
         "x": [
          "Kerala",
          "Tamil Nadu"
         ],
         "xaxis": "x",
         "y": [
          2,
          1
         ],
         "yaxis": "y"
        },
        {
         "alignmentgroup": "True",
         "customdata": [
          [
           "JANADIP"
          ]
         ],
         "hovertemplate": "PARTY=%{customdata[0]}<br>STATE=%{x}<br>WINNER=%{y}<extra></extra>",
         "legendgroup": "JANADIP",
         "marker": {
          "color": "#EF553B"
         },
         "name": "JANADIP",
         "offsetgroup": "JANADIP",
         "orientation": "v",
         "showlegend": true,
         "textposition": "auto",
         "type": "bar",
         "x": [
          "Uttar Pradesh"
         ],
         "xaxis": "x",
         "y": [
          0
         ],
         "yaxis": "y"
        },
        {
         "alignmentgroup": "True",
         "customdata": [
          [
           "JAPL"
          ]
         ],
         "hovertemplate": "PARTY=%{customdata[0]}<br>STATE=%{x}<br>WINNER=%{y}<extra></extra>",
         "legendgroup": "JAPL",
         "marker": {
          "color": "#00cc96"
         },
         "name": "JAPL",
         "offsetgroup": "JAPL",
         "orientation": "v",
         "showlegend": true,
         "textposition": "auto",
         "type": "bar",
         "x": [
          "Bihar"
         ],
         "xaxis": "x",
         "y": [
          0
         ],
         "yaxis": "y"
        },
        {
         "alignmentgroup": "True",
         "customdata": [
          [
           "JD(S)"
          ],
          [
           "JD(S)"
          ]
         ],
         "hovertemplate": "PARTY=%{customdata[0]}<br>STATE=%{x}<br>WINNER=%{y}<extra></extra>",
         "legendgroup": "JD(S)",
         "marker": {
          "color": "#ab63fa"
         },
         "name": "JD(S)",
         "offsetgroup": "JD(S)",
         "orientation": "v",
         "showlegend": true,
         "textposition": "auto",
         "type": "bar",
         "x": [
          "Karnataka",
          "Arunachal Pradesh"
         ],
         "xaxis": "x",
         "y": [
          1,
          0
         ],
         "yaxis": "y"
        },
        {
         "alignmentgroup": "True",
         "customdata": [
          [
           "JD(U)"
          ],
          [
           "JD(U)"
          ]
         ],
         "hovertemplate": "PARTY=%{customdata[0]}<br>STATE=%{x}<br>WINNER=%{y}<extra></extra>",
         "legendgroup": "JD(U)",
         "marker": {
          "color": "#FFA15A"
         },
         "name": "JD(U)",
         "offsetgroup": "JD(U)",
         "orientation": "v",
         "showlegend": true,
         "textposition": "auto",
         "type": "bar",
         "x": [
          "Bihar",
          "Lakshadweep"
         ],
         "xaxis": "x",
         "y": [
          16,
          0
         ],
         "yaxis": "y"
        },
        {
         "alignmentgroup": "True",
         "customdata": [
          [
           "JDL"
          ]
         ],
         "hovertemplate": "PARTY=%{customdata[0]}<br>STATE=%{x}<br>WINNER=%{y}<extra></extra>",
         "legendgroup": "JDL",
         "marker": {
          "color": "#19d3f3"
         },
         "name": "JDL",
         "offsetgroup": "JDL",
         "orientation": "v",
         "showlegend": true,
         "textposition": "auto",
         "type": "bar",
         "x": [
          "Uttar Pradesh"
         ],
         "xaxis": "x",
         "y": [
          0
         ],
         "yaxis": "y"
        },
        {
         "alignmentgroup": "True",
         "customdata": [
          [
           "JDR"
          ]
         ],
         "hovertemplate": "PARTY=%{customdata[0]}<br>STATE=%{x}<br>WINNER=%{y}<extra></extra>",
         "legendgroup": "JDR",
         "marker": {
          "color": "#FF6692"
         },
         "name": "JDR",
         "offsetgroup": "JDR",
         "orientation": "v",
         "showlegend": true,
         "textposition": "auto",
         "type": "bar",
         "x": [
          "Bihar"
         ],
         "xaxis": "x",
         "y": [
          0
         ],
         "yaxis": "y"
        },
        {
         "alignmentgroup": "True",
         "customdata": [
          [
           "JHP"
          ]
         ],
         "hovertemplate": "PARTY=%{customdata[0]}<br>STATE=%{x}<br>WINNER=%{y}<extra></extra>",
         "legendgroup": "JHP",
         "marker": {
          "color": "#B6E880"
         },
         "name": "JHP",
         "offsetgroup": "JHP",
         "orientation": "v",
         "showlegend": true,
         "textposition": "auto",
         "type": "bar",
         "x": [
          "Bihar"
         ],
         "xaxis": "x",
         "y": [
          0
         ],
         "yaxis": "y"
        },
        {
         "alignmentgroup": "True",
         "customdata": [
          [
           "JKN"
          ]
         ],
         "hovertemplate": "PARTY=%{customdata[0]}<br>STATE=%{x}<br>WINNER=%{y}<extra></extra>",
         "legendgroup": "JKN",
         "marker": {
          "color": "#FF97FF"
         },
         "name": "JKN",
         "offsetgroup": "JKN",
         "orientation": "v",
         "showlegend": true,
         "textposition": "auto",
         "type": "bar",
         "x": [
          "Jammu & Kashmir"
         ],
         "xaxis": "x",
         "y": [
          3
         ],
         "yaxis": "y"
        },
        {
         "alignmentgroup": "True",
         "customdata": [
          [
           "JKNPP"
          ]
         ],
         "hovertemplate": "PARTY=%{customdata[0]}<br>STATE=%{x}<br>WINNER=%{y}<extra></extra>",
         "legendgroup": "JKNPP",
         "marker": {
          "color": "#FECB52"
         },
         "name": "JKNPP",
         "offsetgroup": "JKNPP",
         "orientation": "v",
         "showlegend": true,
         "textposition": "auto",
         "type": "bar",
         "x": [
          "Jammu & Kashmir"
         ],
         "xaxis": "x",
         "y": [
          0
         ],
         "yaxis": "y"
        },
        {
         "alignmentgroup": "True",
         "customdata": [
          [
           "JKP"
          ]
         ],
         "hovertemplate": "PARTY=%{customdata[0]}<br>STATE=%{x}<br>WINNER=%{y}<extra></extra>",
         "legendgroup": "JKP",
         "marker": {
          "color": "#636efa"
         },
         "name": "JKP",
         "offsetgroup": "JKP",
         "orientation": "v",
         "showlegend": true,
         "textposition": "auto",
         "type": "bar",
         "x": [
          "Jharkhand"
         ],
         "xaxis": "x",
         "y": [
          0
         ],
         "yaxis": "y"
        },
        {
         "alignmentgroup": "True",
         "customdata": [
          [
           "JKPDP"
          ]
         ],
         "hovertemplate": "PARTY=%{customdata[0]}<br>STATE=%{x}<br>WINNER=%{y}<extra></extra>",
         "legendgroup": "JKPDP",
         "marker": {
          "color": "#EF553B"
         },
         "name": "JKPDP",
         "offsetgroup": "JKPDP",
         "orientation": "v",
         "showlegend": true,
         "textposition": "auto",
         "type": "bar",
         "x": [
          "Jammu & Kashmir"
         ],
         "xaxis": "x",
         "y": [
          0
         ],
         "yaxis": "y"
        },
        {
         "alignmentgroup": "True",
         "customdata": [
          [
           "JMM"
          ],
          [
           "JMM"
          ]
         ],
         "hovertemplate": "PARTY=%{customdata[0]}<br>STATE=%{x}<br>WINNER=%{y}<extra></extra>",
         "legendgroup": "JMM",
         "marker": {
          "color": "#00cc96"
         },
         "name": "JMM",
         "offsetgroup": "JMM",
         "orientation": "v",
         "showlegend": true,
         "textposition": "auto",
         "type": "bar",
         "x": [
          "Odisha",
          "Jharkhand"
         ],
         "xaxis": "x",
         "y": [
          0,
          1
         ],
         "yaxis": "y"
        },
        {
         "alignmentgroup": "True",
         "customdata": [
          [
           "JNJP"
          ]
         ],
         "hovertemplate": "PARTY=%{customdata[0]}<br>STATE=%{x}<br>WINNER=%{y}<extra></extra>",
         "legendgroup": "JNJP",
         "marker": {
          "color": "#ab63fa"
         },
         "name": "JNJP",
         "offsetgroup": "JNJP",
         "orientation": "v",
         "showlegend": true,
         "textposition": "auto",
         "type": "bar",
         "x": [
          "Haryana"
         ],
         "xaxis": "x",
         "y": [
          0
         ],
         "yaxis": "y"
        },
        {
         "alignmentgroup": "True",
         "customdata": [
          [
           "JPC"
          ]
         ],
         "hovertemplate": "PARTY=%{customdata[0]}<br>STATE=%{x}<br>WINNER=%{y}<extra></extra>",
         "legendgroup": "JPC",
         "marker": {
          "color": "#FFA15A"
         },
         "name": "JPC",
         "offsetgroup": "JPC",
         "orientation": "v",
         "showlegend": true,
         "textposition": "auto",
         "type": "bar",
         "x": [
          "Jammu & Kashmir"
         ],
         "xaxis": "x",
         "y": [
          0
         ],
         "yaxis": "y"
        },
        {
         "alignmentgroup": "True",
         "customdata": [
          [
           "JVM"
          ]
         ],
         "hovertemplate": "PARTY=%{customdata[0]}<br>STATE=%{x}<br>WINNER=%{y}<extra></extra>",
         "legendgroup": "JVM",
         "marker": {
          "color": "#19d3f3"
         },
         "name": "JVM",
         "offsetgroup": "JVM",
         "orientation": "v",
         "showlegend": true,
         "textposition": "auto",
         "type": "bar",
         "x": [
          "Jharkhand"
         ],
         "xaxis": "x",
         "y": [
          0
         ],
         "yaxis": "y"
        },
        {
         "alignmentgroup": "True",
         "customdata": [
          [
           "JnP"
          ],
          [
           "JnP"
          ]
         ],
         "hovertemplate": "PARTY=%{customdata[0]}<br>STATE=%{x}<br>WINNER=%{y}<extra></extra>",
         "legendgroup": "JnP",
         "marker": {
          "color": "#FF6692"
         },
         "name": "JnP",
         "offsetgroup": "JnP",
         "orientation": "v",
         "showlegend": true,
         "textposition": "auto",
         "type": "bar",
         "x": [
          "Andhra Pradesh",
          "Telangana"
         ],
         "xaxis": "x",
         "y": [
          0,
          0
         ],
         "yaxis": "y"
        },
        {
         "alignmentgroup": "True",
         "customdata": [
          [
           "KEC"
          ]
         ],
         "hovertemplate": "PARTY=%{customdata[0]}<br>STATE=%{x}<br>WINNER=%{y}<extra></extra>",
         "legendgroup": "KEC",
         "marker": {
          "color": "#B6E880"
         },
         "name": "KEC",
         "offsetgroup": "KEC",
         "orientation": "v",
         "showlegend": true,
         "textposition": "auto",
         "type": "bar",
         "x": [
          "Kerala"
         ],
         "xaxis": "x",
         "y": [
          0
         ],
         "yaxis": "y"
        },
        {
         "alignmentgroup": "True",
         "customdata": [
          [
           "KEC(M)"
          ]
         ],
         "hovertemplate": "PARTY=%{customdata[0]}<br>STATE=%{x}<br>WINNER=%{y}<extra></extra>",
         "legendgroup": "KEC(M)",
         "marker": {
          "color": "#FF97FF"
         },
         "name": "KEC(M)",
         "offsetgroup": "KEC(M)",
         "orientation": "v",
         "showlegend": true,
         "textposition": "auto",
         "type": "bar",
         "x": [
          "Kerala"
         ],
         "xaxis": "x",
         "y": [
          1
         ],
         "yaxis": "y"
        },
        {
         "alignmentgroup": "True",
         "customdata": [
          [
           "LIP"
          ]
         ],
         "hovertemplate": "PARTY=%{customdata[0]}<br>STATE=%{x}<br>WINNER=%{y}<extra></extra>",
         "legendgroup": "LIP",
         "marker": {
          "color": "#FECB52"
         },
         "name": "LIP",
         "offsetgroup": "LIP",
         "orientation": "v",
         "showlegend": true,
         "textposition": "auto",
         "type": "bar",
         "x": [
          "Punjab"
         ],
         "xaxis": "x",
         "y": [
          0
         ],
         "yaxis": "y"
        },
        {
         "alignmentgroup": "True",
         "customdata": [
          [
           "LJP"
          ]
         ],
         "hovertemplate": "PARTY=%{customdata[0]}<br>STATE=%{x}<br>WINNER=%{y}<extra></extra>",
         "legendgroup": "LJP",
         "marker": {
          "color": "#636efa"
         },
         "name": "LJP",
         "offsetgroup": "LJP",
         "orientation": "v",
         "showlegend": true,
         "textposition": "auto",
         "type": "bar",
         "x": [
          "Bihar"
         ],
         "xaxis": "x",
         "y": [
          6
         ],
         "yaxis": "y"
        },
        {
         "alignmentgroup": "True",
         "customdata": [
          [
           "LTSP"
          ]
         ],
         "hovertemplate": "PARTY=%{customdata[0]}<br>STATE=%{x}<br>WINNER=%{y}<extra></extra>",
         "legendgroup": "LTSP",
         "marker": {
          "color": "#EF553B"
         },
         "name": "LTSP",
         "offsetgroup": "LTSP",
         "orientation": "v",
         "showlegend": true,
         "textposition": "auto",
         "type": "bar",
         "x": [
          "Haryana"
         ],
         "xaxis": "x",
         "y": [
          0
         ],
         "yaxis": "y"
        },
        {
         "alignmentgroup": "True",
         "customdata": [
          [
           "MADP"
          ]
         ],
         "hovertemplate": "PARTY=%{customdata[0]}<br>STATE=%{x}<br>WINNER=%{y}<extra></extra>",
         "legendgroup": "MADP",
         "marker": {
          "color": "#00cc96"
         },
         "name": "MADP",
         "offsetgroup": "MADP",
         "orientation": "v",
         "showlegend": true,
         "textposition": "auto",
         "type": "bar",
         "x": [
          "Bihar"
         ],
         "xaxis": "x",
         "y": [
          0
         ],
         "yaxis": "y"
        },
        {
         "alignmentgroup": "True",
         "customdata": [
          [
           "MNF"
          ]
         ],
         "hovertemplate": "PARTY=%{customdata[0]}<br>STATE=%{x}<br>WINNER=%{y}<extra></extra>",
         "legendgroup": "MNF",
         "marker": {
          "color": "#ab63fa"
         },
         "name": "MNF",
         "offsetgroup": "MNF",
         "orientation": "v",
         "showlegend": true,
         "textposition": "auto",
         "type": "bar",
         "x": [
          "Mizoram"
         ],
         "xaxis": "x",
         "y": [
          1
         ],
         "yaxis": "y"
        },
        {
         "alignmentgroup": "True",
         "customdata": [
          [
           "MNM"
          ],
          [
           "MNM"
          ]
         ],
         "hovertemplate": "PARTY=%{customdata[0]}<br>STATE=%{x}<br>WINNER=%{y}<extra></extra>",
         "legendgroup": "MNM",
         "marker": {
          "color": "#FFA15A"
         },
         "name": "MNM",
         "offsetgroup": "MNM",
         "orientation": "v",
         "showlegend": true,
         "textposition": "auto",
         "type": "bar",
         "x": [
          "Puducherry",
          "Tamil Nadu"
         ],
         "xaxis": "x",
         "y": [
          0,
          0
         ],
         "yaxis": "y"
        },
        {
         "alignmentgroup": "True",
         "customdata": [
          [
           "MOSP"
          ]
         ],
         "hovertemplate": "PARTY=%{customdata[0]}<br>STATE=%{x}<br>WINNER=%{y}<extra></extra>",
         "legendgroup": "MOSP",
         "marker": {
          "color": "#19d3f3"
         },
         "name": "MOSP",
         "offsetgroup": "MOSP",
         "orientation": "v",
         "showlegend": true,
         "textposition": "auto",
         "type": "bar",
         "x": [
          "Bihar"
         ],
         "xaxis": "x",
         "y": [
          0
         ],
         "yaxis": "y"
        },
        {
         "alignmentgroup": "True",
         "customdata": [
          [
           "MSHP"
          ]
         ],
         "hovertemplate": "PARTY=%{customdata[0]}<br>STATE=%{x}<br>WINNER=%{y}<extra></extra>",
         "legendgroup": "MSHP",
         "marker": {
          "color": "#FF6692"
         },
         "name": "MSHP",
         "offsetgroup": "MSHP",
         "orientation": "v",
         "showlegend": true,
         "textposition": "auto",
         "type": "bar",
         "x": [
          "Maharashtra"
         ],
         "xaxis": "x",
         "y": [
          0
         ],
         "yaxis": "y"
        },
        {
         "alignmentgroup": "True",
         "customdata": [
          [
           "NAWPP"
          ]
         ],
         "hovertemplate": "PARTY=%{customdata[0]}<br>STATE=%{x}<br>WINNER=%{y}<extra></extra>",
         "legendgroup": "NAWPP",
         "marker": {
          "color": "#B6E880"
         },
         "name": "NAWPP",
         "offsetgroup": "NAWPP",
         "orientation": "v",
         "showlegend": true,
         "textposition": "auto",
         "type": "bar",
         "x": [
          "Punjab"
         ],
         "xaxis": "x",
         "y": [
          0
         ],
         "yaxis": "y"
        },
        {
         "alignmentgroup": "True",
         "customdata": [
          [
           "NCP"
          ],
          [
           "NCP"
          ],
          [
           "NCP"
          ]
         ],
         "hovertemplate": "PARTY=%{customdata[0]}<br>STATE=%{x}<br>WINNER=%{y}<extra></extra>",
         "legendgroup": "NCP",
         "marker": {
          "color": "#FF97FF"
         },
         "name": "NCP",
         "offsetgroup": "NCP",
         "orientation": "v",
         "showlegend": true,
         "textposition": "auto",
         "type": "bar",
         "x": [
          "Bihar",
          "Lakshadweep",
          "Maharashtra"
         ],
         "xaxis": "x",
         "y": [
          0,
          1,
          4
         ],
         "yaxis": "y"
        },
        {
         "alignmentgroup": "True",
         "customdata": [
          [
           "NDPP"
          ]
         ],
         "hovertemplate": "PARTY=%{customdata[0]}<br>STATE=%{x}<br>WINNER=%{y}<extra></extra>",
         "legendgroup": "NDPP",
         "marker": {
          "color": "#FECB52"
         },
         "name": "NDPP",
         "offsetgroup": "NDPP",
         "orientation": "v",
         "showlegend": true,
         "textposition": "auto",
         "type": "bar",
         "x": [
          "Nagaland"
         ],
         "xaxis": "x",
         "y": [
          1
         ],
         "yaxis": "y"
        },
        {
         "alignmentgroup": "True",
         "customdata": [
          [
           "NEINDP"
          ]
         ],
         "hovertemplate": "PARTY=%{customdata[0]}<br>STATE=%{x}<br>WINNER=%{y}<extra></extra>",
         "legendgroup": "NEINDP",
         "marker": {
          "color": "#636efa"
         },
         "name": "NEINDP",
         "offsetgroup": "NEINDP",
         "orientation": "v",
         "showlegend": true,
         "textposition": "auto",
         "type": "bar",
         "x": [
          "Manipur"
         ],
         "xaxis": "x",
         "y": [
          0
         ],
         "yaxis": "y"
        },
        {
         "alignmentgroup": "True",
         "customdata": [
          [
           "NOTA"
          ],
          [
           "NOTA"
          ],
          [
           "NOTA"
          ],
          [
           "NOTA"
          ],
          [
           "NOTA"
          ],
          [
           "NOTA"
          ],
          [
           "NOTA"
          ],
          [
           "NOTA"
          ],
          [
           "NOTA"
          ],
          [
           "NOTA"
          ],
          [
           "NOTA"
          ],
          [
           "NOTA"
          ],
          [
           "NOTA"
          ],
          [
           "NOTA"
          ],
          [
           "NOTA"
          ],
          [
           "NOTA"
          ],
          [
           "NOTA"
          ],
          [
           "NOTA"
          ],
          [
           "NOTA"
          ],
          [
           "NOTA"
          ],
          [
           "NOTA"
          ],
          [
           "NOTA"
          ],
          [
           "NOTA"
          ],
          [
           "NOTA"
          ],
          [
           "NOTA"
          ],
          [
           "NOTA"
          ]
         ],
         "hovertemplate": "PARTY=%{customdata[0]}<br>STATE=%{x}<br>WINNER=%{y}<extra></extra>",
         "legendgroup": "NOTA",
         "marker": {
          "color": "#EF553B"
         },
         "name": "NOTA",
         "offsetgroup": "NOTA",
         "orientation": "v",
         "showlegend": true,
         "textposition": "auto",
         "type": "bar",
         "x": [
          "Meghalaya",
          "Odisha",
          "Puducherry",
          "Punjab",
          "Rajasthan",
          "Uttar Pradesh",
          "West Bengal",
          "Telangana",
          "Tripura",
          "Maharashtra",
          "Uttarakhand",
          "Tamil Nadu",
          "Madhya Pradesh",
          "Chhattisgarh",
          "Jharkhand",
          "Karnataka",
          "Andhra Pradesh",
          "Assam",
          "Bihar",
          "Dadra & Nagar Haveli",
          "Arunachal Pradesh",
          "Goa",
          "Gujarat",
          "Himachal Pradesh",
          "Jammu & Kashmir",
          "Daman & Diu"
         ],
         "xaxis": "x",
         "y": [
          0,
          0,
          0,
          0,
          0,
          0,
          0,
          0,
          0,
          0,
          0,
          0,
          0,
          0,
          0,
          0,
          0,
          0,
          0,
          0,
          0,
          0,
          0,
          0,
          0,
          0
         ],
         "yaxis": "y"
        },
        {
         "alignmentgroup": "True",
         "customdata": [
          [
           "NPEP"
          ],
          [
           "NPEP"
          ],
          [
           "NPEP"
          ],
          [
           "NPEP"
          ],
          [
           "NPEP"
          ]
         ],
         "hovertemplate": "PARTY=%{customdata[0]}<br>STATE=%{x}<br>WINNER=%{y}<extra></extra>",
         "legendgroup": "NPEP",
         "marker": {
          "color": "#00cc96"
         },
         "name": "NPEP",
         "offsetgroup": "NPEP",
         "orientation": "v",
         "showlegend": true,
         "textposition": "auto",
         "type": "bar",
         "x": [
          "Arunachal Pradesh",
          "Assam",
          "Manipur",
          "Meghalaya",
          "Nagaland"
         ],
         "xaxis": "x",
         "y": [
          0,
          0,
          0,
          1,
          0
         ],
         "yaxis": "y"
        },
        {
         "alignmentgroup": "True",
         "customdata": [
          [
           "NPF"
          ]
         ],
         "hovertemplate": "PARTY=%{customdata[0]}<br>STATE=%{x}<br>WINNER=%{y}<extra></extra>",
         "legendgroup": "NPF",
         "marker": {
          "color": "#ab63fa"
         },
         "name": "NPF",
         "offsetgroup": "NPF",
         "orientation": "v",
         "showlegend": true,
         "textposition": "auto",
         "type": "bar",
         "x": [
          "Manipur"
         ],
         "xaxis": "x",
         "y": [
          1
         ],
         "yaxis": "y"
        },
        {
         "alignmentgroup": "True",
         "customdata": [
          [
           "NTK"
          ],
          [
           "NTK"
          ]
         ],
         "hovertemplate": "PARTY=%{customdata[0]}<br>STATE=%{x}<br>WINNER=%{y}<extra></extra>",
         "legendgroup": "NTK",
         "marker": {
          "color": "#FFA15A"
         },
         "name": "NTK",
         "offsetgroup": "NTK",
         "orientation": "v",
         "showlegend": true,
         "textposition": "auto",
         "type": "bar",
         "x": [
          "Tamil Nadu",
          "Puducherry"
         ],
         "xaxis": "x",
         "y": [
          0,
          0
         ],
         "yaxis": "y"
        },
        {
         "alignmentgroup": "True",
         "customdata": [
          [
           "PDP"
          ]
         ],
         "hovertemplate": "PARTY=%{customdata[0]}<br>STATE=%{x}<br>WINNER=%{y}<extra></extra>",
         "legendgroup": "PDP",
         "marker": {
          "color": "#19d3f3"
         },
         "name": "PDP",
         "offsetgroup": "PDP",
         "orientation": "v",
         "showlegend": true,
         "textposition": "auto",
         "type": "bar",
         "x": [
          "Jammu & Kashmir"
         ],
         "xaxis": "x",
         "y": [
          0
         ],
         "yaxis": "y"
        },
        {
         "alignmentgroup": "True",
         "customdata": [
          [
           "PHJSP"
          ]
         ],
         "hovertemplate": "PARTY=%{customdata[0]}<br>STATE=%{x}<br>WINNER=%{y}<extra></extra>",
         "legendgroup": "PHJSP",
         "marker": {
          "color": "#FF6692"
         },
         "name": "PHJSP",
         "offsetgroup": "PHJSP",
         "orientation": "v",
         "showlegend": true,
         "textposition": "auto",
         "type": "bar",
         "x": [
          "Maharashtra"
         ],
         "xaxis": "x",
         "y": [
          0
         ],
         "yaxis": "y"
        },
        {
         "alignmentgroup": "True",
         "customdata": [
          [
           "PMK"
          ]
         ],
         "hovertemplate": "PARTY=%{customdata[0]}<br>STATE=%{x}<br>WINNER=%{y}<extra></extra>",
         "legendgroup": "PMK",
         "marker": {
          "color": "#B6E880"
         },
         "name": "PMK",
         "offsetgroup": "PMK",
         "orientation": "v",
         "showlegend": true,
         "textposition": "auto",
         "type": "bar",
         "x": [
          "Tamil Nadu"
         ],
         "xaxis": "x",
         "y": [
          0
         ],
         "yaxis": "y"
        },
        {
         "alignmentgroup": "True",
         "customdata": [
          [
           "PMP"
          ]
         ],
         "hovertemplate": "PARTY=%{customdata[0]}<br>STATE=%{x}<br>WINNER=%{y}<extra></extra>",
         "legendgroup": "PMP",
         "marker": {
          "color": "#FF97FF"
         },
         "name": "PMP",
         "offsetgroup": "PMP",
         "orientation": "v",
         "showlegend": true,
         "textposition": "auto",
         "type": "bar",
         "x": [
          "Bihar"
         ],
         "xaxis": "x",
         "y": [
          0
         ],
         "yaxis": "y"
        },
        {
         "alignmentgroup": "True",
         "customdata": [
          [
           "PPA"
          ]
         ],
         "hovertemplate": "PARTY=%{customdata[0]}<br>STATE=%{x}<br>WINNER=%{y}<extra></extra>",
         "legendgroup": "PPA",
         "marker": {
          "color": "#FECB52"
         },
         "name": "PPA",
         "offsetgroup": "PPA",
         "orientation": "v",
         "showlegend": true,
         "textposition": "auto",
         "type": "bar",
         "x": [
          "Arunachal Pradesh"
         ],
         "xaxis": "x",
         "y": [
          0
         ],
         "yaxis": "y"
        },
        {
         "alignmentgroup": "True",
         "customdata": [
          [
           "PPID"
          ]
         ],
         "hovertemplate": "PARTY=%{customdata[0]}<br>STATE=%{x}<br>WINNER=%{y}<extra></extra>",
         "legendgroup": "PPID",
         "marker": {
          "color": "#636efa"
         },
         "name": "PPID",
         "offsetgroup": "PPID",
         "orientation": "v",
         "showlegend": true,
         "textposition": "auto",
         "type": "bar",
         "x": [
          "Bihar"
         ],
         "xaxis": "x",
         "y": [
          0
         ],
         "yaxis": "y"
        },
        {
         "alignmentgroup": "True",
         "customdata": [
          [
           "PRISMP"
          ]
         ],
         "hovertemplate": "PARTY=%{customdata[0]}<br>STATE=%{x}<br>WINNER=%{y}<extra></extra>",
         "legendgroup": "PRISMP",
         "marker": {
          "color": "#EF553B"
         },
         "name": "PRISMP",
         "offsetgroup": "PRISMP",
         "orientation": "v",
         "showlegend": true,
         "textposition": "auto",
         "type": "bar",
         "x": [
          "Mizoram"
         ],
         "xaxis": "x",
         "y": [
          0
         ],
         "yaxis": "y"
        },
        {
         "alignmentgroup": "True",
         "customdata": [
          [
           "PSPL"
          ]
         ],
         "hovertemplate": "PARTY=%{customdata[0]}<br>STATE=%{x}<br>WINNER=%{y}<extra></extra>",
         "legendgroup": "PSPL",
         "marker": {
          "color": "#00cc96"
         },
         "name": "PSPL",
         "offsetgroup": "PSPL",
         "orientation": "v",
         "showlegend": true,
         "textposition": "auto",
         "type": "bar",
         "x": [
          "Uttar Pradesh"
         ],
         "xaxis": "x",
         "y": [
          0
         ],
         "yaxis": "y"
        },
        {
         "alignmentgroup": "True",
         "customdata": [
          [
           "PUNEKP"
          ]
         ],
         "hovertemplate": "PARTY=%{customdata[0]}<br>STATE=%{x}<br>WINNER=%{y}<extra></extra>",
         "legendgroup": "PUNEKP",
         "marker": {
          "color": "#ab63fa"
         },
         "name": "PUNEKP",
         "offsetgroup": "PUNEKP",
         "orientation": "v",
         "showlegend": true,
         "textposition": "auto",
         "type": "bar",
         "x": [
          "Punjab"
         ],
         "xaxis": "x",
         "y": [
          0
         ],
         "yaxis": "y"
        },
        {
         "alignmentgroup": "True",
         "customdata": [
          [
           "RAHIS"
          ]
         ],
         "hovertemplate": "PARTY=%{customdata[0]}<br>STATE=%{x}<br>WINNER=%{y}<extra></extra>",
         "legendgroup": "RAHIS",
         "marker": {
          "color": "#FFA15A"
         },
         "name": "RAHIS",
         "offsetgroup": "RAHIS",
         "orientation": "v",
         "showlegend": true,
         "textposition": "auto",
         "type": "bar",
         "x": [
          "Bihar"
         ],
         "xaxis": "x",
         "y": [
          0
         ],
         "yaxis": "y"
        },
        {
         "alignmentgroup": "True",
         "customdata": [
          [
           "RJD"
          ],
          [
           "RJD"
          ]
         ],
         "hovertemplate": "PARTY=%{customdata[0]}<br>STATE=%{x}<br>WINNER=%{y}<extra></extra>",
         "legendgroup": "RJD",
         "marker": {
          "color": "#19d3f3"
         },
         "name": "RJD",
         "offsetgroup": "RJD",
         "orientation": "v",
         "showlegend": true,
         "textposition": "auto",
         "type": "bar",
         "x": [
          "Bihar",
          "Jharkhand"
         ],
         "xaxis": "x",
         "y": [
          0,
          0
         ],
         "yaxis": "y"
        },
        {
         "alignmentgroup": "True",
         "customdata": [
          [
           "RLD"
          ]
         ],
         "hovertemplate": "PARTY=%{customdata[0]}<br>STATE=%{x}<br>WINNER=%{y}<extra></extra>",
         "legendgroup": "RLD",
         "marker": {
          "color": "#FF6692"
         },
         "name": "RLD",
         "offsetgroup": "RLD",
         "orientation": "v",
         "showlegend": true,
         "textposition": "auto",
         "type": "bar",
         "x": [
          "Uttar Pradesh"
         ],
         "xaxis": "x",
         "y": [
          0
         ],
         "yaxis": "y"
        },
        {
         "alignmentgroup": "True",
         "customdata": [
          [
           "RLTP"
          ]
         ],
         "hovertemplate": "PARTY=%{customdata[0]}<br>STATE=%{x}<br>WINNER=%{y}<extra></extra>",
         "legendgroup": "RLTP",
         "marker": {
          "color": "#B6E880"
         },
         "name": "RLTP",
         "offsetgroup": "RLTP",
         "orientation": "v",
         "showlegend": true,
         "textposition": "auto",
         "type": "bar",
         "x": [
          "Rajasthan"
         ],
         "xaxis": "x",
         "y": [
          1
         ],
         "yaxis": "y"
        },
        {
         "alignmentgroup": "True",
         "customdata": [
          [
           "RMPOI"
          ]
         ],
         "hovertemplate": "PARTY=%{customdata[0]}<br>STATE=%{x}<br>WINNER=%{y}<extra></extra>",
         "legendgroup": "RMPOI",
         "marker": {
          "color": "#FF97FF"
         },
         "name": "RMPOI",
         "offsetgroup": "RMPOI",
         "orientation": "v",
         "showlegend": true,
         "textposition": "auto",
         "type": "bar",
         "x": [
          "Punjab"
         ],
         "xaxis": "x",
         "y": [
          0
         ],
         "yaxis": "y"
        },
        {
         "alignmentgroup": "True",
         "customdata": [
          [
           "RSOSP"
          ]
         ],
         "hovertemplate": "PARTY=%{customdata[0]}<br>STATE=%{x}<br>WINNER=%{y}<extra></extra>",
         "legendgroup": "RSOSP",
         "marker": {
          "color": "#FECB52"
         },
         "name": "RSOSP",
         "offsetgroup": "RSOSP",
         "orientation": "v",
         "showlegend": true,
         "textposition": "auto",
         "type": "bar",
         "x": [
          "Uttar Pradesh"
         ],
         "xaxis": "x",
         "y": [
          0
         ],
         "yaxis": "y"
        },
        {
         "alignmentgroup": "True",
         "customdata": [
          [
           "RSP"
          ],
          [
           "RSP"
          ]
         ],
         "hovertemplate": "PARTY=%{customdata[0]}<br>STATE=%{x}<br>WINNER=%{y}<extra></extra>",
         "legendgroup": "RSP",
         "marker": {
          "color": "#636efa"
         },
         "name": "RSP",
         "offsetgroup": "RSP",
         "orientation": "v",
         "showlegend": true,
         "textposition": "auto",
         "type": "bar",
         "x": [
          "Kerala",
          "West Bengal"
         ],
         "xaxis": "x",
         "y": [
          1,
          0
         ],
         "yaxis": "y"
        },
        {
         "alignmentgroup": "True",
         "customdata": [
          [
           "RSPSR"
          ]
         ],
         "hovertemplate": "PARTY=%{customdata[0]}<br>STATE=%{x}<br>WINNER=%{y}<extra></extra>",
         "legendgroup": "RSPSR",
         "marker": {
          "color": "#EF553B"
         },
         "name": "RSPSR",
         "offsetgroup": "RSPSR",
         "orientation": "v",
         "showlegend": true,
         "textposition": "auto",
         "type": "bar",
         "x": [
          "Bihar"
         ],
         "xaxis": "x",
         "y": [
          0
         ],
         "yaxis": "y"
        },
        {
         "alignmentgroup": "True",
         "customdata": [
          [
           "RTORP"
          ]
         ],
         "hovertemplate": "PARTY=%{customdata[0]}<br>STATE=%{x}<br>WINNER=%{y}<extra></extra>",
         "legendgroup": "RTORP",
         "marker": {
          "color": "#00cc96"
         },
         "name": "RTORP",
         "offsetgroup": "RTORP",
         "orientation": "v",
         "showlegend": true,
         "textposition": "auto",
         "type": "bar",
         "x": [
          "Rajasthan"
         ],
         "xaxis": "x",
         "y": [
          0
         ],
         "yaxis": "y"
        },
        {
         "alignmentgroup": "True",
         "customdata": [
          [
           "RVNP"
          ]
         ],
         "hovertemplate": "PARTY=%{customdata[0]}<br>STATE=%{x}<br>WINNER=%{y}<extra></extra>",
         "legendgroup": "RVNP",
         "marker": {
          "color": "#ab63fa"
         },
         "name": "RVNP",
         "offsetgroup": "RVNP",
         "orientation": "v",
         "showlegend": true,
         "textposition": "auto",
         "type": "bar",
         "x": [
          "West Bengal"
         ],
         "xaxis": "x",
         "y": [
          0
         ],
         "yaxis": "y"
        },
        {
         "alignmentgroup": "True",
         "customdata": [
          [
           "SAD"
          ]
         ],
         "hovertemplate": "PARTY=%{customdata[0]}<br>STATE=%{x}<br>WINNER=%{y}<extra></extra>",
         "legendgroup": "SAD",
         "marker": {
          "color": "#FFA15A"
         },
         "name": "SAD",
         "offsetgroup": "SAD",
         "orientation": "v",
         "showlegend": true,
         "textposition": "auto",
         "type": "bar",
         "x": [
          "Punjab"
         ],
         "xaxis": "x",
         "y": [
          2
         ],
         "yaxis": "y"
        },
        {
         "alignmentgroup": "True",
         "customdata": [
          [
           "SAD(M)"
          ]
         ],
         "hovertemplate": "PARTY=%{customdata[0]}<br>STATE=%{x}<br>WINNER=%{y}<extra></extra>",
         "legendgroup": "SAD(M)",
         "marker": {
          "color": "#19d3f3"
         },
         "name": "SAD(M)",
         "offsetgroup": "SAD(M)",
         "orientation": "v",
         "showlegend": true,
         "textposition": "auto",
         "type": "bar",
         "x": [
          "Punjab"
         ],
         "xaxis": "x",
         "y": [
          0
         ],
         "yaxis": "y"
        },
        {
         "alignmentgroup": "True",
         "customdata": [
          [
           "SBSP"
          ],
          [
           "SBSP"
          ]
         ],
         "hovertemplate": "PARTY=%{customdata[0]}<br>STATE=%{x}<br>WINNER=%{y}<extra></extra>",
         "legendgroup": "SBSP",
         "marker": {
          "color": "#FF6692"
         },
         "name": "SBSP",
         "offsetgroup": "SBSP",
         "orientation": "v",
         "showlegend": true,
         "textposition": "auto",
         "type": "bar",
         "x": [
          "Bihar",
          "Uttar Pradesh"
         ],
         "xaxis": "x",
         "y": [
          0,
          0
         ],
         "yaxis": "y"
        },
        {
         "alignmentgroup": "True",
         "customdata": [
          [
           "SDF"
          ]
         ],
         "hovertemplate": "PARTY=%{customdata[0]}<br>STATE=%{x}<br>WINNER=%{y}<extra></extra>",
         "legendgroup": "SDF",
         "marker": {
          "color": "#B6E880"
         },
         "name": "SDF",
         "offsetgroup": "SDF",
         "orientation": "v",
         "showlegend": true,
         "textposition": "auto",
         "type": "bar",
         "x": [
          "Sikkim"
         ],
         "xaxis": "x",
         "y": [
          0
         ],
         "yaxis": "y"
        },
        {
         "alignmentgroup": "True",
         "customdata": [
          [
           "SDPI"
          ],
          [
           "SDPI"
          ],
          [
           "SDPI"
          ]
         ],
         "hovertemplate": "PARTY=%{customdata[0]}<br>STATE=%{x}<br>WINNER=%{y}<extra></extra>",
         "legendgroup": "SDPI",
         "marker": {
          "color": "#FF97FF"
         },
         "name": "SDPI",
         "offsetgroup": "SDPI",
         "orientation": "v",
         "showlegend": true,
         "textposition": "auto",
         "type": "bar",
         "x": [
          "Tamil Nadu",
          "Kerala",
          "Karnataka"
         ],
         "xaxis": "x",
         "y": [
          0,
          0,
          0
         ],
         "yaxis": "y"
        },
        {
         "alignmentgroup": "True",
         "customdata": [
          [
           "SHS"
          ],
          [
           "SHS"
          ],
          [
           "SHS"
          ],
          [
           "SHS"
          ]
         ],
         "hovertemplate": "PARTY=%{customdata[0]}<br>STATE=%{x}<br>WINNER=%{y}<extra></extra>",
         "legendgroup": "SHS",
         "marker": {
          "color": "#FECB52"
         },
         "name": "SHS",
         "offsetgroup": "SHS",
         "orientation": "v",
         "showlegend": true,
         "textposition": "auto",
         "type": "bar",
         "x": [
          "Bihar",
          "Chhattisgarh",
          "Dadra & Nagar Haveli",
          "Maharashtra"
         ],
         "xaxis": "x",
         "y": [
          0,
          0,
          0,
          18
         ],
         "yaxis": "y"
        },
        {
         "alignmentgroup": "True",
         "customdata": [
          [
           "SJDD"
          ]
         ],
         "hovertemplate": "PARTY=%{customdata[0]}<br>STATE=%{x}<br>WINNER=%{y}<extra></extra>",
         "legendgroup": "SJDD",
         "marker": {
          "color": "#636efa"
         },
         "name": "SJDD",
         "offsetgroup": "SJDD",
         "orientation": "v",
         "showlegend": true,
         "textposition": "auto",
         "type": "bar",
         "x": [
          "Bihar"
         ],
         "xaxis": "x",
         "y": [
          0
         ],
         "yaxis": "y"
        },
        {
         "alignmentgroup": "True",
         "customdata": [
          [
           "SKM"
          ]
         ],
         "hovertemplate": "PARTY=%{customdata[0]}<br>STATE=%{x}<br>WINNER=%{y}<extra></extra>",
         "legendgroup": "SKM",
         "marker": {
          "color": "#EF553B"
         },
         "name": "SKM",
         "offsetgroup": "SKM",
         "orientation": "v",
         "showlegend": true,
         "textposition": "auto",
         "type": "bar",
         "x": [
          "Sikkim"
         ],
         "xaxis": "x",
         "y": [
          1
         ],
         "yaxis": "y"
        },
        {
         "alignmentgroup": "True",
         "customdata": [
          [
           "SP"
          ],
          [
           "SP"
          ]
         ],
         "hovertemplate": "PARTY=%{customdata[0]}<br>STATE=%{x}<br>WINNER=%{y}<extra></extra>",
         "legendgroup": "SP",
         "marker": {
          "color": "#00cc96"
         },
         "name": "SP",
         "offsetgroup": "SP",
         "orientation": "v",
         "showlegend": true,
         "textposition": "auto",
         "type": "bar",
         "x": [
          "Madhya Pradesh",
          "Uttar Pradesh"
         ],
         "xaxis": "x",
         "y": [
          0,
          5
         ],
         "yaxis": "y"
        },
        {
         "alignmentgroup": "True",
         "customdata": [
          [
           "SPL"
          ]
         ],
         "hovertemplate": "PARTY=%{customdata[0]}<br>STATE=%{x}<br>WINNER=%{y}<extra></extra>",
         "legendgroup": "SPL",
         "marker": {
          "color": "#ab63fa"
         },
         "name": "SPL",
         "offsetgroup": "SPL",
         "orientation": "v",
         "showlegend": true,
         "textposition": "auto",
         "type": "bar",
         "x": [
          "Bihar"
         ],
         "xaxis": "x",
         "y": [
          0
         ],
         "yaxis": "y"
        },
        {
         "alignmentgroup": "True",
         "customdata": [
          [
           "SSD"
          ]
         ],
         "hovertemplate": "PARTY=%{customdata[0]}<br>STATE=%{x}<br>WINNER=%{y}<extra></extra>",
         "legendgroup": "SSD",
         "marker": {
          "color": "#FFA15A"
         },
         "name": "SSD",
         "offsetgroup": "SSD",
         "orientation": "v",
         "showlegend": true,
         "textposition": "auto",
         "type": "bar",
         "x": [
          "Bihar"
         ],
         "xaxis": "x",
         "y": [
          0
         ],
         "yaxis": "y"
        },
        {
         "alignmentgroup": "True",
         "customdata": [
          [
           "SUCI(C)"
          ]
         ],
         "hovertemplate": "PARTY=%{customdata[0]}<br>STATE=%{x}<br>WINNER=%{y}<extra></extra>",
         "legendgroup": "SUCI(C)",
         "marker": {
          "color": "#19d3f3"
         },
         "name": "SUCI(C)",
         "offsetgroup": "SUCI(C)",
         "orientation": "v",
         "showlegend": true,
         "textposition": "auto",
         "type": "bar",
         "x": [
          "West Bengal"
         ],
         "xaxis": "x",
         "y": [
          0
         ],
         "yaxis": "y"
        },
        {
         "alignmentgroup": "True",
         "customdata": [
          [
           "SWP"
          ]
         ],
         "hovertemplate": "PARTY=%{customdata[0]}<br>STATE=%{x}<br>WINNER=%{y}<extra></extra>",
         "legendgroup": "SWP",
         "marker": {
          "color": "#FF6692"
         },
         "name": "SWP",
         "offsetgroup": "SWP",
         "orientation": "v",
         "showlegend": true,
         "textposition": "auto",
         "type": "bar",
         "x": [
          "Maharashtra"
         ],
         "xaxis": "x",
         "y": [
          0
         ],
         "yaxis": "y"
        },
        {
         "alignmentgroup": "True",
         "customdata": [
          [
           "TDP"
          ]
         ],
         "hovertemplate": "PARTY=%{customdata[0]}<br>STATE=%{x}<br>WINNER=%{y}<extra></extra>",
         "legendgroup": "TDP",
         "marker": {
          "color": "#B6E880"
         },
         "name": "TDP",
         "offsetgroup": "TDP",
         "orientation": "v",
         "showlegend": true,
         "textposition": "auto",
         "type": "bar",
         "x": [
          "Andhra Pradesh"
         ],
         "xaxis": "x",
         "y": [
          3
         ],
         "yaxis": "y"
        },
        {
         "alignmentgroup": "True",
         "customdata": [
          [
           "TJS"
          ]
         ],
         "hovertemplate": "PARTY=%{customdata[0]}<br>STATE=%{x}<br>WINNER=%{y}<extra></extra>",
         "legendgroup": "TJS",
         "marker": {
          "color": "#FF97FF"
         },
         "name": "TJS",
         "offsetgroup": "TJS",
         "orientation": "v",
         "showlegend": true,
         "textposition": "auto",
         "type": "bar",
         "x": [
          "Telangana"
         ],
         "xaxis": "x",
         "y": [
          0
         ],
         "yaxis": "y"
        },
        {
         "alignmentgroup": "True",
         "customdata": [
          [
           "TMC(M)"
          ]
         ],
         "hovertemplate": "PARTY=%{customdata[0]}<br>STATE=%{x}<br>WINNER=%{y}<extra></extra>",
         "legendgroup": "TMC(M)",
         "marker": {
          "color": "#FECB52"
         },
         "name": "TMC(M)",
         "offsetgroup": "TMC(M)",
         "orientation": "v",
         "showlegend": true,
         "textposition": "auto",
         "type": "bar",
         "x": [
          "Tamil Nadu"
         ],
         "xaxis": "x",
         "y": [
          0
         ],
         "yaxis": "y"
        },
        {
         "alignmentgroup": "True",
         "customdata": [
          [
           "TRS"
          ]
         ],
         "hovertemplate": "PARTY=%{customdata[0]}<br>STATE=%{x}<br>WINNER=%{y}<extra></extra>",
         "legendgroup": "TRS",
         "marker": {
          "color": "#636efa"
         },
         "name": "TRS",
         "offsetgroup": "TRS",
         "orientation": "v",
         "showlegend": true,
         "textposition": "auto",
         "type": "bar",
         "x": [
          "Telangana"
         ],
         "xaxis": "x",
         "y": [
          9
         ],
         "yaxis": "y"
        },
        {
         "alignmentgroup": "True",
         "customdata": [
          [
           "UDP"
          ]
         ],
         "hovertemplate": "PARTY=%{customdata[0]}<br>STATE=%{x}<br>WINNER=%{y}<extra></extra>",
         "legendgroup": "UDP",
         "marker": {
          "color": "#EF553B"
         },
         "name": "UDP",
         "offsetgroup": "UDP",
         "orientation": "v",
         "showlegend": true,
         "textposition": "auto",
         "type": "bar",
         "x": [
          "Meghalaya"
         ],
         "xaxis": "x",
         "y": [
          0
         ],
         "yaxis": "y"
        },
        {
         "alignmentgroup": "True",
         "customdata": [
          [
           "UPPL"
          ]
         ],
         "hovertemplate": "PARTY=%{customdata[0]}<br>STATE=%{x}<br>WINNER=%{y}<extra></extra>",
         "legendgroup": "UPPL",
         "marker": {
          "color": "#00cc96"
         },
         "name": "UPPL",
         "offsetgroup": "UPPL",
         "orientation": "v",
         "showlegend": true,
         "textposition": "auto",
         "type": "bar",
         "x": [
          "Assam"
         ],
         "xaxis": "x",
         "y": [
          0
         ],
         "yaxis": "y"
        },
        {
         "alignmentgroup": "True",
         "customdata": [
          [
           "VBA"
          ]
         ],
         "hovertemplate": "PARTY=%{customdata[0]}<br>STATE=%{x}<br>WINNER=%{y}<extra></extra>",
         "legendgroup": "VBA",
         "marker": {
          "color": "#ab63fa"
         },
         "name": "VBA",
         "offsetgroup": "VBA",
         "orientation": "v",
         "showlegend": true,
         "textposition": "auto",
         "type": "bar",
         "x": [
          "Maharashtra"
         ],
         "xaxis": "x",
         "y": [
          0
         ],
         "yaxis": "y"
        },
        {
         "alignmentgroup": "True",
         "customdata": [
          [
           "VCK"
          ]
         ],
         "hovertemplate": "PARTY=%{customdata[0]}<br>STATE=%{x}<br>WINNER=%{y}<extra></extra>",
         "legendgroup": "VCK",
         "marker": {
          "color": "#FFA15A"
         },
         "name": "VCK",
         "offsetgroup": "VCK",
         "orientation": "v",
         "showlegend": true,
         "textposition": "auto",
         "type": "bar",
         "x": [
          "Tamil Nadu"
         ],
         "xaxis": "x",
         "y": [
          1
         ],
         "yaxis": "y"
        },
        {
         "alignmentgroup": "True",
         "customdata": [
          [
           "VCSMP"
          ]
         ],
         "hovertemplate": "PARTY=%{customdata[0]}<br>STATE=%{x}<br>WINNER=%{y}<extra></extra>",
         "legendgroup": "VCSMP",
         "marker": {
          "color": "#19d3f3"
         },
         "name": "VCSMP",
         "offsetgroup": "VCSMP",
         "orientation": "v",
         "showlegend": true,
         "textposition": "auto",
         "type": "bar",
         "x": [
          "Bihar"
         ],
         "xaxis": "x",
         "y": [
          0
         ],
         "yaxis": "y"
        },
        {
         "alignmentgroup": "True",
         "customdata": [
          [
           "VPI"
          ]
         ],
         "hovertemplate": "PARTY=%{customdata[0]}<br>STATE=%{x}<br>WINNER=%{y}<extra></extra>",
         "legendgroup": "VPI",
         "marker": {
          "color": "#FF6692"
         },
         "name": "VPI",
         "offsetgroup": "VPI",
         "orientation": "v",
         "showlegend": true,
         "textposition": "auto",
         "type": "bar",
         "x": [
          "Bihar"
         ],
         "xaxis": "x",
         "y": [
          0
         ],
         "yaxis": "y"
        },
        {
         "alignmentgroup": "True",
         "customdata": [
          [
           "VSIP"
          ]
         ],
         "hovertemplate": "PARTY=%{customdata[0]}<br>STATE=%{x}<br>WINNER=%{y}<extra></extra>",
         "legendgroup": "VSIP",
         "marker": {
          "color": "#B6E880"
         },
         "name": "VSIP",
         "offsetgroup": "VSIP",
         "orientation": "v",
         "showlegend": true,
         "textposition": "auto",
         "type": "bar",
         "x": [
          "Bihar"
         ],
         "xaxis": "x",
         "y": [
          0
         ],
         "yaxis": "y"
        },
        {
         "alignmentgroup": "True",
         "customdata": [
          [
           "WAP"
          ]
         ],
         "hovertemplate": "PARTY=%{customdata[0]}<br>STATE=%{x}<br>WINNER=%{y}<extra></extra>",
         "legendgroup": "WAP",
         "marker": {
          "color": "#FF97FF"
         },
         "name": "WAP",
         "offsetgroup": "WAP",
         "orientation": "v",
         "showlegend": true,
         "textposition": "auto",
         "type": "bar",
         "x": [
          "Bihar"
         ],
         "xaxis": "x",
         "y": [
          0
         ],
         "yaxis": "y"
        },
        {
         "alignmentgroup": "True",
         "customdata": [
          [
           "WPOI"
          ]
         ],
         "hovertemplate": "PARTY=%{customdata[0]}<br>STATE=%{x}<br>WINNER=%{y}<extra></extra>",
         "legendgroup": "WPOI",
         "marker": {
          "color": "#FECB52"
         },
         "name": "WPOI",
         "offsetgroup": "WPOI",
         "orientation": "v",
         "showlegend": true,
         "textposition": "auto",
         "type": "bar",
         "x": [
          "West Bengal"
         ],
         "xaxis": "x",
         "y": [
          0
         ],
         "yaxis": "y"
        },
        {
         "alignmentgroup": "True",
         "customdata": [
          [
           "YKP"
          ]
         ],
         "hovertemplate": "PARTY=%{customdata[0]}<br>STATE=%{x}<br>WINNER=%{y}<extra></extra>",
         "legendgroup": "YKP",
         "marker": {
          "color": "#636efa"
         },
         "name": "YKP",
         "offsetgroup": "YKP",
         "orientation": "v",
         "showlegend": true,
         "textposition": "auto",
         "type": "bar",
         "x": [
          "Bihar"
         ],
         "xaxis": "x",
         "y": [
          0
         ],
         "yaxis": "y"
        },
        {
         "alignmentgroup": "True",
         "customdata": [
          [
           "YSRCP"
          ]
         ],
         "hovertemplate": "PARTY=%{customdata[0]}<br>STATE=%{x}<br>WINNER=%{y}<extra></extra>",
         "legendgroup": "YSRCP",
         "marker": {
          "color": "#EF553B"
         },
         "name": "YSRCP",
         "offsetgroup": "YSRCP",
         "orientation": "v",
         "showlegend": true,
         "textposition": "auto",
         "type": "bar",
         "x": [
          "Andhra Pradesh"
         ],
         "xaxis": "x",
         "y": [
          22
         ],
         "yaxis": "y"
        },
        {
         "alignmentgroup": "True",
         "customdata": [
          [
           "ravp"
          ]
         ],
         "hovertemplate": "PARTY=%{customdata[0]}<br>STATE=%{x}<br>WINNER=%{y}<extra></extra>",
         "legendgroup": "ravp",
         "marker": {
          "color": "#00cc96"
         },
         "name": "ravp",
         "offsetgroup": "ravp",
         "orientation": "v",
         "showlegend": true,
         "textposition": "auto",
         "type": "bar",
         "x": [
          "Bihar"
         ],
         "xaxis": "x",
         "y": [
          0
         ],
         "yaxis": "y"
        }
       ],
       "layout": {
        "barmode": "relative",
        "height": 650,
        "legend": {
         "title": {
          "text": "PARTY"
         },
         "tracegroupgap": 0
        },
        "margin": {
         "t": 60
        },
        "template": {
         "data": {
          "bar": [
           {
            "error_x": {
             "color": "#2a3f5f"
            },
            "error_y": {
             "color": "#2a3f5f"
            },
            "marker": {
             "line": {
              "color": "#E5ECF6",
              "width": 0.5
             }
            },
            "type": "bar"
           }
          ],
          "barpolar": [
           {
            "marker": {
             "line": {
              "color": "#E5ECF6",
              "width": 0.5
             }
            },
            "type": "barpolar"
           }
          ],
          "carpet": [
           {
            "aaxis": {
             "endlinecolor": "#2a3f5f",
             "gridcolor": "white",
             "linecolor": "white",
             "minorgridcolor": "white",
             "startlinecolor": "#2a3f5f"
            },
            "baxis": {
             "endlinecolor": "#2a3f5f",
             "gridcolor": "white",
             "linecolor": "white",
             "minorgridcolor": "white",
             "startlinecolor": "#2a3f5f"
            },
            "type": "carpet"
           }
          ],
          "choropleth": [
           {
            "colorbar": {
             "outlinewidth": 0,
             "ticks": ""
            },
            "type": "choropleth"
           }
          ],
          "contour": [
           {
            "colorbar": {
             "outlinewidth": 0,
             "ticks": ""
            },
            "colorscale": [
             [
              0,
              "#0d0887"
             ],
             [
              0.1111111111111111,
              "#46039f"
             ],
             [
              0.2222222222222222,
              "#7201a8"
             ],
             [
              0.3333333333333333,
              "#9c179e"
             ],
             [
              0.4444444444444444,
              "#bd3786"
             ],
             [
              0.5555555555555556,
              "#d8576b"
             ],
             [
              0.6666666666666666,
              "#ed7953"
             ],
             [
              0.7777777777777778,
              "#fb9f3a"
             ],
             [
              0.8888888888888888,
              "#fdca26"
             ],
             [
              1,
              "#f0f921"
             ]
            ],
            "type": "contour"
           }
          ],
          "contourcarpet": [
           {
            "colorbar": {
             "outlinewidth": 0,
             "ticks": ""
            },
            "type": "contourcarpet"
           }
          ],
          "heatmap": [
           {
            "colorbar": {
             "outlinewidth": 0,
             "ticks": ""
            },
            "colorscale": [
             [
              0,
              "#0d0887"
             ],
             [
              0.1111111111111111,
              "#46039f"
             ],
             [
              0.2222222222222222,
              "#7201a8"
             ],
             [
              0.3333333333333333,
              "#9c179e"
             ],
             [
              0.4444444444444444,
              "#bd3786"
             ],
             [
              0.5555555555555556,
              "#d8576b"
             ],
             [
              0.6666666666666666,
              "#ed7953"
             ],
             [
              0.7777777777777778,
              "#fb9f3a"
             ],
             [
              0.8888888888888888,
              "#fdca26"
             ],
             [
              1,
              "#f0f921"
             ]
            ],
            "type": "heatmap"
           }
          ],
          "heatmapgl": [
           {
            "colorbar": {
             "outlinewidth": 0,
             "ticks": ""
            },
            "colorscale": [
             [
              0,
              "#0d0887"
             ],
             [
              0.1111111111111111,
              "#46039f"
             ],
             [
              0.2222222222222222,
              "#7201a8"
             ],
             [
              0.3333333333333333,
              "#9c179e"
             ],
             [
              0.4444444444444444,
              "#bd3786"
             ],
             [
              0.5555555555555556,
              "#d8576b"
             ],
             [
              0.6666666666666666,
              "#ed7953"
             ],
             [
              0.7777777777777778,
              "#fb9f3a"
             ],
             [
              0.8888888888888888,
              "#fdca26"
             ],
             [
              1,
              "#f0f921"
             ]
            ],
            "type": "heatmapgl"
           }
          ],
          "histogram": [
           {
            "marker": {
             "colorbar": {
              "outlinewidth": 0,
              "ticks": ""
             }
            },
            "type": "histogram"
           }
          ],
          "histogram2d": [
           {
            "colorbar": {
             "outlinewidth": 0,
             "ticks": ""
            },
            "colorscale": [
             [
              0,
              "#0d0887"
             ],
             [
              0.1111111111111111,
              "#46039f"
             ],
             [
              0.2222222222222222,
              "#7201a8"
             ],
             [
              0.3333333333333333,
              "#9c179e"
             ],
             [
              0.4444444444444444,
              "#bd3786"
             ],
             [
              0.5555555555555556,
              "#d8576b"
             ],
             [
              0.6666666666666666,
              "#ed7953"
             ],
             [
              0.7777777777777778,
              "#fb9f3a"
             ],
             [
              0.8888888888888888,
              "#fdca26"
             ],
             [
              1,
              "#f0f921"
             ]
            ],
            "type": "histogram2d"
           }
          ],
          "histogram2dcontour": [
           {
            "colorbar": {
             "outlinewidth": 0,
             "ticks": ""
            },
            "colorscale": [
             [
              0,
              "#0d0887"
             ],
             [
              0.1111111111111111,
              "#46039f"
             ],
             [
              0.2222222222222222,
              "#7201a8"
             ],
             [
              0.3333333333333333,
              "#9c179e"
             ],
             [
              0.4444444444444444,
              "#bd3786"
             ],
             [
              0.5555555555555556,
              "#d8576b"
             ],
             [
              0.6666666666666666,
              "#ed7953"
             ],
             [
              0.7777777777777778,
              "#fb9f3a"
             ],
             [
              0.8888888888888888,
              "#fdca26"
             ],
             [
              1,
              "#f0f921"
             ]
            ],
            "type": "histogram2dcontour"
           }
          ],
          "mesh3d": [
           {
            "colorbar": {
             "outlinewidth": 0,
             "ticks": ""
            },
            "type": "mesh3d"
           }
          ],
          "parcoords": [
           {
            "line": {
             "colorbar": {
              "outlinewidth": 0,
              "ticks": ""
             }
            },
            "type": "parcoords"
           }
          ],
          "pie": [
           {
            "automargin": true,
            "type": "pie"
           }
          ],
          "scatter": [
           {
            "marker": {
             "colorbar": {
              "outlinewidth": 0,
              "ticks": ""
             }
            },
            "type": "scatter"
           }
          ],
          "scatter3d": [
           {
            "line": {
             "colorbar": {
              "outlinewidth": 0,
              "ticks": ""
             }
            },
            "marker": {
             "colorbar": {
              "outlinewidth": 0,
              "ticks": ""
             }
            },
            "type": "scatter3d"
           }
          ],
          "scattercarpet": [
           {
            "marker": {
             "colorbar": {
              "outlinewidth": 0,
              "ticks": ""
             }
            },
            "type": "scattercarpet"
           }
          ],
          "scattergeo": [
           {
            "marker": {
             "colorbar": {
              "outlinewidth": 0,
              "ticks": ""
             }
            },
            "type": "scattergeo"
           }
          ],
          "scattergl": [
           {
            "marker": {
             "colorbar": {
              "outlinewidth": 0,
              "ticks": ""
             }
            },
            "type": "scattergl"
           }
          ],
          "scattermapbox": [
           {
            "marker": {
             "colorbar": {
              "outlinewidth": 0,
              "ticks": ""
             }
            },
            "type": "scattermapbox"
           }
          ],
          "scatterpolar": [
           {
            "marker": {
             "colorbar": {
              "outlinewidth": 0,
              "ticks": ""
             }
            },
            "type": "scatterpolar"
           }
          ],
          "scatterpolargl": [
           {
            "marker": {
             "colorbar": {
              "outlinewidth": 0,
              "ticks": ""
             }
            },
            "type": "scatterpolargl"
           }
          ],
          "scatterternary": [
           {
            "marker": {
             "colorbar": {
              "outlinewidth": 0,
              "ticks": ""
             }
            },
            "type": "scatterternary"
           }
          ],
          "surface": [
           {
            "colorbar": {
             "outlinewidth": 0,
             "ticks": ""
            },
            "colorscale": [
             [
              0,
              "#0d0887"
             ],
             [
              0.1111111111111111,
              "#46039f"
             ],
             [
              0.2222222222222222,
              "#7201a8"
             ],
             [
              0.3333333333333333,
              "#9c179e"
             ],
             [
              0.4444444444444444,
              "#bd3786"
             ],
             [
              0.5555555555555556,
              "#d8576b"
             ],
             [
              0.6666666666666666,
              "#ed7953"
             ],
             [
              0.7777777777777778,
              "#fb9f3a"
             ],
             [
              0.8888888888888888,
              "#fdca26"
             ],
             [
              1,
              "#f0f921"
             ]
            ],
            "type": "surface"
           }
          ],
          "table": [
           {
            "cells": {
             "fill": {
              "color": "#EBF0F8"
             },
             "line": {
              "color": "white"
             }
            },
            "header": {
             "fill": {
              "color": "#C8D4E3"
             },
             "line": {
              "color": "white"
             }
            },
            "type": "table"
           }
          ]
         },
         "layout": {
          "annotationdefaults": {
           "arrowcolor": "#2a3f5f",
           "arrowhead": 0,
           "arrowwidth": 1
          },
          "coloraxis": {
           "colorbar": {
            "outlinewidth": 0,
            "ticks": ""
           }
          },
          "colorscale": {
           "diverging": [
            [
             0,
             "#8e0152"
            ],
            [
             0.1,
             "#c51b7d"
            ],
            [
             0.2,
             "#de77ae"
            ],
            [
             0.3,
             "#f1b6da"
            ],
            [
             0.4,
             "#fde0ef"
            ],
            [
             0.5,
             "#f7f7f7"
            ],
            [
             0.6,
             "#e6f5d0"
            ],
            [
             0.7,
             "#b8e186"
            ],
            [
             0.8,
             "#7fbc41"
            ],
            [
             0.9,
             "#4d9221"
            ],
            [
             1,
             "#276419"
            ]
           ],
           "sequential": [
            [
             0,
             "#0d0887"
            ],
            [
             0.1111111111111111,
             "#46039f"
            ],
            [
             0.2222222222222222,
             "#7201a8"
            ],
            [
             0.3333333333333333,
             "#9c179e"
            ],
            [
             0.4444444444444444,
             "#bd3786"
            ],
            [
             0.5555555555555556,
             "#d8576b"
            ],
            [
             0.6666666666666666,
             "#ed7953"
            ],
            [
             0.7777777777777778,
             "#fb9f3a"
            ],
            [
             0.8888888888888888,
             "#fdca26"
            ],
            [
             1,
             "#f0f921"
            ]
           ],
           "sequentialminus": [
            [
             0,
             "#0d0887"
            ],
            [
             0.1111111111111111,
             "#46039f"
            ],
            [
             0.2222222222222222,
             "#7201a8"
            ],
            [
             0.3333333333333333,
             "#9c179e"
            ],
            [
             0.4444444444444444,
             "#bd3786"
            ],
            [
             0.5555555555555556,
             "#d8576b"
            ],
            [
             0.6666666666666666,
             "#ed7953"
            ],
            [
             0.7777777777777778,
             "#fb9f3a"
            ],
            [
             0.8888888888888888,
             "#fdca26"
            ],
            [
             1,
             "#f0f921"
            ]
           ]
          },
          "colorway": [
           "#636efa",
           "#EF553B",
           "#00cc96",
           "#ab63fa",
           "#FFA15A",
           "#19d3f3",
           "#FF6692",
           "#B6E880",
           "#FF97FF",
           "#FECB52"
          ],
          "font": {
           "color": "#2a3f5f"
          },
          "geo": {
           "bgcolor": "white",
           "lakecolor": "white",
           "landcolor": "#E5ECF6",
           "showlakes": true,
           "showland": true,
           "subunitcolor": "white"
          },
          "hoverlabel": {
           "align": "left"
          },
          "hovermode": "closest",
          "mapbox": {
           "style": "light"
          },
          "paper_bgcolor": "white",
          "plot_bgcolor": "#E5ECF6",
          "polar": {
           "angularaxis": {
            "gridcolor": "white",
            "linecolor": "white",
            "ticks": ""
           },
           "bgcolor": "#E5ECF6",
           "radialaxis": {
            "gridcolor": "white",
            "linecolor": "white",
            "ticks": ""
           }
          },
          "scene": {
           "xaxis": {
            "backgroundcolor": "#E5ECF6",
            "gridcolor": "white",
            "gridwidth": 2,
            "linecolor": "white",
            "showbackground": true,
            "ticks": "",
            "zerolinecolor": "white"
           },
           "yaxis": {
            "backgroundcolor": "#E5ECF6",
            "gridcolor": "white",
            "gridwidth": 2,
            "linecolor": "white",
            "showbackground": true,
            "ticks": "",
            "zerolinecolor": "white"
           },
           "zaxis": {
            "backgroundcolor": "#E5ECF6",
            "gridcolor": "white",
            "gridwidth": 2,
            "linecolor": "white",
            "showbackground": true,
            "ticks": "",
            "zerolinecolor": "white"
           }
          },
          "shapedefaults": {
           "line": {
            "color": "#2a3f5f"
           }
          },
          "ternary": {
           "aaxis": {
            "gridcolor": "white",
            "linecolor": "white",
            "ticks": ""
           },
           "baxis": {
            "gridcolor": "white",
            "linecolor": "white",
            "ticks": ""
           },
           "bgcolor": "#E5ECF6",
           "caxis": {
            "gridcolor": "white",
            "linecolor": "white",
            "ticks": ""
           }
          },
          "title": {
           "x": 0.05
          },
          "xaxis": {
           "automargin": true,
           "gridcolor": "white",
           "linecolor": "white",
           "ticks": "",
           "title": {
            "standoff": 15
           },
           "zerolinecolor": "white",
           "zerolinewidth": 2
          },
          "yaxis": {
           "automargin": true,
           "gridcolor": "white",
           "linecolor": "white",
           "ticks": "",
           "title": {
            "standoff": 15
           },
           "zerolinecolor": "white",
           "zerolinewidth": 2
          }
         }
        },
        "xaxis": {
         "anchor": "y",
         "domain": [
          0,
          1
         ],
         "title": {
          "text": "STATE"
         }
        },
        "yaxis": {
         "anchor": "x",
         "domain": [
          0,
          1
         ],
         "title": {
          "text": "WINNER"
         }
        }
       }
      }
     },
     "metadata": {}
    }
   ],
   "source": [
    "p = df.groupby(['PARTY','STATE']).sum().reset_index().sort_values('PARTY',ascending =True)\n",
    "fig = px.bar(p, x='STATE', y='WINNER',hover_data =['PARTY'], color='PARTY', height=650)\n",
    "fig.show()"
   ]
  },
  {
   "cell_type": "markdown",
   "metadata": {},
   "source": [
    "## Age groups"
   ]
  },
  {
   "cell_type": "code",
   "execution_count": 45,
   "metadata": {},
   "outputs": [],
   "source": [
    "#Creating Age_Group from Age column\n",
    "AGE_GROUP = []\n",
    "for i in df['AGE']:\n",
    "    if i >= 24 and i <=35:\n",
    "        AGE_GROUP.append('YOUNG AGE')\n",
    "    elif i >= 36 and i<=60:\n",
    "        AGE_GROUP.append('MIDDLE AGE')\n",
    "    elif i >=60:\n",
    "        AGE_GROUP.append('OLD AGE')\n",
    "    else:\n",
    "        AGE_GROUP.append('NOT KNOWN')\n",
    "df['AGE_GROUP'] = AGE_GROUP"
   ]
  },
  {
   "cell_type": "code",
   "execution_count": 46,
   "metadata": {},
   "outputs": [
    {
     "output_type": "display_data",
     "data": {
      "application/vnd.plotly.v1+json": {
       "config": {
        "plotlyServerURL": "https://plot.ly"
       },
       "data": [
        {
         "alignmentgroup": "True",
         "customdata": [
          [
           "MIDDLE AGE"
          ],
          [
           "MIDDLE AGE"
          ],
          [
           "MIDDLE AGE"
          ],
          [
           "MIDDLE AGE"
          ],
          [
           "MIDDLE AGE"
          ],
          [
           "MIDDLE AGE"
          ],
          [
           "MIDDLE AGE"
          ],
          [
           "MIDDLE AGE"
          ],
          [
           "MIDDLE AGE"
          ],
          [
           "MIDDLE AGE"
          ],
          [
           "MIDDLE AGE"
          ],
          [
           "MIDDLE AGE"
          ],
          [
           "MIDDLE AGE"
          ],
          [
           "MIDDLE AGE"
          ],
          [
           "MIDDLE AGE"
          ],
          [
           "MIDDLE AGE"
          ],
          [
           "MIDDLE AGE"
          ],
          [
           "MIDDLE AGE"
          ],
          [
           "MIDDLE AGE"
          ],
          [
           "MIDDLE AGE"
          ],
          [
           "MIDDLE AGE"
          ],
          [
           "MIDDLE AGE"
          ],
          [
           "MIDDLE AGE"
          ],
          [
           "MIDDLE AGE"
          ],
          [
           "MIDDLE AGE"
          ],
          [
           "MIDDLE AGE"
          ],
          [
           "MIDDLE AGE"
          ],
          [
           "MIDDLE AGE"
          ],
          [
           "MIDDLE AGE"
          ]
         ],
         "hovertemplate": "AGE_GROUP=%{customdata[0]}<br>PARTY=%{x}<br>WINNER=%{y}<extra></extra>",
         "legendgroup": "MIDDLE AGE",
         "marker": {
          "color": "#636efa"
         },
         "name": "MIDDLE AGE",
         "offsetgroup": "MIDDLE AGE",
         "orientation": "v",
         "showlegend": true,
         "textposition": "auto",
         "type": "bar",
         "x": [
          "BJP",
          "INC",
          "DMK",
          "YSRCP",
          "SHS",
          "AITC",
          "BJD",
          "BSP",
          "JD(U)",
          "TRS",
          "LJP",
          "NCP",
          "IND",
          "SAD",
          "TDP",
          "SP",
          "CPI(M)",
          "AIMIM",
          "RSP",
          "RLTP",
          "IUML",
          "NPF",
          "NPEP",
          "JMM",
          "AJSUP",
          "AAP",
          "AIADMK",
          "ADAL",
          "VCK"
         ],
         "xaxis": "x",
         "y": [
          192,
          28,
          17,
          15,
          13,
          9,
          8,
          7,
          7,
          6,
          5,
          4,
          3,
          2,
          2,
          2,
          2,
          2,
          1,
          1,
          1,
          1,
          1,
          1,
          1,
          1,
          1,
          1,
          1
         ],
         "yaxis": "y"
        },
        {
         "alignmentgroup": "True",
         "customdata": [
          [
           "OLD AGE"
          ],
          [
           "OLD AGE"
          ],
          [
           "OLD AGE"
          ],
          [
           "OLD AGE"
          ],
          [
           "OLD AGE"
          ],
          [
           "OLD AGE"
          ],
          [
           "OLD AGE"
          ],
          [
           "OLD AGE"
          ],
          [
           "OLD AGE"
          ],
          [
           "OLD AGE"
          ],
          [
           "OLD AGE"
          ],
          [
           "OLD AGE"
          ],
          [
           "OLD AGE"
          ],
          [
           "OLD AGE"
          ],
          [
           "OLD AGE"
          ],
          [
           "OLD AGE"
          ],
          [
           "OLD AGE"
          ],
          [
           "OLD AGE"
          ],
          [
           "OLD AGE"
          ],
          [
           "OLD AGE"
          ],
          [
           "OLD AGE"
          ]
         ],
         "hovertemplate": "AGE_GROUP=%{customdata[0]}<br>PARTY=%{x}<br>WINNER=%{y}<extra></extra>",
         "legendgroup": "OLD AGE",
         "marker": {
          "color": "#EF553B"
         },
         "name": "OLD AGE",
         "offsetgroup": "OLD AGE",
         "orientation": "v",
         "showlegend": true,
         "textposition": "auto",
         "type": "bar",
         "x": [
          "BJP",
          "INC",
          "AITC",
          "JD(U)",
          "DMK",
          "YSRCP",
          "TRS",
          "SHS",
          "CPI(M)",
          "BJD",
          "JKN",
          "BSP",
          "SP",
          "IUML",
          "NDPP",
          "NCP",
          "KEC(M)",
          "LJP",
          "MNF",
          "AIUDF",
          "ADAL"
         ],
         "xaxis": "x",
         "y": [
          97,
          21,
          9,
          8,
          6,
          4,
          3,
          3,
          3,
          3,
          3,
          3,
          3,
          2,
          1,
          1,
          1,
          1,
          1,
          1,
          1
         ],
         "yaxis": "y"
        },
        {
         "alignmentgroup": "True",
         "customdata": [
          [
           "YOUNG AGE"
          ],
          [
           "YOUNG AGE"
          ],
          [
           "YOUNG AGE"
          ],
          [
           "YOUNG AGE"
          ],
          [
           "YOUNG AGE"
          ],
          [
           "YOUNG AGE"
          ],
          [
           "YOUNG AGE"
          ],
          [
           "YOUNG AGE"
          ],
          [
           "YOUNG AGE"
          ],
          [
           "YOUNG AGE"
          ],
          [
           "YOUNG AGE"
          ]
         ],
         "hovertemplate": "AGE_GROUP=%{customdata[0]}<br>PARTY=%{x}<br>WINNER=%{y}<extra></extra>",
         "legendgroup": "YOUNG AGE",
         "marker": {
          "color": "#00cc96"
         },
         "name": "YOUNG AGE",
         "offsetgroup": "YOUNG AGE",
         "orientation": "v",
         "showlegend": true,
         "textposition": "auto",
         "type": "bar",
         "x": [
          "BJP",
          "AITC",
          "INC",
          "YSRCP",
          "SHS",
          "JD(S)",
          "JD(U)",
          "BSP",
          "IND",
          "SKM",
          "TDP"
         ],
         "xaxis": "x",
         "y": [
          11,
          4,
          3,
          3,
          2,
          1,
          1,
          1,
          1,
          1,
          1
         ],
         "yaxis": "y"
        }
       ],
       "layout": {
        "barmode": "relative",
        "height": 650,
        "legend": {
         "title": {
          "text": "AGE_GROUP"
         },
         "tracegroupgap": 0
        },
        "margin": {
         "t": 60
        },
        "template": {
         "data": {
          "bar": [
           {
            "error_x": {
             "color": "#2a3f5f"
            },
            "error_y": {
             "color": "#2a3f5f"
            },
            "marker": {
             "line": {
              "color": "#E5ECF6",
              "width": 0.5
             }
            },
            "type": "bar"
           }
          ],
          "barpolar": [
           {
            "marker": {
             "line": {
              "color": "#E5ECF6",
              "width": 0.5
             }
            },
            "type": "barpolar"
           }
          ],
          "carpet": [
           {
            "aaxis": {
             "endlinecolor": "#2a3f5f",
             "gridcolor": "white",
             "linecolor": "white",
             "minorgridcolor": "white",
             "startlinecolor": "#2a3f5f"
            },
            "baxis": {
             "endlinecolor": "#2a3f5f",
             "gridcolor": "white",
             "linecolor": "white",
             "minorgridcolor": "white",
             "startlinecolor": "#2a3f5f"
            },
            "type": "carpet"
           }
          ],
          "choropleth": [
           {
            "colorbar": {
             "outlinewidth": 0,
             "ticks": ""
            },
            "type": "choropleth"
           }
          ],
          "contour": [
           {
            "colorbar": {
             "outlinewidth": 0,
             "ticks": ""
            },
            "colorscale": [
             [
              0,
              "#0d0887"
             ],
             [
              0.1111111111111111,
              "#46039f"
             ],
             [
              0.2222222222222222,
              "#7201a8"
             ],
             [
              0.3333333333333333,
              "#9c179e"
             ],
             [
              0.4444444444444444,
              "#bd3786"
             ],
             [
              0.5555555555555556,
              "#d8576b"
             ],
             [
              0.6666666666666666,
              "#ed7953"
             ],
             [
              0.7777777777777778,
              "#fb9f3a"
             ],
             [
              0.8888888888888888,
              "#fdca26"
             ],
             [
              1,
              "#f0f921"
             ]
            ],
            "type": "contour"
           }
          ],
          "contourcarpet": [
           {
            "colorbar": {
             "outlinewidth": 0,
             "ticks": ""
            },
            "type": "contourcarpet"
           }
          ],
          "heatmap": [
           {
            "colorbar": {
             "outlinewidth": 0,
             "ticks": ""
            },
            "colorscale": [
             [
              0,
              "#0d0887"
             ],
             [
              0.1111111111111111,
              "#46039f"
             ],
             [
              0.2222222222222222,
              "#7201a8"
             ],
             [
              0.3333333333333333,
              "#9c179e"
             ],
             [
              0.4444444444444444,
              "#bd3786"
             ],
             [
              0.5555555555555556,
              "#d8576b"
             ],
             [
              0.6666666666666666,
              "#ed7953"
             ],
             [
              0.7777777777777778,
              "#fb9f3a"
             ],
             [
              0.8888888888888888,
              "#fdca26"
             ],
             [
              1,
              "#f0f921"
             ]
            ],
            "type": "heatmap"
           }
          ],
          "heatmapgl": [
           {
            "colorbar": {
             "outlinewidth": 0,
             "ticks": ""
            },
            "colorscale": [
             [
              0,
              "#0d0887"
             ],
             [
              0.1111111111111111,
              "#46039f"
             ],
             [
              0.2222222222222222,
              "#7201a8"
             ],
             [
              0.3333333333333333,
              "#9c179e"
             ],
             [
              0.4444444444444444,
              "#bd3786"
             ],
             [
              0.5555555555555556,
              "#d8576b"
             ],
             [
              0.6666666666666666,
              "#ed7953"
             ],
             [
              0.7777777777777778,
              "#fb9f3a"
             ],
             [
              0.8888888888888888,
              "#fdca26"
             ],
             [
              1,
              "#f0f921"
             ]
            ],
            "type": "heatmapgl"
           }
          ],
          "histogram": [
           {
            "marker": {
             "colorbar": {
              "outlinewidth": 0,
              "ticks": ""
             }
            },
            "type": "histogram"
           }
          ],
          "histogram2d": [
           {
            "colorbar": {
             "outlinewidth": 0,
             "ticks": ""
            },
            "colorscale": [
             [
              0,
              "#0d0887"
             ],
             [
              0.1111111111111111,
              "#46039f"
             ],
             [
              0.2222222222222222,
              "#7201a8"
             ],
             [
              0.3333333333333333,
              "#9c179e"
             ],
             [
              0.4444444444444444,
              "#bd3786"
             ],
             [
              0.5555555555555556,
              "#d8576b"
             ],
             [
              0.6666666666666666,
              "#ed7953"
             ],
             [
              0.7777777777777778,
              "#fb9f3a"
             ],
             [
              0.8888888888888888,
              "#fdca26"
             ],
             [
              1,
              "#f0f921"
             ]
            ],
            "type": "histogram2d"
           }
          ],
          "histogram2dcontour": [
           {
            "colorbar": {
             "outlinewidth": 0,
             "ticks": ""
            },
            "colorscale": [
             [
              0,
              "#0d0887"
             ],
             [
              0.1111111111111111,
              "#46039f"
             ],
             [
              0.2222222222222222,
              "#7201a8"
             ],
             [
              0.3333333333333333,
              "#9c179e"
             ],
             [
              0.4444444444444444,
              "#bd3786"
             ],
             [
              0.5555555555555556,
              "#d8576b"
             ],
             [
              0.6666666666666666,
              "#ed7953"
             ],
             [
              0.7777777777777778,
              "#fb9f3a"
             ],
             [
              0.8888888888888888,
              "#fdca26"
             ],
             [
              1,
              "#f0f921"
             ]
            ],
            "type": "histogram2dcontour"
           }
          ],
          "mesh3d": [
           {
            "colorbar": {
             "outlinewidth": 0,
             "ticks": ""
            },
            "type": "mesh3d"
           }
          ],
          "parcoords": [
           {
            "line": {
             "colorbar": {
              "outlinewidth": 0,
              "ticks": ""
             }
            },
            "type": "parcoords"
           }
          ],
          "pie": [
           {
            "automargin": true,
            "type": "pie"
           }
          ],
          "scatter": [
           {
            "marker": {
             "colorbar": {
              "outlinewidth": 0,
              "ticks": ""
             }
            },
            "type": "scatter"
           }
          ],
          "scatter3d": [
           {
            "line": {
             "colorbar": {
              "outlinewidth": 0,
              "ticks": ""
             }
            },
            "marker": {
             "colorbar": {
              "outlinewidth": 0,
              "ticks": ""
             }
            },
            "type": "scatter3d"
           }
          ],
          "scattercarpet": [
           {
            "marker": {
             "colorbar": {
              "outlinewidth": 0,
              "ticks": ""
             }
            },
            "type": "scattercarpet"
           }
          ],
          "scattergeo": [
           {
            "marker": {
             "colorbar": {
              "outlinewidth": 0,
              "ticks": ""
             }
            },
            "type": "scattergeo"
           }
          ],
          "scattergl": [
           {
            "marker": {
             "colorbar": {
              "outlinewidth": 0,
              "ticks": ""
             }
            },
            "type": "scattergl"
           }
          ],
          "scattermapbox": [
           {
            "marker": {
             "colorbar": {
              "outlinewidth": 0,
              "ticks": ""
             }
            },
            "type": "scattermapbox"
           }
          ],
          "scatterpolar": [
           {
            "marker": {
             "colorbar": {
              "outlinewidth": 0,
              "ticks": ""
             }
            },
            "type": "scatterpolar"
           }
          ],
          "scatterpolargl": [
           {
            "marker": {
             "colorbar": {
              "outlinewidth": 0,
              "ticks": ""
             }
            },
            "type": "scatterpolargl"
           }
          ],
          "scatterternary": [
           {
            "marker": {
             "colorbar": {
              "outlinewidth": 0,
              "ticks": ""
             }
            },
            "type": "scatterternary"
           }
          ],
          "surface": [
           {
            "colorbar": {
             "outlinewidth": 0,
             "ticks": ""
            },
            "colorscale": [
             [
              0,
              "#0d0887"
             ],
             [
              0.1111111111111111,
              "#46039f"
             ],
             [
              0.2222222222222222,
              "#7201a8"
             ],
             [
              0.3333333333333333,
              "#9c179e"
             ],
             [
              0.4444444444444444,
              "#bd3786"
             ],
             [
              0.5555555555555556,
              "#d8576b"
             ],
             [
              0.6666666666666666,
              "#ed7953"
             ],
             [
              0.7777777777777778,
              "#fb9f3a"
             ],
             [
              0.8888888888888888,
              "#fdca26"
             ],
             [
              1,
              "#f0f921"
             ]
            ],
            "type": "surface"
           }
          ],
          "table": [
           {
            "cells": {
             "fill": {
              "color": "#EBF0F8"
             },
             "line": {
              "color": "white"
             }
            },
            "header": {
             "fill": {
              "color": "#C8D4E3"
             },
             "line": {
              "color": "white"
             }
            },
            "type": "table"
           }
          ]
         },
         "layout": {
          "annotationdefaults": {
           "arrowcolor": "#2a3f5f",
           "arrowhead": 0,
           "arrowwidth": 1
          },
          "coloraxis": {
           "colorbar": {
            "outlinewidth": 0,
            "ticks": ""
           }
          },
          "colorscale": {
           "diverging": [
            [
             0,
             "#8e0152"
            ],
            [
             0.1,
             "#c51b7d"
            ],
            [
             0.2,
             "#de77ae"
            ],
            [
             0.3,
             "#f1b6da"
            ],
            [
             0.4,
             "#fde0ef"
            ],
            [
             0.5,
             "#f7f7f7"
            ],
            [
             0.6,
             "#e6f5d0"
            ],
            [
             0.7,
             "#b8e186"
            ],
            [
             0.8,
             "#7fbc41"
            ],
            [
             0.9,
             "#4d9221"
            ],
            [
             1,
             "#276419"
            ]
           ],
           "sequential": [
            [
             0,
             "#0d0887"
            ],
            [
             0.1111111111111111,
             "#46039f"
            ],
            [
             0.2222222222222222,
             "#7201a8"
            ],
            [
             0.3333333333333333,
             "#9c179e"
            ],
            [
             0.4444444444444444,
             "#bd3786"
            ],
            [
             0.5555555555555556,
             "#d8576b"
            ],
            [
             0.6666666666666666,
             "#ed7953"
            ],
            [
             0.7777777777777778,
             "#fb9f3a"
            ],
            [
             0.8888888888888888,
             "#fdca26"
            ],
            [
             1,
             "#f0f921"
            ]
           ],
           "sequentialminus": [
            [
             0,
             "#0d0887"
            ],
            [
             0.1111111111111111,
             "#46039f"
            ],
            [
             0.2222222222222222,
             "#7201a8"
            ],
            [
             0.3333333333333333,
             "#9c179e"
            ],
            [
             0.4444444444444444,
             "#bd3786"
            ],
            [
             0.5555555555555556,
             "#d8576b"
            ],
            [
             0.6666666666666666,
             "#ed7953"
            ],
            [
             0.7777777777777778,
             "#fb9f3a"
            ],
            [
             0.8888888888888888,
             "#fdca26"
            ],
            [
             1,
             "#f0f921"
            ]
           ]
          },
          "colorway": [
           "#636efa",
           "#EF553B",
           "#00cc96",
           "#ab63fa",
           "#FFA15A",
           "#19d3f3",
           "#FF6692",
           "#B6E880",
           "#FF97FF",
           "#FECB52"
          ],
          "font": {
           "color": "#2a3f5f"
          },
          "geo": {
           "bgcolor": "white",
           "lakecolor": "white",
           "landcolor": "#E5ECF6",
           "showlakes": true,
           "showland": true,
           "subunitcolor": "white"
          },
          "hoverlabel": {
           "align": "left"
          },
          "hovermode": "closest",
          "mapbox": {
           "style": "light"
          },
          "paper_bgcolor": "white",
          "plot_bgcolor": "#E5ECF6",
          "polar": {
           "angularaxis": {
            "gridcolor": "white",
            "linecolor": "white",
            "ticks": ""
           },
           "bgcolor": "#E5ECF6",
           "radialaxis": {
            "gridcolor": "white",
            "linecolor": "white",
            "ticks": ""
           }
          },
          "scene": {
           "xaxis": {
            "backgroundcolor": "#E5ECF6",
            "gridcolor": "white",
            "gridwidth": 2,
            "linecolor": "white",
            "showbackground": true,
            "ticks": "",
            "zerolinecolor": "white"
           },
           "yaxis": {
            "backgroundcolor": "#E5ECF6",
            "gridcolor": "white",
            "gridwidth": 2,
            "linecolor": "white",
            "showbackground": true,
            "ticks": "",
            "zerolinecolor": "white"
           },
           "zaxis": {
            "backgroundcolor": "#E5ECF6",
            "gridcolor": "white",
            "gridwidth": 2,
            "linecolor": "white",
            "showbackground": true,
            "ticks": "",
            "zerolinecolor": "white"
           }
          },
          "shapedefaults": {
           "line": {
            "color": "#2a3f5f"
           }
          },
          "ternary": {
           "aaxis": {
            "gridcolor": "white",
            "linecolor": "white",
            "ticks": ""
           },
           "baxis": {
            "gridcolor": "white",
            "linecolor": "white",
            "ticks": ""
           },
           "bgcolor": "#E5ECF6",
           "caxis": {
            "gridcolor": "white",
            "linecolor": "white",
            "ticks": ""
           }
          },
          "title": {
           "x": 0.05
          },
          "xaxis": {
           "automargin": true,
           "gridcolor": "white",
           "linecolor": "white",
           "ticks": "",
           "title": {
            "standoff": 15
           },
           "zerolinecolor": "white",
           "zerolinewidth": 2
          },
          "yaxis": {
           "automargin": true,
           "gridcolor": "white",
           "linecolor": "white",
           "ticks": "",
           "title": {
            "standoff": 15
           },
           "zerolinecolor": "white",
           "zerolinewidth": 2
          }
         }
        },
        "xaxis": {
         "anchor": "y",
         "domain": [
          0,
          1
         ],
         "title": {
          "text": "PARTY"
         }
        },
        "yaxis": {
         "anchor": "x",
         "domain": [
          0,
          1
         ],
         "title": {
          "text": "WINNER"
         }
        }
       }
      }
     },
     "metadata": {}
    }
   ],
   "source": [
    "p = df.groupby(['PARTY','AGE_GROUP'])['WINNER'].sum().reset_index().sort_values('WINNER',ascending = False)\n",
    "p = p[p['WINNER']!=0]\n",
    "fig = px.bar(p, x='PARTY',y='WINNER',hover_data =['AGE_GROUP'], color='AGE_GROUP', height=650)\n",
    "fig.show()"
   ]
  },
  {
   "cell_type": "markdown",
   "metadata": {},
   "source": [
    "## Partywise Gender"
   ]
  },
  {
   "cell_type": "code",
   "execution_count": 49,
   "metadata": {},
   "outputs": [
    {
     "output_type": "display_data",
     "data": {
      "application/vnd.plotly.v1+json": {
       "config": {
        "plotlyServerURL": "https://plot.ly"
       },
       "data": [
        {
         "alignmentgroup": "True",
         "customdata": [
          [
           "MALE"
          ],
          [
           "MALE"
          ],
          [
           "MALE"
          ],
          [
           "MALE"
          ],
          [
           "MALE"
          ],
          [
           "MALE"
          ],
          [
           "MALE"
          ],
          [
           "MALE"
          ],
          [
           "MALE"
          ],
          [
           "MALE"
          ],
          [
           "MALE"
          ],
          [
           "MALE"
          ],
          [
           "MALE"
          ],
          [
           "MALE"
          ],
          [
           "MALE"
          ],
          [
           "MALE"
          ],
          [
           "MALE"
          ],
          [
           "MALE"
          ],
          [
           "MALE"
          ],
          [
           "MALE"
          ],
          [
           "MALE"
          ],
          [
           "MALE"
          ],
          [
           "MALE"
          ],
          [
           "MALE"
          ],
          [
           "MALE"
          ],
          [
           "MALE"
          ],
          [
           "MALE"
          ],
          [
           "MALE"
          ],
          [
           "MALE"
          ],
          [
           "MALE"
          ],
          [
           "MALE"
          ],
          [
           "MALE"
          ],
          [
           "MALE"
          ],
          [
           "MALE"
          ],
          [
           "MALE"
          ],
          [
           "MALE"
          ],
          [
           "MALE"
          ],
          [
           "MALE"
          ],
          [
           "MALE"
          ],
          [
           "MALE"
          ],
          [
           "MALE"
          ],
          [
           "MALE"
          ],
          [
           "MALE"
          ],
          [
           "MALE"
          ],
          [
           "MALE"
          ],
          [
           "MALE"
          ],
          [
           "MALE"
          ],
          [
           "MALE"
          ],
          [
           "MALE"
          ],
          [
           "MALE"
          ],
          [
           "MALE"
          ],
          [
           "MALE"
          ],
          [
           "MALE"
          ],
          [
           "MALE"
          ],
          [
           "MALE"
          ],
          [
           "MALE"
          ],
          [
           "MALE"
          ],
          [
           "MALE"
          ],
          [
           "MALE"
          ],
          [
           "MALE"
          ],
          [
           "MALE"
          ],
          [
           "MALE"
          ],
          [
           "MALE"
          ],
          [
           "MALE"
          ],
          [
           "MALE"
          ],
          [
           "MALE"
          ],
          [
           "MALE"
          ],
          [
           "MALE"
          ],
          [
           "MALE"
          ],
          [
           "MALE"
          ],
          [
           "MALE"
          ],
          [
           "MALE"
          ],
          [
           "MALE"
          ],
          [
           "MALE"
          ],
          [
           "MALE"
          ],
          [
           "MALE"
          ],
          [
           "MALE"
          ],
          [
           "MALE"
          ],
          [
           "MALE"
          ],
          [
           "MALE"
          ],
          [
           "MALE"
          ],
          [
           "MALE"
          ],
          [
           "MALE"
          ],
          [
           "MALE"
          ],
          [
           "MALE"
          ],
          [
           "MALE"
          ],
          [
           "MALE"
          ],
          [
           "MALE"
          ],
          [
           "MALE"
          ],
          [
           "MALE"
          ],
          [
           "MALE"
          ],
          [
           "MALE"
          ],
          [
           "MALE"
          ],
          [
           "MALE"
          ],
          [
           "MALE"
          ],
          [
           "MALE"
          ],
          [
           "MALE"
          ],
          [
           "MALE"
          ],
          [
           "MALE"
          ],
          [
           "MALE"
          ],
          [
           "MALE"
          ],
          [
           "MALE"
          ],
          [
           "MALE"
          ],
          [
           "MALE"
          ],
          [
           "MALE"
          ],
          [
           "MALE"
          ],
          [
           "MALE"
          ],
          [
           "MALE"
          ],
          [
           "MALE"
          ],
          [
           "MALE"
          ],
          [
           "MALE"
          ],
          [
           "MALE"
          ],
          [
           "MALE"
          ],
          [
           "MALE"
          ],
          [
           "MALE"
          ],
          [
           "MALE"
          ],
          [
           "MALE"
          ],
          [
           "MALE"
          ],
          [
           "MALE"
          ],
          [
           "MALE"
          ],
          [
           "MALE"
          ],
          [
           "MALE"
          ],
          [
           "MALE"
          ],
          [
           "MALE"
          ],
          [
           "MALE"
          ],
          [
           "MALE"
          ],
          [
           "MALE"
          ],
          [
           "MALE"
          ]
         ],
         "hovertemplate": "GENDER=%{customdata[0]}<br>PARTY=%{x}<br>WINNER=%{y}<extra></extra>",
         "legendgroup": "MALE",
         "marker": {
          "color": "#636efa"
         },
         "name": "MALE",
         "offsetgroup": "MALE",
         "orientation": "v",
         "showlegend": true,
         "textposition": "auto",
         "type": "bar",
         "x": [
          "BJP",
          "INC",
          "IND",
          "BSP",
          "CPI(M)",
          "VBA",
          "MNM",
          "SP",
          "AITC",
          "SHS",
          "AAP",
          "TDP",
          "DMK",
          "YSRCP",
          "JnP",
          "AIADMK",
          "NCP",
          "NTK",
          "RJD",
          "JD(U)",
          "TRS",
          "BJD",
          "SBSP",
          "APoI",
          "SAD",
          "JD(S)",
          "PMK",
          "CPI(ML)(L)",
          "LJP",
          "BLSP",
          "JNJP",
          "INLD",
          "SDPI",
          "JMM",
          "RSP",
          "DMDK",
          "GGP",
          "BDJS",
          "BTP",
          "NPEP",
          "VSIP",
          "PPID",
          "AIFB",
          "JKN",
          "RAHIS",
          "LIP",
          "JPC",
          "AGP",
          "RLD",
          "AIMIM",
          "IUML",
          "AIUDF",
          "HAMS",
          "BMUP",
          "RVNP",
          "RSPSR",
          "JVM",
          "PSPL",
          "PUNEKP",
          "SSD",
          "SWP",
          "NEINDP",
          "PPA",
          "JKP",
          "UPPL",
          "JDL",
          "IPFT",
          "WPOI",
          "VCSMP",
          "YKP",
          "SUCI(C)",
          "TJS",
          "PRISMP",
          "WAP",
          "SPL",
          "RLTP",
          "RMPOI",
          "RSOSP",
          "TMC(M)",
          "UDP",
          "SKM",
          "RTORP",
          "SJDD",
          "SAD(M)",
          "SDF",
          "VCK",
          "VPI",
          "PMP",
          "DSSP",
          "BVA",
          "BSCP",
          "BRPI",
          "BNDl",
          "BLSD",
          "BLRP",
          "BJKVP",
          "BBMP",
          "BARESP",
          "ASDC",
          "ANC",
          "AKBMP",
          "AJSUP",
          "AJPR",
          "AIPF",
          "AINRC",
          "AHFBK",
          "ADAL",
          "ABSKP",
          "ABGP",
          "CPIM",
          "PDP",
          "NPF",
          "NDPP",
          "NAWPP",
          "MSHP",
          "MOSP",
          "MNF",
          "MADP",
          "LTSP",
          "KEC(M)",
          "KEC",
          "AAM",
          "JKPDP",
          "JKNPP",
          "JHP",
          "JDR",
          "JAPL",
          "ravp"
         ],
         "xaxis": "x",
         "y": [
          366,
          359,
          181,
          151,
          87,
          42,
          34,
          33,
          28,
          23,
          22,
          22,
          21,
          21,
          20,
          20,
          20,
          20,
          18,
          17,
          15,
          14,
          10,
          9,
          8,
          7,
          7,
          5,
          5,
          5,
          5,
          4,
          4,
          4,
          4,
          4,
          4,
          4,
          4,
          4,
          3,
          3,
          3,
          3,
          3,
          3,
          3,
          3,
          3,
          3,
          3,
          3,
          3,
          3,
          2,
          2,
          2,
          2,
          2,
          2,
          2,
          2,
          2,
          2,
          2,
          2,
          2,
          1,
          1,
          1,
          1,
          1,
          1,
          1,
          1,
          1,
          1,
          1,
          1,
          1,
          1,
          1,
          1,
          1,
          1,
          1,
          1,
          1,
          1,
          1,
          1,
          1,
          1,
          1,
          1,
          1,
          1,
          1,
          1,
          1,
          1,
          1,
          1,
          1,
          1,
          1,
          1,
          1,
          1,
          1,
          1,
          1,
          1,
          1,
          1,
          1,
          1,
          1,
          1,
          1,
          1,
          1,
          1,
          1,
          1,
          1,
          1,
          1
         ],
         "yaxis": "y"
        },
        {
         "alignmentgroup": "True",
         "customdata": [
          [
           "NOT APPLICABLE"
          ]
         ],
         "hovertemplate": "GENDER=%{customdata[0]}<br>PARTY=%{x}<br>WINNER=%{y}<extra></extra>",
         "legendgroup": "NOT APPLICABLE",
         "marker": {
          "color": "#EF553B"
         },
         "name": "NOT APPLICABLE",
         "offsetgroup": "NOT APPLICABLE",
         "orientation": "v",
         "showlegend": true,
         "textposition": "auto",
         "type": "bar",
         "x": [
          "NOTA"
         ],
         "xaxis": "x",
         "y": [
          245
         ],
         "yaxis": "y"
        },
        {
         "alignmentgroup": "True",
         "customdata": [
          [
           "FEMALE"
          ],
          [
           "FEMALE"
          ],
          [
           "FEMALE"
          ],
          [
           "FEMALE"
          ],
          [
           "FEMALE"
          ],
          [
           "FEMALE"
          ],
          [
           "FEMALE"
          ],
          [
           "FEMALE"
          ],
          [
           "FEMALE"
          ],
          [
           "FEMALE"
          ],
          [
           "FEMALE"
          ],
          [
           "FEMALE"
          ],
          [
           "FEMALE"
          ],
          [
           "FEMALE"
          ],
          [
           "FEMALE"
          ],
          [
           "FEMALE"
          ],
          [
           "FEMALE"
          ],
          [
           "FEMALE"
          ],
          [
           "FEMALE"
          ],
          [
           "FEMALE"
          ],
          [
           "FEMALE"
          ],
          [
           "FEMALE"
          ],
          [
           "FEMALE"
          ],
          [
           "FEMALE"
          ],
          [
           "FEMALE"
          ],
          [
           "FEMALE"
          ],
          [
           "FEMALE"
          ],
          [
           "FEMALE"
          ],
          [
           "FEMALE"
          ],
          [
           "FEMALE"
          ],
          [
           "FEMALE"
          ],
          [
           "FEMALE"
          ],
          [
           "FEMALE"
          ],
          [
           "FEMALE"
          ],
          [
           "FEMALE"
          ],
          [
           "FEMALE"
          ],
          [
           "FEMALE"
          ],
          [
           "FEMALE"
          ],
          [
           "FEMALE"
          ],
          [
           "FEMALE"
          ],
          [
           "FEMALE"
          ],
          [
           "FEMALE"
          ],
          [
           "FEMALE"
          ]
         ],
         "hovertemplate": "GENDER=%{customdata[0]}<br>PARTY=%{x}<br>WINNER=%{y}<extra></extra>",
         "legendgroup": "FEMALE",
         "marker": {
          "color": "#00cc96"
         },
         "name": "FEMALE",
         "offsetgroup": "FEMALE",
         "orientation": "v",
         "showlegend": true,
         "textposition": "auto",
         "type": "bar",
         "x": [
          "INC",
          "BJP",
          "IND",
          "AITC",
          "NTK",
          "CPI(M)",
          "BSP",
          "BJD",
          "SP",
          "VBA",
          "YSRCP",
          "AAP",
          "RJD",
          "SHS",
          "TDP",
          "SAD",
          "TRS",
          "DMK",
          "MNM",
          "BMUP",
          "JD(S)",
          "PUNEKP",
          "PSPL",
          "SSD",
          "RSP",
          "RSPSR",
          "AAM",
          "CPI(ML)(L)",
          "BOPF",
          "AIADMK",
          "AHNP",
          "ADAL",
          "GGP",
          "PHJSP",
          "JANADIP",
          "NPEP",
          "NCP",
          "LTSP",
          "LJP",
          "JNJP",
          "JMM",
          "JKPDP",
          "JD(U)"
         ],
         "xaxis": "x",
         "y": [
          54,
          54,
          20,
          19,
          18,
          13,
          12,
          7,
          6,
          5,
          4,
          3,
          3,
          3,
          3,
          2,
          2,
          2,
          2,
          2,
          2,
          1,
          1,
          1,
          1,
          1,
          1,
          1,
          1,
          1,
          1,
          1,
          1,
          1,
          1,
          1,
          1,
          1,
          1,
          1,
          1,
          1,
          1
         ],
         "yaxis": "y"
        }
       ],
       "layout": {
        "barmode": "relative",
        "height": 700,
        "legend": {
         "title": {
          "text": "GENDER"
         },
         "tracegroupgap": 0
        },
        "margin": {
         "t": 60
        },
        "template": {
         "data": {
          "bar": [
           {
            "error_x": {
             "color": "#2a3f5f"
            },
            "error_y": {
             "color": "#2a3f5f"
            },
            "marker": {
             "line": {
              "color": "#E5ECF6",
              "width": 0.5
             }
            },
            "type": "bar"
           }
          ],
          "barpolar": [
           {
            "marker": {
             "line": {
              "color": "#E5ECF6",
              "width": 0.5
             }
            },
            "type": "barpolar"
           }
          ],
          "carpet": [
           {
            "aaxis": {
             "endlinecolor": "#2a3f5f",
             "gridcolor": "white",
             "linecolor": "white",
             "minorgridcolor": "white",
             "startlinecolor": "#2a3f5f"
            },
            "baxis": {
             "endlinecolor": "#2a3f5f",
             "gridcolor": "white",
             "linecolor": "white",
             "minorgridcolor": "white",
             "startlinecolor": "#2a3f5f"
            },
            "type": "carpet"
           }
          ],
          "choropleth": [
           {
            "colorbar": {
             "outlinewidth": 0,
             "ticks": ""
            },
            "type": "choropleth"
           }
          ],
          "contour": [
           {
            "colorbar": {
             "outlinewidth": 0,
             "ticks": ""
            },
            "colorscale": [
             [
              0,
              "#0d0887"
             ],
             [
              0.1111111111111111,
              "#46039f"
             ],
             [
              0.2222222222222222,
              "#7201a8"
             ],
             [
              0.3333333333333333,
              "#9c179e"
             ],
             [
              0.4444444444444444,
              "#bd3786"
             ],
             [
              0.5555555555555556,
              "#d8576b"
             ],
             [
              0.6666666666666666,
              "#ed7953"
             ],
             [
              0.7777777777777778,
              "#fb9f3a"
             ],
             [
              0.8888888888888888,
              "#fdca26"
             ],
             [
              1,
              "#f0f921"
             ]
            ],
            "type": "contour"
           }
          ],
          "contourcarpet": [
           {
            "colorbar": {
             "outlinewidth": 0,
             "ticks": ""
            },
            "type": "contourcarpet"
           }
          ],
          "heatmap": [
           {
            "colorbar": {
             "outlinewidth": 0,
             "ticks": ""
            },
            "colorscale": [
             [
              0,
              "#0d0887"
             ],
             [
              0.1111111111111111,
              "#46039f"
             ],
             [
              0.2222222222222222,
              "#7201a8"
             ],
             [
              0.3333333333333333,
              "#9c179e"
             ],
             [
              0.4444444444444444,
              "#bd3786"
             ],
             [
              0.5555555555555556,
              "#d8576b"
             ],
             [
              0.6666666666666666,
              "#ed7953"
             ],
             [
              0.7777777777777778,
              "#fb9f3a"
             ],
             [
              0.8888888888888888,
              "#fdca26"
             ],
             [
              1,
              "#f0f921"
             ]
            ],
            "type": "heatmap"
           }
          ],
          "heatmapgl": [
           {
            "colorbar": {
             "outlinewidth": 0,
             "ticks": ""
            },
            "colorscale": [
             [
              0,
              "#0d0887"
             ],
             [
              0.1111111111111111,
              "#46039f"
             ],
             [
              0.2222222222222222,
              "#7201a8"
             ],
             [
              0.3333333333333333,
              "#9c179e"
             ],
             [
              0.4444444444444444,
              "#bd3786"
             ],
             [
              0.5555555555555556,
              "#d8576b"
             ],
             [
              0.6666666666666666,
              "#ed7953"
             ],
             [
              0.7777777777777778,
              "#fb9f3a"
             ],
             [
              0.8888888888888888,
              "#fdca26"
             ],
             [
              1,
              "#f0f921"
             ]
            ],
            "type": "heatmapgl"
           }
          ],
          "histogram": [
           {
            "marker": {
             "colorbar": {
              "outlinewidth": 0,
              "ticks": ""
             }
            },
            "type": "histogram"
           }
          ],
          "histogram2d": [
           {
            "colorbar": {
             "outlinewidth": 0,
             "ticks": ""
            },
            "colorscale": [
             [
              0,
              "#0d0887"
             ],
             [
              0.1111111111111111,
              "#46039f"
             ],
             [
              0.2222222222222222,
              "#7201a8"
             ],
             [
              0.3333333333333333,
              "#9c179e"
             ],
             [
              0.4444444444444444,
              "#bd3786"
             ],
             [
              0.5555555555555556,
              "#d8576b"
             ],
             [
              0.6666666666666666,
              "#ed7953"
             ],
             [
              0.7777777777777778,
              "#fb9f3a"
             ],
             [
              0.8888888888888888,
              "#fdca26"
             ],
             [
              1,
              "#f0f921"
             ]
            ],
            "type": "histogram2d"
           }
          ],
          "histogram2dcontour": [
           {
            "colorbar": {
             "outlinewidth": 0,
             "ticks": ""
            },
            "colorscale": [
             [
              0,
              "#0d0887"
             ],
             [
              0.1111111111111111,
              "#46039f"
             ],
             [
              0.2222222222222222,
              "#7201a8"
             ],
             [
              0.3333333333333333,
              "#9c179e"
             ],
             [
              0.4444444444444444,
              "#bd3786"
             ],
             [
              0.5555555555555556,
              "#d8576b"
             ],
             [
              0.6666666666666666,
              "#ed7953"
             ],
             [
              0.7777777777777778,
              "#fb9f3a"
             ],
             [
              0.8888888888888888,
              "#fdca26"
             ],
             [
              1,
              "#f0f921"
             ]
            ],
            "type": "histogram2dcontour"
           }
          ],
          "mesh3d": [
           {
            "colorbar": {
             "outlinewidth": 0,
             "ticks": ""
            },
            "type": "mesh3d"
           }
          ],
          "parcoords": [
           {
            "line": {
             "colorbar": {
              "outlinewidth": 0,
              "ticks": ""
             }
            },
            "type": "parcoords"
           }
          ],
          "pie": [
           {
            "automargin": true,
            "type": "pie"
           }
          ],
          "scatter": [
           {
            "marker": {
             "colorbar": {
              "outlinewidth": 0,
              "ticks": ""
             }
            },
            "type": "scatter"
           }
          ],
          "scatter3d": [
           {
            "line": {
             "colorbar": {
              "outlinewidth": 0,
              "ticks": ""
             }
            },
            "marker": {
             "colorbar": {
              "outlinewidth": 0,
              "ticks": ""
             }
            },
            "type": "scatter3d"
           }
          ],
          "scattercarpet": [
           {
            "marker": {
             "colorbar": {
              "outlinewidth": 0,
              "ticks": ""
             }
            },
            "type": "scattercarpet"
           }
          ],
          "scattergeo": [
           {
            "marker": {
             "colorbar": {
              "outlinewidth": 0,
              "ticks": ""
             }
            },
            "type": "scattergeo"
           }
          ],
          "scattergl": [
           {
            "marker": {
             "colorbar": {
              "outlinewidth": 0,
              "ticks": ""
             }
            },
            "type": "scattergl"
           }
          ],
          "scattermapbox": [
           {
            "marker": {
             "colorbar": {
              "outlinewidth": 0,
              "ticks": ""
             }
            },
            "type": "scattermapbox"
           }
          ],
          "scatterpolar": [
           {
            "marker": {
             "colorbar": {
              "outlinewidth": 0,
              "ticks": ""
             }
            },
            "type": "scatterpolar"
           }
          ],
          "scatterpolargl": [
           {
            "marker": {
             "colorbar": {
              "outlinewidth": 0,
              "ticks": ""
             }
            },
            "type": "scatterpolargl"
           }
          ],
          "scatterternary": [
           {
            "marker": {
             "colorbar": {
              "outlinewidth": 0,
              "ticks": ""
             }
            },
            "type": "scatterternary"
           }
          ],
          "surface": [
           {
            "colorbar": {
             "outlinewidth": 0,
             "ticks": ""
            },
            "colorscale": [
             [
              0,
              "#0d0887"
             ],
             [
              0.1111111111111111,
              "#46039f"
             ],
             [
              0.2222222222222222,
              "#7201a8"
             ],
             [
              0.3333333333333333,
              "#9c179e"
             ],
             [
              0.4444444444444444,
              "#bd3786"
             ],
             [
              0.5555555555555556,
              "#d8576b"
             ],
             [
              0.6666666666666666,
              "#ed7953"
             ],
             [
              0.7777777777777778,
              "#fb9f3a"
             ],
             [
              0.8888888888888888,
              "#fdca26"
             ],
             [
              1,
              "#f0f921"
             ]
            ],
            "type": "surface"
           }
          ],
          "table": [
           {
            "cells": {
             "fill": {
              "color": "#EBF0F8"
             },
             "line": {
              "color": "white"
             }
            },
            "header": {
             "fill": {
              "color": "#C8D4E3"
             },
             "line": {
              "color": "white"
             }
            },
            "type": "table"
           }
          ]
         },
         "layout": {
          "annotationdefaults": {
           "arrowcolor": "#2a3f5f",
           "arrowhead": 0,
           "arrowwidth": 1
          },
          "coloraxis": {
           "colorbar": {
            "outlinewidth": 0,
            "ticks": ""
           }
          },
          "colorscale": {
           "diverging": [
            [
             0,
             "#8e0152"
            ],
            [
             0.1,
             "#c51b7d"
            ],
            [
             0.2,
             "#de77ae"
            ],
            [
             0.3,
             "#f1b6da"
            ],
            [
             0.4,
             "#fde0ef"
            ],
            [
             0.5,
             "#f7f7f7"
            ],
            [
             0.6,
             "#e6f5d0"
            ],
            [
             0.7,
             "#b8e186"
            ],
            [
             0.8,
             "#7fbc41"
            ],
            [
             0.9,
             "#4d9221"
            ],
            [
             1,
             "#276419"
            ]
           ],
           "sequential": [
            [
             0,
             "#0d0887"
            ],
            [
             0.1111111111111111,
             "#46039f"
            ],
            [
             0.2222222222222222,
             "#7201a8"
            ],
            [
             0.3333333333333333,
             "#9c179e"
            ],
            [
             0.4444444444444444,
             "#bd3786"
            ],
            [
             0.5555555555555556,
             "#d8576b"
            ],
            [
             0.6666666666666666,
             "#ed7953"
            ],
            [
             0.7777777777777778,
             "#fb9f3a"
            ],
            [
             0.8888888888888888,
             "#fdca26"
            ],
            [
             1,
             "#f0f921"
            ]
           ],
           "sequentialminus": [
            [
             0,
             "#0d0887"
            ],
            [
             0.1111111111111111,
             "#46039f"
            ],
            [
             0.2222222222222222,
             "#7201a8"
            ],
            [
             0.3333333333333333,
             "#9c179e"
            ],
            [
             0.4444444444444444,
             "#bd3786"
            ],
            [
             0.5555555555555556,
             "#d8576b"
            ],
            [
             0.6666666666666666,
             "#ed7953"
            ],
            [
             0.7777777777777778,
             "#fb9f3a"
            ],
            [
             0.8888888888888888,
             "#fdca26"
            ],
            [
             1,
             "#f0f921"
            ]
           ]
          },
          "colorway": [
           "#636efa",
           "#EF553B",
           "#00cc96",
           "#ab63fa",
           "#FFA15A",
           "#19d3f3",
           "#FF6692",
           "#B6E880",
           "#FF97FF",
           "#FECB52"
          ],
          "font": {
           "color": "#2a3f5f"
          },
          "geo": {
           "bgcolor": "white",
           "lakecolor": "white",
           "landcolor": "#E5ECF6",
           "showlakes": true,
           "showland": true,
           "subunitcolor": "white"
          },
          "hoverlabel": {
           "align": "left"
          },
          "hovermode": "closest",
          "mapbox": {
           "style": "light"
          },
          "paper_bgcolor": "white",
          "plot_bgcolor": "#E5ECF6",
          "polar": {
           "angularaxis": {
            "gridcolor": "white",
            "linecolor": "white",
            "ticks": ""
           },
           "bgcolor": "#E5ECF6",
           "radialaxis": {
            "gridcolor": "white",
            "linecolor": "white",
            "ticks": ""
           }
          },
          "scene": {
           "xaxis": {
            "backgroundcolor": "#E5ECF6",
            "gridcolor": "white",
            "gridwidth": 2,
            "linecolor": "white",
            "showbackground": true,
            "ticks": "",
            "zerolinecolor": "white"
           },
           "yaxis": {
            "backgroundcolor": "#E5ECF6",
            "gridcolor": "white",
            "gridwidth": 2,
            "linecolor": "white",
            "showbackground": true,
            "ticks": "",
            "zerolinecolor": "white"
           },
           "zaxis": {
            "backgroundcolor": "#E5ECF6",
            "gridcolor": "white",
            "gridwidth": 2,
            "linecolor": "white",
            "showbackground": true,
            "ticks": "",
            "zerolinecolor": "white"
           }
          },
          "shapedefaults": {
           "line": {
            "color": "#2a3f5f"
           }
          },
          "ternary": {
           "aaxis": {
            "gridcolor": "white",
            "linecolor": "white",
            "ticks": ""
           },
           "baxis": {
            "gridcolor": "white",
            "linecolor": "white",
            "ticks": ""
           },
           "bgcolor": "#E5ECF6",
           "caxis": {
            "gridcolor": "white",
            "linecolor": "white",
            "ticks": ""
           }
          },
          "title": {
           "x": 0.05
          },
          "xaxis": {
           "automargin": true,
           "gridcolor": "white",
           "linecolor": "white",
           "ticks": "",
           "title": {
            "standoff": 15
           },
           "zerolinecolor": "white",
           "zerolinewidth": 2
          },
          "yaxis": {
           "automargin": true,
           "gridcolor": "white",
           "linecolor": "white",
           "ticks": "",
           "title": {
            "standoff": 15
           },
           "zerolinecolor": "white",
           "zerolinewidth": 2
          }
         }
        },
        "xaxis": {
         "anchor": "y",
         "domain": [
          0,
          1
         ],
         "title": {
          "text": "PARTY"
         }
        },
        "yaxis": {
         "anchor": "x",
         "domain": [
          0,
          1
         ],
         "title": {
          "text": "WINNER"
         }
        }
       }
      }
     },
     "metadata": {}
    }
   ],
   "source": [
    "p = df.groupby(['PARTY','GENDER'])['WINNER'].count().reset_index().sort_values('WINNER',ascending = False)\n",
    "p = p[p['WINNER']!=0]\n",
    "fig = px.bar(p, x='PARTY',y='WINNER',hover_data =['GENDER'], color='GENDER', height=700)\n",
    "fig.show()"
   ]
  },
  {
   "cell_type": "markdown",
   "metadata": {},
   "source": [
    "## Partywise criminal cases"
   ]
  },
  {
   "cell_type": "code",
   "execution_count": 50,
   "metadata": {},
   "outputs": [
    {
     "output_type": "display_data",
     "data": {
      "application/vnd.plotly.v1+json": {
       "config": {
        "plotlyServerURL": "https://plot.ly"
       },
       "data": [
        {
         "alignmentgroup": "True",
         "customdata": [
          [
           "NO CASE"
          ],
          [
           "NO CASE"
          ],
          [
           "NO CASE"
          ],
          [
           "NO CASE"
          ],
          [
           "NO CASE"
          ],
          [
           "NO CASE"
          ],
          [
           "NO CASE"
          ],
          [
           "NO CASE"
          ],
          [
           "NO CASE"
          ],
          [
           "NO CASE"
          ],
          [
           "NO CASE"
          ],
          [
           "NO CASE"
          ],
          [
           "NO CASE"
          ],
          [
           "NO CASE"
          ],
          [
           "NO CASE"
          ],
          [
           "NO CASE"
          ],
          [
           "NO CASE"
          ],
          [
           "NO CASE"
          ],
          [
           "NO CASE"
          ],
          [
           "NO CASE"
          ],
          [
           "NO CASE"
          ],
          [
           "NO CASE"
          ],
          [
           "NO CASE"
          ],
          [
           "NO CASE"
          ],
          [
           "NO CASE"
          ],
          [
           "NO CASE"
          ],
          [
           "NO CASE"
          ],
          [
           "NO CASE"
          ],
          [
           "NO CASE"
          ],
          [
           "NO CASE"
          ]
         ],
         "hovertemplate": "CRIMINAL\nCASES=%{customdata[0]}<br>PARTY=%{x}<br>WINNER=%{y}<extra></extra>",
         "legendgroup": "NO CASE",
         "marker": {
          "color": "#636efa"
         },
         "name": "NO CASE",
         "offsetgroup": "NO CASE",
         "orientation": "v",
         "showlegend": true,
         "textposition": "auto",
         "type": "bar",
         "x": [
          "BJP",
          "INC",
          "AITC",
          "DMK",
          "YSRCP",
          "BJD",
          "SHS",
          "TRS",
          "BSP",
          "JD(U)",
          "CPI(M)",
          "SP",
          "NCP",
          "TDP",
          "IND",
          "JKN",
          "IUML",
          "JD(S)",
          "SAD",
          "JMM",
          "NPF",
          "KEC(M)",
          "NPEP",
          "MNF",
          "NDPP",
          "RLTP",
          "AAP",
          "SKM",
          "AIADMK",
          "ADAL"
         ],
         "xaxis": "x",
         "y": [
          186,
          22,
          13,
          13,
          12,
          10,
          7,
          6,
          5,
          3,
          3,
          3,
          3,
          2,
          2,
          2,
          1,
          1,
          1,
          1,
          1,
          1,
          1,
          1,
          1,
          1,
          1,
          1,
          1,
          1
         ],
         "yaxis": "y"
        },
        {
         "alignmentgroup": "True",
         "customdata": [
          [
           "HAS CASE"
          ],
          [
           "HAS CASE"
          ],
          [
           "HAS CASE"
          ],
          [
           "HAS CASE"
          ],
          [
           "HAS CASE"
          ],
          [
           "HAS CASE"
          ],
          [
           "HAS CASE"
          ],
          [
           "HAS CASE"
          ],
          [
           "HAS CASE"
          ],
          [
           "HAS CASE"
          ],
          [
           "HAS CASE"
          ],
          [
           "HAS CASE"
          ],
          [
           "HAS CASE"
          ],
          [
           "HAS CASE"
          ],
          [
           "HAS CASE"
          ],
          [
           "HAS CASE"
          ],
          [
           "HAS CASE"
          ],
          [
           "HAS CASE"
          ],
          [
           "HAS CASE"
          ],
          [
           "HAS CASE"
          ],
          [
           "HAS CASE"
          ],
          [
           "HAS CASE"
          ],
          [
           "HAS CASE"
          ],
          [
           "HAS CASE"
          ],
          [
           "HAS CASE"
          ]
         ],
         "hovertemplate": "CRIMINAL\nCASES=%{customdata[0]}<br>PARTY=%{x}<br>WINNER=%{y}<extra></extra>",
         "legendgroup": "HAS CASE",
         "marker": {
          "color": "#EF553B"
         },
         "name": "HAS CASE",
         "offsetgroup": "HAS CASE",
         "orientation": "v",
         "showlegend": true,
         "textposition": "auto",
         "type": "bar",
         "x": [
          "BJP",
          "INC",
          "JD(U)",
          "SHS",
          "YSRCP",
          "DMK",
          "AITC",
          "LJP",
          "BSP",
          "TRS",
          "SP",
          "CPI(M)",
          "NCP",
          "IND",
          "AIMIM",
          "IUML",
          "RSP",
          "JKN",
          "SAD",
          "VCK",
          "TDP",
          "ADAL",
          "AJSUP",
          "BJD",
          "AIUDF"
         ],
         "xaxis": "x",
         "y": [
          114,
          30,
          13,
          11,
          10,
          10,
          9,
          6,
          6,
          3,
          2,
          2,
          2,
          2,
          2,
          2,
          1,
          1,
          1,
          1,
          1,
          1,
          1,
          1,
          1
         ],
         "yaxis": "y"
        }
       ],
       "layout": {
        "barmode": "relative",
        "height": 750,
        "legend": {
         "title": {
          "text": "CRIMINAL\nCASES"
         },
         "tracegroupgap": 0
        },
        "margin": {
         "t": 60
        },
        "template": {
         "data": {
          "bar": [
           {
            "error_x": {
             "color": "#2a3f5f"
            },
            "error_y": {
             "color": "#2a3f5f"
            },
            "marker": {
             "line": {
              "color": "#E5ECF6",
              "width": 0.5
             }
            },
            "type": "bar"
           }
          ],
          "barpolar": [
           {
            "marker": {
             "line": {
              "color": "#E5ECF6",
              "width": 0.5
             }
            },
            "type": "barpolar"
           }
          ],
          "carpet": [
           {
            "aaxis": {
             "endlinecolor": "#2a3f5f",
             "gridcolor": "white",
             "linecolor": "white",
             "minorgridcolor": "white",
             "startlinecolor": "#2a3f5f"
            },
            "baxis": {
             "endlinecolor": "#2a3f5f",
             "gridcolor": "white",
             "linecolor": "white",
             "minorgridcolor": "white",
             "startlinecolor": "#2a3f5f"
            },
            "type": "carpet"
           }
          ],
          "choropleth": [
           {
            "colorbar": {
             "outlinewidth": 0,
             "ticks": ""
            },
            "type": "choropleth"
           }
          ],
          "contour": [
           {
            "colorbar": {
             "outlinewidth": 0,
             "ticks": ""
            },
            "colorscale": [
             [
              0,
              "#0d0887"
             ],
             [
              0.1111111111111111,
              "#46039f"
             ],
             [
              0.2222222222222222,
              "#7201a8"
             ],
             [
              0.3333333333333333,
              "#9c179e"
             ],
             [
              0.4444444444444444,
              "#bd3786"
             ],
             [
              0.5555555555555556,
              "#d8576b"
             ],
             [
              0.6666666666666666,
              "#ed7953"
             ],
             [
              0.7777777777777778,
              "#fb9f3a"
             ],
             [
              0.8888888888888888,
              "#fdca26"
             ],
             [
              1,
              "#f0f921"
             ]
            ],
            "type": "contour"
           }
          ],
          "contourcarpet": [
           {
            "colorbar": {
             "outlinewidth": 0,
             "ticks": ""
            },
            "type": "contourcarpet"
           }
          ],
          "heatmap": [
           {
            "colorbar": {
             "outlinewidth": 0,
             "ticks": ""
            },
            "colorscale": [
             [
              0,
              "#0d0887"
             ],
             [
              0.1111111111111111,
              "#46039f"
             ],
             [
              0.2222222222222222,
              "#7201a8"
             ],
             [
              0.3333333333333333,
              "#9c179e"
             ],
             [
              0.4444444444444444,
              "#bd3786"
             ],
             [
              0.5555555555555556,
              "#d8576b"
             ],
             [
              0.6666666666666666,
              "#ed7953"
             ],
             [
              0.7777777777777778,
              "#fb9f3a"
             ],
             [
              0.8888888888888888,
              "#fdca26"
             ],
             [
              1,
              "#f0f921"
             ]
            ],
            "type": "heatmap"
           }
          ],
          "heatmapgl": [
           {
            "colorbar": {
             "outlinewidth": 0,
             "ticks": ""
            },
            "colorscale": [
             [
              0,
              "#0d0887"
             ],
             [
              0.1111111111111111,
              "#46039f"
             ],
             [
              0.2222222222222222,
              "#7201a8"
             ],
             [
              0.3333333333333333,
              "#9c179e"
             ],
             [
              0.4444444444444444,
              "#bd3786"
             ],
             [
              0.5555555555555556,
              "#d8576b"
             ],
             [
              0.6666666666666666,
              "#ed7953"
             ],
             [
              0.7777777777777778,
              "#fb9f3a"
             ],
             [
              0.8888888888888888,
              "#fdca26"
             ],
             [
              1,
              "#f0f921"
             ]
            ],
            "type": "heatmapgl"
           }
          ],
          "histogram": [
           {
            "marker": {
             "colorbar": {
              "outlinewidth": 0,
              "ticks": ""
             }
            },
            "type": "histogram"
           }
          ],
          "histogram2d": [
           {
            "colorbar": {
             "outlinewidth": 0,
             "ticks": ""
            },
            "colorscale": [
             [
              0,
              "#0d0887"
             ],
             [
              0.1111111111111111,
              "#46039f"
             ],
             [
              0.2222222222222222,
              "#7201a8"
             ],
             [
              0.3333333333333333,
              "#9c179e"
             ],
             [
              0.4444444444444444,
              "#bd3786"
             ],
             [
              0.5555555555555556,
              "#d8576b"
             ],
             [
              0.6666666666666666,
              "#ed7953"
             ],
             [
              0.7777777777777778,
              "#fb9f3a"
             ],
             [
              0.8888888888888888,
              "#fdca26"
             ],
             [
              1,
              "#f0f921"
             ]
            ],
            "type": "histogram2d"
           }
          ],
          "histogram2dcontour": [
           {
            "colorbar": {
             "outlinewidth": 0,
             "ticks": ""
            },
            "colorscale": [
             [
              0,
              "#0d0887"
             ],
             [
              0.1111111111111111,
              "#46039f"
             ],
             [
              0.2222222222222222,
              "#7201a8"
             ],
             [
              0.3333333333333333,
              "#9c179e"
             ],
             [
              0.4444444444444444,
              "#bd3786"
             ],
             [
              0.5555555555555556,
              "#d8576b"
             ],
             [
              0.6666666666666666,
              "#ed7953"
             ],
             [
              0.7777777777777778,
              "#fb9f3a"
             ],
             [
              0.8888888888888888,
              "#fdca26"
             ],
             [
              1,
              "#f0f921"
             ]
            ],
            "type": "histogram2dcontour"
           }
          ],
          "mesh3d": [
           {
            "colorbar": {
             "outlinewidth": 0,
             "ticks": ""
            },
            "type": "mesh3d"
           }
          ],
          "parcoords": [
           {
            "line": {
             "colorbar": {
              "outlinewidth": 0,
              "ticks": ""
             }
            },
            "type": "parcoords"
           }
          ],
          "pie": [
           {
            "automargin": true,
            "type": "pie"
           }
          ],
          "scatter": [
           {
            "marker": {
             "colorbar": {
              "outlinewidth": 0,
              "ticks": ""
             }
            },
            "type": "scatter"
           }
          ],
          "scatter3d": [
           {
            "line": {
             "colorbar": {
              "outlinewidth": 0,
              "ticks": ""
             }
            },
            "marker": {
             "colorbar": {
              "outlinewidth": 0,
              "ticks": ""
             }
            },
            "type": "scatter3d"
           }
          ],
          "scattercarpet": [
           {
            "marker": {
             "colorbar": {
              "outlinewidth": 0,
              "ticks": ""
             }
            },
            "type": "scattercarpet"
           }
          ],
          "scattergeo": [
           {
            "marker": {
             "colorbar": {
              "outlinewidth": 0,
              "ticks": ""
             }
            },
            "type": "scattergeo"
           }
          ],
          "scattergl": [
           {
            "marker": {
             "colorbar": {
              "outlinewidth": 0,
              "ticks": ""
             }
            },
            "type": "scattergl"
           }
          ],
          "scattermapbox": [
           {
            "marker": {
             "colorbar": {
              "outlinewidth": 0,
              "ticks": ""
             }
            },
            "type": "scattermapbox"
           }
          ],
          "scatterpolar": [
           {
            "marker": {
             "colorbar": {
              "outlinewidth": 0,
              "ticks": ""
             }
            },
            "type": "scatterpolar"
           }
          ],
          "scatterpolargl": [
           {
            "marker": {
             "colorbar": {
              "outlinewidth": 0,
              "ticks": ""
             }
            },
            "type": "scatterpolargl"
           }
          ],
          "scatterternary": [
           {
            "marker": {
             "colorbar": {
              "outlinewidth": 0,
              "ticks": ""
             }
            },
            "type": "scatterternary"
           }
          ],
          "surface": [
           {
            "colorbar": {
             "outlinewidth": 0,
             "ticks": ""
            },
            "colorscale": [
             [
              0,
              "#0d0887"
             ],
             [
              0.1111111111111111,
              "#46039f"
             ],
             [
              0.2222222222222222,
              "#7201a8"
             ],
             [
              0.3333333333333333,
              "#9c179e"
             ],
             [
              0.4444444444444444,
              "#bd3786"
             ],
             [
              0.5555555555555556,
              "#d8576b"
             ],
             [
              0.6666666666666666,
              "#ed7953"
             ],
             [
              0.7777777777777778,
              "#fb9f3a"
             ],
             [
              0.8888888888888888,
              "#fdca26"
             ],
             [
              1,
              "#f0f921"
             ]
            ],
            "type": "surface"
           }
          ],
          "table": [
           {
            "cells": {
             "fill": {
              "color": "#EBF0F8"
             },
             "line": {
              "color": "white"
             }
            },
            "header": {
             "fill": {
              "color": "#C8D4E3"
             },
             "line": {
              "color": "white"
             }
            },
            "type": "table"
           }
          ]
         },
         "layout": {
          "annotationdefaults": {
           "arrowcolor": "#2a3f5f",
           "arrowhead": 0,
           "arrowwidth": 1
          },
          "coloraxis": {
           "colorbar": {
            "outlinewidth": 0,
            "ticks": ""
           }
          },
          "colorscale": {
           "diverging": [
            [
             0,
             "#8e0152"
            ],
            [
             0.1,
             "#c51b7d"
            ],
            [
             0.2,
             "#de77ae"
            ],
            [
             0.3,
             "#f1b6da"
            ],
            [
             0.4,
             "#fde0ef"
            ],
            [
             0.5,
             "#f7f7f7"
            ],
            [
             0.6,
             "#e6f5d0"
            ],
            [
             0.7,
             "#b8e186"
            ],
            [
             0.8,
             "#7fbc41"
            ],
            [
             0.9,
             "#4d9221"
            ],
            [
             1,
             "#276419"
            ]
           ],
           "sequential": [
            [
             0,
             "#0d0887"
            ],
            [
             0.1111111111111111,
             "#46039f"
            ],
            [
             0.2222222222222222,
             "#7201a8"
            ],
            [
             0.3333333333333333,
             "#9c179e"
            ],
            [
             0.4444444444444444,
             "#bd3786"
            ],
            [
             0.5555555555555556,
             "#d8576b"
            ],
            [
             0.6666666666666666,
             "#ed7953"
            ],
            [
             0.7777777777777778,
             "#fb9f3a"
            ],
            [
             0.8888888888888888,
             "#fdca26"
            ],
            [
             1,
             "#f0f921"
            ]
           ],
           "sequentialminus": [
            [
             0,
             "#0d0887"
            ],
            [
             0.1111111111111111,
             "#46039f"
            ],
            [
             0.2222222222222222,
             "#7201a8"
            ],
            [
             0.3333333333333333,
             "#9c179e"
            ],
            [
             0.4444444444444444,
             "#bd3786"
            ],
            [
             0.5555555555555556,
             "#d8576b"
            ],
            [
             0.6666666666666666,
             "#ed7953"
            ],
            [
             0.7777777777777778,
             "#fb9f3a"
            ],
            [
             0.8888888888888888,
             "#fdca26"
            ],
            [
             1,
             "#f0f921"
            ]
           ]
          },
          "colorway": [
           "#636efa",
           "#EF553B",
           "#00cc96",
           "#ab63fa",
           "#FFA15A",
           "#19d3f3",
           "#FF6692",
           "#B6E880",
           "#FF97FF",
           "#FECB52"
          ],
          "font": {
           "color": "#2a3f5f"
          },
          "geo": {
           "bgcolor": "white",
           "lakecolor": "white",
           "landcolor": "#E5ECF6",
           "showlakes": true,
           "showland": true,
           "subunitcolor": "white"
          },
          "hoverlabel": {
           "align": "left"
          },
          "hovermode": "closest",
          "mapbox": {
           "style": "light"
          },
          "paper_bgcolor": "white",
          "plot_bgcolor": "#E5ECF6",
          "polar": {
           "angularaxis": {
            "gridcolor": "white",
            "linecolor": "white",
            "ticks": ""
           },
           "bgcolor": "#E5ECF6",
           "radialaxis": {
            "gridcolor": "white",
            "linecolor": "white",
            "ticks": ""
           }
          },
          "scene": {
           "xaxis": {
            "backgroundcolor": "#E5ECF6",
            "gridcolor": "white",
            "gridwidth": 2,
            "linecolor": "white",
            "showbackground": true,
            "ticks": "",
            "zerolinecolor": "white"
           },
           "yaxis": {
            "backgroundcolor": "#E5ECF6",
            "gridcolor": "white",
            "gridwidth": 2,
            "linecolor": "white",
            "showbackground": true,
            "ticks": "",
            "zerolinecolor": "white"
           },
           "zaxis": {
            "backgroundcolor": "#E5ECF6",
            "gridcolor": "white",
            "gridwidth": 2,
            "linecolor": "white",
            "showbackground": true,
            "ticks": "",
            "zerolinecolor": "white"
           }
          },
          "shapedefaults": {
           "line": {
            "color": "#2a3f5f"
           }
          },
          "ternary": {
           "aaxis": {
            "gridcolor": "white",
            "linecolor": "white",
            "ticks": ""
           },
           "baxis": {
            "gridcolor": "white",
            "linecolor": "white",
            "ticks": ""
           },
           "bgcolor": "#E5ECF6",
           "caxis": {
            "gridcolor": "white",
            "linecolor": "white",
            "ticks": ""
           }
          },
          "title": {
           "x": 0.05
          },
          "xaxis": {
           "automargin": true,
           "gridcolor": "white",
           "linecolor": "white",
           "ticks": "",
           "title": {
            "standoff": 15
           },
           "zerolinecolor": "white",
           "zerolinewidth": 2
          },
          "yaxis": {
           "automargin": true,
           "gridcolor": "white",
           "linecolor": "white",
           "ticks": "",
           "title": {
            "standoff": 15
           },
           "zerolinecolor": "white",
           "zerolinewidth": 2
          }
         }
        },
        "xaxis": {
         "anchor": "y",
         "domain": [
          0,
          1
         ],
         "title": {
          "text": "PARTY"
         }
        },
        "yaxis": {
         "anchor": "x",
         "domain": [
          0,
          1
         ],
         "title": {
          "text": "WINNER"
         }
        }
       }
      }
     },
     "metadata": {}
    }
   ],
   "source": [
    "p = df.groupby(['PARTY','CRIMINAL\\nCASES'])['WINNER'].sum().reset_index().sort_values('WINNER',ascending = False)\n",
    "p = p[p['WINNER']!=0]\n",
    "fig = px.bar(p, x='PARTY',y='WINNER',hover_data =['CRIMINAL\\nCASES'], color='CRIMINAL\\nCASES', height=750)\n",
    "fig.show()"
   ]
  },
  {
   "cell_type": "markdown",
   "metadata": {},
   "source": [
    "# Applying Machine Learning"
   ]
  },
  {
   "cell_type": "code",
   "execution_count": 51,
   "metadata": {},
   "outputs": [],
   "source": [
    "from sklearn.preprocessing import LabelEncoder\n",
    "labelEncoder_X = LabelEncoder()\n",
    "df['STATE'] = labelEncoder_X.fit_transform(df['STATE'])\n",
    "df['CONSTITUENCY'] = labelEncoder_X.fit_transform(df['CONSTITUENCY'])\n",
    "df['NAME'] = labelEncoder_X.fit_transform(df['NAME'])\n",
    "df['PARTY'] = labelEncoder_X.fit_transform(df['PARTY'])\n",
    "df['SYMBOL'] = labelEncoder_X.fit_transform(df['SYMBOL'])\n",
    "df['GENDER'] = labelEncoder_X.fit_transform(df['GENDER'])\n",
    "df['CRIMINAL\\nCASES'] = labelEncoder_X.fit_transform(df['CRIMINAL\\nCASES'])\n",
    "df['CATEGORY'] = labelEncoder_X.fit_transform(df['CATEGORY'])\n",
    "df['EDUCATION'] = labelEncoder_X.fit_transform(df['EDUCATION'])\n",
    "df['STATUS'] = labelEncoder_X.fit_transform(df['STATUS'])\n",
    "df['AGE_GROUP'] = labelEncoder_X.fit_transform(df['AGE_GROUP'])"
   ]
  },
  {
   "cell_type": "code",
   "execution_count": 52,
   "metadata": {},
   "outputs": [],
   "source": [
    "X=df.drop(['WINNER','ASSETS','LIABILITIES','GENERAL\\nVOTES','POSTAL\\nVOTES','AGE','OVER TOTAL ELECTORS \\nIN CONSTITUENCY','OVER TOTAL VOTES POLLED \\nIN CONSTITUENCY'],axis=1)\n",
    "y=df['WINNER']"
   ]
  },
  {
   "cell_type": "code",
   "execution_count": 62,
   "metadata": {},
   "outputs": [
    {
     "output_type": "execute_result",
     "data": {
      "text/plain": "((2263, 13), (2263,))"
     },
     "metadata": {},
     "execution_count": 62
    }
   ],
   "source": [
    "X.shape, y.shape"
   ]
  },
  {
   "cell_type": "code",
   "execution_count": 53,
   "metadata": {},
   "outputs": [],
   "source": [
    "from sklearn.model_selection import train_test_split\n",
    "X_train,X_test,y_train,y_test = train_test_split(X,y,test_size=0.3,random_state=42)"
   ]
  },
  {
   "cell_type": "code",
   "execution_count": 54,
   "metadata": {},
   "outputs": [],
   "source": [
    "from sklearn.preprocessing import StandardScaler\n",
    "Scaler_X = StandardScaler()\n",
    "X_train = Scaler_X.fit_transform(X_train)\n",
    "X_test = Scaler_X.transform(X_test)"
   ]
  },
  {
   "cell_type": "code",
   "execution_count": 55,
   "metadata": {},
   "outputs": [],
   "source": [
    "from sklearn.metrics import confusion_matrix, accuracy_score"
   ]
  },
  {
   "cell_type": "code",
   "execution_count": 56,
   "metadata": {},
   "outputs": [
    {
     "output_type": "stream",
     "name": "stdout",
     "text": "0.9101620029455081\n[[464  26]\n [ 35 154]]\n"
    }
   ],
   "source": [
    "#Logistic Regression\n",
    "from sklearn.linear_model import LogisticRegression\n",
    "\n",
    "lr = LogisticRegression()\n",
    "lr.fit(X_train,y_train)\n",
    "y_pred = lr.predict(X_test)\n",
    "\n",
    "print(accuracy_score(y_test,y_pred))\n",
    "print(confusion_matrix(y_test,y_pred))"
   ]
  },
  {
   "cell_type": "markdown",
   "metadata": {},
   "source": [
    "## Using NN"
   ]
  },
  {
   "cell_type": "code",
   "execution_count": 68,
   "metadata": {},
   "outputs": [
    {
     "output_type": "stream",
     "name": "stdout",
     "text": "(1629, 13) (181, 13) (453, 13) (1629,) (181,) (453,)\n"
    }
   ],
   "source": [
    "X_train, X_test, Y_train, Y_test = train_test_split(X, y, test_size=0.2)\n",
    "X_train, X_val, Y_train, Y_val = train_test_split(X_train, Y_train, test_size=0.1)\n",
    "\n",
    "print(X_train.shape, X_val.shape, X_test.shape, Y_train.shape, Y_val.shape, Y_test.shape)"
   ]
  },
  {
   "cell_type": "code",
   "execution_count": 69,
   "metadata": {},
   "outputs": [],
   "source": [
    "from keras.models import Sequential\n",
    "from keras.layers import Dense"
   ]
  },
  {
   "cell_type": "code",
   "execution_count": 70,
   "metadata": {},
   "outputs": [],
   "source": [
    "model1 = Sequential()\n",
    "model1.add(Dense(32,activation = 'relu', input_shape= (13,)))\n",
    "model1.add(Dense(32,activation = 'relu'))\n",
    "model1.add(Dense(1, activation = 'sigmoid'))\n",
    "\n",
    "model1.compile(optimizer = 'sgd', loss = 'binary_crossentropy', metrics=['accuracy'])"
   ]
  },
  {
   "cell_type": "code",
   "execution_count": 71,
   "metadata": {
    "tags": [
     "outputPrepend",
     "outputPrepend",
     "outputPrepend",
     "outputPrepend",
     "outputPrepend",
     "outputPrepend",
     "outputPrepend",
     "outputPrepend",
     "outputPrepend",
     "outputPrepend",
     "outputPrepend",
     "outputPrepend",
     "outputPrepend",
     "outputPrepend",
     "outputPrepend",
     "outputPrepend",
     "outputPrepend",
     "outputPrepend",
     "outputPrepend",
     "outputPrepend",
     "outputPrepend",
     "outputPrepend",
     "outputPrepend",
     "outputPrepend",
     "outputPrepend",
     "outputPrepend",
     "outputPrepend",
     "outputPrepend",
     "outputPrepend",
     "outputPrepend",
     "outputPrepend",
     "outputPrepend",
     "outputPrepend",
     "outputPrepend",
     "outputPrepend",
     "outputPrepend",
     "outputPrepend",
     "outputPrepend",
     "outputPrepend",
     "outputPrepend",
     "outputPrepend",
     "outputPrepend",
     "outputPrepend",
     "outputPrepend",
     "outputPrepend",
     "outputPrepend",
     "outputPrepend",
     "outputPrepend",
     "outputPrepend",
     "outputPrepend",
     "outputPrepend",
     "outputPrepend",
     "outputPrepend",
     "outputPrepend",
     "outputPrepend",
     "outputPrepend",
     "outputPrepend",
     "outputPrepend",
     "outputPrepend",
     "outputPrepend",
     "outputPrepend",
     "outputPrepend",
     "outputPrepend",
     "outputPrepend",
     "outputPrepend",
     "outputPrepend",
     "outputPrepend",
     "outputPrepend",
     "outputPrepend",
     "outputPrepend",
     "outputPrepend",
     "outputPrepend",
     "outputPrepend",
     "outputPrepend",
     "outputPrepend",
     "outputPrepend",
     "outputPrepend",
     "outputPrepend",
     "outputPrepend",
     "outputPrepend",
     "outputPrepend",
     "outputPrepend",
     "outputPrepend",
     "outputPrepend",
     "outputPrepend",
     "outputPrepend",
     "outputPrepend",
     "outputPrepend",
     "outputPrepend",
     "outputPrepend",
     "outputPrepend",
     "outputPrepend",
     "outputPrepend",
     "outputPrepend",
     "outputPrepend",
     "outputPrepend",
     "outputPrepend",
     "outputPrepend",
     "outputPrepend",
     "outputPrepend",
     "outputPrepend",
     "outputPrepend",
     "outputPrepend",
     "outputPrepend",
     "outputPrepend",
     "outputPrepend",
     "outputPrepend",
     "outputPrepend",
     "outputPrepend",
     "outputPrepend",
     "outputPrepend",
     "outputPrepend",
     "outputPrepend",
     "outputPrepend",
     "outputPrepend",
     "outputPrepend",
     "outputPrepend",
     "outputPrepend",
     "outputPrepend",
     "outputPrepend",
     "outputPrepend",
     "outputPrepend",
     "outputPrepend",
     "outputPrepend",
     "outputPrepend",
     "outputPrepend",
     "outputPrepend",
     "outputPrepend",
     "outputPrepend",
     "outputPrepend",
     "outputPrepend",
     "outputPrepend",
     "outputPrepend",
     "outputPrepend",
     "outputPrepend"
    ]
   },
   "outputs": [
    {
     "output_type": "stream",
     "name": "stdout",
     "text": "cy: 0.7667 - val_loss: 0.5942 - val_accuracy: 0.7238\nEpoch 66/200\n1629/1629 [==============================] - 0s 64us/step - loss: 0.5432 - accuracy: 0.7667 - val_loss: 0.5942 - val_accuracy: 0.7238\nEpoch 67/200\n1629/1629 [==============================] - 0s 62us/step - loss: 0.5432 - accuracy: 0.7667 - val_loss: 0.5942 - val_accuracy: 0.7238\nEpoch 68/200\n1629/1629 [==============================] - 0s 61us/step - loss: 0.5432 - accuracy: 0.7667 - val_loss: 0.5942 - val_accuracy: 0.7238\nEpoch 69/200\n1629/1629 [==============================] - 0s 61us/step - loss: 0.5432 - accuracy: 0.7667 - val_loss: 0.5943 - val_accuracy: 0.7238\nEpoch 70/200\n1629/1629 [==============================] - 0s 63us/step - loss: 0.5432 - accuracy: 0.7667 - val_loss: 0.5943 - val_accuracy: 0.7238\nEpoch 71/200\n1629/1629 [==============================] - 0s 61us/step - loss: 0.5432 - accuracy: 0.7667 - val_loss: 0.5943 - val_accuracy: 0.7238\nEpoch 72/200\n1629/1629 [==============================] - 0s 60us/step - loss: 0.5432 - accuracy: 0.7667 - val_loss: 0.5943 - val_accuracy: 0.7238\nEpoch 73/200\n1629/1629 [==============================] - 0s 60us/step - loss: 0.5432 - accuracy: 0.7667 - val_loss: 0.5943 - val_accuracy: 0.7238\nEpoch 74/200\n1629/1629 [==============================] - 0s 62us/step - loss: 0.5432 - accuracy: 0.7667 - val_loss: 0.5943 - val_accuracy: 0.7238\nEpoch 75/200\n1629/1629 [==============================] - 0s 61us/step - loss: 0.5432 - accuracy: 0.7667 - val_loss: 0.5943 - val_accuracy: 0.7238\nEpoch 76/200\n1629/1629 [==============================] - 0s 60us/step - loss: 0.5432 - accuracy: 0.7667 - val_loss: 0.5943 - val_accuracy: 0.7238\nEpoch 77/200\n1629/1629 [==============================] - 0s 79us/step - loss: 0.5432 - accuracy: 0.7667 - val_loss: 0.5943 - val_accuracy: 0.7238\nEpoch 78/200\n1629/1629 [==============================] - 0s 76us/step - loss: 0.5432 - accuracy: 0.7667 - val_loss: 0.5943 - val_accuracy: 0.7238\nEpoch 79/200\n1629/1629 [==============================] - 0s 71us/step - loss: 0.5432 - accuracy: 0.7667 - val_loss: 0.5943 - val_accuracy: 0.7238\nEpoch 80/200\n1629/1629 [==============================] - 0s 71us/step - loss: 0.5432 - accuracy: 0.7667 - val_loss: 0.5943 - val_accuracy: 0.7238\nEpoch 81/200\n1629/1629 [==============================] - 0s 87us/step - loss: 0.5432 - accuracy: 0.7667 - val_loss: 0.5943 - val_accuracy: 0.7238\nEpoch 82/200\n1629/1629 [==============================] - 0s 64us/step - loss: 0.5432 - accuracy: 0.7667 - val_loss: 0.5943 - val_accuracy: 0.7238\nEpoch 83/200\n1629/1629 [==============================] - 0s 64us/step - loss: 0.5432 - accuracy: 0.7667 - val_loss: 0.5943 - val_accuracy: 0.7238\nEpoch 84/200\n1629/1629 [==============================] - 0s 61us/step - loss: 0.5432 - accuracy: 0.7667 - val_loss: 0.5943 - val_accuracy: 0.7238\nEpoch 85/200\n1629/1629 [==============================] - 0s 60us/step - loss: 0.5432 - accuracy: 0.7667 - val_loss: 0.5943 - val_accuracy: 0.7238\nEpoch 86/200\n1629/1629 [==============================] - 0s 61us/step - loss: 0.5432 - accuracy: 0.7667 - val_loss: 0.5943 - val_accuracy: 0.7238\nEpoch 87/200\n1629/1629 [==============================] - 0s 66us/step - loss: 0.5432 - accuracy: 0.7667 - val_loss: 0.5943 - val_accuracy: 0.7238\nEpoch 88/200\n1629/1629 [==============================] - 0s 73us/step - loss: 0.5432 - accuracy: 0.7667 - val_loss: 0.5943 - val_accuracy: 0.7238\nEpoch 89/200\n1629/1629 [==============================] - 0s 94us/step - loss: 0.5432 - accuracy: 0.7667 - val_loss: 0.5943 - val_accuracy: 0.7238\nEpoch 90/200\n1629/1629 [==============================] - 0s 64us/step - loss: 0.5432 - accuracy: 0.7667 - val_loss: 0.5943 - val_accuracy: 0.7238\nEpoch 91/200\n1629/1629 [==============================] - 0s 56us/step - loss: 0.5432 - accuracy: 0.7667 - val_loss: 0.5943 - val_accuracy: 0.7238\nEpoch 92/200\n1629/1629 [==============================] - 0s 69us/step - loss: 0.5432 - accuracy: 0.7667 - val_loss: 0.5943 - val_accuracy: 0.7238\nEpoch 93/200\n1629/1629 [==============================] - 0s 79us/step - loss: 0.5432 - accuracy: 0.7667 - val_loss: 0.5943 - val_accuracy: 0.7238\nEpoch 94/200\n1629/1629 [==============================] - 0s 68us/step - loss: 0.5432 - accuracy: 0.7667 - val_loss: 0.5943 - val_accuracy: 0.7238\nEpoch 95/200\n1629/1629 [==============================] - 0s 61us/step - loss: 0.5432 - accuracy: 0.7667 - val_loss: 0.5943 - val_accuracy: 0.7238\nEpoch 96/200\n1629/1629 [==============================] - 0s 58us/step - loss: 0.5432 - accuracy: 0.7667 - val_loss: 0.5943 - val_accuracy: 0.7238\nEpoch 97/200\n1629/1629 [==============================] - 0s 63us/step - loss: 0.5432 - accuracy: 0.7667 - val_loss: 0.5943 - val_accuracy: 0.7238\nEpoch 98/200\n1629/1629 [==============================] - 0s 64us/step - loss: 0.5432 - accuracy: 0.7667 - val_loss: 0.5943 - val_accuracy: 0.7238\nEpoch 99/200\n1629/1629 [==============================] - 0s 63us/step - loss: 0.5432 - accuracy: 0.7667 - val_loss: 0.5943 - val_accuracy: 0.7238\nEpoch 100/200\n1629/1629 [==============================] - 0s 59us/step - loss: 0.5432 - accuracy: 0.7667 - val_loss: 0.5943 - val_accuracy: 0.7238\nEpoch 101/200\n1629/1629 [==============================] - 0s 63us/step - loss: 0.5432 - accuracy: 0.7667 - val_loss: 0.5943 - val_accuracy: 0.7238\nEpoch 102/200\n1629/1629 [==============================] - 0s 58us/step - loss: 0.5432 - accuracy: 0.7667 - val_loss: 0.5943 - val_accuracy: 0.7238\nEpoch 103/200\n1629/1629 [==============================] - 0s 72us/step - loss: 0.5432 - accuracy: 0.7667 - val_loss: 0.5943 - val_accuracy: 0.7238\nEpoch 104/200\n1629/1629 [==============================] - 0s 60us/step - loss: 0.5432 - accuracy: 0.7667 - val_loss: 0.5943 - val_accuracy: 0.7238\nEpoch 105/200\n1629/1629 [==============================] - 0s 64us/step - loss: 0.5432 - accuracy: 0.7667 - val_loss: 0.5944 - val_accuracy: 0.7238\nEpoch 106/200\n1629/1629 [==============================] - 0s 57us/step - loss: 0.5432 - accuracy: 0.7667 - val_loss: 0.5944 - val_accuracy: 0.7238\nEpoch 107/200\n1629/1629 [==============================] - 0s 56us/step - loss: 0.5432 - accuracy: 0.7667 - val_loss: 0.5943 - val_accuracy: 0.7238\nEpoch 108/200\n1629/1629 [==============================] - 0s 59us/step - loss: 0.5432 - accuracy: 0.7667 - val_loss: 0.5944 - val_accuracy: 0.7238\nEpoch 109/200\n1629/1629 [==============================] - 0s 60us/step - loss: 0.5432 - accuracy: 0.7667 - val_loss: 0.5944 - val_accuracy: 0.7238\nEpoch 110/200\n1629/1629 [==============================] - 0s 58us/step - loss: 0.5432 - accuracy: 0.7667 - val_loss: 0.5944 - val_accuracy: 0.7238\nEpoch 111/200\n1629/1629 [==============================] - 0s 58us/step - loss: 0.5432 - accuracy: 0.7667 - val_loss: 0.5944 - val_accuracy: 0.7238\nEpoch 112/200\n1629/1629 [==============================] - 0s 58us/step - loss: 0.5432 - accuracy: 0.7667 - val_loss: 0.5944 - val_accuracy: 0.7238\nEpoch 113/200\n1629/1629 [==============================] - 0s 64us/step - loss: 0.5432 - accuracy: 0.7667 - val_loss: 0.5944 - val_accuracy: 0.7238\nEpoch 114/200\n1629/1629 [==============================] - 0s 61us/step - loss: 0.5432 - accuracy: 0.7667 - val_loss: 0.5944 - val_accuracy: 0.7238\nEpoch 115/200\n1629/1629 [==============================] - 0s 63us/step - loss: 0.5432 - accuracy: 0.7667 - val_loss: 0.5944 - val_accuracy: 0.7238\nEpoch 116/200\n1629/1629 [==============================] - 0s 61us/step - loss: 0.5432 - accuracy: 0.7667 - val_loss: 0.5943 - val_accuracy: 0.7238\nEpoch 117/200\n1629/1629 [==============================] - 0s 61us/step - loss: 0.5432 - accuracy: 0.7667 - val_loss: 0.5943 - val_accuracy: 0.7238\nEpoch 118/200\n1629/1629 [==============================] - 0s 60us/step - loss: 0.5432 - accuracy: 0.7667 - val_loss: 0.5943 - val_accuracy: 0.7238\nEpoch 119/200\n1629/1629 [==============================] - 0s 62us/step - loss: 0.5432 - accuracy: 0.7667 - val_loss: 0.5943 - val_accuracy: 0.7238\nEpoch 120/200\n1629/1629 [==============================] - 0s 64us/step - loss: 0.5432 - accuracy: 0.7667 - val_loss: 0.5943 - val_accuracy: 0.7238\nEpoch 121/200\n1629/1629 [==============================] - 0s 58us/step - loss: 0.5432 - accuracy: 0.7667 - val_loss: 0.5943 - val_accuracy: 0.7238\nEpoch 122/200\n1629/1629 [==============================] - 0s 64us/step - loss: 0.5432 - accuracy: 0.7667 - val_loss: 0.5943 - val_accuracy: 0.7238\nEpoch 123/200\n1629/1629 [==============================] - 0s 70us/step - loss: 0.5432 - accuracy: 0.7667 - val_loss: 0.5943 - val_accuracy: 0.7238\nEpoch 124/200\n1629/1629 [==============================] - 0s 76us/step - loss: 0.5432 - accuracy: 0.7667 - val_loss: 0.5943 - val_accuracy: 0.7238\nEpoch 125/200\n1629/1629 [==============================] - 0s 77us/step - loss: 0.5432 - accuracy: 0.7667 - val_loss: 0.5943 - val_accuracy: 0.7238\nEpoch 126/200\n1629/1629 [==============================] - 0s 67us/step - loss: 0.5432 - accuracy: 0.7667 - val_loss: 0.5943 - val_accuracy: 0.7238\nEpoch 127/200\n1629/1629 [==============================] - 0s 69us/step - loss: 0.5432 - accuracy: 0.7667 - val_loss: 0.5943 - val_accuracy: 0.7238\nEpoch 128/200\n1629/1629 [==============================] - 0s 67us/step - loss: 0.5432 - accuracy: 0.7667 - val_loss: 0.5943 - val_accuracy: 0.7238\nEpoch 129/200\n1629/1629 [==============================] - 0s 67us/step - loss: 0.5432 - accuracy: 0.7667 - val_loss: 0.5943 - val_accuracy: 0.7238\nEpoch 130/200\n1629/1629 [==============================] - 0s 74us/step - loss: 0.5432 - accuracy: 0.7667 - val_loss: 0.5943 - val_accuracy: 0.7238\nEpoch 131/200\n1629/1629 [==============================] - 0s 90us/step - loss: 0.5432 - accuracy: 0.7667 - val_loss: 0.5943 - val_accuracy: 0.7238\nEpoch 132/200\n1629/1629 [==============================] - 0s 74us/step - loss: 0.5432 - accuracy: 0.7667 - val_loss: 0.5943 - val_accuracy: 0.7238\nEpoch 133/200\n1629/1629 [==============================] - 0s 86us/step - loss: 0.5432 - accuracy: 0.7667 - val_loss: 0.5943 - val_accuracy: 0.7238\nEpoch 134/200\n1629/1629 [==============================] - 0s 83us/step - loss: 0.5432 - accuracy: 0.7667 - val_loss: 0.5943 - val_accuracy: 0.7238\nEpoch 135/200\n1629/1629 [==============================] - 0s 65us/step - loss: 0.5432 - accuracy: 0.7667 - val_loss: 0.5943 - val_accuracy: 0.7238\nEpoch 136/200\n1629/1629 [==============================] - 0s 75us/step - loss: 0.5432 - accuracy: 0.7667 - val_loss: 0.5943 - val_accuracy: 0.7238\nEpoch 137/200\n1629/1629 [==============================] - 0s 72us/step - loss: 0.5432 - accuracy: 0.7667 - val_loss: 0.5943 - val_accuracy: 0.7238\nEpoch 138/200\n1629/1629 [==============================] - 0s 82us/step - loss: 0.5432 - accuracy: 0.7667 - val_loss: 0.5943 - val_accuracy: 0.7238\nEpoch 139/200\n1629/1629 [==============================] - 0s 71us/step - loss: 0.5432 - accuracy: 0.7667 - val_loss: 0.5943 - val_accuracy: 0.7238\nEpoch 140/200\n1629/1629 [==============================] - 0s 67us/step - loss: 0.5432 - accuracy: 0.7667 - val_loss: 0.5943 - val_accuracy: 0.7238\nEpoch 141/200\n1629/1629 [==============================] - 0s 67us/step - loss: 0.5432 - accuracy: 0.7667 - val_loss: 0.5943 - val_accuracy: 0.7238\nEpoch 142/200\n1629/1629 [==============================] - 0s 64us/step - loss: 0.5432 - accuracy: 0.7667 - val_loss: 0.5943 - val_accuracy: 0.7238\nEpoch 143/200\n1629/1629 [==============================] - 0s 60us/step - loss: 0.5432 - accuracy: 0.7667 - val_loss: 0.5943 - val_accuracy: 0.7238\nEpoch 144/200\n1629/1629 [==============================] - 0s 56us/step - loss: 0.5432 - accuracy: 0.7667 - val_loss: 0.5943 - val_accuracy: 0.7238\nEpoch 145/200\n1629/1629 [==============================] - 0s 60us/step - loss: 0.5432 - accuracy: 0.7667 - val_loss: 0.5943 - val_accuracy: 0.7238\nEpoch 146/200\n1629/1629 [==============================] - 0s 64us/step - loss: 0.5432 - accuracy: 0.7667 - val_loss: 0.5943 - val_accuracy: 0.7238\nEpoch 147/200\n1629/1629 [==============================] - 0s 63us/step - loss: 0.5432 - accuracy: 0.7667 - val_loss: 0.5944 - val_accuracy: 0.7238\nEpoch 148/200\n1629/1629 [==============================] - 0s 63us/step - loss: 0.5432 - accuracy: 0.7667 - val_loss: 0.5944 - val_accuracy: 0.7238\nEpoch 149/200\n1629/1629 [==============================] - 0s 60us/step - loss: 0.5432 - accuracy: 0.7667 - val_loss: 0.5944 - val_accuracy: 0.7238\nEpoch 150/200\n1629/1629 [==============================] - 0s 60us/step - loss: 0.5432 - accuracy: 0.7667 - val_loss: 0.5944 - val_accuracy: 0.7238\nEpoch 151/200\n1629/1629 [==============================] - 0s 60us/step - loss: 0.5432 - accuracy: 0.7667 - val_loss: 0.5944 - val_accuracy: 0.7238\nEpoch 152/200\n1629/1629 [==============================] - 0s 66us/step - loss: 0.5432 - accuracy: 0.7667 - val_loss: 0.5943 - val_accuracy: 0.7238\nEpoch 153/200\n1629/1629 [==============================] - 0s 55us/step - loss: 0.5432 - accuracy: 0.7667 - val_loss: 0.5943 - val_accuracy: 0.7238\nEpoch 154/200\n1629/1629 [==============================] - 0s 70us/step - loss: 0.5432 - accuracy: 0.7667 - val_loss: 0.5943 - val_accuracy: 0.7238\nEpoch 155/200\n1629/1629 [==============================] - 0s 67us/step - loss: 0.5432 - accuracy: 0.7667 - val_loss: 0.5943 - val_accuracy: 0.7238\nEpoch 156/200\n1629/1629 [==============================] - 0s 99us/step - loss: 0.5432 - accuracy: 0.7667 - val_loss: 0.5943 - val_accuracy: 0.7238\nEpoch 157/200\n1629/1629 [==============================] - 0s 82us/step - loss: 0.5432 - accuracy: 0.7667 - val_loss: 0.5943 - val_accuracy: 0.7238\nEpoch 158/200\n1629/1629 [==============================] - 0s 70us/step - loss: 0.5432 - accuracy: 0.7667 - val_loss: 0.5943 - val_accuracy: 0.7238\nEpoch 159/200\n1629/1629 [==============================] - 0s 64us/step - loss: 0.5432 - accuracy: 0.7667 - val_loss: 0.5943 - val_accuracy: 0.7238\nEpoch 160/200\n1629/1629 [==============================] - 0s 57us/step - loss: 0.5432 - accuracy: 0.7667 - val_loss: 0.5943 - val_accuracy: 0.7238\nEpoch 161/200\n1629/1629 [==============================] - 0s 66us/step - loss: 0.5432 - accuracy: 0.7667 - val_loss: 0.5943 - val_accuracy: 0.7238\nEpoch 162/200\n1629/1629 [==============================] - 0s 60us/step - loss: 0.5432 - accuracy: 0.7667 - val_loss: 0.5943 - val_accuracy: 0.7238\nEpoch 163/200\n1629/1629 [==============================] - 0s 60us/step - loss: 0.5432 - accuracy: 0.7667 - val_loss: 0.5943 - val_accuracy: 0.7238\nEpoch 164/200\n1629/1629 [==============================] - 0s 60us/step - loss: 0.5432 - accuracy: 0.7667 - val_loss: 0.5943 - val_accuracy: 0.7238\nEpoch 165/200\n1629/1629 [==============================] - 0s 77us/step - loss: 0.5432 - accuracy: 0.7667 - val_loss: 0.5943 - val_accuracy: 0.7238\nEpoch 166/200\n1629/1629 [==============================] - 0s 63us/step - loss: 0.5432 - accuracy: 0.7667 - val_loss: 0.5943 - val_accuracy: 0.7238\nEpoch 167/200\n1629/1629 [==============================] - 0s 77us/step - loss: 0.5432 - accuracy: 0.7667 - val_loss: 0.5943 - val_accuracy: 0.7238\nEpoch 168/200\n1629/1629 [==============================] - 0s 71us/step - loss: 0.5432 - accuracy: 0.7667 - val_loss: 0.5943 - val_accuracy: 0.7238\nEpoch 169/200\n1629/1629 [==============================] - 0s 63us/step - loss: 0.5432 - accuracy: 0.7667 - val_loss: 0.5943 - val_accuracy: 0.7238\nEpoch 170/200\n1629/1629 [==============================] - 0s 58us/step - loss: 0.5432 - accuracy: 0.7667 - val_loss: 0.5943 - val_accuracy: 0.7238\nEpoch 171/200\n1629/1629 [==============================] - 0s 67us/step - loss: 0.5432 - accuracy: 0.7667 - val_loss: 0.5943 - val_accuracy: 0.7238\nEpoch 172/200\n1629/1629 [==============================] - 0s 65us/step - loss: 0.5432 - accuracy: 0.7667 - val_loss: 0.5943 - val_accuracy: 0.7238\nEpoch 173/200\n1629/1629 [==============================] - 0s 65us/step - loss: 0.5432 - accuracy: 0.7667 - val_loss: 0.5943 - val_accuracy: 0.7238\nEpoch 174/200\n1629/1629 [==============================] - 0s 62us/step - loss: 0.5432 - accuracy: 0.7667 - val_loss: 0.5943 - val_accuracy: 0.7238\nEpoch 175/200\n1629/1629 [==============================] - 0s 64us/step - loss: 0.5432 - accuracy: 0.7667 - val_loss: 0.5943 - val_accuracy: 0.7238\nEpoch 176/200\n1629/1629 [==============================] - 0s 63us/step - loss: 0.5432 - accuracy: 0.7667 - val_loss: 0.5943 - val_accuracy: 0.7238\nEpoch 177/200\n1629/1629 [==============================] - 0s 64us/step - loss: 0.5432 - accuracy: 0.7667 - val_loss: 0.5943 - val_accuracy: 0.7238\nEpoch 178/200\n1629/1629 [==============================] - 0s 63us/step - loss: 0.5432 - accuracy: 0.7667 - val_loss: 0.5943 - val_accuracy: 0.7238\nEpoch 179/200\n1629/1629 [==============================] - 0s 69us/step - loss: 0.5432 - accuracy: 0.7667 - val_loss: 0.5943 - val_accuracy: 0.7238\nEpoch 180/200\n1629/1629 [==============================] - 0s 63us/step - loss: 0.5432 - accuracy: 0.7667 - val_loss: 0.5943 - val_accuracy: 0.7238\nEpoch 181/200\n1629/1629 [==============================] - 0s 66us/step - loss: 0.5432 - accuracy: 0.7667 - val_loss: 0.5943 - val_accuracy: 0.7238\nEpoch 182/200\n1629/1629 [==============================] - 0s 63us/step - loss: 0.5432 - accuracy: 0.7667 - val_loss: 0.5943 - val_accuracy: 0.7238\nEpoch 183/200\n1629/1629 [==============================] - 0s 63us/step - loss: 0.5432 - accuracy: 0.7667 - val_loss: 0.5943 - val_accuracy: 0.7238\nEpoch 184/200\n1629/1629 [==============================] - 0s 61us/step - loss: 0.5432 - accuracy: 0.7667 - val_loss: 0.5943 - val_accuracy: 0.7238\nEpoch 185/200\n1629/1629 [==============================] - 0s 68us/step - loss: 0.5432 - accuracy: 0.7667 - val_loss: 0.5943 - val_accuracy: 0.7238\nEpoch 186/200\n1629/1629 [==============================] - 0s 63us/step - loss: 0.5432 - accuracy: 0.7667 - val_loss: 0.5943 - val_accuracy: 0.7238\nEpoch 187/200\n1629/1629 [==============================] - 0s 66us/step - loss: 0.5432 - accuracy: 0.7667 - val_loss: 0.5943 - val_accuracy: 0.7238\nEpoch 188/200\n1629/1629 [==============================] - 0s 66us/step - loss: 0.5432 - accuracy: 0.7667 - val_loss: 0.5943 - val_accuracy: 0.7238\nEpoch 189/200\n1629/1629 [==============================] - 0s 69us/step - loss: 0.5432 - accuracy: 0.7667 - val_loss: 0.5943 - val_accuracy: 0.7238\nEpoch 190/200\n1629/1629 [==============================] - 0s 66us/step - loss: 0.5432 - accuracy: 0.7667 - val_loss: 0.5943 - val_accuracy: 0.7238\nEpoch 191/200\n1629/1629 [==============================] - 0s 66us/step - loss: 0.5432 - accuracy: 0.7667 - val_loss: 0.5943 - val_accuracy: 0.7238\nEpoch 192/200\n1629/1629 [==============================] - 0s 101us/step - loss: 0.5432 - accuracy: 0.7667 - val_loss: 0.5943 - val_accuracy: 0.7238\nEpoch 193/200\n1629/1629 [==============================] - 0s 78us/step - loss: 0.5432 - accuracy: 0.7667 - val_loss: 0.5943 - val_accuracy: 0.7238\nEpoch 194/200\n1629/1629 [==============================] - 0s 64us/step - loss: 0.5432 - accuracy: 0.7667 - val_loss: 0.5943 - val_accuracy: 0.7238\nEpoch 195/200\n1629/1629 [==============================] - 0s 63us/step - loss: 0.5432 - accuracy: 0.7667 - val_loss: 0.5943 - val_accuracy: 0.7238\nEpoch 196/200\n1629/1629 [==============================] - 0s 61us/step - loss: 0.5432 - accuracy: 0.7667 - val_loss: 0.5943 - val_accuracy: 0.7238\nEpoch 197/200\n1629/1629 [==============================] - 0s 66us/step - loss: 0.5432 - accuracy: 0.7667 - val_loss: 0.5943 - val_accuracy: 0.7238\nEpoch 198/200\n1629/1629 [==============================] - 0s 66us/step - loss: 0.5432 - accuracy: 0.7667 - val_loss: 0.5943 - val_accuracy: 0.7238\nEpoch 199/200\n1629/1629 [==============================] - 0s 62us/step - loss: 0.5432 - accuracy: 0.7667 - val_loss: 0.5943 - val_accuracy: 0.7238\nEpoch 200/200\n1629/1629 [==============================] - 0s 61us/step - loss: 0.5432 - accuracy: 0.7667 - val_loss: 0.5943 - val_accuracy: 0.7238\n"
    }
   ],
   "source": [
    "hist1 = model1.fit(X_train, Y_train, \n",
    "                  batch_size=32, epochs=200, validation_data=(X_val, Y_val))"
   ]
  },
  {
   "cell_type": "code",
   "execution_count": 72,
   "metadata": {},
   "outputs": [
    {
     "output_type": "stream",
     "name": "stdout",
     "text": "453/453 [==============================] - 0s 55us/step\nLoss:  0.5519402753438382\nAccuracy:  0.759381890296936\n"
    }
   ],
   "source": [
    "score = model1.evaluate(X_test,Y_test)\n",
    "print(\"Loss: \", score[0])\n",
    "print(\"Accuracy: \", score[1])"
   ]
  },
  {
   "cell_type": "code",
   "execution_count": null,
   "metadata": {},
   "outputs": [],
   "source": []
  }
 ],
 "metadata": {
  "language_info": {
   "name": "python",
   "codemirror_mode": {
    "name": "ipython",
    "version": 3
   },
   "version": "3.7.7-final"
  },
  "orig_nbformat": 2,
  "file_extension": ".py",
  "mimetype": "text/x-python",
  "name": "python",
  "npconvert_exporter": "python",
  "pygments_lexer": "ipython3",
  "version": 3,
  "kernelspec": {
   "name": "python37664bitmyenvconda4f614b1caa0b42cebf0bad9d3253678f",
   "display_name": "Python 3.7.6 64-bit ('myenv': conda)"
  }
 },
 "nbformat": 4,
 "nbformat_minor": 2
}